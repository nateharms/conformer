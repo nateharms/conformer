{
 "cells": [
  {
   "cell_type": "code",
   "execution_count": 1,
   "metadata": {},
   "outputs": [],
   "source": [
    "from autotst.reaction import *"
   ]
  },
  {
   "cell_type": "code",
   "execution_count": 2,
   "metadata": {},
   "outputs": [],
   "source": [
    "from autotst.conformer.ga import *"
   ]
  },
  {
   "cell_type": "code",
   "execution_count": 7,
   "metadata": {},
   "outputs": [
    {
     "name": "stderr",
     "output_type": "stream",
     "text": [
      "ga.py:77 perform_ga INFO No initial population provided, creating one using base parameters...\n",
      "utilities.py:82 create_initial_population INFO Creating initial population of 100 individuals from random guesses\n",
      "utilities.py:95 create_initial_population INFO The object given is a `AutoTST_Reaction` object\n"
     ]
    },
    {
     "name": "stdout",
     "output_type": "stream",
     "text": [
      "      Step     Time          Energy         fmax\n",
      "BFGS:    0 15:40:01        5.628461        4.6813\n",
      "BFGS:    1 15:40:01        4.978406        3.6036\n",
      "BFGS:    2 15:40:02        4.653835        2.6227\n",
      "BFGS:    3 15:40:02        4.456317        1.6370\n",
      "BFGS:    4 15:40:02        4.341158        1.0391\n",
      "BFGS:    5 15:40:02        4.284916        0.6924\n",
      "BFGS:    6 15:40:02        4.242861        0.8033\n",
      "BFGS:    7 15:40:03        4.196537        0.6593\n",
      "BFGS:    8 15:40:03        4.164264        0.4494\n",
      "BFGS:    9 15:40:03        4.153814        0.2138\n",
      "BFGS:   10 15:40:03        4.152142        0.1586\n",
      "BFGS:   11 15:40:03        4.150293        0.1214\n",
      "BFGS:   12 15:40:04        4.148450        0.1708\n",
      "BFGS:   13 15:40:04        4.144570        0.2393\n",
      "BFGS:   14 15:40:04        4.137118        0.4187\n",
      "BFGS:   15 15:40:04        4.129024        0.5515\n",
      "BFGS:   16 15:40:04        4.120553        0.6620\n",
      "BFGS:   17 15:40:05        4.112890        0.7624\n",
      "BFGS:   18 15:40:05        4.097917        0.5194\n",
      "BFGS:   19 15:40:05        4.081112        0.4540\n",
      "BFGS:   20 15:40:05        4.069426        0.4611\n",
      "BFGS:   21 15:40:05        4.050703        0.5299\n",
      "BFGS:   22 15:40:06        4.029831        0.5129\n",
      "BFGS:   23 15:40:06        4.011213        0.5429\n",
      "BFGS:   24 15:40:06        3.993306        0.5539\n",
      "BFGS:   25 15:40:06        3.975698        0.6604\n",
      "BFGS:   26 15:40:07        3.957968        0.7519\n",
      "BFGS:   27 15:40:07        3.940180        0.8195\n",
      "BFGS:   28 15:40:07        3.922473        0.8597\n",
      "BFGS:   29 15:40:07        3.904687        0.8706\n",
      "BFGS:   30 15:40:07        3.886853        0.8507\n",
      "BFGS:   31 15:40:08        3.869077        0.8776\n",
      "BFGS:   32 15:40:08        3.851340        0.8591\n",
      "BFGS:   33 15:40:08        3.833161        0.7628\n",
      "BFGS:   34 15:40:08        3.813573        0.4942\n",
      "BFGS:   35 15:40:09        3.801502        0.2634\n",
      "BFGS:   36 15:40:09        3.795095        0.2674\n",
      "BFGS:   37 15:40:09        3.790268        0.2226\n",
      "BFGS:   38 15:40:09        3.783519        0.3741\n",
      "BFGS:   39 15:40:09        3.777377        0.2605\n",
      "BFGS:   40 15:40:10        3.772030        0.1808\n",
      "BFGS:   41 15:40:10        3.769811        0.1285\n",
      "BFGS:   42 15:40:10        3.768462        0.1085\n",
      "BFGS:   43 15:40:10        3.766878        0.1079\n",
      "BFGS:   44 15:40:10        3.764314        0.1756\n",
      "BFGS:   45 15:40:11        3.760213        0.2512\n",
      "BFGS:   46 15:40:11        3.754741        0.2858\n",
      "BFGS:   47 15:40:11        3.749713        0.2525\n",
      "BFGS:   48 15:40:11        3.746016        0.1611\n",
      "BFGS:   49 15:40:12        3.744229        0.1270\n",
      "BFGS:   50 15:40:12        3.743194        0.1073\n",
      "BFGS:   51 15:40:12        3.741888        0.1035\n",
      "BFGS:   52 15:40:12        3.739913        0.1423\n",
      "BFGS:   53 15:40:12        3.737163        0.1660\n",
      "BFGS:   54 15:40:13        3.734128        0.1687\n",
      "BFGS:   55 15:40:13        3.731034        0.1490\n",
      "BFGS:   56 15:40:13        3.727163        0.2017\n",
      "BFGS:   57 15:40:13        3.725387        0.1657\n",
      "BFGS:   58 15:40:14        3.722524        0.1191\n",
      "BFGS:   59 15:40:14        3.720674        0.1191\n",
      "BFGS:   60 15:40:14        3.719721        0.0920\n",
      "BFGS:   61 15:40:14        3.718976        0.1580\n",
      "BFGS:   62 15:40:15        3.718165        0.1385\n",
      "BFGS:   63 15:40:15        3.714646        0.1631\n",
      "BFGS:   64 15:40:15        3.710496        0.2074\n",
      "BFGS:   65 15:40:15        3.706342        0.1897\n",
      "BFGS:   66 15:40:15        3.703331        0.1675\n",
      "BFGS:   67 15:40:16        3.701866        0.0710\n",
      "BFGS:   68 15:40:16        3.701288        0.0741\n",
      "BFGS:   69 15:40:16        3.700720        0.0722\n",
      "BFGS:   70 15:40:16        3.698725        0.1204\n",
      "BFGS:   71 15:40:17        3.694564        0.1868\n",
      "BFGS:   72 15:40:17        3.689320        0.2242\n",
      "BFGS:   73 15:40:17        3.684503        0.2268\n",
      "BFGS:   74 15:40:17        3.680295        0.2071\n",
      "BFGS:   75 15:40:18        3.676645        0.1713\n",
      "BFGS:   76 15:40:18        3.673145        0.1546\n",
      "BFGS:   77 15:40:18        3.669397        0.1437\n",
      "BFGS:   78 15:40:18        3.667126        0.1427\n",
      "BFGS:   79 15:40:19        3.664962        0.1465\n",
      "BFGS:   80 15:40:19        3.662120        0.1452\n",
      "BFGS:   81 15:40:19        3.659626        0.1930\n",
      "BFGS:   82 15:40:19        3.657576        0.2063\n",
      "BFGS:   83 15:40:19        3.654543        0.1791\n",
      "BFGS:   84 15:40:20        3.649753        0.1767\n",
      "BFGS:   85 15:40:20        3.644367        0.1716\n",
      "BFGS:   86 15:40:20        3.640824        0.1843\n",
      "BFGS:   87 15:40:20        3.637356        0.1401\n"
     ]
    },
    {
     "ename": "KeyboardInterrupt",
     "evalue": "",
     "output_type": "error",
     "traceback": [
      "\u001b[0;31m---------------------------------------------------------------------------\u001b[0m",
      "\u001b[0;31mKeyboardInterrupt\u001b[0m                         Traceback (most recent call last)",
      "\u001b[0;32m<ipython-input-7-bc4399a3f8ca>\u001b[0m in \u001b[0;36m<module>\u001b[0;34m()\u001b[0m\n\u001b[1;32m      1\u001b[0m \u001b[0;32mfrom\u001b[0m \u001b[0mase\u001b[0m\u001b[0;34m.\u001b[0m\u001b[0mcalculators\u001b[0m\u001b[0;34m.\u001b[0m\u001b[0memt\u001b[0m \u001b[0;32mimport\u001b[0m \u001b[0mEMT\u001b[0m\u001b[0;34m\u001b[0m\u001b[0m\n\u001b[1;32m      2\u001b[0m \u001b[0mrxn\u001b[0m\u001b[0;34m.\u001b[0m\u001b[0mts\u001b[0m\u001b[0;34m.\u001b[0m\u001b[0mase_ts\u001b[0m\u001b[0;34m.\u001b[0m\u001b[0mset_calculator\u001b[0m\u001b[0;34m(\u001b[0m\u001b[0mEMT\u001b[0m\u001b[0;34m(\u001b[0m\u001b[0;34m)\u001b[0m\u001b[0;34m)\u001b[0m\u001b[0;34m\u001b[0m\u001b[0m\n\u001b[0;32m----> 3\u001b[0;31m \u001b[0mperform_ga\u001b[0m\u001b[0;34m(\u001b[0m\u001b[0mrxn\u001b[0m\u001b[0;34m,\u001b[0m \u001b[0mmax_generations\u001b[0m\u001b[0;34m=\u001b[0m\u001b[0;36m1\u001b[0m\u001b[0;34m)\u001b[0m\u001b[0;34m\u001b[0m\u001b[0m\n\u001b[0m",
      "\u001b[0;32m/Users/nathan/Code/AutoTST/autotst/conformer/ga.py\u001b[0m in \u001b[0;36mperform_ga\u001b[0;34m(autotst_object, initial_pop, top_percent, tolerance, max_generations, store_generations, store_directory, mutation_probability, delta)\u001b[0m\n\u001b[1;32m     76\u001b[0m     \u001b[0;32mif\u001b[0m \u001b[0;32mnot\u001b[0m \u001b[0minitial_pop\u001b[0m\u001b[0;34m:\u001b[0m\u001b[0;34m\u001b[0m\u001b[0m\n\u001b[1;32m     77\u001b[0m         \u001b[0mlogging\u001b[0m\u001b[0;34m.\u001b[0m\u001b[0minfo\u001b[0m\u001b[0;34m(\u001b[0m\u001b[0;34m\"No initial population provided, creating one using base parameters...\"\u001b[0m\u001b[0;34m)\u001b[0m\u001b[0;34m\u001b[0m\u001b[0m\n\u001b[0;32m---> 78\u001b[0;31m         \u001b[0minitial_pop\u001b[0m \u001b[0;34m=\u001b[0m \u001b[0mcreate_initial_population\u001b[0m\u001b[0;34m(\u001b[0m\u001b[0mautotst_object\u001b[0m\u001b[0;34m)\u001b[0m\u001b[0;34m\u001b[0m\u001b[0m\n\u001b[0m\u001b[1;32m     79\u001b[0m \u001b[0;34m\u001b[0m\u001b[0m\n\u001b[1;32m     80\u001b[0m     \u001b[0mpossible_dihedrals\u001b[0m \u001b[0;34m=\u001b[0m \u001b[0mnp\u001b[0m\u001b[0;34m.\u001b[0m\u001b[0marange\u001b[0m\u001b[0;34m(\u001b[0m\u001b[0;36m0\u001b[0m\u001b[0;34m,\u001b[0m \u001b[0;36m360\u001b[0m\u001b[0;34m,\u001b[0m \u001b[0mdelta\u001b[0m\u001b[0;34m)\u001b[0m\u001b[0;34m\u001b[0m\u001b[0m\n",
      "\u001b[0;32m/Users/nathan/Code/AutoTST/autotst/conformer/utilities.py\u001b[0m in \u001b[0;36mcreate_initial_population\u001b[0;34m(autotst_object, delta, population_size)\u001b[0m\n\u001b[1;32m    122\u001b[0m \u001b[0;34m\u001b[0m\u001b[0m\n\u001b[1;32m    123\u001b[0m \u001b[0;34m\u001b[0m\u001b[0m\n\u001b[0;32m--> 124\u001b[0;31m         \u001b[0mconstrained_energy\u001b[0m\u001b[0;34m,\u001b[0m \u001b[0mrelaxed_energy\u001b[0m\u001b[0;34m,\u001b[0m \u001b[0mase_copy\u001b[0m \u001b[0;34m=\u001b[0m \u001b[0mget_energies\u001b[0m\u001b[0;34m(\u001b[0m\u001b[0mautotst_object\u001b[0m\u001b[0;34m)\u001b[0m\u001b[0;34m\u001b[0m\u001b[0m\n\u001b[0m\u001b[1;32m    125\u001b[0m \u001b[0;34m\u001b[0m\u001b[0m\n\u001b[1;32m    126\u001b[0m         \u001b[0mupdate_from_ase\u001b[0m\u001b[0;34m(\u001b[0m\u001b[0mautotst_object\u001b[0m\u001b[0;34m)\u001b[0m\u001b[0;34m\u001b[0m\u001b[0m\n",
      "\u001b[0;32m/Users/nathan/Code/AutoTST/autotst/conformer/utilities.py\u001b[0m in \u001b[0;36mget_energies\u001b[0;34m(autotst_object)\u001b[0m\n\u001b[1;32m    227\u001b[0m \u001b[0;34m\u001b[0m\u001b[0m\n\u001b[1;32m    228\u001b[0m     \u001b[0mopt\u001b[0m \u001b[0;34m=\u001b[0m \u001b[0mBFGS\u001b[0m\u001b[0;34m(\u001b[0m\u001b[0mase_copy\u001b[0m\u001b[0;34m)\u001b[0m\u001b[0;34m\u001b[0m\u001b[0m\n\u001b[0;32m--> 229\u001b[0;31m     \u001b[0mopt\u001b[0m\u001b[0;34m.\u001b[0m\u001b[0mrun\u001b[0m\u001b[0;34m(\u001b[0m\u001b[0mfmax\u001b[0m\u001b[0;34m=\u001b[0m\u001b[0;36m0.01\u001b[0m\u001b[0;34m)\u001b[0m\u001b[0;34m\u001b[0m\u001b[0m\n\u001b[0m\u001b[1;32m    230\u001b[0m \u001b[0;34m\u001b[0m\u001b[0m\n\u001b[1;32m    231\u001b[0m     \u001b[0mrelaxed_energy\u001b[0m \u001b[0;34m=\u001b[0m \u001b[0mase_copy\u001b[0m\u001b[0;34m.\u001b[0m\u001b[0mget_potential_energy\u001b[0m\u001b[0;34m(\u001b[0m\u001b[0;34m)\u001b[0m\u001b[0;34m\u001b[0m\u001b[0m\n",
      "\u001b[0;32m/Users/nathan/Code/ase/ase/optimize/optimize.pyc\u001b[0m in \u001b[0;36mrun\u001b[0;34m(self, fmax, steps)\u001b[0m\n\u001b[1;32m    172\u001b[0m         \u001b[0mstep\u001b[0m \u001b[0;34m=\u001b[0m \u001b[0;36m0\u001b[0m\u001b[0;34m\u001b[0m\u001b[0m\n\u001b[1;32m    173\u001b[0m         \u001b[0;32mwhile\u001b[0m \u001b[0mstep\u001b[0m \u001b[0;34m<\u001b[0m \u001b[0msteps\u001b[0m\u001b[0;34m:\u001b[0m\u001b[0;34m\u001b[0m\u001b[0m\n\u001b[0;32m--> 174\u001b[0;31m             \u001b[0mf\u001b[0m \u001b[0;34m=\u001b[0m \u001b[0mself\u001b[0m\u001b[0;34m.\u001b[0m\u001b[0matoms\u001b[0m\u001b[0;34m.\u001b[0m\u001b[0mget_forces\u001b[0m\u001b[0;34m(\u001b[0m\u001b[0;34m)\u001b[0m\u001b[0;34m\u001b[0m\u001b[0m\n\u001b[0m\u001b[1;32m    175\u001b[0m             \u001b[0mself\u001b[0m\u001b[0;34m.\u001b[0m\u001b[0mlog\u001b[0m\u001b[0;34m(\u001b[0m\u001b[0mf\u001b[0m\u001b[0;34m)\u001b[0m\u001b[0;34m\u001b[0m\u001b[0m\n\u001b[1;32m    176\u001b[0m             \u001b[0mself\u001b[0m\u001b[0;34m.\u001b[0m\u001b[0mcall_observers\u001b[0m\u001b[0;34m(\u001b[0m\u001b[0;34m)\u001b[0m\u001b[0;34m\u001b[0m\u001b[0m\n",
      "\u001b[0;32m/Users/nathan/Code/ase/ase/atoms.pyc\u001b[0m in \u001b[0;36mget_forces\u001b[0;34m(self, apply_constraint, md)\u001b[0m\n\u001b[1;32m    741\u001b[0m             \u001b[0;32mfor\u001b[0m \u001b[0mconstraint\u001b[0m \u001b[0;32min\u001b[0m \u001b[0mself\u001b[0m\u001b[0;34m.\u001b[0m\u001b[0mconstraints\u001b[0m\u001b[0;34m:\u001b[0m\u001b[0;34m\u001b[0m\u001b[0m\n\u001b[1;32m    742\u001b[0m                 \u001b[0;32mif\u001b[0m \u001b[0;32mnot\u001b[0m \u001b[0mmd\u001b[0m \u001b[0;32mor\u001b[0m \u001b[0mhasattr\u001b[0m\u001b[0;34m(\u001b[0m\u001b[0mconstraint\u001b[0m\u001b[0;34m,\u001b[0m \u001b[0;34m'adjust_potential_energy'\u001b[0m\u001b[0;34m)\u001b[0m\u001b[0;34m:\u001b[0m\u001b[0;34m\u001b[0m\u001b[0m\n\u001b[0;32m--> 743\u001b[0;31m                     \u001b[0mconstraint\u001b[0m\u001b[0;34m.\u001b[0m\u001b[0madjust_forces\u001b[0m\u001b[0;34m(\u001b[0m\u001b[0mself\u001b[0m\u001b[0;34m,\u001b[0m \u001b[0mforces\u001b[0m\u001b[0;34m)\u001b[0m\u001b[0;34m\u001b[0m\u001b[0m\n\u001b[0m\u001b[1;32m    744\u001b[0m         \u001b[0;32mreturn\u001b[0m \u001b[0mforces\u001b[0m\u001b[0;34m\u001b[0m\u001b[0m\n\u001b[1;32m    745\u001b[0m \u001b[0;34m\u001b[0m\u001b[0m\n",
      "\u001b[0;32m/Users/nathan/Code/ase/ase/constraints.pyc\u001b[0m in \u001b[0;36madjust_forces\u001b[0;34m(self, atoms, forces)\u001b[0m\n\u001b[1;32m    279\u001b[0m     \u001b[0;32mdef\u001b[0m \u001b[0madjust_forces\u001b[0m\u001b[0;34m(\u001b[0m\u001b[0mself\u001b[0m\u001b[0;34m,\u001b[0m \u001b[0matoms\u001b[0m\u001b[0;34m,\u001b[0m \u001b[0mforces\u001b[0m\u001b[0;34m)\u001b[0m\u001b[0;34m:\u001b[0m\u001b[0;34m\u001b[0m\u001b[0m\n\u001b[1;32m    280\u001b[0m         \u001b[0mself\u001b[0m\u001b[0;34m.\u001b[0m\u001b[0mconstraint_forces\u001b[0m \u001b[0;34m=\u001b[0m \u001b[0;34m-\u001b[0m\u001b[0mforces\u001b[0m\u001b[0;34m\u001b[0m\u001b[0m\n\u001b[0;32m--> 281\u001b[0;31m         \u001b[0mself\u001b[0m\u001b[0;34m.\u001b[0m\u001b[0madjust_momenta\u001b[0m\u001b[0;34m(\u001b[0m\u001b[0matoms\u001b[0m\u001b[0;34m,\u001b[0m \u001b[0mforces\u001b[0m\u001b[0;34m)\u001b[0m\u001b[0;34m\u001b[0m\u001b[0m\n\u001b[0m\u001b[1;32m    282\u001b[0m         \u001b[0mself\u001b[0m\u001b[0;34m.\u001b[0m\u001b[0mconstraint_forces\u001b[0m \u001b[0;34m+=\u001b[0m \u001b[0mforces\u001b[0m\u001b[0;34m\u001b[0m\u001b[0m\n\u001b[1;32m    283\u001b[0m \u001b[0;34m\u001b[0m\u001b[0m\n",
      "\u001b[0;32m/Users/nathan/Code/ase/ase/constraints.pyc\u001b[0m in \u001b[0;36madjust_momenta\u001b[0;34m(self, atoms, p)\u001b[0m\n\u001b[1;32m    264\u001b[0m                 \u001b[0mcd\u001b[0m \u001b[0;34m=\u001b[0m \u001b[0mself\u001b[0m\u001b[0;34m.\u001b[0m\u001b[0mbondlengths\u001b[0m\u001b[0;34m[\u001b[0m\u001b[0mj\u001b[0m\u001b[0;34m]\u001b[0m\u001b[0;34m\u001b[0m\u001b[0m\n\u001b[1;32m    265\u001b[0m                 \u001b[0md\u001b[0m \u001b[0;34m=\u001b[0m \u001b[0mold\u001b[0m\u001b[0;34m[\u001b[0m\u001b[0ma\u001b[0m\u001b[0;34m]\u001b[0m \u001b[0;34m-\u001b[0m \u001b[0mold\u001b[0m\u001b[0;34m[\u001b[0m\u001b[0mb\u001b[0m\u001b[0;34m]\u001b[0m\u001b[0;34m\u001b[0m\u001b[0m\n\u001b[0;32m--> 266\u001b[0;31m                 \u001b[0md\u001b[0m \u001b[0;34m=\u001b[0m \u001b[0mfind_mic\u001b[0m\u001b[0;34m(\u001b[0m\u001b[0;34m[\u001b[0m\u001b[0md\u001b[0m\u001b[0;34m]\u001b[0m\u001b[0;34m,\u001b[0m \u001b[0matoms\u001b[0m\u001b[0;34m.\u001b[0m\u001b[0mcell\u001b[0m\u001b[0;34m,\u001b[0m \u001b[0matoms\u001b[0m\u001b[0;34m.\u001b[0m\u001b[0m_pbc\u001b[0m\u001b[0;34m)\u001b[0m\u001b[0;34m[\u001b[0m\u001b[0;36m0\u001b[0m\u001b[0;34m]\u001b[0m\u001b[0;34m[\u001b[0m\u001b[0;36m0\u001b[0m\u001b[0;34m]\u001b[0m\u001b[0;34m\u001b[0m\u001b[0m\n\u001b[0m\u001b[1;32m    267\u001b[0m                 \u001b[0mdv\u001b[0m \u001b[0;34m=\u001b[0m \u001b[0mp\u001b[0m\u001b[0;34m[\u001b[0m\u001b[0ma\u001b[0m\u001b[0;34m]\u001b[0m \u001b[0;34m/\u001b[0m \u001b[0mmasses\u001b[0m\u001b[0;34m[\u001b[0m\u001b[0ma\u001b[0m\u001b[0;34m]\u001b[0m \u001b[0;34m-\u001b[0m \u001b[0mp\u001b[0m\u001b[0;34m[\u001b[0m\u001b[0mb\u001b[0m\u001b[0;34m]\u001b[0m \u001b[0;34m/\u001b[0m \u001b[0mmasses\u001b[0m\u001b[0;34m[\u001b[0m\u001b[0mb\u001b[0m\u001b[0;34m]\u001b[0m\u001b[0;34m\u001b[0m\u001b[0m\n\u001b[1;32m    268\u001b[0m                 \u001b[0mm\u001b[0m \u001b[0;34m=\u001b[0m \u001b[0;36m1\u001b[0m \u001b[0;34m/\u001b[0m \u001b[0;34m(\u001b[0m\u001b[0;36m1\u001b[0m \u001b[0;34m/\u001b[0m \u001b[0mmasses\u001b[0m\u001b[0;34m[\u001b[0m\u001b[0ma\u001b[0m\u001b[0;34m]\u001b[0m \u001b[0;34m+\u001b[0m \u001b[0;36m1\u001b[0m \u001b[0;34m/\u001b[0m \u001b[0mmasses\u001b[0m\u001b[0;34m[\u001b[0m\u001b[0mb\u001b[0m\u001b[0;34m]\u001b[0m\u001b[0;34m)\u001b[0m\u001b[0;34m\u001b[0m\u001b[0m\n",
      "\u001b[0;32m/Users/nathan/Code/ase/ase/geometry/geometry.pyc\u001b[0m in \u001b[0;36mfind_mic\u001b[0;34m(D, cell, pbc)\u001b[0m\n\u001b[1;32m    141\u001b[0m     \u001b[0mDr\u001b[0m \u001b[0;34m=\u001b[0m \u001b[0mnp\u001b[0m\u001b[0;34m.\u001b[0m\u001b[0mdot\u001b[0m\u001b[0;34m(\u001b[0m\u001b[0mD\u001b[0m\u001b[0;34m,\u001b[0m \u001b[0mnp\u001b[0m\u001b[0;34m.\u001b[0m\u001b[0mlinalg\u001b[0m\u001b[0;34m.\u001b[0m\u001b[0minv\u001b[0m\u001b[0;34m(\u001b[0m\u001b[0mcell\u001b[0m\u001b[0;34m)\u001b[0m\u001b[0;34m)\u001b[0m\u001b[0;34m\u001b[0m\u001b[0m\n\u001b[1;32m    142\u001b[0m     \u001b[0mD\u001b[0m \u001b[0;34m=\u001b[0m \u001b[0mnp\u001b[0m\u001b[0;34m.\u001b[0m\u001b[0mdot\u001b[0m\u001b[0;34m(\u001b[0m\u001b[0mDr\u001b[0m \u001b[0;34m-\u001b[0m \u001b[0mnp\u001b[0m\u001b[0;34m.\u001b[0m\u001b[0mround\u001b[0m\u001b[0;34m(\u001b[0m\u001b[0mDr\u001b[0m\u001b[0;34m)\u001b[0m \u001b[0;34m*\u001b[0m \u001b[0mpbc\u001b[0m\u001b[0;34m,\u001b[0m \u001b[0mcell\u001b[0m\u001b[0;34m)\u001b[0m\u001b[0;34m\u001b[0m\u001b[0m\n\u001b[0;32m--> 143\u001b[0;31m     \u001b[0mD_len\u001b[0m \u001b[0;34m=\u001b[0m \u001b[0mnp\u001b[0m\u001b[0;34m.\u001b[0m\u001b[0msqrt\u001b[0m\u001b[0;34m(\u001b[0m\u001b[0;34m(\u001b[0m\u001b[0mD\u001b[0m\u001b[0;34m**\u001b[0m\u001b[0;36m2\u001b[0m\u001b[0;34m)\u001b[0m\u001b[0;34m.\u001b[0m\u001b[0msum\u001b[0m\u001b[0;34m(\u001b[0m\u001b[0;36m1\u001b[0m\u001b[0;34m)\u001b[0m\u001b[0;34m)\u001b[0m\u001b[0;34m\u001b[0m\u001b[0m\n\u001b[0m\u001b[1;32m    144\u001b[0m     \u001b[0;31m# return mic vectors and lengths for only orthorhombic cells,\u001b[0m\u001b[0;34m\u001b[0m\u001b[0;34m\u001b[0m\u001b[0m\n\u001b[1;32m    145\u001b[0m     \u001b[0;31m# as the results may be wrong for non-orthorhombic cells\u001b[0m\u001b[0;34m\u001b[0m\u001b[0;34m\u001b[0m\u001b[0m\n",
      "\u001b[0;32m/Users/nathan/anaconda/envs/amp/lib/python2.7/site-packages/numpy/core/_methods.pyc\u001b[0m in \u001b[0;36m_sum\u001b[0;34m(a, axis, dtype, out, keepdims)\u001b[0m\n\u001b[1;32m     30\u001b[0m \u001b[0;34m\u001b[0m\u001b[0m\n\u001b[1;32m     31\u001b[0m \u001b[0;32mdef\u001b[0m \u001b[0m_sum\u001b[0m\u001b[0;34m(\u001b[0m\u001b[0ma\u001b[0m\u001b[0;34m,\u001b[0m \u001b[0maxis\u001b[0m\u001b[0;34m=\u001b[0m\u001b[0mNone\u001b[0m\u001b[0;34m,\u001b[0m \u001b[0mdtype\u001b[0m\u001b[0;34m=\u001b[0m\u001b[0mNone\u001b[0m\u001b[0;34m,\u001b[0m \u001b[0mout\u001b[0m\u001b[0;34m=\u001b[0m\u001b[0mNone\u001b[0m\u001b[0;34m,\u001b[0m \u001b[0mkeepdims\u001b[0m\u001b[0;34m=\u001b[0m\u001b[0mFalse\u001b[0m\u001b[0;34m)\u001b[0m\u001b[0;34m:\u001b[0m\u001b[0;34m\u001b[0m\u001b[0m\n\u001b[0;32m---> 32\u001b[0;31m     \u001b[0;32mreturn\u001b[0m \u001b[0mumr_sum\u001b[0m\u001b[0;34m(\u001b[0m\u001b[0ma\u001b[0m\u001b[0;34m,\u001b[0m \u001b[0maxis\u001b[0m\u001b[0;34m,\u001b[0m \u001b[0mdtype\u001b[0m\u001b[0;34m,\u001b[0m \u001b[0mout\u001b[0m\u001b[0;34m,\u001b[0m \u001b[0mkeepdims\u001b[0m\u001b[0;34m)\u001b[0m\u001b[0;34m\u001b[0m\u001b[0m\n\u001b[0m\u001b[1;32m     33\u001b[0m \u001b[0;34m\u001b[0m\u001b[0m\n\u001b[1;32m     34\u001b[0m \u001b[0;32mdef\u001b[0m \u001b[0m_prod\u001b[0m\u001b[0;34m(\u001b[0m\u001b[0ma\u001b[0m\u001b[0;34m,\u001b[0m \u001b[0maxis\u001b[0m\u001b[0;34m=\u001b[0m\u001b[0mNone\u001b[0m\u001b[0;34m,\u001b[0m \u001b[0mdtype\u001b[0m\u001b[0;34m=\u001b[0m\u001b[0mNone\u001b[0m\u001b[0;34m,\u001b[0m \u001b[0mout\u001b[0m\u001b[0;34m=\u001b[0m\u001b[0mNone\u001b[0m\u001b[0;34m,\u001b[0m \u001b[0mkeepdims\u001b[0m\u001b[0;34m=\u001b[0m\u001b[0mFalse\u001b[0m\u001b[0;34m)\u001b[0m\u001b[0;34m:\u001b[0m\u001b[0;34m\u001b[0m\u001b[0m\n",
      "\u001b[0;31mKeyboardInterrupt\u001b[0m: "
     ]
    }
   ],
   "source": [
    "from ase.calculators.emt import EMT\n",
    "rxn.ts.ase_ts.set_calculator(EMT())\n",
    "perform_ga(rxn, max_generations=1)"
   ]
  },
  {
   "cell_type": "code",
   "execution_count": 3,
   "metadata": {},
   "outputs": [
    {
     "data": {
      "text/plain": [
       "<AutoTST Molecule \"COCC(CC)CON\">"
      ]
     },
     "execution_count": 3,
     "metadata": {},
     "output_type": "execute_result"
    }
   ],
   "source": [
    "mol = AutoTST_Molecule(\"COCC(CC)CON\")\n",
    "\n",
    "mol"
   ]
  },
  {
   "cell_type": "code",
   "execution_count": 4,
   "metadata": {},
   "outputs": [],
   "source": [
    "from ase.calculators.gaussian import Gaussian\n"
   ]
  },
  {
   "cell_type": "code",
   "execution_count": 5,
   "metadata": {},
   "outputs": [
    {
     "data": {
      "text/plain": [
       "1"
      ]
     },
     "execution_count": 5,
     "metadata": {},
     "output_type": "execute_result"
    }
   ],
   "source": [
    "mol.rmg_molecule.updateMultiplicity()\n",
    "mol.rmg_molecule.multiplicity"
   ]
  },
  {
   "cell_type": "code",
   "execution_count": 6,
   "metadata": {},
   "outputs": [
    {
     "name": "stdout",
     "output_type": "stream",
     "text": [
      "D 3 1 6 20 S 36 10.0\n",
      "0 5\n",
      "D 6 1 3 10 S 36 10.0\n",
      "0 2\n",
      "D 7 2 4 14 S 36 10.0\n",
      "1 3\n",
      "D 4 2 7 19 S 36 10.0\n",
      "1 6\n",
      "D 17 5 8 9 S 36 10.0\n",
      "4 7\n",
      " 20 6 9 24 S 36 10.0\n",
      "5 8\n",
      " 19 7 9 24 S 36 10.0\n",
      "6 8\n",
      " 22 8 9 24 S 36 10.0\n",
      "7 8\n"
     ]
    },
    {
     "data": {
      "text/plain": [
       "{(2, 0): <ase.calculators.gaussian.Gaussian at 0x1816ef1c10>,\n",
       " (3, 1): <ase.calculators.gaussian.Gaussian at 0x1816ef1d10>,\n",
       " (5, 0): <ase.calculators.gaussian.Gaussian at 0x180f403910>,\n",
       " (6, 1): <ase.calculators.gaussian.Gaussian at 0x1816ef1c50>,\n",
       " (16, 4): <ase.calculators.gaussian.Gaussian at 0x180f403bd0>,\n",
       " (18, 6): <ase.calculators.gaussian.Gaussian at 0x180f3ebb50>,\n",
       " (19, 5): <ase.calculators.gaussian.Gaussian at 0x10cc6ead0>,\n",
       " (21, 7): <ase.calculators.gaussian.Gaussian at 0x180f3ebbd0>}"
      ]
     },
     "execution_count": 6,
     "metadata": {},
     "output_type": "execute_result"
    }
   ],
   "source": [
    "calcs = {}\n",
    "for torsion in mol.torsions:\n",
    "    mem=\"5GB\"\n",
    "    nprocshared=20\n",
    "    scratch=\".\"\n",
    "    method=\"m062x\"\n",
    "    basis=\"6-311+g(2df,2p)\"\n",
    "    string = \"\"\n",
    "    for bond in mol.bonds:\n",
    "        i,j =  bond.indices\n",
    "\n",
    "        string += \"B {} {} F\\n\".format(i+1,j+1)\n",
    "\n",
    "    for angle in mol.angles:\n",
    "        i,j,k =  angle.indices\n",
    "\n",
    "        string += \"A {} {} {} F\\n\".format(i+1,j+1,k+1)\n",
    "    i,j,k,l = torsion.indices\n",
    "    string += \"D {} {} {} {} S 36 10.0\".format(i+1,j+1,k+1,l+1)\n",
    "    \n",
    "    smiles = mol.rmg_molecule.toSMILES()\n",
    "    \n",
    "    label = Chem.rdinchi.InchiToInchiKey(Chem.MolToInchi(Chem.MolFromSmiles(smiles))).strip(\"-N\")\n",
    "    label += \"_tor{}{}\".format(j,k)\n",
    "    calc = Gaussian(mem=mem,\n",
    "                    nprocshared=nprocshared,\n",
    "                    label=label,\n",
    "                    scratch=scratch,\n",
    "                    method=method,\n",
    "                    basis=basis,\n",
    "                    extra=\"Opt=(ModRedun)\",\n",
    "                    multiplicity = mol.rmg_molecule.multiplicity,\n",
    "                    addsec=[string])\n",
    "    \n",
    "    del calc.parameters['force']\n",
    "    calcs[(i,j)] = calc\n",
    "    print calc.addsec[0][-20:]\n",
    "    print j,k\n",
    "calcs"
   ]
  },
  {
   "cell_type": "code",
   "execution_count": 146,
   "metadata": {},
   "outputs": [
    {
     "name": "stdout",
     "output_type": "stream",
     "text": [
      "B 1 6\n",
      "B 1 3\n",
      "B 2 4\n",
      "B 2 7\n",
      "B 3 11\n",
      "B 3 10\n",
      "B 4 13\n",
      "B 4 12\n",
      "B 4 14\n",
      "B 5 15\n",
      "B 5 16\n",
      "B 5 17\n",
      "B 5 8\n",
      "B 6 21\n",
      "B 6 9\n",
      "B 6 20\n",
      "B 7 18\n",
      "B 7 9\n",
      "B 7 19\n",
      "B 8 23\n",
      "B 8 22\n",
      "B 8 9\n",
      "B 9 24\n",
      "A 1 6 21\n",
      "A 1 6 9\n",
      "A 1 6 20\n",
      "A 1 3 11\n",
      "A 1 3 10\n",
      "A 2 4 13\n",
      "A 2 4 12\n",
      "A 2 4 14\n",
      "A 2 7 18\n",
      "A 2 7 9\n",
      "A 2 7 19\n",
      "A 3 1 6\n",
      "A 4 2 7\n",
      "A 5 8 23\n",
      "A 5 8 22\n",
      "A 5 8 9\n",
      "A 6 9 7\n",
      "A 6 9 8\n",
      "A 6 9 24\n",
      "A 7 9 8\n",
      "A 7 9 24\n",
      "A 8 5 15\n",
      "A 8 5 16\n",
      "A 8 5 17\n",
      "A 8 9 24\n",
      "A 9 6 21\n",
      "A 9 6 20\n",
      "A 9 7 18\n",
      "A 9 7 19\n",
      "A 9 8 23\n",
      "A 9 8 22\n",
      "A 10 3 11\n",
      "A 12 4 13\n",
      "A 12 4 14\n",
      "A 13 4 14\n",
      "A 15 5 16\n",
      "A 15 5 17\n",
      "A 16 5 17\n",
      "A 18 7 19\n",
      "A 20 6 21\n",
      "A 22 8 23\n",
      "D 3 1 6 20\n",
      "D 6 1 3 10\n",
      "D 7 2 4 14\n",
      "D 4 2 7 19\n",
      "D 17 5 8 9\n",
      "D 20 6 9 24\n",
      "D 19 7 9 24\n",
      "D 22 8 9 24\n",
      "D 3 1 6 20 S 36 10.0\n"
     ]
    }
   ],
   "source": [
    "string = \"\"\n",
    "for bond in mol.bonds:\n",
    "    i,j =  bond.indices\n",
    "    \n",
    "    string += \"B {} {}\\n\".format(i+1,j+1)\n",
    "    \n",
    "for angle in mol.angles:\n",
    "    i,j,k =  angle.indices\n",
    "    \n",
    "    string += \"A {} {} {}\\n\".format(i+1,j+1,k+1)\n",
    "    \n",
    "torsion = mol.torsions[3]\n",
    "for tor in mol.torsions:\n",
    "    i,j,k,l =  tor.indices\n",
    "    \n",
    "    string += \"D {} {} {} {}\\n\".format(i+1,j+1,k+1,l+1)\n",
    "    \n",
    "tor = mol.torsions[0]\n",
    "\n",
    "i,j,k,l = tor.indices\n",
    "\n",
    "string += \"D {} {} {} {} S 36 10.0\".format(i+1,j+1,k+1,l+1)\n",
    "print string\n",
    "    \n"
   ]
  },
  {
   "cell_type": "code",
   "execution_count": 141,
   "metadata": {},
   "outputs": [],
   "source": [
    "calc.addsec = [string]"
   ]
  },
  {
   "cell_type": "code",
   "execution_count": 142,
   "metadata": {},
   "outputs": [],
   "source": [
    "mol.ase_molecule.set_calculator(calc)\n",
    "calc"
   ]
  },
  {
   "cell_type": "code",
   "execution_count": 143,
   "metadata": {},
   "outputs": [],
   "source": [
    "calc.write_input(mol.ase_molecule)"
   ]
  },
  {
   "cell_type": "code",
   "execution_count": 8,
   "metadata": {},
   "outputs": [],
   "source": [
    "from cclib.io import ccread"
   ]
  },
  {
   "cell_type": "code",
   "execution_count": 121,
   "metadata": {},
   "outputs": [],
   "source": [
    "p = ccread(\"/Users/nathan/Code/RMG-Py/examples/cantherm/species/C2H5/ethyl_scan_1.log\")"
   ]
  },
  {
   "cell_type": "code",
   "execution_count": 122,
   "metadata": {},
   "outputs": [],
   "source": [
    "from ase.io.gaussian import read_gaussian_out"
   ]
  },
  {
   "cell_type": "code",
   "execution_count": 123,
   "metadata": {},
   "outputs": [
    {
     "data": {
      "text/plain": [
       "array([[[-1.654000e-05,  3.631950e-04, -7.500600e-05],\n",
       "        [ 2.975800e-05, -4.161160e-04,  2.785890e-04],\n",
       "        [ 1.279587e-03, -2.609100e-05, -8.358020e-04],\n",
       "        ...,\n",
       "        [-1.010999e-03,  5.543350e-04,  4.837710e-04],\n",
       "        [ 6.038400e-05, -9.632850e-04,  4.999450e-04],\n",
       "        [ 9.286480e-04,  6.866970e-04,  4.840720e-04]],\n",
       "\n",
       "       [[-8.950000e-07,  1.243900e-05, -2.169000e-06],\n",
       "        [ 2.972000e-06, -2.131000e-06,  5.323000e-06],\n",
       "        [ 7.868000e-06,  6.440000e-07, -5.431000e-06],\n",
       "        ...,\n",
       "        [-7.205000e-06, -5.641000e-06,  4.956000e-06],\n",
       "        [ 3.240000e-07, -8.610000e-06, -2.070000e-06],\n",
       "        [ 5.616000e-06, -1.291000e-06,  4.927000e-06]],\n",
       "\n",
       "       [[ 1.304431e-03,  5.618860e-04,  5.313870e-04],\n",
       "        [-5.050658e-03, -8.582106e-03, -3.372790e-04],\n",
       "        [ 2.050050e-04,  9.006720e-04, -5.452400e-05],\n",
       "        ...,\n",
       "        [ 2.628358e-03,  6.229449e-03, -1.449180e-04],\n",
       "        [ 3.606635e-03, -1.609866e-03,  5.874590e-04],\n",
       "        [-2.479451e-03,  1.910084e-03, -6.731160e-04]],\n",
       "\n",
       "       ...,\n",
       "\n",
       "       [[ 5.719900e-05,  6.454000e-06, -3.942400e-05],\n",
       "        [ 5.056500e-05,  3.076500e-05, -2.224500e-05],\n",
       "        [-8.255000e-06, -2.589400e-05,  2.691600e-05],\n",
       "        ...,\n",
       "        [-6.994000e-06,  6.070000e-06,  4.384000e-06],\n",
       "        [-2.537100e-05, -1.928600e-05, -7.796000e-06],\n",
       "        [-2.416800e-05,  1.279000e-06,  2.483600e-05]],\n",
       "\n",
       "       [[-7.159000e-06, -1.231000e-06, -4.354000e-06],\n",
       "        [-8.480000e-07, -4.787000e-06,  1.777000e-06],\n",
       "        [ 5.210000e-07, -2.553000e-06,  2.830000e-07],\n",
       "        ...,\n",
       "        [ 8.905000e-06,  6.948000e-06,  6.246000e-06],\n",
       "        [ 2.656000e-06,  1.250000e-07, -7.241000e-06],\n",
       "        [ 2.370000e-06,  4.035000e-06,  9.780000e-07]],\n",
       "\n",
       "       [[-7.159000e-06, -1.232000e-06, -4.344000e-06],\n",
       "        [-8.480000e-07, -4.788000e-06,  1.779000e-06],\n",
       "        [ 5.220000e-07, -2.552000e-06,  2.800000e-07],\n",
       "        ...,\n",
       "        [ 8.905000e-06,  6.952000e-06,  6.244000e-06],\n",
       "        [ 2.653000e-06,  1.220000e-07, -7.243000e-06],\n",
       "        [ 2.374000e-06,  4.033000e-06,  9.750000e-07]]])"
      ]
     },
     "execution_count": 123,
     "metadata": {},
     "output_type": "execute_result"
    }
   ],
   "source": [
    "p.grads"
   ]
  },
  {
   "cell_type": "code",
   "execution_count": 124,
   "metadata": {},
   "outputs": [
    {
     "ename": "AttributeError",
     "evalue": "'ccData_optdone_bool' object has no attribute 'scfvalues'",
     "output_type": "error",
     "traceback": [
      "\u001b[0;31m---------------------------------------------------------------------------\u001b[0m",
      "\u001b[0;31mAttributeError\u001b[0m                            Traceback (most recent call last)",
      "\u001b[0;32m<ipython-input-124-6506fb88dc50>\u001b[0m in \u001b[0;36m<module>\u001b[0;34m()\u001b[0m\n\u001b[1;32m      1\u001b[0m \u001b[0;34m\u001b[0m\u001b[0m\n\u001b[0;32m----> 2\u001b[0;31m \u001b[0;32mfor\u001b[0m \u001b[0mi\u001b[0m \u001b[0;32min\u001b[0m \u001b[0mp\u001b[0m\u001b[0;34m.\u001b[0m\u001b[0mscfvalues\u001b[0m\u001b[0;34m:\u001b[0m\u001b[0;34m\u001b[0m\u001b[0m\n\u001b[0m\u001b[1;32m      3\u001b[0m     \u001b[0;32mprint\u001b[0m \u001b[0mlen\u001b[0m\u001b[0;34m(\u001b[0m\u001b[0mi\u001b[0m\u001b[0;34m)\u001b[0m\u001b[0;34m\u001b[0m\u001b[0m\n",
      "\u001b[0;31mAttributeError\u001b[0m: 'ccData_optdone_bool' object has no attribute 'scfvalues'"
     ]
    }
   ],
   "source": [
    "\n",
    "for i in p.scfvalues:\n",
    "    print len(i)"
   ]
  },
  {
   "cell_type": "code",
   "execution_count": 125,
   "metadata": {},
   "outputs": [
    {
     "data": {
      "text/plain": [
       "132"
      ]
     },
     "execution_count": 125,
     "metadata": {},
     "output_type": "execute_result"
    }
   ],
   "source": [
    "len(p.scfenergies)"
   ]
  },
  {
   "cell_type": "code",
   "execution_count": 126,
   "metadata": {},
   "outputs": [
    {
     "ename": "AttributeError",
     "evalue": "'ccData_optdone_bool' object has no attribute 'scfvalues'",
     "output_type": "error",
     "traceback": [
      "\u001b[0;31m---------------------------------------------------------------------------\u001b[0m",
      "\u001b[0;31mAttributeError\u001b[0m                            Traceback (most recent call last)",
      "\u001b[0;32m<ipython-input-126-b923488925ca>\u001b[0m in \u001b[0;36m<module>\u001b[0;34m()\u001b[0m\n\u001b[0;32m----> 1\u001b[0;31m \u001b[0mlen\u001b[0m\u001b[0;34m(\u001b[0m\u001b[0mp\u001b[0m\u001b[0;34m.\u001b[0m\u001b[0mscfvalues\u001b[0m\u001b[0;34m)\u001b[0m\u001b[0;34m\u001b[0m\u001b[0m\n\u001b[0m",
      "\u001b[0;31mAttributeError\u001b[0m: 'ccData_optdone_bool' object has no attribute 'scfvalues'"
     ]
    }
   ],
   "source": [
    "len(p.scfvalues)"
   ]
  },
  {
   "cell_type": "code",
   "execution_count": 127,
   "metadata": {},
   "outputs": [
    {
     "data": {
      "text/plain": [
       "132"
      ]
     },
     "execution_count": 127,
     "metadata": {},
     "output_type": "execute_result"
    }
   ],
   "source": [
    "len(p.scftargets) "
   ]
  },
  {
   "cell_type": "code",
   "execution_count": 128,
   "metadata": {},
   "outputs": [
    {
     "name": "stdout",
     "output_type": "stream",
     "text": [
      "-2153.3044013671765\n",
      "\n",
      "-2153.3044013671765\n",
      "-2154.3281820822986\n",
      "\n",
      "-2154.327539490883\n",
      "\n",
      "-2154.3258523904524\n",
      "\n",
      "-2154.325738864554\n",
      "\n",
      "-2154.3274140001386\n",
      "\n",
      "-2154.3281804332887\n",
      "\n",
      "-2154.3276886800227\n",
      "\n",
      "-2154.3264677405505\n",
      "\n",
      "-2154.325565038226\n",
      "\n",
      "-2154.3256003286715\n",
      "\n",
      "-2154.3265430480583\n",
      "\n",
      "-2154.3277139457937\n",
      "\n",
      "-2154.328181470042\n",
      "\n",
      "-2154.3275171421724\n",
      "\n",
      "-2154.325916144006\n",
      "\n",
      "-2154.3256322585107\n",
      "\n",
      "-2154.327204189475\n",
      "\n",
      "-2154.328155956648\n",
      "\n",
      "-2154.3278235260414\n",
      "\n",
      "-2154.326637289248\n",
      "\n",
      "-2154.3256144921975\n",
      "\n",
      "-2154.325568785234\n",
      "\n",
      "-2154.326514141404\n",
      "\n",
      "-2154.327740789825\n",
      "\n",
      "-2154.328173875345\n",
      "\n",
      "-2154.327341479076\n",
      "\n",
      "-2154.3257200778135\n",
      "\n",
      "-2154.3258008466464\n",
      "\n",
      "-2154.3273979508635\n",
      "\n",
      "-2154.3281728086586\n",
      "\n",
      "-2154.3277963228197\n",
      "\n",
      "-2154.3266576297583\n",
      "\n",
      "-2154.325649268347\n",
      "\n",
      "-2154.3255292579756\n",
      "\n",
      "-2154.3263546772455\n",
      "\n",
      "-2154.3275978375345\n",
      "\n",
      "-2154.328182052366\n",
      "\n",
      "[-2154.3281820822986, -2154.327539490883, -2154.3258523904524, -2154.325738864554, -2154.3274140001386, -2154.3281804332887, -2154.3276886800227, -2154.3264677405505, -2154.325565038226, -2154.3256003286715, -2154.3265430480583, -2154.3277139457937, -2154.328181470042, -2154.3275171421724, -2154.325916144006, -2154.3256322585107, -2154.327204189475, -2154.328155956648, -2154.3278235260414, -2154.326637289248, -2154.3256144921975, -2154.325568785234, -2154.326514141404, -2154.327740789825, -2154.328173875345, -2154.327341479076, -2154.3257200778135, -2154.3258008466464, -2154.3273979508635, -2154.3281728086586, -2154.3277963228197, -2154.3266576297583, -2154.325649268347, -2154.3255292579756, -2154.3263546772455, -2154.3275978375345, -2154.328182052366, -2153.3044013671765]\n"
     ]
    }
   ],
   "source": [
    "smallest = max(p.scfenergies) +1\n",
    "print smallest\n",
    "print\n",
    "results = []\n",
    "print smallest\n",
    "for i in p.scfenergies:\n",
    "    #print smallest\n",
    "    if i < smallest:\n",
    "        smallest = i\n",
    "    else:\n",
    "        results.append(smallest)\n",
    "        print smallest\n",
    "        print\n",
    "        smallest= max(p.scfenergies) + 1\n",
    "# adding the last one which should be a converged geometry \n",
    "results.append(smallest)\n",
    "        \n",
    "        \n",
    "print results"
   ]
  },
  {
   "cell_type": "code",
   "execution_count": 129,
   "metadata": {},
   "outputs": [
    {
     "name": "stdout",
     "output_type": "stream",
     "text": [
      "38\n",
      "[[ 7.952340e-01  0.000000e+00 -1.866500e-02]\n",
      " [-6.949120e-01  7.400000e-05 -1.623000e-03]\n",
      " [ 1.354765e+00  9.279580e-01  4.140300e-02]\n",
      " [ 1.354410e+00 -9.281950e-01  4.136900e-02]\n",
      " [-1.108107e+00 -8.852590e-01 -4.987100e-01]\n",
      " [-1.095049e+00 -5.241000e-03  1.027529e+00]\n",
      " [-1.107946e+00  8.902970e-01 -4.898630e-01]]\n",
      "[[-7.952620e-01  0.000000e+00 -1.826100e-02]\n",
      " [ 6.949360e-01  2.474000e-03 -1.350000e-03]\n",
      " [-1.348822e+00 -9.319980e-01  3.978800e-02]\n",
      " [-1.360729e+00  9.240990e-01  4.038500e-02]\n",
      " [ 1.105635e+00  9.614360e-01 -3.341470e-01]\n",
      " [ 1.094859e+00 -1.806860e-01  1.011161e+00]\n",
      " [ 1.111014e+00 -7.876930e-01 -6.395200e-01]]\n",
      "[[-7.952900e-01 -3.300000e-05 -9.515000e-03]\n",
      " [ 6.951330e-01  4.614000e-03 -5.410000e-04]\n",
      " [-1.345081e+00 -9.356420e-01  2.052600e-02]\n",
      " [-1.367104e+00  9.210030e-01  2.092500e-02]\n",
      " [ 1.102092e+00  1.011961e+00 -1.303940e-01]\n",
      " [ 1.100771e+00 -3.926270e-01  9.445540e-01]\n",
      " [ 1.110262e+00 -6.321830e-01 -7.952720e-01]]\n",
      "[[ 7.952830e-01 -3.400000e-05 -8.317000e-03]\n",
      " [-6.951460e-01  4.728000e-03 -4.810000e-04]\n",
      " [ 1.344892e+00 -9.358520e-01  1.806400e-02]\n",
      " [ 1.367488e+00  9.208420e-01  1.815000e-02]\n",
      " [-1.101858e+00  1.014482e+00 -1.105480e-01]\n",
      " [-1.109862e+00 -6.156750e-01 -8.085730e-01]\n",
      " [-1.101483e+00 -4.119560e-01  9.356930e-01]]\n",
      "[[ 7.952480e-01 -6.000000e-06 -1.768600e-02]\n",
      " [-6.949590e-01  2.653000e-03 -1.346000e-03]\n",
      " [ 1.348538e+00 -9.323030e-01  3.876600e-02]\n",
      " [ 1.361305e+00  9.238550e-01  3.893900e-02]\n",
      " [-1.105272e+00  9.673420e-01 -3.174220e-01]\n",
      " [-1.111017e+00 -7.762020e-01 -6.535660e-01]\n",
      " [-1.095288e+00 -1.985710e-01  1.007472e+00]]\n",
      "[[ 7.952380e-01 -1.000000e-06 -1.878400e-02]\n",
      " [-6.949150e-01  1.500000e-04 -1.623000e-03]\n",
      " [ 1.354162e+00 -9.283560e-01  4.161200e-02]\n",
      " [ 1.355026e+00  9.277960e-01  4.163300e-02]\n",
      " [-1.107897e+00  8.929610e-01 -4.851000e-01]\n",
      " [-1.108297e+00 -8.826050e-01 -5.032460e-01]\n",
      " [-1.094932e+00 -1.069300e-02  1.027545e+00]]\n",
      "[[-7.952350e-01 -8.000000e-06 -1.566700e-02]\n",
      " [ 6.949920e-01  2.217000e-03 -1.472000e-03]\n",
      " [-1.360565e+00  9.246110e-01  3.568900e-02]\n",
      " [-1.349774e+00 -9.318290e-01  3.446100e-02]\n",
      " [ 1.109114e+00 -7.996630e-01 -6.259340e-01]\n",
      " [ 1.104763e+00  9.543790e-01 -3.546950e-01]\n",
      " [ 1.097925e+00 -1.607500e-01  1.013312e+00]]\n",
      "[[-7.952690e-01 -1.100000e-05 -1.004900e-02]\n",
      " [ 6.951190e-01  3.907000e-03 -1.014000e-03]\n",
      " [-1.365675e+00  9.219610e-01  2.329500e-02]\n",
      " [-1.346386e+00 -9.347810e-01  2.191500e-02]\n",
      " [ 1.108960e+00 -6.932250e-01 -7.429720e-01]\n",
      " [ 1.102478e+00  9.980990e-01 -2.093480e-01]\n",
      " [ 1.101524e+00 -3.154270e-01  9.734930e-01]]\n",
      "[[-7.952670e-01 -3.900000e-05 -3.344000e-03]\n",
      " [ 6.952150e-01  4.886000e-03 -3.120000e-04]\n",
      " [-1.368143e+00  9.207210e-01  7.946000e-03]\n",
      " [-1.345014e+00 -9.361660e-01  7.132000e-03]\n",
      " [ 1.107254e+00 -5.751340e-01 -8.399430e-01]\n",
      " [ 1.101334e+00  1.018654e+00 -6.544900e-02]\n",
      " [ 1.104877e+00 -4.571580e-01  9.122470e-01]]\n",
      "[[ 7.952730e-01  0.000000e+00 -3.755000e-03]\n",
      " [-6.952250e-01  4.980000e-03 -3.890000e-04]\n",
      " [ 1.368389e+00  9.206100e-01  8.960000e-03]\n",
      " [ 1.344719e+00 -9.362680e-01  8.094000e-03]\n",
      " [-1.104624e+00 -4.470880e-01  9.173600e-01]\n",
      " [-1.101752e+00  1.017823e+00 -7.647100e-02]\n",
      " [-1.107020e+00 -5.849580e-01 -8.330790e-01]]\n",
      "[[ 7.952480e-01 -5.000000e-06 -1.031900e-02]\n",
      " [-6.950890e-01  4.120000e-03 -1.135000e-03]\n",
      " [ 1.365425e+00  9.220590e-01  2.432200e-02]\n",
      " [ 1.346469e+00 -9.347000e-01  2.204300e-02]\n",
      " [-1.100989e+00 -3.078880e-01  9.760570e-01]\n",
      " [-1.103015e+00  9.962810e-01 -2.176480e-01]\n",
      " [-1.108847e+00 -7.004410e-01 -7.360510e-01]]\n",
      "[[ 7.952490e-01  4.800000e-05 -1.580300e-02]\n",
      " [-6.950100e-01  2.440000e-03 -1.580000e-03]\n",
      " [ 1.361329e+00  9.242130e-01  3.637400e-02]\n",
      " [ 1.349014e+00 -9.322380e-01  3.422800e-02]\n",
      " [-1.097387e+00 -1.572680e-01  1.013964e+00]\n",
      " [-1.105322e+00  9.530040e-01 -3.582800e-01]\n",
      " [-1.109068e+00 -8.026380e-01 -6.219820e-01]]\n",
      "[[-7.952450e-01  2.000000e-06 -1.877600e-02]\n",
      " [ 6.949280e-01  1.240000e-04 -1.626000e-03]\n",
      " [-1.354219e+00 -9.283280e-01  4.153500e-02]\n",
      " [-1.354966e+00  9.278570e-01  4.167700e-02]\n",
      " [ 1.094918e+00 -7.739000e-03  1.027596e+00]\n",
      " [ 1.108218e+00 -8.840660e-01 -5.006900e-01]\n",
      " [ 1.107949e+00  8.915220e-01 -4.877060e-01]]\n",
      "[[-7.952630e-01  3.500000e-05 -1.806300e-02]\n",
      " [ 6.949400e-01  2.773000e-03 -1.124000e-03]\n",
      " [-1.348583e+00 -9.322110e-01  3.835400e-02]\n",
      " [-1.361066e+00  9.238940e-01  4.106400e-02]\n",
      " [ 1.095450e+00 -1.866680e-01  1.009931e+00]\n",
      " [ 1.110346e+00 -7.845540e-01 -6.434330e-01]\n",
      " [ 1.105787e+00  9.626930e-01 -3.307890e-01]]\n",
      "[[-7.952810e-01  2.000000e-06 -9.964000e-03]\n",
      " [ 6.951160e-01  4.744000e-03 -3.540000e-04]\n",
      " [-1.344897e+00 -9.356870e-01  2.060000e-02]\n",
      " [-1.367158e+00  9.209420e-01  2.287700e-02]\n",
      " [ 1.100750e+00 -3.849190e-01  9.479330e-01]\n",
      " [ 1.109781e+00 -6.393900e-01 -7.893660e-01]\n",
      " [ 1.102517e+00  1.010579e+00 -1.401360e-01]]\n",
      "[[ 7.952920e-01 -4.000000e-05 -6.546000e-03]\n",
      " [-6.951820e-01  4.740000e-03 -1.390000e-04]\n",
      " [ 1.344901e+00 -9.360120e-01  1.361700e-02]\n",
      " [ 1.367808e+00  9.207400e-01  1.494200e-02]\n",
      " [-1.108882e+00 -5.935660e-01 -8.256360e-01]\n",
      " [-1.103079e+00 -4.363240e-01  9.237460e-01]\n",
      " [-1.101403e+00  1.016963e+00 -8.655900e-02]]\n",
      "[[ 7.952740e-01  1.100000e-05 -1.698700e-02]\n",
      " [-6.949960e-01  2.923000e-03 -8.210000e-04]\n",
      " [ 1.347882e+00 -9.328780e-01  3.660600e-02]\n",
      " [ 1.362310e+00  9.232950e-01  3.809500e-02]\n",
      " [-1.110613e+00 -7.567710e-01 -6.760100e-01]\n",
      " [-1.096747e+00 -2.266060e-01  1.001106e+00]\n",
      " [-1.104497e+00  9.753570e-01 -2.929560e-01]]\n",
      "[[ 7.952470e-01  0.000000e+00 -1.888200e-02]\n",
      " [-6.949250e-01  5.350000e-04 -1.537000e-03]\n",
      " [ 1.353224e+00 -9.289700e-01  4.166000e-02]\n",
      " [ 1.355952e+00  9.271670e-01  4.192700e-02]\n",
      " [-1.108710e+00 -8.689740e-01 -5.258900e-01]\n",
      " [-1.094904e+00 -3.775300e-02  1.026952e+00]\n",
      " [-1.107495e+00  9.053170e-01 -4.621380e-01]]\n",
      "[[-0.795241  0.       -0.016157]\n",
      " [ 0.694972  0.001892 -0.00174 ]\n",
      " [-1.359602  0.925183  0.036328]\n",
      " [-1.350499 -0.931228  0.035757]\n",
      " [ 1.105638  0.945646 -0.376299]\n",
      " [ 1.096811 -0.135827  1.017302]\n",
      " [ 1.109266 -0.815131 -0.605706]]\n",
      "[[-7.952620e-01 -2.000000e-05 -1.053400e-02]\n",
      " [ 6.950870e-01  3.790000e-03 -1.400000e-03]\n",
      " [-1.365074e+00  9.222800e-01  2.394000e-02]\n",
      " [-1.346739e+00 -9.344390e-01  2.351000e-02]\n",
      " [ 1.102918e+00  9.936680e-01 -2.288790e-01]\n",
      " [ 1.100733e+00 -2.945110e-01  9.802360e-01]\n",
      " [ 1.109218e+00 -7.096200e-01 -7.272050e-01]]\n",
      "[[-7.952760e-01 -5.000000e-06 -4.006000e-03]\n",
      " [ 6.952290e-01  4.898000e-03 -5.200000e-04]\n",
      " [-1.368414e+00  9.205890e-01  9.158000e-03]\n",
      " [-1.344630e+00 -9.363030e-01  8.764000e-03]\n",
      " [ 1.101601e+00  1.017600e+00 -7.996800e-02]\n",
      " [ 1.104045e+00 -4.429580e-01  9.196110e-01]\n",
      " [ 1.107684e+00 -5.882840e-01 -8.304080e-01]]\n",
      "[[ 7.952720e-01 -4.300000e-05 -3.221000e-03]\n",
      " [-6.952350e-01  4.976000e-03 -4.520000e-04]\n",
      " [ 1.368560e+00  9.204910e-01  7.391000e-03]\n",
      " [ 1.344562e+00 -9.364510e-01  7.068000e-03]\n",
      " [-1.101137e+00  1.018687e+00 -6.745000e-02]\n",
      " [-1.107578e+00 -5.774040e-01 -8.382830e-01]\n",
      " [-1.104632e+00 -4.549260e-01  9.133110e-01]]\n",
      "[[ 7.952580e-01 -2.000000e-06 -9.984000e-03]\n",
      " [-6.951280e-01  4.054000e-03 -1.347000e-03]\n",
      " [ 1.366272e+00  9.216550e-01  2.279300e-02]\n",
      " [ 1.345803e+00 -9.351380e-01  2.216200e-02]\n",
      " [-1.102538e+00  9.969210e-01 -2.155130e-01]\n",
      " [-1.109286e+00 -6.993370e-01 -7.371520e-01]\n",
      " [-1.101031e+00 -3.084150e-01  9.756950e-01]]\n",
      "[[ 7.952280e-01 -5.000000e-06 -1.598500e-02]\n",
      " [-6.949820e-01  2.172000e-03 -1.723000e-03]\n",
      " [ 1.360495e+00  9.246490e-01  3.605400e-02]\n",
      " [ 1.349764e+00 -9.317920e-01  3.518200e-02]\n",
      " [-1.105213e+00  9.514640e-01 -3.620250e-01]\n",
      " [-1.109673e+00 -8.056540e-01 -6.179680e-01]\n",
      " [-1.096852e+00 -1.516710e-01  1.015006e+00]]\n",
      "[[-7.952410e-01 -6.000000e-06 -1.896700e-02]\n",
      " [ 6.949120e-01  2.890000e-04 -1.572000e-03]\n",
      " [-1.353895e+00 -9.285210e-01  4.192500e-02]\n",
      " [-1.355213e+00  9.276210e-01  4.206700e-02]\n",
      " [ 1.108468e+00 -8.774980e-01 -5.118460e-01]\n",
      " [ 1.107769e+00  8.977030e-01 -4.763850e-01]\n",
      " [ 1.094843e+00 -2.100600e-02  1.027469e+00]]\n",
      "[[-7.952750e-01  2.000000e-05 -1.762800e-02]\n",
      " [ 6.949650e-01  2.744000e-03 -9.080000e-04]\n",
      " [-1.348193e+00 -9.325410e-01  3.794800e-02]\n",
      " [-1.361690e+00  9.235800e-01  3.940800e-02]\n",
      " [ 1.110774e+00 -7.688820e-01 -6.620320e-01]\n",
      " [ 1.105013e+00  9.699390e-01 -3.095110e-01]\n",
      " [ 1.095952e+00 -2.086810e-01  1.005406e+00]]\n",
      "[[-7.952990e-01 -5.200000e-05 -7.977000e-03]\n",
      " [ 6.951680e-01  4.636000e-03 -1.860000e-04]\n",
      " [-1.345160e+00 -9.357780e-01  1.664400e-02]\n",
      " [-1.367374e+00  9.209060e-01  1.815700e-02]\n",
      " [ 1.109472e+00 -6.107410e-01 -8.124470e-01]\n",
      " [ 1.101505e+00  1.014941e+00 -1.067030e-01]\n",
      " [ 1.102341e+00 -4.168320e-01  9.333280e-01]]\n",
      "[[ 7.952800e-01  2.900000e-05 -8.890000e-03]\n",
      " [-6.951390e-01  4.854000e-03 -2.670000e-04]\n",
      " [ 1.344730e+00 -9.358570e-01  1.841900e-02]\n",
      " [ 1.367583e+00  9.207980e-01  2.048200e-02]\n",
      " [-1.101505e+00 -4.030390e-01  9.398170e-01]\n",
      " [-1.102583e+00  1.013026e+00 -1.218340e-01]\n",
      " [-1.109069e+00 -6.242250e-01 -8.019410e-01]]\n",
      "[[ 7.952650e-01  3.600000e-05 -1.754100e-02]\n",
      " [-6.949600e-01  3.002000e-03 -1.082000e-03]\n",
      " [ 1.348298e+00 -9.325000e-01  3.709500e-02]\n",
      " [ 1.361626e+00  9.236100e-01  4.000500e-02]\n",
      " [-1.095795e+00 -2.041430e-01  1.006287e+00]\n",
      " [-1.105591e+00  9.682320e-01 -3.148760e-01]\n",
      " [-1.110370e+00 -7.734260e-01 -6.567710e-01]]\n",
      "[[ 7.952400e-01  7.000000e-06 -1.886900e-02]\n",
      " [-6.949140e-01  3.680000e-04 -1.593000e-03]\n",
      " [ 1.353720e+00 -9.286360e-01  4.158800e-02]\n",
      " [ 1.355433e+00  9.275070e-01  4.199600e-02]\n",
      " [-1.094885e+00 -2.319300e-02  1.027380e+00]\n",
      " [-1.107826e+00  8.986230e-01 -4.747110e-01]\n",
      " [-1.108396e+00 -8.765490e-01 -5.134770e-01]]\n",
      "[[-7.952420e-01  2.400000e-05 -1.605800e-02]\n",
      " [ 6.949740e-01  2.143000e-03 -1.596000e-03]\n",
      " [-1.359956e+00  9.249610e-01  3.682600e-02]\n",
      " [-1.350193e+00 -9.314490e-01  3.486500e-02]\n",
      " [ 1.097139e+00 -1.426830e-01  1.016287e+00]\n",
      " [ 1.108895e+00 -8.114700e-01 -6.105790e-01]\n",
      " [ 1.105727e+00  9.476380e-01 -3.714760e-01]]\n",
      "[[-7.952400e-01  1.500000e-05 -1.095200e-02]\n",
      " [ 6.950760e-01  3.995000e-03 -1.176000e-03]\n",
      " [-1.365129e+00  9.222090e-01  2.573700e-02]\n",
      " [-1.346654e+00 -9.344730e-01  2.349400e-02]\n",
      " [ 1.100676e+00 -2.952500e-01  9.802220e-01]\n",
      " [ 1.108754e+00 -7.099050e-01 -7.268350e-01]\n",
      " [ 1.103340e+00  9.933630e-01 -2.298500e-01]]\n",
      "[[-7.952670e-01 -1.200000e-05 -4.533000e-03]\n",
      " [ 6.952050e-01  4.952000e-03 -4.680000e-04]\n",
      " [-1.368166e+00  9.207030e-01  1.070200e-02]\n",
      " [-1.344863e+00 -9.361680e-01  9.644000e-03]\n",
      " [ 1.104029e+00 -4.356720e-01  9.232810e-01]\n",
      " [ 1.107587e+00 -5.953440e-01 -8.252390e-01]\n",
      " [ 1.101782e+00  1.016837e+00 -8.837700e-02]]\n",
      "[[ 7.952800e-01 -2.700000e-05 -2.521000e-03]\n",
      " [-6.952470e-01  4.979000e-03 -2.740000e-04]\n",
      " [ 1.368616e+00  9.204820e-01  6.066000e-03]\n",
      " [ 1.344594e+00 -9.364410e-01  5.374000e-03]\n",
      " [-1.106952e+00 -5.646840e-01 -8.473040e-01]\n",
      " [-1.105224e+00 -4.685380e-01  9.060690e-01]\n",
      " [-1.101230e+00  1.019472e+00 -5.343300e-02]]\n",
      "[[ 7.952760e-01 -1.800000e-05 -9.230000e-03]\n",
      " [-6.951580e-01  4.072000e-03 -9.810000e-04]\n",
      " [ 1.366276e+00  9.216600e-01  2.158200e-02]\n",
      " [ 1.345973e+00 -9.351610e-01  2.005200e-02]\n",
      " [-1.108831e+00 -6.837280e-01 -7.519350e-01]\n",
      " [-1.102045e+00 -3.278790e-01  9.689500e-01]\n",
      " [-1.102084e+00  1.000783e+00 -1.973830e-01]]\n",
      "[[ 7.952330e-01  1.000000e-05 -1.519900e-02]\n",
      " [-6.950050e-01  2.426000e-03 -1.475000e-03]\n",
      " [ 1.361498e+00  9.241350e-01  3.457800e-02]\n",
      " [ 1.349029e+00 -9.323850e-01  3.339900e-02]\n",
      " [-1.109337e+00 -7.907690e-01 -6.370610e-01]\n",
      " [-1.098009e+00 -1.749000e-01  1.010806e+00]\n",
      " [-1.104549e+00  9.593010e-01 -3.416760e-01]]\n",
      "[[ 7.952420e-01  4.000000e-06 -1.867500e-02]\n",
      " [-6.949220e-01  7.400000e-05 -1.616000e-03]\n",
      " [ 1.354777e+00  9.279790e-01  4.142300e-02]\n",
      " [ 1.354433e+00 -9.282020e-01  4.141000e-02]\n",
      " [-1.108059e+00 -8.852740e-01 -4.987520e-01]\n",
      " [-1.095095e+00 -5.265000e-03  1.027533e+00]\n",
      " [-1.107976e+00  8.902940e-01 -4.898660e-01]]\n",
      "[[ 7.952420e-01  4.000000e-06 -1.867500e-02]\n",
      " [-6.949220e-01  7.400000e-05 -1.616000e-03]\n",
      " [ 1.354777e+00  9.279790e-01  4.142300e-02]\n",
      " [ 1.354433e+00 -9.282020e-01  4.141000e-02]\n",
      " [-1.108059e+00 -8.852740e-01 -4.987520e-01]\n",
      " [-1.095095e+00 -5.265000e-03  1.027533e+00]\n",
      " [-1.107976e+00  8.902940e-01 -4.898660e-01]]\n"
     ]
    }
   ],
   "source": [
    "print len(p.converged_geometries)\n",
    "for geo in p.converged_geometries:\n",
    "    print geo\n"
   ]
  },
  {
   "cell_type": "code",
   "execution_count": 130,
   "metadata": {},
   "outputs": [
    {
     "data": {
      "text/plain": [
       "array([[-8.0e-06, -4.0e-06,  1.0e-05],\n",
       "       [ 1.0e-05,  0.0e+00, -7.0e-06],\n",
       "       [-1.2e-05, -2.1e-05, -2.0e-05],\n",
       "       [-2.3e-05,  7.0e-06, -4.1e-05],\n",
       "       [-4.8e-05,  1.5e-05,  4.2e-05],\n",
       "       [ 4.6e-05,  2.4e-05, -4.0e-06],\n",
       "       [ 3.0e-05,  3.0e-06,  3.0e-06]])"
      ]
     },
     "execution_count": 130,
     "metadata": {},
     "output_type": "execute_result"
    }
   ],
   "source": [
    "p.converged_geometries[0] - p.converged_geometries[-1]"
   ]
  },
  {
   "cell_type": "code",
   "execution_count": 131,
   "metadata": {},
   "outputs": [
    {
     "name": "stdout",
     "output_type": "stream",
     "text": [
      "0.0\n",
      "2.2361785951156183\n",
      "2.2372200517484764\n",
      "0.8631508022109523\n",
      "0.8192520468690001\n",
      "0.7752643505269999\n",
      "1.9041638648335235\n",
      "1.9053524034893812\n",
      "1.9062650730910473\n",
      "0.3218934734875238\n",
      "0.36447539348961905\n",
      "0.40670249088342847\n",
      "2.231269411482381\n",
      "2.230848054531524\n",
      "2.2314282732979045\n",
      "0.3553446730493333\n",
      "0.3349787934678095\n",
      "0.3282672060089523\n",
      "1.9082380140516189\n",
      "1.9089210061472381\n",
      "1.909269982201524\n",
      "0.5429222768034762\n",
      "0.5145154097489046\n",
      "0.48054217357171425\n",
      "2.231364012277762\n",
      "2.232311123100333\n",
      "2.234132106030571\n",
      "0.6640481306259048\n",
      "0.7221593862377144\n",
      "0.7694770570174285\n",
      "1.9030593875965713\n",
      "1.9032922272656185\n",
      "1.9035831747186667\n",
      "0.03163014768933333\n",
      "0.014825933394285713\n",
      "0.004005242120142857\n",
      "5.472380952384401e-10\n",
      "5.472380952384401e-10\n"
     ]
    }
   ],
   "source": [
    "for i in range(len(p.converged_geometries)):\n",
    "    print ((p.converged_geometries[0] - p.converged_geometries[i]) ** 2).mean()"
   ]
  },
  {
   "cell_type": "code",
   "execution_count": 132,
   "metadata": {},
   "outputs": [
    {
     "data": {
      "text/plain": [
       "array([[ 7.952420e-01,  4.000000e-06, -1.867500e-02],\n",
       "       [-6.949220e-01,  7.400000e-05, -1.616000e-03],\n",
       "       [ 1.354777e+00,  9.279790e-01,  4.142300e-02],\n",
       "       [ 1.354433e+00, -9.282020e-01,  4.141000e-02],\n",
       "       [-1.108059e+00, -8.852740e-01, -4.987520e-01],\n",
       "       [-1.095095e+00, -5.265000e-03,  1.027533e+00],\n",
       "       [-1.107976e+00,  8.902940e-01, -4.898660e-01]])"
      ]
     },
     "execution_count": 132,
     "metadata": {},
     "output_type": "execute_result"
    }
   ],
   "source": [
    "p.converged_geometries[-1]"
   ]
  },
  {
   "cell_type": "code",
   "execution_count": 133,
   "metadata": {},
   "outputs": [
    {
     "data": {
      "text/plain": [
       "'RUZNHLODSVCOOY-UHFFFAOYSA_tor05'"
      ]
     },
     "execution_count": 133,
     "metadata": {},
     "output_type": "execute_result"
    }
   ],
   "source": [
    "c = calcs[(2,0)]\n",
    "c.label"
   ]
  },
  {
   "cell_type": "code",
   "execution_count": 134,
   "metadata": {},
   "outputs": [
    {
     "data": {
      "text/plain": [
       "(2, 0, 5, 19)"
      ]
     },
     "execution_count": 134,
     "metadata": {},
     "output_type": "execute_result"
    }
   ],
   "source": [
    "mol.torsions[0].indices"
   ]
  },
  {
   "cell_type": "code",
   "execution_count": 135,
   "metadata": {},
   "outputs": [
    {
     "name": "stdout",
     "output_type": "stream",
     "text": [
      "0\n",
      "1\n",
      "2\n",
      "3\n",
      "4\n",
      "5\n",
      "6\n",
      "7\n",
      "8\n",
      "9\n"
     ]
    }
   ],
   "source": [
    "for i in range(10):\n",
    "    if i == 5 : pass\n",
    "    print i"
   ]
  },
  {
   "cell_type": "code",
   "execution_count": 136,
   "metadata": {},
   "outputs": [
    {
     "data": {
      "text/plain": [
       "-1.0237807151220295"
      ]
     },
     "execution_count": 136,
     "metadata": {},
     "output_type": "execute_result"
    }
   ],
   "source": [
    "results[0] - results[-1]"
   ]
  },
  {
   "cell_type": "code",
   "execution_count": 137,
   "metadata": {},
   "outputs": [
    {
     "data": {
      "text/plain": [
       "'RUZNHLODSVCOOY-UHFFFAOYSA_tor05-failed.log'"
      ]
     },
     "execution_count": 137,
     "metadata": {},
     "output_type": "execute_result"
    }
   ],
   "source": [
    "l = c.label + \".log\"\n",
    "l.replace(\".log\", \"-failed.log\")"
   ]
  },
  {
   "cell_type": "code",
   "execution_count": 138,
   "metadata": {},
   "outputs": [
    {
     "name": "stdout",
     "output_type": "stream",
     "text": [
      "-2154.3281820822986\n",
      "-2154.327539490883\n",
      "-2154.3258523904524\n",
      "-2154.325738864554\n",
      "-2154.3274140001386\n",
      "-2154.3281804332887\n",
      "-2154.3276886800227\n",
      "-2154.3264677405505\n",
      "-2154.325565038226\n",
      "-2154.3256003286715\n",
      "-2154.3265430480583\n",
      "-2154.3277139457937\n",
      "-2154.328181470042\n",
      "-2154.3275171421724\n",
      "-2154.325916144006\n",
      "-2154.3256322585107\n",
      "-2154.327204189475\n",
      "-2154.328155956648\n",
      "-2154.3278235260414\n",
      "-2154.326637289248\n",
      "-2154.3256144921975\n",
      "-2154.325568785234\n",
      "-2154.326514141404\n",
      "-2154.327740789825\n",
      "-2154.328173875345\n",
      "-2154.327341479076\n",
      "-2154.3257200778135\n",
      "-2154.3258008466464\n",
      "-2154.3273979508635\n",
      "-2154.3281728086586\n",
      "-2154.3277963228197\n",
      "-2154.3266576297583\n",
      "-2154.325649268347\n",
      "-2154.3255292579756\n",
      "-2154.3263546772455\n",
      "-2154.3275978375345\n",
      "-2154.328182052366\n",
      "-2153.3044013671765\n"
     ]
    }
   ],
   "source": [
    "for r in results: print r"
   ]
  },
  {
   "cell_type": "code",
   "execution_count": 139,
   "metadata": {
    "scrolled": false
   },
   "outputs": [
    {
     "name": "stdout",
     "output_type": "stream",
     "text": [
      "-2154.3281820822986\n",
      "-2154.327539490883\n",
      "-2154.3258523904524\n",
      "-2154.325738864554\n",
      "-2154.3274140001386\n",
      "-2154.3281804332887\n",
      "-2154.3276886800227\n",
      "-2154.3264677405505\n",
      "-2154.325565038226\n",
      "-2154.3256003286715\n",
      "-2154.3265430480583\n",
      "-2154.3277139457937\n",
      "-2154.328181470042\n",
      "-2154.3275171421724\n",
      "-2154.325916144006\n",
      "-2154.3256322585107\n",
      "-2154.327204189475\n",
      "-2154.328155956648\n",
      "-2154.3278235260414\n",
      "-2154.326637289248\n",
      "-2154.3256144921975\n",
      "-2154.325568785234\n",
      "-2154.326514141404\n",
      "-2154.327740789825\n",
      "-2154.328173875345\n",
      "-2154.327341479076\n",
      "-2154.3257200778135\n",
      "-2154.3258008466464\n",
      "-2154.3273979508635\n",
      "-2154.3281728086586\n",
      "-2154.3277963228197\n",
      "-2154.3266576297583\n",
      "-2154.325649268347\n",
      "-2154.3255292579756\n",
      "-2154.3263546772455\n",
      "-2154.3275978375345\n",
      "-2154.328182052366\n"
     ]
    }
   ],
   "source": [
    "for e in p.scfenergies[p.optstatus == 4]:\n",
    "    print e"
   ]
  },
  {
   "cell_type": "code",
   "execution_count": 92,
   "metadata": {},
   "outputs": [
    {
     "data": {
      "text/plain": [
       "144"
      ]
     },
     "execution_count": 92,
     "metadata": {},
     "output_type": "execute_result"
    }
   ],
   "source": [
    "len(p.scfenergies)"
   ]
  },
  {
   "cell_type": "code",
   "execution_count": 117,
   "metadata": {},
   "outputs": [
    {
     "data": {
      "text/plain": [
       "array([1, 4, 1, 0, 4, 1, 0, 4, 1, 0, 0, 4, 1, 0, 0, 4, 1, 0, 0, 4, 1, 0,\n",
       "       4, 1, 0, 4, 1, 0, 4, 1, 4, 1, 4, 1, 4, 1, 4, 1, 4, 1, 4, 1, 0, 4,\n",
       "       1, 0, 4, 1, 0, 4, 1, 4, 1, 0, 4, 1, 0, 4, 1, 0, 4, 1, 0, 4, 1, 0,\n",
       "       4, 1, 0, 4, 1, 0, 4, 1, 0, 4, 1, 0, 4, 1, 0, 0, 4, 1, 0, 0, 4, 1,\n",
       "       0, 4, 1, 0, 4, 1, 0, 4, 1, 0, 4, 1, 0, 4, 1, 0, 4, 1, 0, 4, 1, 0,\n",
       "       4, 1, 0, 4, 1, 0, 4, 1, 0, 4, 1, 0, 4, 1, 0, 4, 1, 0, 4, 1, 0, 4,\n",
       "       1, 0, 4, 1, 0, 4, 1, 0, 4, 1, 0, 4, 1, 0, 4, 1, 0, 4, 1, 0, 0, 0,\n",
       "       4, 1, 0, 0, 4, 1, 0, 0, 4, 1, 0, 4, 1, 0, 4, 1, 0, 4, 1, 0, 4, 1,\n",
       "       0, 4, 1, 0, 4, 1, 0, 4, 1, 0, 4, 1, 0, 4, 1, 0, 4, 1, 0, 4, 1, 0,\n",
       "       4, 1, 0, 4, 1, 0, 4, 1, 0, 4, 1, 0, 4, 1, 0, 4, 1, 0, 4, 1, 0, 4,\n",
       "       5], dtype=int32)"
      ]
     },
     "execution_count": 117,
     "metadata": {},
     "output_type": "execute_result"
    }
   ],
   "source": [
    "p.optstatus"
   ]
  },
  {
   "cell_type": "code",
   "execution_count": 144,
   "metadata": {},
   "outputs": [
    {
     "data": {
      "text/plain": [
       "'ICPOKTZORRQGLK-UHFFFAOYSA'"
      ]
     },
     "execution_count": 144,
     "metadata": {},
     "output_type": "execute_result"
    }
   ],
   "source": [
    "smiles = \"[CH2]C=C(C)C\"\n",
    "label = Chem.rdinchi.InchiToInchiKey(\n",
    "    Chem.MolToInchi(Chem.MolFromSmiles(smiles))).strip(\"-N\")\n",
    "label"
   ]
  },
  {
   "cell_type": "code",
   "execution_count": null,
   "metadata": {},
   "outputs": [],
   "source": []
  }
 ],
 "metadata": {
  "kernelspec": {
   "display_name": "Python (rmg_env)",
   "language": "python",
   "name": "myenv"
  },
  "language_info": {
   "codemirror_mode": {
    "name": "ipython",
    "version": 2
   },
   "file_extension": ".py",
   "mimetype": "text/x-python",
   "name": "python",
   "nbconvert_exporter": "python",
   "pygments_lexer": "ipython2",
   "version": "2.7.14"
  }
 },
 "nbformat": 4,
 "nbformat_minor": 2
}
