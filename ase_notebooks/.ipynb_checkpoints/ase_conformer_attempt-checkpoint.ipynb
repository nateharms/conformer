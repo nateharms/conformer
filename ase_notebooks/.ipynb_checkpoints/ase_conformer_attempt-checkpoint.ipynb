{
 "cells": [
  {
   "cell_type": "markdown",
   "metadata": {},
   "source": [
    "# Using ASE with our conformer search tool\n",
    "\n",
    "Because the overall goal is to use ASE for the development of `RMG-Cat`, I decided I might as well try using ASE to get some stuff done"
   ]
  },
  {
   "cell_type": "code",
   "execution_count": 1,
   "metadata": {
    "collapsed": false
   },
   "outputs": [
    {
     "name": "stderr",
     "output_type": "stream",
     "text": [
      "/Users/nathan/anaconda/envs/rmg_env/lib/python2.7/site-packages/matplotlib/font_manager.py:273: UserWarning: Matplotlib is building the font cache using fc-list. This may take a moment.\n",
      "  warnings.warn('Matplotlib is building the font cache using fc-list. This may take a moment.')\n"
     ]
    }
   ],
   "source": [
    "import ase\n",
    "from ase import Atom, Atoms\n",
    "\n",
    "import os\n",
    "import sys\n",
    "import logging\n",
    "FORMAT = \"%(filename)s:%(lineno)d %(funcName)s %(levelname)s %(message)s\"\n",
    "logging.basicConfig(format=FORMAT, level=logging.INFO)\n",
    "\n",
    "import re\n",
    "import imp\n",
    "import itertools\n",
    "import random\n",
    "import numpy as np\n",
    "from numpy import array\n",
    "import pandas as pd\n",
    "import matplotlib\n",
    "matplotlib.use('Agg')\n",
    "%matplotlib inline\n",
    "from matplotlib import pyplot as plt\n",
    "import seaborn as sns\n",
    "\n",
    "\n",
    "# do this before we have a chance to import openbabel!\n",
    "import rdkit, rdkit.Chem.rdDistGeom, rdkit.DistanceGeometry\n",
    "\n",
    "from rdkit import Chem\n",
    "from rdkit.Chem import AllChem\n",
    "from rdkit.Chem import Draw\n",
    "from rdkit.Chem.Draw import IPythonConsole\n",
    "from rdkit import rdBase\n",
    "from rdkit.Chem.rdMolTransforms import *\n",
    "\n",
    "import py3Dmol\n",
    "\n",
    "from rmgpy.molecule import Molecule\n",
    "from rmgpy.species import Species\n",
    "from rmgpy.reaction import Reaction\n",
    "from rmgpy.kinetics import PDepArrhenius, PDepKineticsModel\n",
    "\n",
    "from rmgpy.data.rmg import RMGDatabase\n",
    "from rmgpy.data.kinetics import KineticsDepository, KineticsRules\n",
    "from rmgpy.qm.main import QMCalculator, QMSettings\n",
    "from rmgpy.qm.qmdata import QMData\n",
    "from rmgpy.qm.reaction import QMReaction\n",
    "from rmgpy.qm.molecule import QMMolecule"
   ]
  },
  {
   "cell_type": "code",
   "execution_count": 2,
   "metadata": {
    "collapsed": true
   },
   "outputs": [],
   "source": [
    "def view_mol(mol):\n",
    "    \"\"\"\n",
    "    A function designed to visulaize rdkit molecules\n",
    "    \n",
    "    Input: \n",
    "    * mol (an rdkit molecule object)\n",
    "    \n",
    "    Output: \n",
    "    * 3D figure of the molecule from py3Dmol\n",
    "    \n",
    "    \"\"\"\n",
    "    mb  = Chem.MolToMolBlock(mol)\n",
    "    p = py3Dmol.view(width=400, height=400)\n",
    "    p.addModel(mb, \"sdf\")\n",
    "    p.setStyle({'stick':{}})\n",
    "    p.setBackgroundColor('0xeeeeee')\n",
    "    p.zoomTo()\n",
    "    return p.show()"
   ]
  },
  {
   "cell_type": "code",
   "execution_count": 3,
   "metadata": {
    "collapsed": false
   },
   "outputs": [
    {
     "data": {
      "text/html": [
       "<div id=\"3dmolviewer_151127485859\"  style=\"position: relative; width: 400px; height: 400px\">\n",
       "<script>\n",
       "if(typeof $3Dmolpromise === 'undefined') $3Dmolpromise = $.when($.getScript('https://3dmol.csb.pitt.edu/build/3Dmol.js'))\n",
       "var viewer_151127485859 = null;\n",
       "$3Dmolpromise.done(function() {\n",
       "viewer_151127485859 = $3Dmol.createViewer($(\"#3dmolviewer_151127485859\"),{backgroundColor:\"white\"});\n",
       "\tviewer_151127485859.addModel(\"\\n     RDKit          3D\\n\\n 14 13  0  0  0  0  0  0  0  0999 V2000\\n   -1.7636    0.1460    0.0353 C   0  0  0  0  0  0  0  0  0  0  0  0\\n   -0.5139   -0.3600   -0.6198 C   0  0  0  0  0  0  0  0  0  0  0  0\\n    0.6532   -0.5235    0.3125 C   0  0  0  0  0  0  0  0  0  0  0  0\\n    1.6867    0.5554    0.1870 C   0  0  0  0  0  0  0  0  0  0  0  0\\n   -1.6009    0.7193    0.9532 H   0  0  0  0  0  0  0  0  0  0  0  0\\n   -2.4883   -0.6707    0.2844 H   0  0  0  0  0  0  0  0  0  0  0  0\\n   -2.3221    0.7991   -0.6824 H   0  0  0  0  0  0  0  0  0  0  0  0\\n   -0.2921    0.2524   -1.5052 H   0  0  0  0  0  0  0  0  0  0  0  0\\n   -0.7531   -1.3868   -0.9960 H   0  0  0  0  0  0  0  0  0  0  0  0\\n    0.2632   -0.4839    1.3585 H   0  0  0  0  0  0  0  0  0  0  0  0\\n    1.1343   -1.5318    0.2303 H   0  0  0  0  0  0  0  0  0  0  0  0\\n    2.6866    0.1178    0.4147 H   0  0  0  0  0  0  0  0  0  0  0  0\\n    1.5357    1.4087    0.8762 H   0  0  0  0  0  0  0  0  0  0  0  0\\n    1.7743    0.9580   -0.8486 H   0  0  0  0  0  0  0  0  0  0  0  0\\n  1  2  1  0\\n  2  3  1  0\\n  3  4  1  0\\n  1  5  1  0\\n  1  6  1  0\\n  1  7  1  0\\n  2  8  1  0\\n  2  9  1  0\\n  3 10  1  0\\n  3 11  1  0\\n  4 12  1  0\\n  4 13  1  0\\n  4 14  1  0\\nM  END\\n\",\"sdf\");\n",
       "\tviewer_151127485859.setStyle({\"stick\": {}});\n",
       "\tviewer_151127485859.setBackgroundColor(\"0xeeeeee\");\n",
       "\tviewer_151127485859.zoomTo();\n",
       "viewer_151127485859.render();\n",
       "});\n",
       "</script>"
      ],
      "text/plain": [
       "<IPython.core.display.HTML object>"
      ]
     },
     "execution_count": 3,
     "metadata": {},
     "output_type": "execute_result"
    }
   ],
   "source": [
    "RDMol = AllChem.MolFromSmiles(\"CCCC\")\n",
    "RDMol = Chem.AddHs(RDMol)\n",
    "AllChem.EmbedMolecule(RDMol)\n",
    "view_mol(RDMol)"
   ]
  },
  {
   "cell_type": "code",
   "execution_count": 4,
   "metadata": {
    "collapsed": false
   },
   "outputs": [
    {
     "name": "stdout",
     "output_type": "stream",
     "text": [
      "0 \n",
      "1      RDKit          3D\n",
      "2 \n",
      "3  14 13  0  0  0  0  0  0  0  0999 V2000\n",
      "4    -1.7636    0.1460    0.0353 C   0  0  0  0  0  0  0  0  0  0  0  0\n",
      "5    -0.5139   -0.3600   -0.6198 C   0  0  0  0  0  0  0  0  0  0  0  0\n",
      "6     0.6532   -0.5235    0.3125 C   0  0  0  0  0  0  0  0  0  0  0  0\n",
      "7     1.6867    0.5554    0.1870 C   0  0  0  0  0  0  0  0  0  0  0  0\n",
      "8    -1.6009    0.7193    0.9532 H   0  0  0  0  0  0  0  0  0  0  0  0\n",
      "9    -2.4883   -0.6707    0.2844 H   0  0  0  0  0  0  0  0  0  0  0  0\n",
      "10    -2.3221    0.7991   -0.6824 H   0  0  0  0  0  0  0  0  0  0  0  0\n",
      "11    -0.2921    0.2524   -1.5052 H   0  0  0  0  0  0  0  0  0  0  0  0\n",
      "12    -0.7531   -1.3868   -0.9960 H   0  0  0  0  0  0  0  0  0  0  0  0\n",
      "13     0.2632   -0.4839    1.3585 H   0  0  0  0  0  0  0  0  0  0  0  0\n",
      "14     1.1343   -1.5318    0.2303 H   0  0  0  0  0  0  0  0  0  0  0  0\n",
      "15     2.6866    0.1178    0.4147 H   0  0  0  0  0  0  0  0  0  0  0  0\n",
      "16     1.5357    1.4087    0.8762 H   0  0  0  0  0  0  0  0  0  0  0  0\n",
      "17     1.7743    0.9580   -0.8486 H   0  0  0  0  0  0  0  0  0  0  0  0\n",
      "18   1  2  1  0\n",
      "19   2  3  1  0\n",
      "20   3  4  1  0\n",
      "21   1  5  1  0\n",
      "22   1  6  1  0\n",
      "23   1  7  1  0\n",
      "24   2  8  1  0\n",
      "25   2  9  1  0\n",
      "26   3 10  1  0\n",
      "27   3 11  1  0\n",
      "28   4 12  1  0\n",
      "29   4 13  1  0\n",
      "30   4 14  1  0\n",
      "31 M  END\n",
      "32 \n"
     ]
    },
    {
     "data": {
      "text/plain": [
       "Atoms(symbols='C4H10', pbc=False)"
      ]
     },
     "execution_count": 4,
     "metadata": {},
     "output_type": "execute_result"
    }
   ],
   "source": [
    "mol_list = AllChem.MolToMolBlock(RDMol).split('\\n')\n",
    "ase_atoms = []\n",
    "for i, line in enumerate(mol_list):\n",
    "    print i, line\n",
    "    if i > 3:\n",
    "        \n",
    "        try:\n",
    "            atom0, atom1, bond, rest = line\n",
    "            atom0 = int(atom0)\n",
    "            atom0 = int(atom1)\n",
    "            bond = float(bond)\n",
    "            #print atom0, atom1, bond\n",
    "            #print\n",
    "        except ValueError:\n",
    "            try:\n",
    "                x, y, z, symbol = line.split()[0:4]\n",
    "                x = float(x)\n",
    "                y = float(y)\n",
    "                z = float(z)\n",
    "\n",
    "                ase_atoms.append(Atom(symbol=symbol, position=(x,y,z)))\n",
    "                #print x, y, z\n",
    "                #print symbol\n",
    "                #print\n",
    "            except:\n",
    "                continue\n",
    "        \n",
    "    \n",
    "ase_mol = Atoms(ase_atoms)\n",
    "ase_mol"
   ]
  },
  {
   "cell_type": "code",
   "execution_count": 5,
   "metadata": {
    "collapsed": false
   },
   "outputs": [
    {
     "data": {
      "text/plain": [
       "[Atom('C', [-1.7636000000000001, 0.14599999999999999, 0.035299999999999998]),\n",
       " Atom('C', [-0.51390000000000002, -0.35999999999999999, -0.61980000000000002]),\n",
       " Atom('C', [0.6532, -0.52349999999999997, 0.3125]),\n",
       " Atom('C', [1.6867000000000001, 0.5554, 0.187]),\n",
       " Atom('H', [-1.6009, 0.71930000000000005, 0.95320000000000005]),\n",
       " Atom('H', [-2.4883000000000002, -0.67069999999999996, 0.28439999999999999]),\n",
       " Atom('H', [-2.3220999999999998, 0.79910000000000003, -0.68240000000000001]),\n",
       " Atom('H', [-0.29210000000000003, 0.25240000000000001, -1.5052000000000001]),\n",
       " Atom('H', [-0.75309999999999999, -1.3868, -0.996]),\n",
       " Atom('H', [0.26319999999999999, -0.4839, 1.3585]),\n",
       " Atom('H', [1.1343000000000001, -1.5318000000000001, 0.2303]),\n",
       " Atom('H', [2.6865999999999999, 0.1178, 0.41470000000000001]),\n",
       " Atom('H', [1.5357000000000001, 1.4087000000000001, 0.87619999999999998]),\n",
       " Atom('H', [1.7743, 0.95799999999999996, -0.84860000000000002])]"
      ]
     },
     "execution_count": 5,
     "metadata": {},
     "output_type": "execute_result"
    }
   ],
   "source": [
    "ase_atoms"
   ]
  },
  {
   "cell_type": "markdown",
   "metadata": {},
   "source": [
    "# Classes to handle torsions and molecules from each type of molecule"
   ]
  },
  {
   "cell_type": "code",
   "execution_count": 6,
   "metadata": {
    "collapsed": false
   },
   "outputs": [],
   "source": [
    "import ase\n",
    "from ase import Atom, Atoms\n",
    "import rmgpy\n",
    "from rmgpy.molecule import Molecule\n",
    "import rdkit\n",
    "from rdkit import Chem\n",
    "from rdkit.Chem import AllChem\n",
    "from rdkit.Chem.rdchem import Mol\n",
    "from rdkit.Chem.rdMolTransforms import *\n",
    "import py3Dmol\n",
    "import numpy as np\n",
    "from numpy import pi\n",
    "\n",
    "class Torsion():\n",
    "    \"\"\"\n",
    "    A class that acts as a container for torsion information.\n",
    "    The information stored is as follows:\n",
    "    \n",
    "    * indicies (list of ints): indicies of atoms that describe the dihedral\n",
    "    * dihedral (float): the angle (in degrees) of the dihedral\n",
    "    * LHS (list of ints): indices of atoms that are branced off the left side of the torsion\n",
    "    * RHS (list of ints): indices of atoms that are branced off the right side of the torsion\n",
    "    \"\"\"\n",
    "    \n",
    "    def __init__(self, indices, dihedral, LHS, RHS):\n",
    "        self.indices = indices\n",
    "        self.dihedral = dihedral\n",
    "        self.LHS = LHS\n",
    "        self.RHS = RHS\n",
    "        \n",
    "\n",
    "         \n",
    "        \n",
    "class Multi_Molecule():\n",
    "    \"\"\"\n",
    "    A class that allows for one to create RMG, RDKit and ASE \n",
    "    molecules from a single string with identical atom indicies\n",
    "    \n",
    "    Inputs:\n",
    "    * smiles (str): a SMILES string that describes the molecule of interest\n",
    "    \"\"\"\n",
    "    def __init__(self, smiles):\n",
    "        \n",
    "        self.smiles = smiles\n",
    "        \n",
    "        # Make these more explicit (make rmg mol from smiles)\n",
    "        \n",
    "        self.get_rmg_molecule()\n",
    "        self.get_rdkit_molecule()\n",
    "        self.get_ase_molecule()\n",
    "        self.get_torsion_list()\n",
    "        self.get_torsions()\n",
    "        \n",
    "        \n",
    "        \n",
    "    def get_rmg_molecule(self):\n",
    "        \"\"\"\n",
    "        A method to obtain and set the RMG Molecule\n",
    "        \"\"\"\n",
    "        self.rmg_molecule = Molecule(SMILES=self.smiles)\n",
    "    def get_rdkit_molecule(self):\n",
    "        \"\"\"\n",
    "        A method to create an RDKit Molecule from the rmg_molecule.\n",
    "        Indicies will be the same as in the RMG Molecule\n",
    "        \"\"\"\n",
    "        \n",
    "        RDMol = self.rmg_molecule.toRDKitMol(removeHs=False)\n",
    "        \n",
    "        rdkit.Chem.AllChem.EmbedMolecule(RDMol)\n",
    "        \n",
    "        self.rdkit_molecule = RDMol\n",
    "    \n",
    "    def get_ase_molecule(self):\n",
    "        \"\"\"\n",
    "        A method to create an ASE Molecule from the rdkit_molecule.\n",
    "        Indicies will be the same as in the RMG and RDKit Molecule.\n",
    "        \"\"\"\n",
    "        mol_list = AllChem.MolToMolBlock(self.rdkit_molecule).split('\\n')\n",
    "        ase_atoms = []\n",
    "        for i, line in enumerate(mol_list):\n",
    "            \n",
    "            if i > 3:\n",
    "\n",
    "                try:\n",
    "                    atom0, atom1, bond, rest = line\n",
    "                    atom0 = int(atom0)\n",
    "                    atom0 = int(atom1)\n",
    "                    bond = float(bond)\n",
    "                    \n",
    "                except ValueError:\n",
    "                    try:\n",
    "                        x, y, z, symbol = line.split()[0:4]\n",
    "                        x = float(x)\n",
    "                        y = float(y)\n",
    "                        z = float(z)\n",
    "                        #print symbol\n",
    "\n",
    "                        ase_atoms.append(Atom(symbol=symbol, position=(x,y,z)))\n",
    "                        \n",
    "                    except:\n",
    "                        continue\n",
    "\n",
    "        self.ase_molecule = Atoms(ase_atoms)\n",
    "        return self.ase_molecule\n",
    "    \n",
    "    def view_mol(self):\n",
    "        \"\"\"\n",
    "        A method designed to create a 3D figure of the Multi_Molecule with py3Dmol\n",
    "        \"\"\"\n",
    "        mb  = Chem.MolToMolBlock(self.rdkit_molecule)\n",
    "        p = py3Dmol.view(width=400, height=400)\n",
    "        p.addModel(mb, \"sdf\")\n",
    "        p.setStyle({'stick':{}})\n",
    "        p.setBackgroundColor('0xeeeeee')\n",
    "        p.zoomTo()\n",
    "        return p.show()\n",
    "\n",
    "    \n",
    "    def get_torsion_list(self):\n",
    "        \"\"\"\n",
    "        A method to return a list of the possible torsions in a Multi_Molecule.\n",
    "        This uses the RDKit framework to do this.\n",
    "        \"\"\"\n",
    "        RDMol = self.rdkit_molecule\n",
    "        torsion_list = []\n",
    "        for bond1 in RDMol.GetBonds():\n",
    "            atom1 = bond1.GetBeginAtom()\n",
    "            atom2 = bond1.GetEndAtom()\n",
    "            if atom1.IsInRing() or atom2.IsInRing():\n",
    "                # Making sure that bond1 we're looking at are in a ring\n",
    "                continue\n",
    "\n",
    "            bond_list1 = list(atom1.GetBonds())\n",
    "            bond_list2 = list(atom2.GetBonds())\n",
    "\n",
    "            if not len(bond_list1) > 1 and not len(bond_list2) > 1:\n",
    "                # Making sure that there are more than one bond attached to\n",
    "                # the atoms we're looking at\n",
    "                continue\n",
    "\n",
    "            # Getting the 0th and 3rd atom and insuring that atoms \n",
    "            # attached to the 1st and 2nd atom are not terminal hydrogens\n",
    "            # We also make sure that all of the atoms are properly bound together\n",
    "\n",
    "            # If the above are satisified, we append a tuple of the torsion our torsion_list\n",
    "            got_atom0 = False\n",
    "            got_atom3 = False\n",
    "\n",
    "            for bond0 in bond_list1:\n",
    "                atomX = bond0.GetOtherAtom(atom1)\n",
    "                if atomX.GetAtomicNum() == 1 and len(atomX.GetBonds()) == 1:\n",
    "                    # This means that we have a terminal hydrogen, skip this\n",
    "                    # NOTE: for H_abstraction TSs, a non teminal H should exist\n",
    "                    continue \n",
    "                if atomX.GetIdx() != atom2.GetIdx():\n",
    "                    got_atom0 = True\n",
    "                    atom0 = atomX\n",
    "\n",
    "            for bond2 in bond_list2:\n",
    "                atomY = bond2.GetOtherAtom(atom2)\n",
    "                if atomY.GetAtomicNum() == 1 and len(atomY.GetBonds()) == 1:\n",
    "                    # This means that we have a terminal hydrogen, skip this\n",
    "                    continue \n",
    "                if atomY.GetIdx() != atom1.GetIdx():\n",
    "                    got_atom3 = True\n",
    "                    atom3 = atomY\n",
    "\n",
    "            if not (got_atom0 and got_atom3):\n",
    "                # Making sure atom0 and atom3 were not found\n",
    "                continue\n",
    "\n",
    "            # Looking to make sure that all of the atoms are properly bonded to eached\n",
    "            if (\n",
    "                RDMol.GetBondBetweenAtoms(atom0.GetIdx(), atom1.GetIdx()) and \n",
    "                RDMol.GetBondBetweenAtoms(atom1.GetIdx(), atom2.GetIdx()) and \n",
    "                RDMol.GetBondBetweenAtoms(atom2.GetIdx(), atom3.GetIdx())   ) : \n",
    "\n",
    "                torsion_tup = (atom0.GetIdx(), atom1.GetIdx(), atom2.GetIdx(), atom3.GetIdx())\n",
    "                torsion_list.append(torsion_tup)\n",
    "                \n",
    "        self.torsion_list = torsion_list \n",
    "        return self.torsion_list\n",
    "    \n",
    "    def get_torsions(self):\n",
    "        torsions = []\n",
    "        for indices in self.torsion_list:\n",
    "            i,j,k,l = indices\n",
    "            \n",
    "            dihedral = self.ase_molecule.get_dihedral(indices)\n",
    "            tor = Torsion(indices=indices, dihedral=dihedral, LHS=[], RHS=[])\n",
    "            LHS = self.get_LHS(tor)\n",
    "            RHS = self.get_RHS(tor)\n",
    "            \n",
    "            Torsions.append(Torsion(indices, dihedral, LHS, RHS))\n",
    "        self.Torsions = torsions\n",
    "        return self.torsions\n",
    "    \n",
    "    def get_LHS(self, Torsion):\n",
    "\n",
    "        rdkit_atoms = self.rdkit_molecule.GetAtoms()\n",
    "\n",
    "        L1, L0, R0, R1 = Torsion.indices\n",
    "        rd_atom_L1 = rdkit_atoms[L1]\n",
    "        rd_atom_L0 = rdkit_atoms[L0]\n",
    "        rd_atom_R0 = rdkit_atoms[R0]\n",
    "        rd_atom_R1 = rdkit_atoms[R1]\n",
    "\n",
    "        # trying to get the left hand side of this torsion\n",
    "        LHS_atoms_index = [rd_atom_L0.GetIdx(), rd_atom_L1.GetIdx()]\n",
    "        RHS_atoms_index = [rd_atom_R0.GetIdx(), rd_atom_R1.GetIdx()]\n",
    "\n",
    "        complete_LHS = False\n",
    "        i = 0\n",
    "        atom_index = LHS_atoms_index[0]\n",
    "        while complete_LHS == False:\n",
    "            try:\n",
    "                LHS_atom = rdkit_atoms[atom_index]\n",
    "                for neighbor in LHS_atom.GetNeighbors():\n",
    "                    if (neighbor.GetIdx() in LHS_atoms_index) or (neighbor.GetIdx() in RHS_atoms_index):\n",
    "                        continue\n",
    "                    else:\n",
    "                        LHS_atoms_index.append(neighbor.GetIdx())\n",
    "                i +=1\n",
    "                atom_index = LHS_atoms_index[i]\n",
    "\n",
    "            except IndexError:\n",
    "                complete_LHS = True\n",
    "\n",
    "        return LHS_atoms_index\n",
    "\n",
    "    def get_RHS(self, Torsion):\n",
    "\n",
    "        rdkit_atoms = self.rdkit_molecule.GetAtoms()\n",
    "\n",
    "        L1, L0, R0, R1 = Torsion.indices\n",
    "        rd_atom_L1 = rdkit_atoms[L1]\n",
    "        rd_atom_L0 = rdkit_atoms[L0]\n",
    "        rd_atom_R0 = rdkit_atoms[R0]\n",
    "        rd_atom_R1 = rdkit_atoms[R1]\n",
    "\n",
    "        # trying to get the left hand side of this torsion\n",
    "        LHS_atoms_index = [rd_atom_L0.GetIdx(), rd_atom_L1.GetIdx()]\n",
    "        RHS_atoms_index = [rd_atom_R0.GetIdx(), rd_atom_R1.GetIdx()]\n",
    "\n",
    "        complete_RHS = False\n",
    "        i = 0\n",
    "        atom_index = RHS_atoms_index[0]\n",
    "        while complete_RHS == False:\n",
    "            try:\n",
    "                RHS_atom = rdkit_atoms[atom_index]\n",
    "                for neighbor in RHS_atom.GetNeighbors():\n",
    "                    if (neighbor.GetIdx() in RHS_atoms_index) or (neighbor.GetIdx() in LHS_atoms_index):\n",
    "                        continue\n",
    "                    else:\n",
    "                        RHS_atoms_index.append(neighbor.GetIdx())\n",
    "                i +=1\n",
    "                atom_index = RHS_atoms_index[i]\n",
    "\n",
    "            except IndexError:\n",
    "                complete_RHS = True\n",
    "\n",
    "        return RHS_atoms_index\n",
    "     \n",
    "        \n",
    "        \n",
    "\"\"\"\n",
    "Methods to add\n",
    "\n",
    "update_rdkitmol\n",
    "\n",
    "\n",
    "\"\"\"\n",
    "\n",
    "MMol.ase_mol.foo()\n",
    "\n",
    "\n",
    "MMol.update_rdkitmol_from_asemol()\n",
    "MMol.update_asemol_from_rdkitmol()"
   ]
  },
  {
   "cell_type": "code",
   "execution_count": 18,
   "metadata": {
    "collapsed": false
   },
   "outputs": [],
   "source": [
    "# Trying out setting torsions but I'm not sure if this can happen yet...\n",
    "\n",
    "mol = Multi_Molecule(\"CCCC\")\n",
    "#mol.set_Torsion(0, float(90))"
   ]
  },
  {
   "cell_type": "markdown",
   "metadata": {},
   "source": [
    "### Looking at BoundsMatricies from rdkit and ase"
   ]
  },
  {
   "cell_type": "code",
   "execution_count": 19,
   "metadata": {
    "collapsed": false
   },
   "outputs": [],
   "source": [
    "a = rdkit.Chem.rdDistGeom.GetMoleculeBoundsMatrix(mol.rdkit_molecule)\n",
    "b = mol.ase_molecule.get_all_distances()"
   ]
  },
  {
   "cell_type": "code",
   "execution_count": 21,
   "metadata": {
    "collapsed": false
   },
   "outputs": [
    {
     "data": {
      "text/html": [
       "<div id=\"3dmolviewer_151127593429\"  style=\"position: relative; width: 400px; height: 400px\">\n",
       "<script>\n",
       "if(typeof $3Dmolpromise === 'undefined') $3Dmolpromise = $.when($.getScript('https://3dmol.csb.pitt.edu/build/3Dmol.js'))\n",
       "var viewer_151127593429 = null;\n",
       "$3Dmolpromise.done(function() {\n",
       "viewer_151127593429 = $3Dmol.createViewer($(\"#3dmolviewer_151127593429\"),{backgroundColor:\"white\"});\n",
       "\tviewer_151127593429.addModel(\"\\n     RDKit          3D\\n\\n 14 13  0  0  0  0  0  0  0  0999 V2000\\n   -0.5244   -0.4421   -0.4643 C   0  0  0  0  0  0  0  0  0  0  0  0\\n    0.5835    0.5148   -0.1466 C   0  0  0  0  0  0  0  0  0  0  0  0\\n   -1.8690    0.0469    0.0520 C   0  0  0  0  0  0  0  0  0  0  0  0\\n    1.8001   -0.1405    0.4418 C   0  0  0  0  0  0  0  0  0  0  0  0\\n   -0.3642   -1.4614   -0.0741 H   0  0  0  0  0  0  0  0  0  0  0  0\\n   -0.6448   -0.5466   -1.5722 H   0  0  0  0  0  0  0  0  0  0  0  0\\n    0.2454    1.2981    0.5774 H   0  0  0  0  0  0  0  0  0  0  0  0\\n    0.8924    1.0124   -1.1001 H   0  0  0  0  0  0  0  0  0  0  0  0\\n   -1.9923   -0.1574    1.1328 H   0  0  0  0  0  0  0  0  0  0  0  0\\n   -2.7018   -0.4734   -0.4508 H   0  0  0  0  0  0  0  0  0  0  0  0\\n   -1.8942    1.1399   -0.1758 H   0  0  0  0  0  0  0  0  0  0  0  0\\n    2.6956    0.4541    0.1293 H   0  0  0  0  0  0  0  0  0  0  0  0\\n    1.9784   -1.1670    0.0917 H   0  0  0  0  0  0  0  0  0  0  0  0\\n    1.7951   -0.0778    1.5590 H   0  0  0  0  0  0  0  0  0  0  0  0\\n  1  6  1  0\\n  1  3  1  0\\n  1  5  1  0\\n  1  2  1  0\\n  2  8  1  0\\n  2  4  1  0\\n  2  7  1  0\\n  3  9  1  0\\n  3 10  1  0\\n  3 11  1  0\\n  4 12  1  0\\n  4 13  1  0\\n  4 14  1  0\\nM  END\\n\",\"sdf\");\n",
       "\tviewer_151127593429.setStyle({\"stick\": {}});\n",
       "\tviewer_151127593429.setBackgroundColor(\"0xeeeeee\");\n",
       "\tviewer_151127593429.zoomTo();\n",
       "viewer_151127593429.render();\n",
       "});\n",
       "</script>"
      ],
      "text/plain": [
       "<IPython.core.display.HTML object>"
      ]
     },
     "execution_count": 21,
     "metadata": {},
     "output_type": "execute_result"
    }
   ],
   "source": [
    "mol.view_mol()"
   ]
  },
  {
   "cell_type": "code",
   "execution_count": 25,
   "metadata": {
    "collapsed": false
   },
   "outputs": [
    {
     "data": {
      "text/plain": [
       "array([[ 0.        ,  1.49800978,  1.52106405,  2.51302209,  1.10312854,\n",
       "         1.11931176,  2.16933791,  2.12770631,  2.18781007,  2.1776668 ,\n",
       "         2.11241764,  3.39469224,  2.66432428,  3.0994415 ],\n",
       "       [ 1.49800978,  0.        ,  2.50462145,  1.50191485,  2.19288805,\n",
       "         2.16046898,  1.11894884,  1.11901172,  2.95355089,  3.44416506,\n",
       "         2.55550385,  2.13090866,  2.19794999,  2.17444721],\n",
       "       [ 1.52106405,  2.50462145,  0.        ,  3.6945037 ,  2.13431327,\n",
       "         2.11871035,  2.51241596,  3.14401886,  1.10682881,  1.10321157,\n",
       "         1.11677074,  4.5833787 ,  4.03455277,  3.96386527],\n",
       "       [ 2.51302209,  1.50191485,  3.6945037 ,  0.        ,  2.58749379,\n",
       "         3.1935324 ,  2.12251017,  2.12850965,  3.8548754 ,  4.60159329,\n",
       "         3.95837169,  1.11943095,  1.09911926,  1.11896923],\n",
       "       [ 1.10312854,  2.19288805,  2.13431327,  2.58749379,  0.        ,\n",
       "         1.77761048,  2.90015597,  2.95827754,  2.4099239 ,  2.56562286,\n",
       "         3.01960338,  3.61564487,  2.36684088,  3.04038502],\n",
       "       [ 1.11931176,  2.16046898,  2.11871035,  3.1935324 ,  1.77761048,\n",
       "         0.        ,  2.96920095,  2.23971946,  3.04700802,  2.3439593 ,\n",
       "         2.52095529,  3.88004831,  3.16774961,  3.99716135],\n",
       "       [ 2.16933791,  1.11894884,  2.51241596,  2.12251017,  2.90015597,\n",
       "         2.96920095,  0.        ,  1.82050535,  2.72658224,  3.58906608,\n",
       "         2.27381302,  2.6299448 ,  3.05219781,  2.2930786 ],\n",
       "       [ 2.12770631,  1.11901172,  3.14401886,  2.12850965,  2.95827754,\n",
       "         2.23971946,  1.82050535,  0.        ,  3.83089657,  3.94302749,\n",
       "         2.93866063,  2.25269916,  2.71100859,  3.01234396],\n",
       "       [ 2.18781007,  2.95355089,  1.10682881,  3.8548754 ,  2.4099239 ,\n",
       "         3.04700802,  2.72658224,  3.83089657,  0.        ,  1.76381269,\n",
       "         1.84527636,  4.83294433,  4.22724968,  3.81213606],\n",
       "       [ 2.1776668 ,  3.44416506,  1.10321157,  4.60159329,  2.56562286,\n",
       "         2.3439593 ,  3.58906608,  3.94302749,  1.76381269,  0.        ,\n",
       "         1.82498758,  5.50714981,  4.76231658,  4.94144766],\n",
       "       [ 2.11241764,  2.55550385,  1.11677074,  3.95837169,  3.01960338,\n",
       "         2.52095529,  2.27381302,  2.93866063,  1.84527636,  1.82498758,\n",
       "         0.        ,  4.65077109,  4.51557024,  4.25479245],\n",
       "       [ 3.39469224,  2.13090866,  4.5833787 ,  1.11943095,  3.61564487,\n",
       "         3.88004831,  2.6299448 ,  2.25269916,  4.83294433,  5.50714981,\n",
       "         4.65077109,  0.        ,  1.77306368,  1.77140056],\n",
       "       [ 2.66432428,  2.19794999,  4.03455277,  1.09911926,  2.36684088,\n",
       "         3.16774961,  3.05219781,  2.71100859,  4.22724968,  4.76231658,\n",
       "         4.51557024,  1.77306368,  0.        ,  1.83655243],\n",
       "       [ 3.0994415 ,  2.17444721,  3.96386527,  1.11896923,  3.04038502,\n",
       "         3.99716135,  2.2930786 ,  3.01234396,  3.81213606,  4.94144766,\n",
       "         4.25479245,  1.77140056,  1.83655243,  0.        ]])"
      ]
     },
     "execution_count": 25,
     "metadata": {},
     "output_type": "execute_result"
    }
   ],
   "source": [
    "b"
   ]
  },
  {
   "cell_type": "code",
   "execution_count": 11,
   "metadata": {
    "collapsed": false
   },
   "outputs": [
    {
     "data": {
      "text/plain": [
       "array([[  0.00000000e+00,   2.33313224e-02,   1.14622616e-02,\n",
       "          6.89518025e-02,   6.21182979e-04,   1.91060288e-04,\n",
       "          1.49382582e-03,   2.83893524e-02,   4.37763836e-02,\n",
       "          6.40559278e-02,   9.48147033e-04,   9.05116717e-01,\n",
       "          7.39324679e-01,   3.68118057e-02],\n",
       "       [  3.33132238e-03,   0.00000000e+00,   3.91287556e-03,\n",
       "          7.11385804e-04,   2.45685282e-03,   5.08318985e-02,\n",
       "          1.69853877e-02,   8.79933333e-04,   1.29109429e-03,\n",
       "          4.52140001e-01,   7.63497894e-01,   6.10199756e-02,\n",
       "          8.31686563e-02,   3.70754102e-02],\n",
       "       [  8.53773837e-03,   8.39128756e-02,   0.00000000e+00,\n",
       "          5.53415907e-01,   4.36573374e-02,   6.55905600e-02,\n",
       "          1.54746906e-02,   8.74876511e-01,   7.66924707e-04,\n",
       "          3.70562594e-03,   1.97282573e-02,   9.97133069e+02,\n",
       "          9.96215402e+02,   9.95885416e+02],\n",
       "       [  1.10481975e-02,   2.07113858e-02,   7.32536408e-01,\n",
       "          0.00000000e+00,   5.94099119e-02,   9.95348287e-01,\n",
       "          3.14312378e-03,   9.37235903e-02,   9.95732826e+02,\n",
       "          9.96804852e+02,   9.96439390e+02,   1.21065250e-02,\n",
       "          2.26844460e-02,   9.45601247e-03],\n",
       "       [  1.93788170e-02,   8.24568528e-02,   3.63426626e-02,\n",
       "          9.59543741e-01,   0.00000000e+00,   7.68210656e-02,\n",
       "          6.57927738e-01,   2.40081976e-01,   7.71450682e-01,\n",
       "          8.29539855e-02,   3.44472291e-01,   9.96374582e+02,\n",
       "          9.96529191e+02,   9.95724405e+02],\n",
       "       [  1.98089397e-02,   2.91681015e-02,   1.44094400e-02,\n",
       "          2.36053655e-02,   3.17893439e-03,   0.00000000e+00,\n",
       "          2.99382466e-01,   6.11409408e-02,   4.72025562e-01,\n",
       "          8.25363923e-01,   1.90436058e-02,   9.97595010e+02,\n",
       "          9.97692884e+02,   9.96460593e+02],\n",
       "       [  7.85061742e-02,   3.01461231e-03,   1.00347896e+00,\n",
       "          7.68568762e-02,   1.62802072e-01,   5.21347344e-01,\n",
       "          0.00000000e+00,   5.66413260e-02,   9.95806228e+02,\n",
       "          9.95980251e+02,   9.96462569e+02,   1.48048480e-03,\n",
       "          6.17487136e-01,   5.17605260e-01],\n",
       "       [  5.16106476e-02,   2.08799333e-02,   1.44077141e-01,\n",
       "          1.37235903e-02,   5.80647835e-01,   7.59588870e-01,\n",
       "          2.33586740e-02,   0.00000000e+00,   9.96439691e+02,\n",
       "          9.96913766e+02,   9.97750237e+02,   6.08832387e-01,\n",
       "          7.64670820e-02,   7.28964405e-01],\n",
       "       [  3.62236164e-02,   1.01766256e+00,   2.07669247e-02,\n",
       "          2.06217400e+00,   4.92791280e-02,   3.48704249e-01,\n",
       "          2.51377231e+00,   1.88030911e+00,   0.00000000e+00,\n",
       "          7.95961978e-02,   4.68045216e-02,   9.96115740e+02,\n",
       "          9.95357431e+02,   9.94817425e+02],\n",
       "       [  1.59440722e-02,   5.66813652e-01,   1.62943741e-02,\n",
       "          9.90147962e-01,   7.37775825e-01,   4.63411223e-03,\n",
       "          2.33974856e+00,   1.40623370e+00,   4.03802204e-04,\n",
       "          0.00000000e+00,   9.95483850e-04,   9.97537640e+02,\n",
       "          9.96310896e+02,   9.95928824e+02],\n",
       "       [  7.90518530e-02,   2.55455759e-01,   2.71742744e-04,\n",
       "          1.35560992e+00,   4.76257520e-01,   8.01686205e-01,\n",
       "          1.85743060e+00,   5.69762885e-01,   3.31954784e-02,\n",
       "          7.90045162e-02,   0.00000000e+00,   9.96757488e+02,\n",
       "          9.95686379e+02,   9.95817131e+02],\n",
       "       [  1.13836936e-01,   1.89800244e-02,   6.61931308e-01,\n",
       "          7.89347495e-03,   1.94541811e+00,   7.24990243e-01,\n",
       "          8.19249326e-01,   2.11897423e-01,   1.84425982e+00,\n",
       "          4.22360344e-01,   1.20251223e+00,   0.00000000e+00,\n",
       "          7.18018496e-02,   8.84161866e-03],\n",
       "       [  2.79628974e-01,   3.16865628e-03,   1.57959774e+00,\n",
       "          2.68444595e-03,   1.79080946e+00,   6.27115783e-01,\n",
       "          2.03242675e-01,   7.44262728e-01,   2.60256915e+00,\n",
       "          1.64910446e+00,   2.27362134e+00,   8.19815038e-03,\n",
       "          0.00000000e+00,   3.19036196e-03],\n",
       "       [  9.82141847e-01,   4.29245898e-02,   1.90958398e+00,\n",
       "          1.05439875e-02,   2.59559450e+00,   1.85940739e+00,\n",
       "          3.03124551e-01,   9.17654056e-02,   3.14257472e+00,\n",
       "          2.03117571e+00,   2.14286896e+00,   7.11583813e-02,\n",
       "          7.68096380e-02,   0.00000000e+00]])"
      ]
     },
     "execution_count": 11,
     "metadata": {},
     "output_type": "execute_result"
    }
   ],
   "source": [
    "# Looking at the differences between the distance matricies from rdkit and ase\n",
    "\n",
    "abs(a-b)"
   ]
  },
  {
   "cell_type": "markdown",
   "metadata": {},
   "source": [
    "## Finding the LHS and RHS of a torsion (for use of ASE)"
   ]
  },
  {
   "cell_type": "code",
   "execution_count": 12,
   "metadata": {
    "collapsed": false
   },
   "outputs": [
    {
     "data": {
      "text/plain": [
       "157.30480480568735"
      ]
     },
     "execution_count": 12,
     "metadata": {},
     "output_type": "execute_result"
    }
   ],
   "source": [
    "mol = Multi_Molecule(\"NOCC\")\n",
    "i,j,k,l = mol.Torsions[0].indices\n",
    "molecule = mol.rdkit_molecule\n",
    "tup = molecule.GetConformer(0)\n",
    "GetDihedralDeg(tup, i,j,k,l)"
   ]
  },
  {
   "cell_type": "code",
   "execution_count": 13,
   "metadata": {
    "collapsed": false,
    "scrolled": true
   },
   "outputs": [
    {
     "name": "stdout",
     "output_type": "stream",
     "text": [
      "[(1, 0, 3, 2)]\n",
      "[0, 1, 5, 4, 6, 7, 8]\n"
     ]
    },
    {
     "data": {
      "text/html": [
       "<div id=\"3dmolviewer_151127486061\"  style=\"position: relative; width: 400px; height: 400px\">\n",
       "<script>\n",
       "if(typeof $3Dmolpromise === 'undefined') $3Dmolpromise = $.when($.getScript('https://3dmol.csb.pitt.edu/build/3Dmol.js'))\n",
       "var viewer_151127486061 = null;\n",
       "$3Dmolpromise.done(function() {\n",
       "viewer_151127486061 = $3Dmol.createViewer($(\"#3dmolviewer_151127486061\"),{backgroundColor:\"white\"});\n",
       "\tviewer_151127486061.addModel(\"\\n     RDKit          3D\\n\\n 11 10  0  0  0  0  0  0  0  0999 V2000\\n   -0.0976    0.3312    0.0505 C   0  0  0  0  0  0  0  0  0  0  0  0\\n   -1.5423   -0.0534   -0.0805 C   0  0  0  0  0  0  0  0  0  0  0  0\\n    1.9739   -0.4464    0.4101 N   0  0  0  0  0  0  0  0  0  0  0  0\\n    0.6641   -0.5844    0.7530 O   0  0  0  0  0  0  0  0  0  0  0  0\\n   -0.0636    1.2850    0.6341 H   0  0  0  0  0  0  0  0  0  0  0  0\\n    0.3898    0.5142   -0.9188 H   0  0  0  0  0  0  0  0  0  0  0  0\\n   -1.8939   -0.3780    0.9267 H   0  0  0  0  0  0  0  0  0  0  0  0\\n   -2.1103    0.8691   -0.3413 H   0  0  0  0  0  0  0  0  0  0  0  0\\n   -1.7116   -0.8386   -0.8593 H   0  0  0  0  0  0  0  0  0  0  0  0\\n    2.1983   -1.1841   -0.3093 H   0  0  0  0  0  0  0  0  0  0  0  0\\n    2.1931    0.4853    0.0119 H   0  0  0  0  0  0  0  0  0  0  0  0\\n  1  6  1  0\\n  1  4  1  0\\n  1  5  1  0\\n  1  2  1  0\\n  2  7  1  0\\n  2  8  1  0\\n  2  9  1  0\\n  3 10  1  0\\n  3  4  1  0\\n  3 11  1  0\\nM  END\\n\",\"sdf\");\n",
       "\tviewer_151127486061.setStyle({\"stick\": {}});\n",
       "\tviewer_151127486061.setBackgroundColor(\"0xeeeeee\");\n",
       "\tviewer_151127486061.zoomTo();\n",
       "viewer_151127486061.render();\n",
       "});\n",
       "</script>"
      ],
      "text/plain": [
       "<IPython.core.display.HTML object>"
      ]
     },
     "execution_count": 13,
     "metadata": {},
     "output_type": "execute_result"
    }
   ],
   "source": [
    "print mol.torsion_list\n",
    "rd_atoms = molecule.GetAtoms()\n",
    "\n",
    "L1, L0, R0, R1 = mol.torsion_list[0]\n",
    "rd_atom_L1 = rd_atoms[L1]\n",
    "rd_atom_L0 = rd_atoms[L0]\n",
    "rd_atom_R0 = rd_atoms[R0]\n",
    "rd_atom_R1 = rd_atoms[R1]\n",
    "\n",
    "# trying to get the left hand side of this torsion\n",
    "LHS_atoms_index = [rd_atom_L0.GetIdx(), rd_atom_L1.GetIdx()]\n",
    "RHS_atoms_index = [rd_atom_R0.GetIdx(), rd_atom_R1.GetIdx()]\n",
    "\n",
    "complete_LHS = False\n",
    "i = 0\n",
    "atom_index = LHS_atoms_index[0]\n",
    "while complete_LHS == False:\n",
    "    try:\n",
    "        LHS_atom = rd_atoms[atom_index]\n",
    "        for neighbor in LHS_atom.GetNeighbors():\n",
    "            if (neighbor.GetIdx() in LHS_atoms_index) or (neighbor.GetIdx() in RHS_atoms_index):\n",
    "                continue\n",
    "            else:\n",
    "                LHS_atoms_index.append(neighbor.GetIdx())\n",
    "        i +=1\n",
    "        atom_index = LHS_atoms_index[i]\n",
    "   \n",
    "    except IndexError:\n",
    "        complete_LHS = True\n",
    "\n",
    "        \n",
    "\n",
    "print LHS_atoms_index\n",
    "view_mol(molecule)"
   ]
  },
  {
   "cell_type": "markdown",
   "metadata": {},
   "source": [
    "## Writing formal functions / methods for the above"
   ]
  },
  {
   "cell_type": "code",
   "execution_count": 14,
   "metadata": {
    "collapsed": false
   },
   "outputs": [],
   "source": [
    "def get_LHS(self, Torsion):\n",
    "    \n",
    "    rdkit_atoms = self.rdkit_molecule.GetAtoms()\n",
    "\n",
    "    L1, L0, R0, R1 = Torsion.indicies\n",
    "    rd_atom_L1 = rdkit_atoms[L1]\n",
    "    rd_atom_L0 = rdkit_atoms[L0]\n",
    "    rd_atom_R0 = rdkit_atoms[R0]\n",
    "    rd_atom_R1 = rdkit_atoms[R1]\n",
    "\n",
    "    # trying to get the left hand side of this torsion\n",
    "    LHS_atoms_index = [rd_atom_L0.GetIdx(), rd_atom_L1.GetIdx()]\n",
    "    RHS_atoms_index = [rd_atom_R0.GetIdx(), rd_atom_R1.GetIdx()]\n",
    "\n",
    "    complete_LHS = False\n",
    "    i = 0\n",
    "    atom_index = LHS_atoms_index[0]\n",
    "    while complete_LHS == False:\n",
    "        try:\n",
    "            LHS_atom = rdkit_atoms[atom_index]\n",
    "            for neighbor in LHS_atom.GetNeighbors():\n",
    "                if (neighbor.GetIdx() in LHS_atoms_index) or (neighbor.GetIdx() in RHS_atoms_index):\n",
    "                    continue\n",
    "                else:\n",
    "                    LHS_atoms_index.append(neighbor.GetIdx())\n",
    "            i +=1\n",
    "            atom_index = LHS_atoms_index[i]\n",
    "\n",
    "        except IndexError:\n",
    "            complete_LHS = True\n",
    "\n",
    "    return LHS_atoms_index\n",
    "    \n",
    "def get_RHS(self, Torsion):\n",
    "    \n",
    "    rdkit_atoms = self.rdkit_molecule.GetAtoms()\n",
    "\n",
    "    L1, L0, R0, R1 = Torsion.indicies\n",
    "    rd_atom_L1 = rdkit_atoms[L1]\n",
    "    rd_atom_L0 = rdkit_atoms[L0]\n",
    "    rd_atom_R0 = rdkit_atoms[R0]\n",
    "    rd_atom_R1 = rdkit_atoms[R1]\n",
    "\n",
    "    # trying to get the left hand side of this torsion\n",
    "    LHS_atoms_index = [rd_atom_L0.GetIdx(), rd_atom_L1.GetIdx()]\n",
    "    RHS_atoms_index = [rd_atom_R0.GetIdx(), rd_atom_R1.GetIdx()]\n",
    "\n",
    "    complete_RHS = False\n",
    "    i = 0\n",
    "    atom_index = RHS_atoms_index[0]\n",
    "    while complete_RHS == False:\n",
    "        try:\n",
    "            RHS_atom = rdkit_atoms[atom_index]\n",
    "            for neighbor in RHS_atom.GetNeighbors():\n",
    "                if (neighbor.GetIdx() in RHS_atoms_index) or (neighbor.GetIdx() in LHS_atoms_index):\n",
    "                    continue\n",
    "                else:\n",
    "                    LHS_atoms_index.append(neighbor.GetIdx())\n",
    "            i +=1\n",
    "            atom_index = RHS_atoms_index[i]\n",
    "\n",
    "        except IndexError:\n",
    "            complete_RHS = True\n",
    "\n",
    "    return RHS_atoms_index"
   ]
  },
  {
   "cell_type": "code",
   "execution_count": null,
   "metadata": {
    "collapsed": true
   },
   "outputs": [],
   "source": []
  }
 ],
 "metadata": {
  "kernelspec": {
   "display_name": "Python 2",
   "language": "python",
   "name": "python2"
  },
  "language_info": {
   "codemirror_mode": {
    "name": "ipython",
    "version": 2
   },
   "file_extension": ".py",
   "mimetype": "text/x-python",
   "name": "python",
   "nbconvert_exporter": "python",
   "pygments_lexer": "ipython2",
   "version": "2.7.12"
  }
 },
 "nbformat": 4,
 "nbformat_minor": 2
}
