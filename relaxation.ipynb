{
 "cells": [
  {
   "cell_type": "code",
   "execution_count": 1,
   "metadata": {},
   "outputs": [],
   "source": [
    "from autotst.molecule import *\n",
    "from autotst.conformer.simple_es import *\n",
    "from autotst.conformer.ga import *\n",
    "from autotst.conformer.brute_force import *\n",
    "from autotst.conformer.utilities import *"
   ]
  },
  {
   "cell_type": "code",
   "execution_count": 2,
   "metadata": {},
   "outputs": [],
   "source": [
    "mol = AutoTST_Molecule(\"CCCC\")"
   ]
  },
  {
   "cell_type": "code",
   "execution_count": 3,
   "metadata": {},
   "outputs": [
    {
     "data": {
      "text/html": [
       "<div id=\"3dmolviewer_152708348217\"  style=\"position: relative; width: 400px; height: 400px\">\n",
       "<script>\n",
       "if(typeof $3Dmolpromise === 'undefined') $3Dmolpromise = $.when($.getScript('https://3dmol.csb.pitt.edu/build/3Dmol.js'))\n",
       "var viewer_152708348217 = null;\n",
       "$3Dmolpromise.done(function() {\n",
       "viewer_152708348217 = $3Dmol.createViewer($(\"#3dmolviewer_152708348217\"),{backgroundColor:\"white\"});\n",
       "\tviewer_152708348217.addModel(\"\\n     RDKit          3D\\n\\n 14 13  0  0  0  0  0  0  0  0999 V2000\\n    1.9045   -0.0614    0.0630 C   0  0  0  0  0  0  0  0  0  0  0  0\\n   -1.8388    0.1247    0.2819 C   0  0  0  0  0  0  0  0  0  0  0  0\\n    0.5022   -0.5748   -0.1818 C   0  0  0  0  0  0  0  0  0  0  0  0\\n   -0.5101    0.5216   -0.3339 C   0  0  0  0  0  0  0  0  0  0  0  0\\n    2.2218    0.6862   -0.6862 H   0  0  0  0  0  0  0  0  0  0  0  0\\n    2.5689   -0.9391    0.1273 H   0  0  0  0  0  0  0  0  0  0  0  0\\n    1.8549    0.4845    1.0387 H   0  0  0  0  0  0  0  0  0  0  0  0\\n   -2.5036    1.0193    0.3567 H   0  0  0  0  0  0  0  0  0  0  0  0\\n   -2.3379   -0.6156   -0.3921 H   0  0  0  0  0  0  0  0  0  0  0  0\\n   -1.7300   -0.3290    1.2784 H   0  0  0  0  0  0  0  0  0  0  0  0\\n    0.2348   -1.1683    0.7285 H   0  0  0  0  0  0  0  0  0  0  0  0\\n    0.4698   -1.3059   -1.0287 H   0  0  0  0  0  0  0  0  0  0  0  0\\n   -0.1611    1.4762    0.1277 H   0  0  0  0  0  0  0  0  0  0  0  0\\n   -0.6753    0.6815   -1.4095 H   0  0  0  0  0  0  0  0  0  0  0  0\\n  1  3  1  0\\n  1  5  1  0\\n  1  6  1  0\\n  1  7  1  0\\n  2  4  1  0\\n  2  8  1  0\\n  2  9  1  0\\n  2 10  1  0\\n  3 12  1  0\\n  3  4  1  0\\n  3 11  1  0\\n  4 14  1  0\\n  4 13  1  0\\nM  END\\n\",\"sdf\");\n",
       "\tviewer_152708348217.setStyle({\"stick\": {}});\n",
       "\tviewer_152708348217.setBackgroundColor(\"0xeeeeee\");\n",
       "\tviewer_152708348217.zoomTo();\n",
       "viewer_152708348217.render();\n",
       "});\n",
       "</script>"
      ],
      "text/plain": [
       "<IPython.core.display.HTML object>"
      ]
     },
     "execution_count": 3,
     "metadata": {},
     "output_type": "execute_result"
    }
   ],
   "source": [
    "mol.view_mol()"
   ]
  },
  {
   "cell_type": "code",
   "execution_count": 4,
   "metadata": {},
   "outputs": [
    {
     "name": "stderr",
     "output_type": "stream",
     "text": [
      "brute_force.py:83 perform_brute_force INFO Generating conformer 0\n",
      "brute_force.py:84 perform_brute_force INFO Applying the torsion combo (0.0,) to the molecule or TS.\n",
      "brute_force.py:83 perform_brute_force INFO Generating conformer 1\n",
      "brute_force.py:84 perform_brute_force INFO Applying the torsion combo (30.0,) to the molecule or TS.\n",
      "brute_force.py:83 perform_brute_force INFO Generating conformer 2\n",
      "brute_force.py:84 perform_brute_force INFO Applying the torsion combo (60.0,) to the molecule or TS.\n",
      "brute_force.py:83 perform_brute_force INFO Generating conformer 3\n",
      "brute_force.py:84 perform_brute_force INFO Applying the torsion combo (90.0,) to the molecule or TS.\n",
      "brute_force.py:83 perform_brute_force INFO Generating conformer 4\n",
      "brute_force.py:84 perform_brute_force INFO Applying the torsion combo (120.0,) to the molecule or TS.\n",
      "brute_force.py:83 perform_brute_force INFO Generating conformer 5\n",
      "brute_force.py:84 perform_brute_force INFO Applying the torsion combo (150.0,) to the molecule or TS.\n",
      "brute_force.py:83 perform_brute_force INFO Generating conformer 6\n",
      "brute_force.py:84 perform_brute_force INFO Applying the torsion combo (180.0,) to the molecule or TS.\n",
      "brute_force.py:83 perform_brute_force INFO Generating conformer 7\n",
      "brute_force.py:84 perform_brute_force INFO Applying the torsion combo (210.0,) to the molecule or TS.\n",
      "brute_force.py:83 perform_brute_force INFO Generating conformer 8\n",
      "brute_force.py:84 perform_brute_force INFO Applying the torsion combo (240.0,) to the molecule or TS.\n",
      "brute_force.py:83 perform_brute_force INFO Generating conformer 9\n",
      "brute_force.py:84 perform_brute_force INFO Applying the torsion combo (270.0,) to the molecule or TS.\n",
      "brute_force.py:83 perform_brute_force INFO Generating conformer 10\n",
      "brute_force.py:84 perform_brute_force INFO Applying the torsion combo (300.0,) to the molecule or TS.\n",
      "brute_force.py:83 perform_brute_force INFO Generating conformer 11\n",
      "brute_force.py:84 perform_brute_force INFO Applying the torsion combo (330.0,) to the molecule or TS.\n"
     ]
    }
   ],
   "source": [
    "from ase.calculators.lj import LennardJones\n",
    "mol.ase_molecule.set_calculator(LennardJones())\n",
    "results = perform_brute_force(mol)"
   ]
  },
  {
   "cell_type": "code",
   "execution_count": 5,
   "metadata": {},
   "outputs": [
    {
     "ename": "ImportError",
     "evalue": "dlopen(/Users/nathan/anaconda/envs/amp/lib/python2.7/site-packages/matplotlib/ft2font.so, 2): Library not loaded: @rpath/libfreetype.6.dylib\n  Referenced from: /Users/nathan/anaconda/envs/amp/lib/python2.7/site-packages/matplotlib/ft2font.so\n  Reason: Incompatible library version: ft2font.so requires version 22.0.0 or later, but libfreetype.6.dylib provides version 21.0.0",
     "output_type": "error",
     "traceback": [
      "\u001b[0;31m---------------------------------------------------------------------------\u001b[0m",
      "\u001b[0;31mImportError\u001b[0m                               Traceback (most recent call last)",
      "\u001b[0;32m<ipython-input-5-b674b94b1e77>\u001b[0m in \u001b[0;36m<module>\u001b[0;34m()\u001b[0m\n\u001b[0;32m----> 1\u001b[0;31m \u001b[0;32mimport\u001b[0m \u001b[0mmatplotlib\u001b[0m\u001b[0;34m.\u001b[0m\u001b[0mpyplot\u001b[0m \u001b[0;32mas\u001b[0m \u001b[0mplt\u001b[0m\u001b[0;34m\u001b[0m\u001b[0m\n\u001b[0m\u001b[1;32m      2\u001b[0m \u001b[0mget_ipython\u001b[0m\u001b[0;34m(\u001b[0m\u001b[0;34m)\u001b[0m\u001b[0;34m.\u001b[0m\u001b[0mmagic\u001b[0m\u001b[0;34m(\u001b[0m\u001b[0;34mu'matplotlib inline'\u001b[0m\u001b[0;34m)\u001b[0m\u001b[0;34m\u001b[0m\u001b[0m\n\u001b[1;32m      3\u001b[0m \u001b[0;34m\u001b[0m\u001b[0m\n\u001b[1;32m      4\u001b[0m \u001b[0;34m\u001b[0m\u001b[0m\n\u001b[1;32m      5\u001b[0m \u001b[0mresults\u001b[0m\u001b[0;34m.\u001b[0m\u001b[0mplot\u001b[0m\u001b[0;34m(\u001b[0m\u001b[0;34m)\u001b[0m\u001b[0;34m\u001b[0m\u001b[0m\n",
      "\u001b[0;32m/Users/nathan/anaconda/envs/amp/lib/python2.7/site-packages/matplotlib/pyplot.py\u001b[0m in \u001b[0;36m<module>\u001b[0;34m()\u001b[0m\n\u001b[1;32m     29\u001b[0m \u001b[0;32mfrom\u001b[0m \u001b[0mcycler\u001b[0m \u001b[0;32mimport\u001b[0m \u001b[0mcycler\u001b[0m\u001b[0;34m\u001b[0m\u001b[0m\n\u001b[1;32m     30\u001b[0m \u001b[0;32mimport\u001b[0m \u001b[0mmatplotlib\u001b[0m\u001b[0;34m\u001b[0m\u001b[0m\n\u001b[0;32m---> 31\u001b[0;31m \u001b[0;32mimport\u001b[0m \u001b[0mmatplotlib\u001b[0m\u001b[0;34m.\u001b[0m\u001b[0mcolorbar\u001b[0m\u001b[0;34m\u001b[0m\u001b[0m\n\u001b[0m\u001b[1;32m     32\u001b[0m \u001b[0;32mfrom\u001b[0m \u001b[0mmatplotlib\u001b[0m \u001b[0;32mimport\u001b[0m \u001b[0mstyle\u001b[0m\u001b[0;34m\u001b[0m\u001b[0m\n\u001b[1;32m     33\u001b[0m \u001b[0;32mfrom\u001b[0m \u001b[0mmatplotlib\u001b[0m \u001b[0;32mimport\u001b[0m \u001b[0m_pylab_helpers\u001b[0m\u001b[0;34m,\u001b[0m \u001b[0minteractive\u001b[0m\u001b[0;34m\u001b[0m\u001b[0m\n",
      "\u001b[0;32m/Users/nathan/anaconda/envs/amp/lib/python2.7/site-packages/matplotlib/colorbar.py\u001b[0m in \u001b[0;36m<module>\u001b[0;34m()\u001b[0m\n\u001b[1;32m     34\u001b[0m \u001b[0;32mimport\u001b[0m \u001b[0mmatplotlib\u001b[0m\u001b[0;34m.\u001b[0m\u001b[0mcollections\u001b[0m \u001b[0;32mas\u001b[0m \u001b[0mcollections\u001b[0m\u001b[0;34m\u001b[0m\u001b[0m\n\u001b[1;32m     35\u001b[0m \u001b[0;32mimport\u001b[0m \u001b[0mmatplotlib\u001b[0m\u001b[0;34m.\u001b[0m\u001b[0mcolors\u001b[0m \u001b[0;32mas\u001b[0m \u001b[0mcolors\u001b[0m\u001b[0;34m\u001b[0m\u001b[0m\n\u001b[0;32m---> 36\u001b[0;31m \u001b[0;32mimport\u001b[0m \u001b[0mmatplotlib\u001b[0m\u001b[0;34m.\u001b[0m\u001b[0mcontour\u001b[0m \u001b[0;32mas\u001b[0m \u001b[0mcontour\u001b[0m\u001b[0;34m\u001b[0m\u001b[0m\n\u001b[0m\u001b[1;32m     37\u001b[0m \u001b[0;32mimport\u001b[0m \u001b[0mmatplotlib\u001b[0m\u001b[0;34m.\u001b[0m\u001b[0mcm\u001b[0m \u001b[0;32mas\u001b[0m \u001b[0mcm\u001b[0m\u001b[0;34m\u001b[0m\u001b[0m\n\u001b[1;32m     38\u001b[0m \u001b[0;32mimport\u001b[0m \u001b[0mmatplotlib\u001b[0m\u001b[0;34m.\u001b[0m\u001b[0mgridspec\u001b[0m \u001b[0;32mas\u001b[0m \u001b[0mgridspec\u001b[0m\u001b[0;34m\u001b[0m\u001b[0m\n",
      "\u001b[0;32m/Users/nathan/anaconda/envs/amp/lib/python2.7/site-packages/matplotlib/contour.py\u001b[0m in \u001b[0;36m<module>\u001b[0;34m()\u001b[0m\n\u001b[1;32m     18\u001b[0m \u001b[0;32mimport\u001b[0m \u001b[0mmatplotlib\u001b[0m\u001b[0;34m.\u001b[0m\u001b[0mcolors\u001b[0m \u001b[0;32mas\u001b[0m \u001b[0mcolors\u001b[0m\u001b[0;34m\u001b[0m\u001b[0m\n\u001b[1;32m     19\u001b[0m \u001b[0;32mimport\u001b[0m \u001b[0mmatplotlib\u001b[0m\u001b[0;34m.\u001b[0m\u001b[0mcollections\u001b[0m \u001b[0;32mas\u001b[0m \u001b[0mmcoll\u001b[0m\u001b[0;34m\u001b[0m\u001b[0m\n\u001b[0;32m---> 20\u001b[0;31m \u001b[0;32mimport\u001b[0m \u001b[0mmatplotlib\u001b[0m\u001b[0;34m.\u001b[0m\u001b[0mfont_manager\u001b[0m \u001b[0;32mas\u001b[0m \u001b[0mfont_manager\u001b[0m\u001b[0;34m\u001b[0m\u001b[0m\n\u001b[0m\u001b[1;32m     21\u001b[0m \u001b[0;32mimport\u001b[0m \u001b[0mmatplotlib\u001b[0m\u001b[0;34m.\u001b[0m\u001b[0mtext\u001b[0m \u001b[0;32mas\u001b[0m \u001b[0mtext\u001b[0m\u001b[0;34m\u001b[0m\u001b[0m\n\u001b[1;32m     22\u001b[0m \u001b[0;32mimport\u001b[0m \u001b[0mmatplotlib\u001b[0m\u001b[0;34m.\u001b[0m\u001b[0mcbook\u001b[0m \u001b[0;32mas\u001b[0m \u001b[0mcbook\u001b[0m\u001b[0;34m\u001b[0m\u001b[0m\n",
      "\u001b[0;32m/Users/nathan/anaconda/envs/amp/lib/python2.7/site-packages/matplotlib/font_manager.py\u001b[0m in \u001b[0;36m<module>\u001b[0;34m()\u001b[0m\n\u001b[1;32m     53\u001b[0m \u001b[0;32mimport\u001b[0m \u001b[0mlogging\u001b[0m\u001b[0;34m\u001b[0m\u001b[0m\n\u001b[1;32m     54\u001b[0m \u001b[0;34m\u001b[0m\u001b[0m\n\u001b[0;32m---> 55\u001b[0;31m \u001b[0;32mfrom\u001b[0m \u001b[0mmatplotlib\u001b[0m \u001b[0;32mimport\u001b[0m \u001b[0mafm\u001b[0m\u001b[0;34m,\u001b[0m \u001b[0mcbook\u001b[0m\u001b[0;34m,\u001b[0m \u001b[0mft2font\u001b[0m\u001b[0;34m,\u001b[0m \u001b[0mrcParams\u001b[0m\u001b[0;34m,\u001b[0m \u001b[0mget_cachedir\u001b[0m\u001b[0;34m\u001b[0m\u001b[0m\n\u001b[0m\u001b[1;32m     56\u001b[0m \u001b[0;32mfrom\u001b[0m \u001b[0mmatplotlib\u001b[0m\u001b[0;34m.\u001b[0m\u001b[0mcompat\u001b[0m \u001b[0;32mimport\u001b[0m \u001b[0msubprocess\u001b[0m\u001b[0;34m\u001b[0m\u001b[0m\n\u001b[1;32m     57\u001b[0m from matplotlib.fontconfig_pattern import (\n",
      "\u001b[0;31mImportError\u001b[0m: dlopen(/Users/nathan/anaconda/envs/amp/lib/python2.7/site-packages/matplotlib/ft2font.so, 2): Library not loaded: @rpath/libfreetype.6.dylib\n  Referenced from: /Users/nathan/anaconda/envs/amp/lib/python2.7/site-packages/matplotlib/ft2font.so\n  Reason: Incompatible library version: ft2font.so requires version 22.0.0 or later, but libfreetype.6.dylib provides version 21.0.0"
     ]
    }
   ],
   "source": [
    "import matplotlib.pyplot as plt\n",
    "%matplotlib inline\n",
    "\n",
    "\n",
    "results.plot()"
   ]
  },
  {
   "cell_type": "code",
   "execution_count": null,
   "metadata": {},
   "outputs": [],
   "source": []
  }
 ],
 "metadata": {
  "kernelspec": {
   "display_name": "Python 2",
   "language": "python",
   "name": "python2"
  },
  "language_info": {
   "codemirror_mode": {
    "name": "ipython",
    "version": 2
   },
   "file_extension": ".py",
   "mimetype": "text/x-python",
   "name": "python",
   "nbconvert_exporter": "python",
   "pygments_lexer": "ipython2",
   "version": "2.7.14"
  }
 },
 "nbformat": 4,
 "nbformat_minor": 2
}
