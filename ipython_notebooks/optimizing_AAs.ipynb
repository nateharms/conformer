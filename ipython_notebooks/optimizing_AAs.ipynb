{
 "cells": [
  {
   "cell_type": "code",
   "execution_count": 128,
   "metadata": {
    "collapsed": false
   },
   "outputs": [],
   "source": [
    "import os\n",
    "import sys\n",
    "import logging\n",
    "FORMAT = \"%(filename)s:%(lineno)d %(funcName)s %(levelname)s %(message)s\"\n",
    "logging.basicConfig(format=FORMAT, level=logging.INFO)\n",
    "\n",
    "import re\n",
    "import imp\n",
    "import itertools\n",
    "import random\n",
    "import numpy as np\n",
    "from numpy import array\n",
    "import pandas as pd\n",
    "import matplotlib\n",
    "matplotlib.use('Agg')\n",
    "%matplotlib inline\n",
    "from matplotlib import pyplot as plt\n",
    "#import seaborn as sns\n",
    "\n",
    "\n",
    "# do this before we have a chance to import openbabel!\n",
    "import rdkit, rdkit.Chem.rdDistGeom, rdkit.DistanceGeometry\n",
    "\n",
    "from rdkit import Chem\n",
    "from rdkit.Chem import AllChem\n",
    "from rdkit import rdBase\n",
    "\n",
    "import py3Dmol\n",
    "\n",
    "from rmgpy.molecule import Molecule\n",
    "from rmgpy.species import Species\n",
    "from rmgpy.reaction import Reaction\n",
    "\n",
    "\n",
    "from multi_molecule import *\n",
    "from multi_reaction import *\n",
    "\n",
    "from ase.calculators.morse import * #chosing this calculator for now because it's fast\n",
    "from ase.calculators.dftb import *\n",
    "from ase.calculators.lj import *\n",
    "from ase.calculators.emt import *\n",
    "from ase.calculators.gaussian import *\n",
    "from simple_es import *\n",
    "from utilities import *\n",
    "from brute_force import *\n",
    "\n",
    "from copy import deepcopy"
   ]
  },
  {
   "cell_type": "code",
   "execution_count": 22,
   "metadata": {
    "collapsed": false
   },
   "outputs": [
    {
     "data": {
      "text/html": [
       "<div id=\"3dmolviewer_151810904985\"  style=\"position: relative; width: 400px; height: 400px\">\n",
       "<script>\n",
       "if(typeof $3Dmolpromise === 'undefined') $3Dmolpromise = $.when($.getScript('https://3dmol.csb.pitt.edu/build/3Dmol.js'))\n",
       "var viewer_151810904985 = null;\n",
       "$3Dmolpromise.done(function() {\n",
       "viewer_151810904985 = $3Dmol.createViewer($(\"#3dmolviewer_151810904985\"),{backgroundColor:\"white\"});\n",
       "\tviewer_151810904985.addModel(\"\\n     RDKit          3D\\n\\n 17 16  0  0  0  0  0  0  0  0999 V2000\\n    0.0331    0.3099    0.1304 C   0  0  0  0  0  0  0  0  0  0  0  0\\n    1.1300   -0.5382   -0.4444 C   0  0  0  0  0  0  0  0  0  0  0  0\\n   -1.2748   -0.3519   -0.2901 C   0  0  0  0  0  0  0  0  0  0  0  0\\n    2.5030    0.0198   -0.2522 C   0  0  0  0  0  0  0  0  0  0  0  0\\n   -2.4317    0.4902    0.1736 C   0  0  0  0  0  0  0  0  0  0  0  0\\n    0.8948   -0.6981   -1.5094 H   0  0  0  0  0  0  0  0  0  0  0  0\\n    1.0522   -1.5360    0.0393 H   0  0  0  0  0  0  0  0  0  0  0  0\\n    0.0644    0.2696    1.2482 H   0  0  0  0  0  0  0  0  0  0  0  0\\n    0.0313    1.3500   -0.2274 H   0  0  0  0  0  0  0  0  0  0  0  0\\n   -1.2464   -0.4740   -1.4006 H   0  0  0  0  0  0  0  0  0  0  0  0\\n   -1.2726   -1.3436    0.2073 H   0  0  0  0  0  0  0  0  0  0  0  0\\n    3.2060   -0.8473   -0.2053 H   0  0  0  0  0  0  0  0  0  0  0  0\\n    2.8154    0.6052   -1.1500 H   0  0  0  0  0  0  0  0  0  0  0  0\\n    2.6132    0.6304    0.6733 H   0  0  0  0  0  0  0  0  0  0  0  0\\n   -3.2708   -0.1750    0.4496 H   0  0  0  0  0  0  0  0  0  0  0  0\\n   -2.7107    1.2176   -0.6290 H   0  0  0  0  0  0  0  0  0  0  0  0\\n   -2.1361    1.0714    1.0585 H   0  0  0  0  0  0  0  0  0  0  0  0\\n  1  2  1  0\\n  1  9  1  0\\n  1  8  1  0\\n  1  3  1  0\\n  2  6  1  0\\n  2  7  1  0\\n  2  4  1  0\\n  3 11  1  0\\n  3 10  1  0\\n  3  5  1  0\\n  4 12  1  0\\n  4 14  1  0\\n  4 13  1  0\\n  5 15  1  0\\n  5 16  1  0\\n  5 17  1  0\\nM  END\\n\",\"sdf\");\n",
       "\tviewer_151810904985.setStyle({\"stick\": {}});\n",
       "\tviewer_151810904985.setBackgroundColor(\"0xeeeeee\");\n",
       "\tviewer_151810904985.zoomTo();\n",
       "viewer_151810904985.render();\n",
       "});\n",
       "</script>"
      ],
      "text/plain": [
       "<IPython.core.display.HTML object>"
      ]
     },
     "execution_count": 22,
     "metadata": {},
     "output_type": "execute_result"
    }
   ],
   "source": [
    "mol =Multi_Molecule(\"CCCCC\")\n",
    "mol.ase_molecule.set_calculator(EMT())\n",
    "mol.view_mol()\n"
   ]
  },
  {
   "cell_type": "code",
   "execution_count": 23,
   "metadata": {
    "collapsed": false
   },
   "outputs": [],
   "source": [
    "initial_pop = create_initial_population(mol)"
   ]
  },
  {
   "cell_type": "code",
   "execution_count": 24,
   "metadata": {
    "collapsed": false
   },
   "outputs": [
    {
     "data": {
      "text/html": [
       "<div>\n",
       "<table border=\"1\" class=\"dataframe\">\n",
       "  <thead>\n",
       "    <tr style=\"text-align: right;\">\n",
       "      <th></th>\n",
       "      <th>Energy</th>\n",
       "      <th>Torsion 0</th>\n",
       "      <th>Torsion 1</th>\n",
       "    </tr>\n",
       "  </thead>\n",
       "  <tbody>\n",
       "    <tr>\n",
       "      <th>44</th>\n",
       "      <td>5.789288</td>\n",
       "      <td>-39.712225</td>\n",
       "      <td>306.060632</td>\n",
       "    </tr>\n",
       "    <tr>\n",
       "      <th>37</th>\n",
       "      <td>5.789517</td>\n",
       "      <td>-39.900213</td>\n",
       "      <td>305.906406</td>\n",
       "    </tr>\n",
       "    <tr>\n",
       "      <th>131</th>\n",
       "      <td>5.789706</td>\n",
       "      <td>-42.302473</td>\n",
       "      <td>305.967841</td>\n",
       "    </tr>\n",
       "    <tr>\n",
       "      <th>185</th>\n",
       "      <td>5.789849</td>\n",
       "      <td>-37.883886</td>\n",
       "      <td>305.800722</td>\n",
       "    </tr>\n",
       "    <tr>\n",
       "      <th>79</th>\n",
       "      <td>5.789853</td>\n",
       "      <td>-40.740465</td>\n",
       "      <td>305.726766</td>\n",
       "    </tr>\n",
       "    <tr>\n",
       "      <th>128</th>\n",
       "      <td>5.790073</td>\n",
       "      <td>-40.144514</td>\n",
       "      <td>305.552623</td>\n",
       "    </tr>\n",
       "    <tr>\n",
       "      <th>157</th>\n",
       "      <td>5.790122</td>\n",
       "      <td>-39.699356</td>\n",
       "      <td>305.505777</td>\n",
       "    </tr>\n",
       "    <tr>\n",
       "      <th>177</th>\n",
       "      <td>5.790214</td>\n",
       "      <td>-37.889653</td>\n",
       "      <td>305.525048</td>\n",
       "    </tr>\n",
       "    <tr>\n",
       "      <th>76</th>\n",
       "      <td>5.790243</td>\n",
       "      <td>-38.572671</td>\n",
       "      <td>305.439441</td>\n",
       "    </tr>\n",
       "    <tr>\n",
       "      <th>83</th>\n",
       "      <td>5.790269</td>\n",
       "      <td>-38.533920</td>\n",
       "      <td>305.424357</td>\n",
       "    </tr>\n",
       "    <tr>\n",
       "      <th>80</th>\n",
       "      <td>5.790384</td>\n",
       "      <td>-38.272179</td>\n",
       "      <td>305.363049</td>\n",
       "    </tr>\n",
       "    <tr>\n",
       "      <th>20</th>\n",
       "      <td>5.790401</td>\n",
       "      <td>-40.258490</td>\n",
       "      <td>305.353541</td>\n",
       "    </tr>\n",
       "    <tr>\n",
       "      <th>110</th>\n",
       "      <td>5.790479</td>\n",
       "      <td>-38.822904</td>\n",
       "      <td>305.273022</td>\n",
       "    </tr>\n",
       "    <tr>\n",
       "      <th>54</th>\n",
       "      <td>5.790482</td>\n",
       "      <td>-37.687564</td>\n",
       "      <td>305.357174</td>\n",
       "    </tr>\n",
       "    <tr>\n",
       "      <th>162</th>\n",
       "      <td>5.790506</td>\n",
       "      <td>-41.835187</td>\n",
       "      <td>305.420345</td>\n",
       "    </tr>\n",
       "    <tr>\n",
       "      <th>164</th>\n",
       "      <td>5.790512</td>\n",
       "      <td>-40.672140</td>\n",
       "      <td>305.311900</td>\n",
       "    </tr>\n",
       "    <tr>\n",
       "      <th>152</th>\n",
       "      <td>5.790563</td>\n",
       "      <td>-40.324298</td>\n",
       "      <td>305.257467</td>\n",
       "    </tr>\n",
       "    <tr>\n",
       "      <th>140</th>\n",
       "      <td>5.790567</td>\n",
       "      <td>-40.947847</td>\n",
       "      <td>305.299930</td>\n",
       "    </tr>\n",
       "    <tr>\n",
       "      <th>43</th>\n",
       "      <td>5.790616</td>\n",
       "      <td>-42.593087</td>\n",
       "      <td>305.439747</td>\n",
       "    </tr>\n",
       "    <tr>\n",
       "      <th>125</th>\n",
       "      <td>5.790624</td>\n",
       "      <td>-39.310517</td>\n",
       "      <td>305.178607</td>\n",
       "    </tr>\n",
       "    <tr>\n",
       "      <th>123</th>\n",
       "      <td>5.790676</td>\n",
       "      <td>-42.558385</td>\n",
       "      <td>305.399086</td>\n",
       "    </tr>\n",
       "    <tr>\n",
       "      <th>58</th>\n",
       "      <td>5.790680</td>\n",
       "      <td>-40.578845</td>\n",
       "      <td>305.203298</td>\n",
       "    </tr>\n",
       "    <tr>\n",
       "      <th>75</th>\n",
       "      <td>5.790683</td>\n",
       "      <td>-39.566602</td>\n",
       "      <td>305.147987</td>\n",
       "    </tr>\n",
       "    <tr>\n",
       "      <th>2</th>\n",
       "      <td>5.790693</td>\n",
       "      <td>-40.425633</td>\n",
       "      <td>305.185203</td>\n",
       "    </tr>\n",
       "    <tr>\n",
       "      <th>55</th>\n",
       "      <td>5.790719</td>\n",
       "      <td>-42.598676</td>\n",
       "      <td>305.378119</td>\n",
       "    </tr>\n",
       "    <tr>\n",
       "      <th>105</th>\n",
       "      <td>5.790758</td>\n",
       "      <td>-37.749390</td>\n",
       "      <td>305.152449</td>\n",
       "    </tr>\n",
       "    <tr>\n",
       "      <th>77</th>\n",
       "      <td>5.790779</td>\n",
       "      <td>-37.789631</td>\n",
       "      <td>305.133130</td>\n",
       "    </tr>\n",
       "    <tr>\n",
       "      <th>109</th>\n",
       "      <td>5.790808</td>\n",
       "      <td>-41.329894</td>\n",
       "      <td>305.189363</td>\n",
       "    </tr>\n",
       "    <tr>\n",
       "      <th>71</th>\n",
       "      <td>5.790852</td>\n",
       "      <td>-40.205577</td>\n",
       "      <td>305.074814</td>\n",
       "    </tr>\n",
       "    <tr>\n",
       "      <th>119</th>\n",
       "      <td>5.790858</td>\n",
       "      <td>-36.955044</td>\n",
       "      <td>305.215139</td>\n",
       "    </tr>\n",
       "    <tr>\n",
       "      <th>...</th>\n",
       "      <td>...</td>\n",
       "      <td>...</td>\n",
       "      <td>...</td>\n",
       "    </tr>\n",
       "    <tr>\n",
       "      <th>18</th>\n",
       "      <td>5.792889</td>\n",
       "      <td>-42.452774</td>\n",
       "      <td>304.117008</td>\n",
       "    </tr>\n",
       "    <tr>\n",
       "      <th>179</th>\n",
       "      <td>5.792922</td>\n",
       "      <td>-36.557182</td>\n",
       "      <td>303.837134</td>\n",
       "    </tr>\n",
       "    <tr>\n",
       "      <th>73</th>\n",
       "      <td>5.792928</td>\n",
       "      <td>-42.086460</td>\n",
       "      <td>304.060516</td>\n",
       "    </tr>\n",
       "    <tr>\n",
       "      <th>70</th>\n",
       "      <td>5.792957</td>\n",
       "      <td>-39.963565</td>\n",
       "      <td>303.862794</td>\n",
       "    </tr>\n",
       "    <tr>\n",
       "      <th>5</th>\n",
       "      <td>5.792975</td>\n",
       "      <td>-46.899122</td>\n",
       "      <td>304.545326</td>\n",
       "    </tr>\n",
       "    <tr>\n",
       "      <th>34</th>\n",
       "      <td>5.793067</td>\n",
       "      <td>-40.704988</td>\n",
       "      <td>303.862014</td>\n",
       "    </tr>\n",
       "    <tr>\n",
       "      <th>115</th>\n",
       "      <td>5.793112</td>\n",
       "      <td>-37.608997</td>\n",
       "      <td>303.678097</td>\n",
       "    </tr>\n",
       "    <tr>\n",
       "      <th>60</th>\n",
       "      <td>5.793118</td>\n",
       "      <td>-44.840381</td>\n",
       "      <td>304.230312</td>\n",
       "    </tr>\n",
       "    <tr>\n",
       "      <th>165</th>\n",
       "      <td>5.793126</td>\n",
       "      <td>-37.968490</td>\n",
       "      <td>303.672973</td>\n",
       "    </tr>\n",
       "    <tr>\n",
       "      <th>180</th>\n",
       "      <td>5.793143</td>\n",
       "      <td>-44.180117</td>\n",
       "      <td>304.148400</td>\n",
       "    </tr>\n",
       "    <tr>\n",
       "      <th>85</th>\n",
       "      <td>5.793154</td>\n",
       "      <td>-43.482360</td>\n",
       "      <td>304.072496</td>\n",
       "    </tr>\n",
       "    <tr>\n",
       "      <th>183</th>\n",
       "      <td>5.793165</td>\n",
       "      <td>-40.793889</td>\n",
       "      <td>303.817183</td>\n",
       "    </tr>\n",
       "    <tr>\n",
       "      <th>104</th>\n",
       "      <td>5.793300</td>\n",
       "      <td>-41.415785</td>\n",
       "      <td>303.799622</td>\n",
       "    </tr>\n",
       "    <tr>\n",
       "      <th>49</th>\n",
       "      <td>5.793342</td>\n",
       "      <td>-44.006631</td>\n",
       "      <td>304.018919</td>\n",
       "    </tr>\n",
       "    <tr>\n",
       "      <th>199</th>\n",
       "      <td>5.793386</td>\n",
       "      <td>-43.682881</td>\n",
       "      <td>303.963614</td>\n",
       "    </tr>\n",
       "    <tr>\n",
       "      <th>137</th>\n",
       "      <td>5.793424</td>\n",
       "      <td>-42.397468</td>\n",
       "      <td>303.822413</td>\n",
       "    </tr>\n",
       "    <tr>\n",
       "      <th>190</th>\n",
       "      <td>5.793430</td>\n",
       "      <td>-45.693145</td>\n",
       "      <td>304.133615</td>\n",
       "    </tr>\n",
       "    <tr>\n",
       "      <th>122</th>\n",
       "      <td>5.793496</td>\n",
       "      <td>-41.703854</td>\n",
       "      <td>303.721113</td>\n",
       "    </tr>\n",
       "    <tr>\n",
       "      <th>113</th>\n",
       "      <td>5.793501</td>\n",
       "      <td>-45.980136</td>\n",
       "      <td>304.119790</td>\n",
       "    </tr>\n",
       "    <tr>\n",
       "      <th>100</th>\n",
       "      <td>5.793530</td>\n",
       "      <td>-40.798742</td>\n",
       "      <td>303.625158</td>\n",
       "    </tr>\n",
       "    <tr>\n",
       "      <th>144</th>\n",
       "      <td>5.793702</td>\n",
       "      <td>-47.583161</td>\n",
       "      <td>304.155411</td>\n",
       "    </tr>\n",
       "    <tr>\n",
       "      <th>59</th>\n",
       "      <td>5.793753</td>\n",
       "      <td>-33.639092</td>\n",
       "      <td>304.483389</td>\n",
       "    </tr>\n",
       "    <tr>\n",
       "      <th>27</th>\n",
       "      <td>5.793841</td>\n",
       "      <td>-44.868323</td>\n",
       "      <td>303.818066</td>\n",
       "    </tr>\n",
       "    <tr>\n",
       "      <th>51</th>\n",
       "      <td>5.793993</td>\n",
       "      <td>-50.331727</td>\n",
       "      <td>304.268364</td>\n",
       "    </tr>\n",
       "    <tr>\n",
       "      <th>42</th>\n",
       "      <td>5.794114</td>\n",
       "      <td>-46.686321</td>\n",
       "      <td>303.814233</td>\n",
       "    </tr>\n",
       "    <tr>\n",
       "      <th>195</th>\n",
       "      <td>5.794255</td>\n",
       "      <td>-43.840790</td>\n",
       "      <td>303.502742</td>\n",
       "    </tr>\n",
       "    <tr>\n",
       "      <th>149</th>\n",
       "      <td>5.794371</td>\n",
       "      <td>-43.877863</td>\n",
       "      <td>303.443271</td>\n",
       "    </tr>\n",
       "    <tr>\n",
       "      <th>32</th>\n",
       "      <td>5.794762</td>\n",
       "      <td>-40.081301</td>\n",
       "      <td>302.940775</td>\n",
       "    </tr>\n",
       "    <tr>\n",
       "      <th>19</th>\n",
       "      <td>5.795394</td>\n",
       "      <td>-32.426828</td>\n",
       "      <td>304.600279</td>\n",
       "    </tr>\n",
       "    <tr>\n",
       "      <th>150</th>\n",
       "      <td>5.799290</td>\n",
       "      <td>-30.979644</td>\n",
       "      <td>305.273093</td>\n",
       "    </tr>\n",
       "  </tbody>\n",
       "</table>\n",
       "<p>200 rows × 3 columns</p>\n",
       "</div>"
      ],
      "text/plain": [
       "       Energy  Torsion 0   Torsion 1\n",
       "44   5.789288 -39.712225  306.060632\n",
       "37   5.789517 -39.900213  305.906406\n",
       "131  5.789706 -42.302473  305.967841\n",
       "185  5.789849 -37.883886  305.800722\n",
       "79   5.789853 -40.740465  305.726766\n",
       "128  5.790073 -40.144514  305.552623\n",
       "157  5.790122 -39.699356  305.505777\n",
       "177  5.790214 -37.889653  305.525048\n",
       "76   5.790243 -38.572671  305.439441\n",
       "83   5.790269 -38.533920  305.424357\n",
       "80   5.790384 -38.272179  305.363049\n",
       "20   5.790401 -40.258490  305.353541\n",
       "110  5.790479 -38.822904  305.273022\n",
       "54   5.790482 -37.687564  305.357174\n",
       "162  5.790506 -41.835187  305.420345\n",
       "164  5.790512 -40.672140  305.311900\n",
       "152  5.790563 -40.324298  305.257467\n",
       "140  5.790567 -40.947847  305.299930\n",
       "43   5.790616 -42.593087  305.439747\n",
       "125  5.790624 -39.310517  305.178607\n",
       "123  5.790676 -42.558385  305.399086\n",
       "58   5.790680 -40.578845  305.203298\n",
       "75   5.790683 -39.566602  305.147987\n",
       "2    5.790693 -40.425633  305.185203\n",
       "55   5.790719 -42.598676  305.378119\n",
       "105  5.790758 -37.749390  305.152449\n",
       "77   5.790779 -37.789631  305.133130\n",
       "109  5.790808 -41.329894  305.189363\n",
       "71   5.790852 -40.205577  305.074814\n",
       "119  5.790858 -36.955044  305.215139\n",
       "..        ...        ...         ...\n",
       "18   5.792889 -42.452774  304.117008\n",
       "179  5.792922 -36.557182  303.837134\n",
       "73   5.792928 -42.086460  304.060516\n",
       "70   5.792957 -39.963565  303.862794\n",
       "5    5.792975 -46.899122  304.545326\n",
       "34   5.793067 -40.704988  303.862014\n",
       "115  5.793112 -37.608997  303.678097\n",
       "60   5.793118 -44.840381  304.230312\n",
       "165  5.793126 -37.968490  303.672973\n",
       "180  5.793143 -44.180117  304.148400\n",
       "85   5.793154 -43.482360  304.072496\n",
       "183  5.793165 -40.793889  303.817183\n",
       "104  5.793300 -41.415785  303.799622\n",
       "49   5.793342 -44.006631  304.018919\n",
       "199  5.793386 -43.682881  303.963614\n",
       "137  5.793424 -42.397468  303.822413\n",
       "190  5.793430 -45.693145  304.133615\n",
       "122  5.793496 -41.703854  303.721113\n",
       "113  5.793501 -45.980136  304.119790\n",
       "100  5.793530 -40.798742  303.625158\n",
       "144  5.793702 -47.583161  304.155411\n",
       "59   5.793753 -33.639092  304.483389\n",
       "27   5.793841 -44.868323  303.818066\n",
       "51   5.793993 -50.331727  304.268364\n",
       "42   5.794114 -46.686321  303.814233\n",
       "195  5.794255 -43.840790  303.502742\n",
       "149  5.794371 -43.877863  303.443271\n",
       "32   5.794762 -40.081301  302.940775\n",
       "19   5.795394 -32.426828  304.600279\n",
       "150  5.799290 -30.979644  305.273093\n",
       "\n",
       "[200 rows x 3 columns]"
      ]
     },
     "execution_count": 24,
     "metadata": {},
     "output_type": "execute_result"
    }
   ],
   "source": [
    "top_pop = perform_simple_es(mol, initial_pop)\n",
    "top_pop"
   ]
  },
  {
   "cell_type": "code",
   "execution_count": 25,
   "metadata": {
    "collapsed": false
   },
   "outputs": [
    {
     "data": {
      "text/plain": [
       "Torsion 0    -39.712225\n",
       "Torsion 1    306.060632\n",
       "Name: 44, dtype: float64"
      ]
     },
     "execution_count": 25,
     "metadata": {},
     "output_type": "execute_result"
    }
   ],
   "source": [
    "top_pop.iloc[0,1:]"
   ]
  },
  {
   "cell_type": "code",
   "execution_count": 26,
   "metadata": {
    "collapsed": false
   },
   "outputs": [
    {
     "data": {
      "text/plain": [
       "[True,\n",
       " False,\n",
       " True,\n",
       " False,\n",
       " True,\n",
       " False,\n",
       " False,\n",
       " True,\n",
       " True,\n",
       " True,\n",
       " True,\n",
       " False,\n",
       " False,\n",
       " False,\n",
       " True,\n",
       " True,\n",
       " True]"
      ]
     },
     "execution_count": 26,
     "metadata": {},
     "output_type": "execute_result"
    }
   ],
   "source": [
    "tor = mol.torsions[0]\n",
    "tor.left_mask"
   ]
  },
  {
   "cell_type": "code",
   "execution_count": 29,
   "metadata": {
    "collapsed": false
   },
   "outputs": [
    {
     "data": {
      "text/html": [
       "<div id=\"3dmolviewer_151810943143\"  style=\"position: relative; width: 400px; height: 400px\">\n",
       "<script>\n",
       "if(typeof $3Dmolpromise === 'undefined') $3Dmolpromise = $.when($.getScript('https://3dmol.csb.pitt.edu/build/3Dmol.js'))\n",
       "var viewer_151810943143 = null;\n",
       "$3Dmolpromise.done(function() {\n",
       "viewer_151810943143 = $3Dmol.createViewer($(\"#3dmolviewer_151810943143\"),{backgroundColor:\"white\"});\n",
       "\tviewer_151810943143.addModel(\"\\n     RDKit          3D\\n\\n 17 16  0  0  0  0  0  0  0  0999 V2000\\n    0.0331    0.3099    0.1304 C   0  0  0  0  0  0  0  0  0  0  0  0\\n    0.1239   -0.6233   -1.0417 C   0  0  0  0  0  0  0  0  0  0  0  0\\n   -0.5742   -0.5025    1.2691 C   0  0  0  0  0  0  0  0  0  0  0  0\\n    1.5201   -0.9185   -1.4854 C   0  0  0  0  0  0  0  0  0  0  0  0\\n   -2.0161   -0.1126    1.4464 C   0  0  0  0  0  0  0  0  0  0  0  0\\n   -0.4837   -0.1890   -1.8524 H   0  0  0  0  0  0  0  0  0  0  0  0\\n   -0.3893   -1.5636   -0.7448 H   0  0  0  0  0  0  0  0  0  0  0  0\\n    1.0594    0.6061    0.4638 H   0  0  0  0  0  0  0  0  0  0  0  0\\n   -0.5963    1.1949   -0.0442 H   0  0  0  0  0  0  0  0  0  0  0  0\\n   -0.4464   -1.5832    1.0147 H   0  0  0  0  0  0  0  0  0  0  0  0\\n    0.0270   -0.2433    2.1648 H   0  0  0  0  0  0  0  0  0  0  0  0\\n    1.5125   -1.9420   -1.9334 H   0  0  0  0  0  0  0  0  0  0  0  0\\n    1.8184   -0.2347   -2.3158 H   0  0  0  0  0  0  0  0  0  0  0  0\\n    2.2688   -0.8858   -0.6608 H   0  0  0  0  0  0  0  0  0  0  0  0\\n   -2.2717   -0.1653    2.5209 H   0  0  0  0  0  0  0  0  0  0  0  0\\n   -2.6632   -0.7772    0.8213 H   0  0  0  0  0  0  0  0  0  0  0  0\\n   -2.1669    0.9188    1.0978 H   0  0  0  0  0  0  0  0  0  0  0  0\\n  1  2  1  0\\n  1  9  1  0\\n  1  8  1  0\\n  1  3  1  0\\n  2  6  1  0\\n  2  7  1  0\\n  2  4  1  0\\n  3 11  1  0\\n  3 10  1  0\\n  3  5  1  0\\n  4 12  1  0\\n  4 14  1  0\\n  4 13  1  0\\n  5 15  1  0\\n  5 16  1  0\\n  5 17  1  0\\nM  END\\n\",\"sdf\");\n",
       "\tviewer_151810943143.setStyle({\"stick\": {}});\n",
       "\tviewer_151810943143.setBackgroundColor(\"0xeeeeee\");\n",
       "\tviewer_151810943143.zoomTo();\n",
       "viewer_151810943143.render();\n",
       "});\n",
       "</script>"
      ],
      "text/plain": [
       "<IPython.core.display.HTML object>"
      ]
     },
     "execution_count": 29,
     "metadata": {},
     "output_type": "execute_result"
    }
   ],
   "source": [
    "for i, dihedral in enumerate(top_pop.iloc[0,1:]):\n",
    "    tor = mol.torsions[i]\n",
    "    mol.ase_molecule.set_dihedral(tor.indices, angle=dihedral, mask=tor.right_mask)\n",
    "mol.update_geometry_from_ase_mol()\n",
    "mol.view_mol()"
   ]
  },
  {
   "cell_type": "code",
   "execution_count": 35,
   "metadata": {
    "collapsed": true
   },
   "outputs": [],
   "source": [
    "mol.ase_molecule.set_calculator(calc = Gaussian())# label=\"CCCC\", scratch=\"/gss_gpfs_scratch/harms.n/\", method=\"m062x\", basis=\"6-311+g(2df,2p)\"))\n"
   ]
  },
  {
   "cell_type": "code",
   "execution_count": 36,
   "metadata": {
    "collapsed": false
   },
   "outputs": [
    {
     "name": "stdout",
     "output_type": "stream",
     "text": [
      "      Step     Time          Energy         fmax\n",
      "BFGS:    0 12:12:53    -5341.520411        1.3230\n",
      "BFGS:    1 12:12:58    -5341.616854        0.9794\n",
      "BFGS:    2 12:13:04    -5341.759697        0.5725\n",
      "BFGS:    3 12:13:10    -5341.837508        0.4847\n",
      "BFGS:    4 12:13:15    -5341.886380        0.4798\n",
      "BFGS:    5 12:13:21    -5341.931066        0.4861\n",
      "BFGS:    6 12:13:26    -5341.963187        0.4902\n",
      "BFGS:    7 12:13:32    -5341.981350        0.4508\n",
      "BFGS:    8 12:13:37    -5341.998121        0.3779\n",
      "BFGS:    9 12:13:43    -5342.020271        0.3869\n",
      "BFGS:   10 12:13:48    -5342.042527        0.3829\n",
      "BFGS:   11 12:13:54    -5342.063145        0.3374\n",
      "BFGS:   12 12:13:59    -5342.079945        0.3352\n",
      "BFGS:   13 12:14:05    -5342.092237        0.2934\n",
      "BFGS:   14 12:14:10    -5342.105867        0.2550\n",
      "BFGS:   15 12:14:16    -5342.117897        0.2062\n",
      "BFGS:   16 12:14:21    -5342.124624        0.1881\n",
      "BFGS:   17 12:14:27    -5342.129927        0.1868\n",
      "BFGS:   18 12:14:32    -5342.135198        0.1804\n",
      "BFGS:   19 12:14:38    -5342.142632        0.2138\n",
      "BFGS:   20 12:14:44    -5342.153345        0.3012\n",
      "BFGS:   21 12:14:51    -5342.165762        0.3245\n",
      "BFGS:   22 12:14:57    -5342.178478        0.3065\n",
      "BFGS:   23 12:15:04    -5342.191689        0.2968\n",
      "BFGS:   24 12:15:10    -5342.205161        0.2608\n",
      "BFGS:   25 12:15:15    -5342.218421        0.2672\n",
      "BFGS:   26 12:15:21    -5342.231328        0.2783\n",
      "BFGS:   27 12:15:26    -5342.242800        0.2451\n",
      "BFGS:   28 12:15:32    -5342.252985        0.2845\n",
      "BFGS:   29 12:15:37    -5342.256985        0.2566\n",
      "BFGS:   30 12:15:43    -5342.265560        0.1875\n",
      "BFGS:   31 12:15:49    -5342.272194        0.1583\n",
      "BFGS:   32 12:15:54    -5342.276112        0.1503\n",
      "BFGS:   33 12:16:00    -5342.279835        0.1116\n",
      "BFGS:   34 12:16:06    -5342.282608        0.1237\n",
      "BFGS:   35 12:16:11    -5342.284314        0.1006\n",
      "BFGS:   36 12:16:17    -5342.285631        0.0774\n",
      "BFGS:   37 12:16:22    -5342.286804        0.0720\n",
      "BFGS:   38 12:16:28    -5342.287895        0.0713\n",
      "BFGS:   39 12:16:34    -5342.288771        0.0765\n",
      "BFGS:   40 12:16:40    -5342.289604        0.0734\n",
      "BFGS:   41 12:16:45    -5342.290659        0.0804\n",
      "BFGS:   42 12:16:52    -5342.292036        0.1134\n",
      "BFGS:   43 12:16:57    -5342.293536        0.1176\n",
      "BFGS:   44 12:17:03    -5342.294923        0.0851\n",
      "BFGS:   45 12:17:09    -5342.296159        0.0723\n",
      "BFGS:   46 12:17:15    -5342.297242        0.0735\n",
      "BFGS:   47 12:17:22    -5342.298053        0.0617\n",
      "BFGS:   48 12:17:27    -5342.298627        0.0648\n",
      "BFGS:   49 12:17:33    -5342.299217        0.0698\n",
      "BFGS:   50 12:17:38    -5342.300045        0.0757\n",
      "BFGS:   51 12:17:44    -5342.301166        0.0955\n",
      "BFGS:   52 12:17:50    -5342.302456        0.1205\n",
      "BFGS:   53 12:17:55    -5342.303813        0.1032\n",
      "BFGS:   54 12:18:00    -5342.305449        0.1035\n",
      "BFGS:   55 12:18:06    -5342.307599        0.1296\n",
      "BFGS:   56 12:18:12    -5342.309936        0.1240\n",
      "BFGS:   57 12:18:17    -5342.311879        0.0794\n",
      "BFGS:   58 12:18:23    -5342.313267        0.0818\n",
      "BFGS:   59 12:18:28    -5342.314445        0.0812\n",
      "BFGS:   60 12:18:34    -5342.315479        0.0858\n",
      "BFGS:   61 12:18:40    -5342.316061        0.0518\n",
      "BFGS:   62 12:18:45    -5342.316331        0.0390\n"
     ]
    },
    {
     "data": {
      "text/plain": [
       "True"
      ]
     },
     "execution_count": 36,
     "metadata": {},
     "output_type": "execute_result"
    }
   ],
   "source": [
    "from ase.optimize import BFGS\n",
    "mol.ase_molecule.set_calculator(calc = Gaussian())\n",
    "opt = BFGS(mol.ase_molecule)\n",
    "opt.run()"
   ]
  },
  {
   "cell_type": "code",
   "execution_count": 37,
   "metadata": {
    "collapsed": false
   },
   "outputs": [
    {
     "data": {
      "text/html": [
       "<div id=\"3dmolviewer_151811032562\"  style=\"position: relative; width: 400px; height: 400px\">\n",
       "<script>\n",
       "if(typeof $3Dmolpromise === 'undefined') $3Dmolpromise = $.when($.getScript('https://3dmol.csb.pitt.edu/build/3Dmol.js'))\n",
       "var viewer_151811032562 = null;\n",
       "$3Dmolpromise.done(function() {\n",
       "viewer_151811032562 = $3Dmol.createViewer($(\"#3dmolviewer_151811032562\"),{backgroundColor:\"white\"});\n",
       "\tviewer_151811032562.addModel(\"\\n     RDKit          3D\\n\\n 17 16  0  0  0  0  0  0  0  0999 V2000\\n    0.1917    0.3101    0.2017 C   0  0  0  0  0  0  0  0  0  0  0  0\\n    0.0646   -0.6346   -1.0162 C   0  0  0  0  0  0  0  0  0  0  0  0\\n   -0.5157   -0.1926    1.4654 C   0  0  0  0  0  0  0  0  0  0  0  0\\n    1.4105   -1.0178   -1.6343 C   0  0  0  0  0  0  0  0  0  0  0  0\\n   -2.0378   -0.2657    1.3447 C   0  0  0  0  0  0  0  0  0  0  0  0\\n   -0.5616   -0.1805   -1.7790 H   0  0  0  0  0  0  0  0  0  0  0  0\\n   -0.4431   -1.5488   -0.7207 H   0  0  0  0  0  0  0  0  0  0  0  0\\n    1.2438    0.4482    0.4368 H   0  0  0  0  0  0  0  0  0  0  0  0\\n   -0.1889    1.2980   -0.0500 H   0  0  0  0  0  0  0  0  0  0  0  0\\n   -0.1260   -1.1765    1.7198 H   0  0  0  0  0  0  0  0  0  0  0  0\\n   -0.2588    0.4584    2.2983 H   0  0  0  0  0  0  0  0  0  0  0  0\\n    1.2752   -1.6962   -2.4722 H   0  0  0  0  0  0  0  0  0  0  0  0\\n    1.9526   -0.1467   -1.9927 H   0  0  0  0  0  0  0  0  0  0  0  0\\n    2.0393   -1.5179   -0.9025 H   0  0  0  0  0  0  0  0  0  0  0  0\\n   -2.4790   -0.6453    2.2611 H   0  0  0  0  0  0  0  0  0  0  0  0\\n   -2.3487   -0.9194    0.5352 H   0  0  0  0  0  0  0  0  0  0  0  0\\n   -2.4629    0.7161    1.1551 H   0  0  0  0  0  0  0  0  0  0  0  0\\n  1  2  1  0\\n  1  9  1  0\\n  1  8  1  0\\n  1  3  1  0\\n  2  6  1  0\\n  2  7  1  0\\n  2  4  1  0\\n  3 11  1  0\\n  3 10  1  0\\n  3  5  1  0\\n  4 12  1  0\\n  4 14  1  0\\n  4 13  1  0\\n  5 15  1  0\\n  5 16  1  0\\n  5 17  1  0\\nM  END\\n\",\"sdf\");\n",
       "\tviewer_151811032562.setStyle({\"stick\": {}});\n",
       "\tviewer_151811032562.setBackgroundColor(\"0xeeeeee\");\n",
       "\tviewer_151811032562.zoomTo();\n",
       "viewer_151811032562.render();\n",
       "});\n",
       "</script>"
      ],
      "text/plain": [
       "<IPython.core.display.HTML object>"
      ]
     },
     "execution_count": 37,
     "metadata": {},
     "output_type": "execute_result"
    }
   ],
   "source": [
    "mol.update_geometry_from_ase_mol()\n",
    "mol.view_mol()"
   ]
  },
  {
   "cell_type": "code",
   "execution_count": 41,
   "metadata": {
    "collapsed": false
   },
   "outputs": [
    {
     "data": {
      "text/plain": [
       "294.2613057335393"
      ]
     },
     "execution_count": 41,
     "metadata": {},
     "output_type": "execute_result"
    }
   ],
   "source": [
    "mol.torsions[1].dihedral"
   ]
  },
  {
   "cell_type": "code",
   "execution_count": 44,
   "metadata": {
    "collapsed": false
   },
   "outputs": [
    {
     "ename": "AttributeError",
     "evalue": "'Atoms' object has no attribute 'atoms'",
     "output_type": "error",
     "traceback": [
      "\u001b[1;31m---------------------------------------------------------------------------\u001b[0m",
      "\u001b[1;31mAttributeError\u001b[0m                            Traceback (most recent call last)",
      "\u001b[1;32m<ipython-input-44-b2b7a8401a21>\u001b[0m in \u001b[0;36m<module>\u001b[1;34m()\u001b[0m\n\u001b[1;32m----> 1\u001b[1;33m \u001b[0mmol\u001b[0m\u001b[1;33m.\u001b[0m\u001b[0mase_molecule\u001b[0m\u001b[1;33m.\u001b[0m\u001b[0matoms\u001b[0m\u001b[1;33m\u001b[0m\u001b[0m\n\u001b[0m",
      "\u001b[1;31mAttributeError\u001b[0m: 'Atoms' object has no attribute 'atoms'"
     ]
    }
   ],
   "source": [
    "mol.ase_molecule.atoms"
   ]
  },
  {
   "cell_type": "code",
   "execution_count": 93,
   "metadata": {
    "collapsed": true
   },
   "outputs": [],
   "source": [
    "smiles_dict = {\n",
    "    \"Phe\" : \"NC(CC1=CC=CC=C1)C(=O)O\",\n",
    "    \"Gly\" : \"NCCC(=O)O\",\n",
    "    \"Ala\" : \"NC(C)C(=O)O\",\n",
    "    \"Ile\" : \"NC(C(C)CC)C(=O)O\",\n",
    "    \"Leu\" : \"NC(CC(C)C)C(=O)O\",\n",
    "    \"Val\" : \"NC(C(C)C)C(=O)O\",\n",
    "    \"Trp\" : \"NC(CC1=CNC2=C1(C=CC=C2))C(=O)O\"   \n",
    "}"
   ]
  },
  {
   "cell_type": "code",
   "execution_count": 96,
   "metadata": {
    "collapsed": false
   },
   "outputs": [],
   "source": [
    "i = 20 \n",
    "a = list(smiles_dict.itervalues())[i % 7]\n",
    "moll = Multi_Molecule(a)"
   ]
  },
  {
   "cell_type": "code",
   "execution_count": 97,
   "metadata": {
    "collapsed": false
   },
   "outputs": [
    {
     "data": {
      "text/html": [
       "<div id=\"3dmolviewer_151811631376\"  style=\"position: relative; width: 400px; height: 400px\">\n",
       "<script>\n",
       "if(typeof $3Dmolpromise === 'undefined') $3Dmolpromise = $.when($.getScript('https://3dmol.csb.pitt.edu/build/3Dmol.js'))\n",
       "var viewer_151811631376 = null;\n",
       "$3Dmolpromise.done(function() {\n",
       "viewer_151811631376 = $3Dmol.createViewer($(\"#3dmolviewer_151811631376\"),{backgroundColor:\"white\"});\n",
       "\tviewer_151811631376.addModel(\"\\n     RDKit          3D\\n\\n 27 28  0  0  0  0  0  0  0  0999 V2000\\n   -2.1688    0.3872    0.0484 C   0  0  0  0  0  0  0  0  0  0  0  0\\n   -1.2202   -0.5821    0.7007 C   0  0  0  0  0  0  0  0  0  0  0  0\\n    0.0065   -0.8135   -0.0987 C   0  0  0  0  0  0  0  0  0  0  0  0\\n    1.1842   -0.0921   -0.0773 C   0  0  0  0  0  0  0  0  0  0  0  0\\n    2.2697   -0.9424   -0.2485 C   0  0  0  0  0  0  0  0  0  0  0  0\\n    0.3956   -2.0695   -0.5494 C   0  0  0  0  0  0  0  0  0  0  0  0\\n    1.7487   -2.1466   -0.5061 N   0  0  0  0  0  0  0  0  0  0  0  0\\n    1.4235    1.2307    0.1865 C   0  0  0  0  0  0  0  0  0  0  0  0\\n    3.5528   -0.4163   -0.1747 C   0  0  0  0  0  0  0  0  0  0  0  0\\n   -3.4583   -0.2765   -0.3218 C   0  0  0  0  0  0  0  0  0  0  0  0\\n    2.6713    1.7672   -0.1064 C   0  0  0  0  0  0  0  0  0  0  0  0\\n    3.7500    0.9426   -0.3828 C   0  0  0  0  0  0  0  0  0  0  0  0\\n   -2.5362    1.4590    0.9725 N   0  0  0  0  0  0  0  0  0  0  0  0\\n   -4.5680    0.5402   -0.5392 O   0  0  0  0  0  0  0  0  0  0  0  0\\n   -1.7653    0.8628   -0.8580 H   0  0  0  0  0  0  0  0  0  0  0  0\\n   -0.9951   -0.2147    1.7330 H   0  0  0  0  0  0  0  0  0  0  0  0\\n   -1.7956   -1.5273    0.8563 H   0  0  0  0  0  0  0  0  0  0  0  0\\n   -3.6161   -1.5098   -0.2158 O   0  0  0  0  0  0  0  0  0  0  0  0\\n   -0.1895   -2.9815   -0.6186 H   0  0  0  0  0  0  0  0  0  0  0  0\\n    2.3273   -2.9293   -0.9080 H   0  0  0  0  0  0  0  0  0  0  0  0\\n    0.6134    1.8335    0.5439 H   0  0  0  0  0  0  0  0  0  0  0  0\\n    2.7626    2.8309   -0.2465 H   0  0  0  0  0  0  0  0  0  0  0  0\\n    4.6109    1.2779   -0.9643 H   0  0  0  0  0  0  0  0  0  0  0  0\\n    4.3941   -1.0939   -0.1293 H   0  0  0  0  0  0  0  0  0  0  0  0\\n   -1.6781    1.9599    1.2604 H   0  0  0  0  0  0  0  0  0  0  0  0\\n   -3.0591    1.0301    1.7556 H   0  0  0  0  0  0  0  0  0  0  0  0\\n   -4.6602    1.4734   -0.1931 H   0  0  0  0  0  0  0  0  0  0  0  0\\n  1 13  1  0\\n  1 10  1  0\\n  1  2  1  0\\n  1 15  1  0\\n  2 17  1  0\\n  2 16  1  0\\n  2  3  1  0\\n  3  4  1  0\\n  3  6  2  0\\n  4  8  2  0\\n  4  5  1  0\\n  5  9  2  0\\n  5  7  1  0\\n  6 19  1  0\\n  6  7  1  0\\n  7 20  1  0\\n  8 21  1  0\\n  8 11  1  0\\n  9 12  1  0\\n  9 24  1  0\\n 10 18  2  0\\n 10 14  1  0\\n 11 12  2  0\\n 11 22  1  0\\n 12 23  1  0\\n 13 26  1  0\\n 13 25  1  0\\n 14 27  1  0\\nM  END\\n\",\"sdf\");\n",
       "\tviewer_151811631376.setStyle({\"stick\": {}});\n",
       "\tviewer_151811631376.setBackgroundColor(\"0xeeeeee\");\n",
       "\tviewer_151811631376.zoomTo();\n",
       "viewer_151811631376.render();\n",
       "});\n",
       "</script>"
      ],
      "text/plain": [
       "<IPython.core.display.HTML object>"
      ]
     },
     "execution_count": 97,
     "metadata": {},
     "output_type": "execute_result"
    }
   ],
   "source": [
    "moll.view_mol()"
   ]
  },
  {
   "cell_type": "code",
   "execution_count": 98,
   "metadata": {
    "collapsed": false
   },
   "outputs": [
    {
     "data": {
      "text/html": [
       "<div id=\"3dmolviewer_151811656834\"  style=\"position: relative; width: 400px; height: 400px\">\n",
       "<script>\n",
       "if(typeof $3Dmolpromise === 'undefined') $3Dmolpromise = $.when($.getScript('https://3dmol.csb.pitt.edu/build/3Dmol.js'))\n",
       "var viewer_151811656834 = null;\n",
       "$3Dmolpromise.done(function() {\n",
       "viewer_151811656834 = $3Dmol.createViewer($(\"#3dmolviewer_151811656834\"),{backgroundColor:\"white\"});\n",
       "\tviewer_151811656834.addModel(\"\\n     RDKit          3D\\n\\n 22 21  0  0  0  0  0  0  0  0999 V2000\\n   -0.0683    0.3307   -0.5551 C   0  0  0  0  0  0  0  0  0  0  0  0\\n    1.0319    0.0214    0.4062 C   0  0  0  0  0  0  0  0  0  0  0  0\\n   -1.1754   -0.6581   -0.6259 C   0  0  0  0  0  0  0  0  0  0  0  0\\n   -0.6186    1.7403   -0.3970 C   0  0  0  0  0  0  0  0  0  0  0  0\\n   -1.2932   -1.4682   -1.8592 C   0  0  0  0  0  0  0  0  0  0  0  0\\n    2.2601   -0.4471   -0.3137 C   0  0  0  0  0  0  0  0  0  0  0  0\\n    0.7330   -0.9885    1.3778 N   0  0  0  0  0  0  0  0  0  0  0  0\\n    3.0417    0.5805   -0.8528 O   0  0  0  0  0  0  0  0  0  0  0  0\\n    0.4011    0.3332   -1.5753 H   0  0  0  0  0  0  0  0  0  0  0  0\\n    1.3681    0.9144    0.9932 H   0  0  0  0  0  0  0  0  0  0  0  0\\n   -0.9950   -1.3875    0.2081 H   0  0  0  0  0  0  0  0  0  0  0  0\\n   -2.1477   -0.1953   -0.3690 H   0  0  0  0  0  0  0  0  0  0  0  0\\n   -1.6056    1.6946    0.0893 H   0  0  0  0  0  0  0  0  0  0  0  0\\n    0.0685    2.3670    0.1951 H   0  0  0  0  0  0  0  0  0  0  0  0\\n   -0.7702    2.2414   -1.3826 H   0  0  0  0  0  0  0  0  0  0  0  0\\n   -2.3189   -1.9190   -1.8577 H   0  0  0  0  0  0  0  0  0  0  0  0\\n   -1.1772   -0.9534   -2.8135 H   0  0  0  0  0  0  0  0  0  0  0  0\\n   -0.6018   -2.3487   -1.8926 H   0  0  0  0  0  0  0  0  0  0  0  0\\n    2.0773   -1.4352   -1.0882 O   0  0  0  0  0  0  0  0  0  0  0  0\\n    1.5083   -1.6422    1.5702 H   0  0  0  0  0  0  0  0  0  0  0  0\\n    0.4257   -0.5995    2.3078 H   0  0  0  0  0  0  0  0  0  0  0  0\\n    3.9296    0.7323   -0.3710 H   0  0  0  0  0  0  0  0  0  0  0  0\\n  1  3  1  0\\n  1  4  1  0\\n  1  9  1  0\\n  1  2  1  0\\n  2 10  1  0\\n  2  6  1  0\\n  2  7  1  0\\n  3  5  1  0\\n  3 12  1  0\\n  3 11  1  0\\n  4 13  1  0\\n  4 14  1  0\\n  4 15  1  0\\n  5 16  1  0\\n  5 18  1  0\\n  5 17  1  0\\n  6  8  1  0\\n  6 19  2  0\\n  7 20  1  0\\n  7 21  1  0\\n  8 22  1  0\\nM  END\\n\",\"sdf\");\n",
       "\tviewer_151811656834.setStyle({\"stick\": {}});\n",
       "\tviewer_151811656834.setBackgroundColor(\"0xeeeeee\");\n",
       "\tviewer_151811656834.zoomTo();\n",
       "viewer_151811656834.render();\n",
       "});\n",
       "</script>"
      ],
      "text/plain": [
       "<IPython.core.display.HTML object>"
      ]
     },
     "execution_count": 98,
     "metadata": {},
     "output_type": "execute_result"
    }
   ],
   "source": [
    "job_number = 1\n",
    "i = job_number - 1\n",
    "\n",
    "smiles = list(smiles_dict.itervalues())[i % 7]\n",
    "mol =Multi_Molecule(smiles)\n",
    "mol.ase_molecule.set_calculator(EMT())\n",
    "initial_pop = create_initial_population(mol)\n",
    "top_pop = perform_simple_es(mol, initial_pop)\n",
    "\n",
    "for i, dihedral in enumerate(top_pop.iloc[0,1:]):\n",
    "    tor = mol.torsions[i]\n",
    "    mol.ase_molecule.set_dihedral(tor.indices, angle=dihedral, mask=tor.right_mask)\n",
    "mol.update_geometry_from_ase_mol()\n",
    "mol.view_mol()"
   ]
  },
  {
   "cell_type": "code",
   "execution_count": 99,
   "metadata": {
    "collapsed": false,
    "scrolled": true
   },
   "outputs": [
    {
     "data": {
      "text/html": [
       "<div id=\"3dmolviewer_151811657754\"  style=\"position: relative; width: 400px; height: 400px\">\n",
       "<script>\n",
       "if(typeof $3Dmolpromise === 'undefined') $3Dmolpromise = $.when($.getScript('https://3dmol.csb.pitt.edu/build/3Dmol.js'))\n",
       "var viewer_151811657754 = null;\n",
       "$3Dmolpromise.done(function() {\n",
       "viewer_151811657754 = $3Dmol.createViewer($(\"#3dmolviewer_151811657754\"),{backgroundColor:\"white\"});\n",
       "\tviewer_151811657754.addModel(\"\\n     RDKit          3D\\n\\n 22 21  0  0  0  0  0  0  0  0999 V2000\\n   -0.0683    0.3307   -0.5551 C   0  0  0  0  0  0  0  0  0  0  0  0\\n    1.0319    0.0214    0.4062 C   0  0  0  0  0  0  0  0  0  0  0  0\\n   -1.1754   -0.6581   -0.6259 C   0  0  0  0  0  0  0  0  0  0  0  0\\n   -0.6186    1.7403   -0.3970 C   0  0  0  0  0  0  0  0  0  0  0  0\\n   -1.2932   -1.4682   -1.8592 C   0  0  0  0  0  0  0  0  0  0  0  0\\n    2.2601   -0.4471   -0.3137 C   0  0  0  0  0  0  0  0  0  0  0  0\\n    0.7330   -0.9885    1.3778 N   0  0  0  0  0  0  0  0  0  0  0  0\\n    3.0417    0.5805   -0.8528 O   0  0  0  0  0  0  0  0  0  0  0  0\\n    0.4011    0.3332   -1.5753 H   0  0  0  0  0  0  0  0  0  0  0  0\\n    1.3681    0.9144    0.9932 H   0  0  0  0  0  0  0  0  0  0  0  0\\n   -0.9950   -1.3875    0.2081 H   0  0  0  0  0  0  0  0  0  0  0  0\\n   -2.1477   -0.1953   -0.3690 H   0  0  0  0  0  0  0  0  0  0  0  0\\n   -1.6056    1.6946    0.0893 H   0  0  0  0  0  0  0  0  0  0  0  0\\n    0.0685    2.3670    0.1951 H   0  0  0  0  0  0  0  0  0  0  0  0\\n   -0.7702    2.2414   -1.3826 H   0  0  0  0  0  0  0  0  0  0  0  0\\n   -2.3189   -1.9190   -1.8577 H   0  0  0  0  0  0  0  0  0  0  0  0\\n   -1.1772   -0.9534   -2.8135 H   0  0  0  0  0  0  0  0  0  0  0  0\\n   -0.6018   -2.3487   -1.8926 H   0  0  0  0  0  0  0  0  0  0  0  0\\n    2.0773   -1.4352   -1.0882 O   0  0  0  0  0  0  0  0  0  0  0  0\\n    1.5083   -1.6422    1.5702 H   0  0  0  0  0  0  0  0  0  0  0  0\\n    0.4257   -0.5995    2.3078 H   0  0  0  0  0  0  0  0  0  0  0  0\\n    3.9296    0.7323   -0.3710 H   0  0  0  0  0  0  0  0  0  0  0  0\\n  1  3  1  0\\n  1  4  1  0\\n  1  9  1  0\\n  1  2  1  0\\n  2 10  1  0\\n  2  6  1  0\\n  2  7  1  0\\n  3  5  1  0\\n  3 12  1  0\\n  3 11  1  0\\n  4 13  1  0\\n  4 14  1  0\\n  4 15  1  0\\n  5 16  1  0\\n  5 18  1  0\\n  5 17  1  0\\n  6  8  1  0\\n  6 19  2  0\\n  7 20  1  0\\n  7 21  1  0\\n  8 22  1  0\\nM  END\\n\",\"sdf\");\n",
       "\tviewer_151811657754.setStyle({\"stick\": {}});\n",
       "\tviewer_151811657754.setBackgroundColor(\"0xeeeeee\");\n",
       "\tviewer_151811657754.zoomTo();\n",
       "viewer_151811657754.render();\n",
       "});\n",
       "</script>"
      ],
      "text/plain": [
       "<IPython.core.display.HTML object>"
      ]
     },
     "execution_count": 99,
     "metadata": {},
     "output_type": "execute_result"
    }
   ],
   "source": [
    "for i, dihedral in enumerate(top_pop.iloc[0,1:]):\n",
    "    tor = mol.torsions[i]\n",
    "    mol.ase_molecule.set_dihedral(tor.indices, angle=dihedral, mask=tor.left_mask)\n",
    "mol.update_geometry_from_ase_mol()\n",
    "mol.view_mol()"
   ]
  },
  {
   "cell_type": "code",
   "execution_count": 100,
   "metadata": {
    "collapsed": false,
    "scrolled": false
   },
   "outputs": [
    {
     "name": "stdout",
     "output_type": "stream",
     "text": [
      "      Step     Time          Energy         fmax\n",
      "BFGS:    0 14:05:30   -11941.424624       10.0941\n",
      "BFGS:    1 14:06:23   -11942.321590        6.3034\n",
      "BFGS:    2 14:07:16   -11942.841844        4.2449\n",
      "BFGS:    3 14:08:03   -11943.094880        1.9993\n",
      "BFGS:    4 14:08:50   -11943.226012        1.0634\n",
      "BFGS:    5 14:09:36   -11943.292440        1.1330\n",
      "BFGS:    6 14:10:20   -11943.346240        1.1858\n",
      "BFGS:    7 14:11:04   -11943.403501        1.1581\n",
      "BFGS:    8 14:11:56   -11943.450908        0.8006\n",
      "BFGS:    9 14:12:42   -11943.483108        0.4344\n",
      "BFGS:   10 14:13:30   -11943.503026        0.4649\n",
      "BFGS:   11 14:14:22   -11943.526515        0.5103\n",
      "BFGS:   12 14:15:08   -11943.549879        0.6051\n",
      "BFGS:   13 14:15:52   -11943.574255        0.5733\n",
      "BFGS:   14 14:16:36   -11943.598514        0.5566\n",
      "BFGS:   15 14:17:19   -11943.622827        0.5412\n",
      "BFGS:   16 14:18:07   -11943.646801        0.5380\n",
      "BFGS:   17 14:19:00   -11943.670825        0.5537\n",
      "BFGS:   18 14:19:42   -11943.695082        0.5922\n",
      "BFGS:   19 14:20:27   -11943.720029        0.6507\n",
      "BFGS:   20 14:21:08   -11943.745989        0.7236\n",
      "BFGS:   21 14:21:49   -11943.773532        0.8068\n",
      "BFGS:   22 14:22:30   -11943.803203        0.8891\n",
      "BFGS:   23 14:23:11   -11943.835098        0.9563\n",
      "BFGS:   24 14:23:51   -11943.868924        0.9882\n",
      "BFGS:   25 14:24:32   -11943.906057        0.9841\n",
      "BFGS:   26 14:25:12   -11943.944836        0.9549\n",
      "BFGS:   27 14:25:53   -11943.987884        1.2013\n",
      "BFGS:   28 14:26:36   -11944.027752        1.0138\n",
      "BFGS:   29 14:27:18   -11944.074659        0.9757\n",
      "BFGS:   30 14:28:01   -11944.116211        0.8616\n",
      "BFGS:   31 14:28:58   -11944.165275        0.6704\n",
      "BFGS:   32 14:29:38   -11944.200022        0.5263\n",
      "BFGS:   33 14:30:19   -11944.238137        0.3966\n",
      "BFGS:   34 14:30:59   -11944.266347        0.3724\n",
      "BFGS:   35 14:31:45   -11944.291085        0.3460\n",
      "BFGS:   36 14:32:26   -11944.305626        0.4115\n",
      "BFGS:   37 14:33:07   -11944.327951        0.3771\n",
      "BFGS:   38 14:33:52   -11944.344247        0.3877\n",
      "BFGS:   39 14:34:32   -11944.358708        0.2655\n",
      "BFGS:   40 14:35:14   -11944.373366        0.3368\n",
      "BFGS:   41 14:35:55   -11944.391693        0.4105\n",
      "BFGS:   42 14:36:36   -11944.405634        0.2979\n",
      "BFGS:   43 14:37:17   -11944.418488        0.2515\n",
      "BFGS:   44 14:37:58   -11944.428589        0.1929\n",
      "BFGS:   45 14:38:39   -11944.437963        0.3714\n",
      "BFGS:   46 14:39:29   -11944.446557        0.4302\n",
      "BFGS:   47 14:40:12   -11944.455556        0.3090\n",
      "BFGS:   48 14:40:53   -11944.462788        0.2342\n",
      "BFGS:   49 14:41:34   -11944.469346        0.2451\n",
      "BFGS:   50 14:42:14   -11944.475153        0.2536\n",
      "BFGS:   51 14:42:56   -11944.481254        0.2383\n",
      "BFGS:   52 14:43:37   -11944.487134        0.2319\n",
      "BFGS:   53 14:44:18   -11944.493151        0.2046\n",
      "BFGS:   54 14:44:59   -11944.498833        0.2844\n",
      "BFGS:   55 14:46:00   -11944.504199        0.3242\n",
      "BFGS:   56 14:46:46   -11944.508555        0.3034\n",
      "BFGS:   57 14:47:27   -11944.512765        0.1919\n",
      "BFGS:   58 14:48:09   -11944.517091        0.1308\n",
      "BFGS:   59 14:48:50   -11944.522275        0.2404\n",
      "BFGS:   60 14:49:32   -11944.525641        0.2064\n",
      "BFGS:   61 14:50:14   -11944.528550        0.0968\n",
      "BFGS:   62 14:50:55   -11944.530406        0.0908\n",
      "BFGS:   63 14:51:36   -11944.532161        0.1361\n",
      "BFGS:   64 14:52:17   -11944.534017        0.1399\n",
      "BFGS:   65 14:53:00   -11944.536172        0.1309\n",
      "BFGS:   66 14:53:42   -11944.538553        0.1050\n",
      "BFGS:   67 14:54:24   -11944.541386        0.1388\n",
      "BFGS:   68 14:55:06   -11944.544725        0.2710\n",
      "BFGS:   69 14:55:48   -11944.548809        0.2217\n",
      "BFGS:   70 14:56:29   -11944.554828        0.1605\n",
      "BFGS:   71 14:57:10   -11944.561773        0.1936\n",
      "BFGS:   72 14:57:56   -11944.569892        0.2971\n",
      "BFGS:   73 14:58:37   -11944.577765        0.3619\n",
      "BFGS:   74 14:59:27   -11944.588962        0.4168\n",
      "BFGS:   75 15:00:10   -11944.598146        0.4451\n",
      "BFGS:   76 15:00:53   -11944.611784        0.4621\n",
      "BFGS:   77 15:01:35   -11944.624114        0.4703\n",
      "BFGS:   78 15:02:16   -11944.640269        0.4528\n",
      "BFGS:   79 15:02:58   -11944.654033        0.5188\n",
      "BFGS:   80 15:03:41   -11944.671100        0.4174\n",
      "BFGS:   81 15:04:29   -11944.683500        0.5381\n",
      "BFGS:   82 15:05:24   -11944.700436        0.3956\n",
      "BFGS:   83 15:06:08   -11944.713892        0.5089\n",
      "BFGS:   84 15:06:49   -11944.730369        0.3312\n",
      "BFGS:   85 15:07:31   -11944.741779        0.4319\n",
      "BFGS:   86 15:08:14   -11944.757248        0.3353\n",
      "BFGS:   87 15:08:56   -11944.768666        0.4999\n",
      "BFGS:   88 15:09:52   -11944.780626        0.4459\n",
      "BFGS:   89 15:10:34   -11944.790735        0.3656\n",
      "BFGS:   90 15:11:16   -11944.801410        0.4514\n",
      "BFGS:   91 15:11:59   -11944.812849        0.3918\n",
      "BFGS:   92 15:12:47   -11944.822218        0.2590\n",
      "BFGS:   93 15:13:30   -11944.828855        0.3490\n",
      "BFGS:   94 15:14:12   -11944.837345        0.4141\n",
      "BFGS:   95 15:14:54   -11944.845432        0.3118\n",
      "BFGS:   96 15:15:36   -11944.849631        0.1201\n",
      "BFGS:   97 15:16:19   -11944.852083        0.1349\n",
      "BFGS:   98 15:17:03   -11944.853669        0.2371\n",
      "BFGS:   99 15:17:46   -11944.855321        0.1333\n",
      "BFGS:  100 15:18:30   -11944.856924        0.0983\n",
      "BFGS:  101 15:19:17   -11944.858823        0.1130\n",
      "BFGS:  102 15:20:01   -11944.860905        0.1227\n",
      "BFGS:  103 15:20:46   -11944.863721        0.1078\n",
      "BFGS:  104 15:21:30   -11944.866333        0.1156\n",
      "BFGS:  105 15:22:13   -11944.868477        0.1388\n",
      "BFGS:  106 15:22:56   -11944.870075        0.1133\n",
      "BFGS:  107 15:23:40   -11944.871332        0.0839\n",
      "BFGS:  108 15:24:23   -11944.872437        0.0711\n",
      "BFGS:  109 15:25:10   -11944.873392        0.0605\n",
      "BFGS:  110 15:25:55   -11944.874249        0.0727\n",
      "BFGS:  111 15:26:38   -11944.875063        0.0778\n",
      "BFGS:  112 15:27:21   -11944.875963        0.0659\n",
      "BFGS:  113 15:28:04   -11944.876929        0.0730\n",
      "BFGS:  114 15:28:48   -11944.877835        0.0747\n",
      "BFGS:  115 15:29:34   -11944.878600        0.0751\n",
      "BFGS:  116 15:30:17   -11944.879299        0.0717\n",
      "BFGS:  117 15:31:00   -11944.880029        0.0544\n",
      "BFGS:  118 15:31:44   -11944.880875        0.0618\n",
      "BFGS:  119 15:32:27   -11944.881708        0.0578\n",
      "BFGS:  120 15:33:10   -11944.882434        0.0739\n",
      "BFGS:  121 15:33:54   -11944.883041        0.0836\n",
      "BFGS:  122 15:34:37   -11944.883659        0.0797\n",
      "BFGS:  123 15:35:20   -11944.884407        0.0624\n",
      "BFGS:  124 15:36:07   -11944.885373        0.0587\n",
      "BFGS:  125 15:36:53   -11944.886301        0.0534\n",
      "BFGS:  126 15:37:36   -11944.886943        0.0503\n",
      "BFGS:  127 15:38:24   -11944.887294        0.0445\n"
     ]
    },
    {
     "data": {
      "text/plain": [
       "True"
      ]
     },
     "execution_count": 100,
     "metadata": {},
     "output_type": "execute_result"
    }
   ],
   "source": [
    "from ase.optimize import BFGS\n",
    "mol.ase_molecule.set_calculator(calc = Gaussian())\n",
    "opt = BFGS(mol.ase_molecule)\n",
    "opt.run()"
   ]
  },
  {
   "cell_type": "code",
   "execution_count": 101,
   "metadata": {
    "collapsed": false
   },
   "outputs": [
    {
     "data": {
      "text/html": [
       "<div id=\"3dmolviewer_151812230414\"  style=\"position: relative; width: 400px; height: 400px\">\n",
       "<script>\n",
       "if(typeof $3Dmolpromise === 'undefined') $3Dmolpromise = $.when($.getScript('https://3dmol.csb.pitt.edu/build/3Dmol.js'))\n",
       "var viewer_151812230414 = null;\n",
       "$3Dmolpromise.done(function() {\n",
       "viewer_151812230414 = $3Dmol.createViewer($(\"#3dmolviewer_151812230414\"),{backgroundColor:\"white\"});\n",
       "\tviewer_151812230414.addModel(\"\\n     RDKit          3D\\n\\n 22 21  0  0  0  0  0  0  0  0999 V2000\\n   -0.1565    0.6419   -0.5590 C   0  0  0  0  0  0  0  0  0  0  0  0\\n    0.9986    0.1389    0.3459 C   0  0  0  0  0  0  0  0  0  0  0  0\\n   -1.1899   -0.4340   -0.9366 C   0  0  0  0  0  0  0  0  0  0  0  0\\n   -0.8597    1.8112    0.1421 C   0  0  0  0  0  0  0  0  0  0  0  0\\n   -0.6700   -1.6347   -1.7315 C   0  0  0  0  0  0  0  0  0  0  0  0\\n    2.1026   -0.5958   -0.4036 C   0  0  0  0  0  0  0  0  0  0  0  0\\n    0.5117   -0.6123    1.4802 N   0  0  0  0  0  0  0  0  0  0  0  0\\n    2.6251    0.1298   -1.3881 O   0  0  0  0  0  0  0  0  0  0  0  0\\n    0.2930    1.0155   -1.4740 H   0  0  0  0  0  0  0  0  0  0  0  0\\n    1.4914    1.0269    0.7321 H   0  0  0  0  0  0  0  0  0  0  0  0\\n   -1.6868   -0.7822   -0.0360 H   0  0  0  0  0  0  0  0  0  0  0  0\\n   -1.9576    0.0588   -1.5273 H   0  0  0  0  0  0  0  0  0  0  0  0\\n   -1.2289    1.5081    1.1153 H   0  0  0  0  0  0  0  0  0  0  0  0\\n   -0.1814    2.6477    0.2821 H   0  0  0  0  0  0  0  0  0  0  0  0\\n   -1.6995    2.1706   -0.4441 H   0  0  0  0  0  0  0  0  0  0  0  0\\n   -1.4985   -2.2738   -2.0199 H   0  0  0  0  0  0  0  0  0  0  0  0\\n   -0.1662   -1.3239   -2.6428 H   0  0  0  0  0  0  0  0  0  0  0  0\\n    0.0225   -2.2462   -1.1633 H   0  0  0  0  0  0  0  0  0  0  0  0\\n    2.5156   -1.6757   -0.1259 O   0  0  0  0  0  0  0  0  0  0  0  0\\n    0.2141   -1.5243    1.1927 H   0  0  0  0  0  0  0  0  0  0  0  0\\n    1.2559   -0.7651    2.1329 H   0  0  0  0  0  0  0  0  0  0  0  0\\n    3.3379   -0.3682   -1.7771 H   0  0  0  0  0  0  0  0  0  0  0  0\\n  1  3  1  0\\n  1  4  1  0\\n  1  9  1  0\\n  1  2  1  0\\n  2 10  1  0\\n  2  6  1  0\\n  2  7  1  0\\n  3  5  1  0\\n  3 12  1  0\\n  3 11  1  0\\n  4 13  1  0\\n  4 14  1  0\\n  4 15  1  0\\n  5 16  1  0\\n  5 18  1  0\\n  5 17  1  0\\n  6  8  1  0\\n  6 19  2  0\\n  7 20  1  0\\n  7 21  1  0\\n  8 22  1  0\\nM  END\\n\",\"sdf\");\n",
       "\tviewer_151812230414.setStyle({\"stick\": {}});\n",
       "\tviewer_151812230414.setBackgroundColor(\"0xeeeeee\");\n",
       "\tviewer_151812230414.zoomTo();\n",
       "viewer_151812230414.render();\n",
       "});\n",
       "</script>"
      ],
      "text/plain": [
       "<IPython.core.display.HTML object>"
      ]
     },
     "execution_count": 101,
     "metadata": {},
     "output_type": "execute_result"
    }
   ],
   "source": [
    "mol.update_geometry_from_ase_mol()\n",
    "mol.view_mol()"
   ]
  },
  {
   "cell_type": "code",
   "execution_count": 127,
   "metadata": {
    "collapsed": false
   },
   "outputs": [],
   "source": [
    "mol.ase_molecule.write(\"test.xyz\")"
   ]
  },
  {
   "cell_type": "code",
   "execution_count": 123,
   "metadata": {
    "collapsed": false
   },
   "outputs": [
    {
     "data": {
      "text/plain": [
       "array([6, 6, 6, 6, 6, 6, 7, 8, 1, 1, 1, 1, 1, 1, 1, 1, 1, 1, 8, 1, 1, 1])"
      ]
     },
     "execution_count": 123,
     "metadata": {},
     "output_type": "execute_result"
    }
   ],
   "source": [
    "mol.ase_molecule.get_atomic_numbers()"
   ]
  },
  {
   "cell_type": "code",
   "execution_count": 125,
   "metadata": {
    "collapsed": false
   },
   "outputs": [],
   "source": [
    "a = ase.io.read(\"test.xyz\")"
   ]
  },
  {
   "cell_type": "code",
   "execution_count": 126,
   "metadata": {
    "collapsed": false
   },
   "outputs": [
    {
     "data": {
      "text/plain": [
       "Atoms(symbols='C6NOH10OH3', pbc=False, calculator=SinglePointCalculator(...))"
      ]
     },
     "execution_count": 126,
     "metadata": {},
     "output_type": "execute_result"
    }
   ],
   "source": []
  },
  {
   "cell_type": "code",
   "execution_count": null,
   "metadata": {
    "collapsed": true
   },
   "outputs": [],
   "source": []
  }
 ],
 "metadata": {
  "kernelspec": {
   "display_name": "Python 2",
   "language": "python",
   "name": "python2"
  },
  "language_info": {
   "codemirror_mode": {
    "name": "ipython",
    "version": 2
   },
   "file_extension": ".py",
   "mimetype": "text/x-python",
   "name": "python",
   "nbconvert_exporter": "python",
   "pygments_lexer": "ipython2",
   "version": "2.7.12"
  }
 },
 "nbformat": 4,
 "nbformat_minor": 0
}
