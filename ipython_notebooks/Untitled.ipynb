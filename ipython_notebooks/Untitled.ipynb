{
 "cells": [
  {
   "cell_type": "code",
   "execution_count": 1,
   "metadata": {
    "collapsed": true
   },
   "outputs": [],
   "source": [
    "from rdkit.Chem.AtomPairs import Torsions\n",
    "import rdkit\n",
    "from rdkit import DataStructs\n",
    "tts = [Torsions.GetTopologicalTorsionFingerprintAsIntVect(x) for x in ms]\n",
    "#DataStructs.DiceSimilarity(tts[0],tts[1])"
   ]
  },
  {
   "cell_type": "code",
   "execution_count": 19,
   "metadata": {
    "collapsed": true
   },
   "outputs": [],
   "source": [
    "mol0 = rdkit.Chem.MolFromSmiles(\"CCCCCCC\")\n",
    "mol1 = rdkit.Chem.MolFromSmiles(\"CCCCC(CC)C\")"
   ]
  },
  {
   "cell_type": "code",
   "execution_count": 20,
   "metadata": {
    "collapsed": false
   },
   "outputs": [
    {
     "data": {
      "text/plain": [
       "0.2"
      ]
     },
     "execution_count": 20,
     "metadata": {},
     "output_type": "execute_result"
    }
   ],
   "source": [
    "tts = [Torsions.GetTopologicalTorsionFingerprintAsIntVect(x) for x in [mol0, mol1]]\n",
    "DataStructs.DiceSimilarity(tts[0],tts[1])"
   ]
  },
  {
   "cell_type": "code",
   "execution_count": 25,
   "metadata": {
    "collapsed": false
   },
   "outputs": [
    {
     "ename": "ArgumentError",
     "evalue": "Python argument types in\n    Mol.GetConformers(Mol, int)\ndid not match C++ signature:\n    GetConformers(RDKit::ROMol {lvalue})",
     "output_type": "error",
     "traceback": [
      "\u001b[0;31m---------------------------------------------------------------------------\u001b[0m",
      "\u001b[0;31mArgumentError\u001b[0m                             Traceback (most recent call last)",
      "\u001b[0;32m<ipython-input-25-8a0505637eb3>\u001b[0m in \u001b[0;36m<module>\u001b[0;34m()\u001b[0m\n\u001b[0;32m----> 1\u001b[0;31m \u001b[0mmol0\u001b[0m\u001b[0;34m.\u001b[0m\u001b[0mGetConformers\u001b[0m\u001b[0;34m(\u001b[0m\u001b[0;36m2\u001b[0m\u001b[0;34m)\u001b[0m\u001b[0;34m\u001b[0m\u001b[0m\n\u001b[0m\u001b[1;32m      2\u001b[0m \u001b[0mmol1\u001b[0m\u001b[0;34m.\u001b[0m\u001b[0mGetConformers\u001b[0m\u001b[0;34m(\u001b[0m\u001b[0;34m)\u001b[0m\u001b[0;34m\u001b[0m\u001b[0m\n",
      "\u001b[0;31mArgumentError\u001b[0m: Python argument types in\n    Mol.GetConformers(Mol, int)\ndid not match C++ signature:\n    GetConformers(RDKit::ROMol {lvalue})"
     ]
    }
   ],
   "source": [
    "mol0.GetConformers()\n",
    "mol1.GetConformers()"
   ]
  },
  {
   "cell_type": "code",
   "execution_count": 35,
   "metadata": {
    "collapsed": false
   },
   "outputs": [
    {
     "data": {
      "text/plain": [
       "1.0100159369801682"
      ]
     },
     "execution_count": 35,
     "metadata": {},
     "output_type": "execute_result"
    }
   ],
   "source": [
    "from rdkit.Chem import AllChem\n",
    "AllChem.EmbedMultipleConfs(mol0, 2)\n",
    "AllChem.GetConformerRMS(mol0, 0, 1)"
   ]
  },
  {
   "cell_type": "code",
   "execution_count": 41,
   "metadata": {
    "collapsed": false
   },
   "outputs": [],
   "source": [
    "f = open(\"/Users/nathan/Downloads/conformer.0001.xyz\", \"r\")\n",
    "m = rdkit.Chem.MolFromMolFile(\"/Users/nathan/Downloads/conformer.0001.xyz\")\n",
    "m"
   ]
  },
  {
   "cell_type": "code",
   "execution_count": 42,
   "metadata": {
    "collapsed": true
   },
   "outputs": [],
   "source": []
  },
  {
   "cell_type": "code",
   "execution_count": null,
   "metadata": {
    "collapsed": true
   },
   "outputs": [],
   "source": []
  }
 ],
 "metadata": {
  "kernelspec": {
   "display_name": "Python 2",
   "language": "python",
   "name": "python2"
  },
  "language_info": {
   "codemirror_mode": {
    "name": "ipython",
    "version": 2
   },
   "file_extension": ".py",
   "mimetype": "text/x-python",
   "name": "python",
   "nbconvert_exporter": "python",
   "pygments_lexer": "ipython2",
   "version": "2.7.12"
  }
 },
 "nbformat": 4,
 "nbformat_minor": 2
}
