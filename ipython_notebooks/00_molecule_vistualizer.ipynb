{
 "cells": [
  {
   "cell_type": "markdown",
   "metadata": {},
   "source": [
    "# This is to test vistualing molecule inline in jupyter notebooks using py3Dmol\n",
    "\n",
    "Example taken from `http://nbviewer.jupyter.org/github/greglandrum/rdkit_blog/blob/master/notebooks/Trying%20py3Dmol.ipynb`\n",
    "\n",
    "**This is now a method of the `multi_molecule` and `multi_ts` class**"
   ]
  },
  {
   "cell_type": "code",
   "execution_count": 1,
   "metadata": {
    "collapsed": true
   },
   "outputs": [],
   "source": [
    "from rdkit import Chem\n",
    "from rdkit.Chem import AllChem\n",
    "from rdkit.Chem import Draw\n",
    "from rdkit.Chem.Draw import IPythonConsole\n",
    "from rdkit import rdBase\n",
    "import os\n"
   ]
  },
  {
   "cell_type": "code",
   "execution_count": 2,
   "metadata": {
    "collapsed": true
   },
   "outputs": [],
   "source": [
    "import py3Dmol"
   ]
  },
  {
   "cell_type": "code",
   "execution_count": 3,
   "metadata": {
    "collapsed": false
   },
   "outputs": [
    {
     "data": {
      "text/html": [
       "<div id=\"3dmolviewer_151198071431\"  style=\"position: relative; width: 400px; height: 400px\">\n",
       "<script>\n",
       "if(typeof $3Dmolpromise === 'undefined') $3Dmolpromise = $.when($.getScript('https://3dmol.csb.pitt.edu/build/3Dmol.js'))\n",
       "var viewer_151198071431 = null;\n",
       "$3Dmolpromise.done(function() {\n",
       "viewer_151198071431 = $3Dmol.createViewer($(\"#3dmolviewer_151198071431\"),{backgroundColor:\"white\"});\n",
       "\tviewer_151198071431.addModel(\"\\n     RDKit          3D\\n\\n 26 25  0  0  0  0  0  0  0  0999 V2000\\n    3.3053    0.2524    0.0690 C   0  0  0  0  0  0  0  0  0  0  0  0\\n    1.9209   -0.0234   -0.5065 C   0  0  0  0  0  0  0  0  0  0  0  0\\n    0.9335    0.2558    0.5887 C   0  0  0  0  0  0  0  0  0  0  0  0\\n   -0.4846   -0.0727    0.2285 C   0  0  0  0  0  0  0  0  0  0  0  0\\n   -1.1709    1.0117   -0.5593 C   0  0  0  0  0  0  0  0  0  0  0  0\\n   -1.8709    1.9656    0.3932 C   0  0  0  0  0  0  0  0  0  0  0  0\\n   -0.6435   -1.3948   -0.4699 C   0  0  0  0  0  0  0  0  0  0  0  0\\n   -1.9243   -2.0610    0.0184 C   0  0  0  0  0  0  0  0  0  0  0  0\\n    3.6944   -0.6249    0.6321 H   0  0  0  0  0  0  0  0  0  0  0  0\\n    3.2550    1.0840    0.8167 H   0  0  0  0  0  0  0  0  0  0  0  0\\n    4.0344    0.5405   -0.7038 H   0  0  0  0  0  0  0  0  0  0  0  0\\n    1.8023    0.6521   -1.3704 H   0  0  0  0  0  0  0  0  0  0  0  0\\n    1.9038   -1.0954   -0.7774 H   0  0  0  0  0  0  0  0  0  0  0  0\\n    1.2195   -0.3564    1.4768 H   0  0  0  0  0  0  0  0  0  0  0  0\\n    0.9784    1.3176    0.8864 H   0  0  0  0  0  0  0  0  0  0  0  0\\n   -1.0359   -0.1552    1.1999 H   0  0  0  0  0  0  0  0  0  0  0  0\\n   -0.5116    1.5351   -1.2665 H   0  0  0  0  0  0  0  0  0  0  0  0\\n   -1.9724    0.5219   -1.1639 H   0  0  0  0  0  0  0  0  0  0  0  0\\n   -2.9553    1.7192    0.4888 H   0  0  0  0  0  0  0  0  0  0  0  0\\n   -1.4122    1.8425    1.4064 H   0  0  0  0  0  0  0  0  0  0  0  0\\n   -1.7637    2.9963    0.0147 H   0  0  0  0  0  0  0  0  0  0  0  0\\n    0.1928   -2.0913   -0.2931 H   0  0  0  0  0  0  0  0  0  0  0  0\\n   -0.8029   -1.2219   -1.5637 H   0  0  0  0  0  0  0  0  0  0  0  0\\n   -1.7588   -2.5220    1.0235 H   0  0  0  0  0  0  0  0  0  0  0  0\\n   -2.6711   -1.2316    0.1071 H   0  0  0  0  0  0  0  0  0  0  0  0\\n   -2.2622   -2.8441   -0.6757 H   0  0  0  0  0  0  0  0  0  0  0  0\\n  1  2  1  0\\n  2  3  1  0\\n  3  4  1  0\\n  4  5  1  0\\n  5  6  1  0\\n  4  7  1  0\\n  7  8  1  0\\n  1  9  1  0\\n  1 10  1  0\\n  1 11  1  0\\n  2 12  1  0\\n  2 13  1  0\\n  3 14  1  0\\n  3 15  1  0\\n  4 16  1  0\\n  5 17  1  0\\n  5 18  1  0\\n  6 19  1  0\\n  6 20  1  0\\n  6 21  1  0\\n  7 22  1  0\\n  7 23  1  0\\n  8 24  1  0\\n  8 25  1  0\\n  8 26  1  0\\nM  END\\n\",\"sdf\");\n",
       "\tviewer_151198071431.setStyle({\"stick\": {}});\n",
       "\tviewer_151198071431.setBackgroundColor(\"0xeeeeee\");\n",
       "\tviewer_151198071431.zoomTo();\n",
       "viewer_151198071431.render();\n",
       "});\n",
       "</script>"
      ],
      "text/plain": [
       "<IPython.core.display.HTML object>"
      ]
     },
     "execution_count": 3,
     "metadata": {},
     "output_type": "execute_result"
    }
   ],
   "source": [
    "m = Chem.AddHs(Chem.MolFromSmiles(\"CCCC(CC)CC\"))\n",
    "AllChem.EmbedMolecule(m)\n",
    "mb  = Chem.MolToMolBlock(m)\n",
    "p = py3Dmol.view(width=400, height=400)\n",
    "p.addModel(mb, \"sdf\")\n",
    "p.setStyle({'stick':{}})\n",
    "p.setBackgroundColor('0xeeeeee')\n",
    "p.zoomTo()\n",
    "p.show()"
   ]
  },
  {
   "cell_type": "code",
   "execution_count": 4,
   "metadata": {
    "collapsed": true
   },
   "outputs": [],
   "source": [
    "def view_mol(mol):\n",
    "    \"\"\"\n",
    "    A function designed to visulaize rdkit molecules\n",
    "    \n",
    "    Input: mol (an rdkit molecule object)\n",
    "    \n",
    "    Output: 3D figure of the molecule from py3Dmol\n",
    "    \n",
    "    \"\"\"\n",
    "    mb  = Chem.MolToMolBlock(mol)\n",
    "    p = py3Dmol.view(width=400, height=400)\n",
    "    p.addModel(mb, \"sdf\")\n",
    "    p.setStyle({'stick':{}})\n",
    "    p.setBackgroundColor('0xeeeeee')\n",
    "    p.zoomTo()\n",
    "    return p.show()\n",
    "    \n",
    "    "
   ]
  },
  {
   "cell_type": "code",
   "execution_count": 5,
   "metadata": {
    "collapsed": false
   },
   "outputs": [
    {
     "data": {
      "text/html": [
       "<div id=\"3dmolviewer_151198071434\"  style=\"position: relative; width: 400px; height: 400px\">\n",
       "<script>\n",
       "if(typeof $3Dmolpromise === 'undefined') $3Dmolpromise = $.when($.getScript('https://3dmol.csb.pitt.edu/build/3Dmol.js'))\n",
       "var viewer_151198071434 = null;\n",
       "$3Dmolpromise.done(function() {\n",
       "viewer_151198071434 = $3Dmol.createViewer($(\"#3dmolviewer_151198071434\"),{backgroundColor:\"white\"});\n",
       "\tviewer_151198071434.addModel(\"\\n     RDKit          3D\\n\\n 26 25  0  0  0  0  0  0  0  0999 V2000\\n    3.3053    0.2524    0.0690 C   0  0  0  0  0  0  0  0  0  0  0  0\\n    1.9209   -0.0234   -0.5065 C   0  0  0  0  0  0  0  0  0  0  0  0\\n    0.9335    0.2558    0.5887 C   0  0  0  0  0  0  0  0  0  0  0  0\\n   -0.4846   -0.0727    0.2285 C   0  0  0  0  0  0  0  0  0  0  0  0\\n   -1.1709    1.0117   -0.5593 C   0  0  0  0  0  0  0  0  0  0  0  0\\n   -1.8709    1.9656    0.3932 C   0  0  0  0  0  0  0  0  0  0  0  0\\n   -0.6435   -1.3948   -0.4699 C   0  0  0  0  0  0  0  0  0  0  0  0\\n   -1.9243   -2.0610    0.0184 C   0  0  0  0  0  0  0  0  0  0  0  0\\n    3.6944   -0.6249    0.6321 H   0  0  0  0  0  0  0  0  0  0  0  0\\n    3.2550    1.0840    0.8167 H   0  0  0  0  0  0  0  0  0  0  0  0\\n    4.0344    0.5405   -0.7038 H   0  0  0  0  0  0  0  0  0  0  0  0\\n    1.8023    0.6521   -1.3704 H   0  0  0  0  0  0  0  0  0  0  0  0\\n    1.9038   -1.0954   -0.7774 H   0  0  0  0  0  0  0  0  0  0  0  0\\n    1.2195   -0.3564    1.4768 H   0  0  0  0  0  0  0  0  0  0  0  0\\n    0.9784    1.3176    0.8864 H   0  0  0  0  0  0  0  0  0  0  0  0\\n   -1.0359   -0.1552    1.1999 H   0  0  0  0  0  0  0  0  0  0  0  0\\n   -0.5116    1.5351   -1.2665 H   0  0  0  0  0  0  0  0  0  0  0  0\\n   -1.9724    0.5219   -1.1639 H   0  0  0  0  0  0  0  0  0  0  0  0\\n   -2.9553    1.7192    0.4888 H   0  0  0  0  0  0  0  0  0  0  0  0\\n   -1.4122    1.8425    1.4064 H   0  0  0  0  0  0  0  0  0  0  0  0\\n   -1.7637    2.9963    0.0147 H   0  0  0  0  0  0  0  0  0  0  0  0\\n    0.1928   -2.0913   -0.2931 H   0  0  0  0  0  0  0  0  0  0  0  0\\n   -0.8029   -1.2219   -1.5637 H   0  0  0  0  0  0  0  0  0  0  0  0\\n   -1.7588   -2.5220    1.0235 H   0  0  0  0  0  0  0  0  0  0  0  0\\n   -2.6711   -1.2316    0.1071 H   0  0  0  0  0  0  0  0  0  0  0  0\\n   -2.2622   -2.8441   -0.6757 H   0  0  0  0  0  0  0  0  0  0  0  0\\n  1  2  1  0\\n  2  3  1  0\\n  3  4  1  0\\n  4  5  1  0\\n  5  6  1  0\\n  4  7  1  0\\n  7  8  1  0\\n  1  9  1  0\\n  1 10  1  0\\n  1 11  1  0\\n  2 12  1  0\\n  2 13  1  0\\n  3 14  1  0\\n  3 15  1  0\\n  4 16  1  0\\n  5 17  1  0\\n  5 18  1  0\\n  6 19  1  0\\n  6 20  1  0\\n  6 21  1  0\\n  7 22  1  0\\n  7 23  1  0\\n  8 24  1  0\\n  8 25  1  0\\n  8 26  1  0\\nM  END\\n\",\"sdf\");\n",
       "\tviewer_151198071434.setStyle({\"stick\": {}});\n",
       "\tviewer_151198071434.setBackgroundColor(\"0xeeeeee\");\n",
       "\tviewer_151198071434.zoomTo();\n",
       "viewer_151198071434.render();\n",
       "});\n",
       "</script>"
      ],
      "text/plain": [
       "<IPython.core.display.HTML object>"
      ]
     },
     "execution_count": 5,
     "metadata": {},
     "output_type": "execute_result"
    }
   ],
   "source": [
    "view_mol(m)"
   ]
  },
  {
   "cell_type": "code",
   "execution_count": null,
   "metadata": {
    "collapsed": true
   },
   "outputs": [],
   "source": []
  }
 ],
 "metadata": {
  "kernelspec": {
   "display_name": "Python 2",
   "language": "python",
   "name": "python2"
  },
  "language_info": {
   "codemirror_mode": {
    "name": "ipython",
    "version": 2
   },
   "file_extension": ".py",
   "mimetype": "text/x-python",
   "name": "python",
   "nbconvert_exporter": "python",
   "pygments_lexer": "ipython2",
   "version": "2.7.12"
  }
 },
 "nbformat": 4,
 "nbformat_minor": 2
}
