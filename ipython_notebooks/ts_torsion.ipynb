{
 "cells": [
  {
   "cell_type": "code",
   "execution_count": 9,
   "metadata": {
    "collapsed": false
   },
   "outputs": [
    {
     "name": "stdout",
     "output_type": "stream",
     "text": [
      "Loading RMG Database ...\n"
     ]
    },
    {
     "ename": "NameError",
     "evalue": "name 'RMGDatabase' is not defined",
     "output_type": "error",
     "traceback": [
      "\u001b[0;31m---------------------------------------------------------------------------\u001b[0m",
      "\u001b[0;31mNameError\u001b[0m                                 Traceback (most recent call last)",
      "\u001b[0;32m<ipython-input-9-6a92abcde71e>\u001b[0m in \u001b[0;36m<module>\u001b[0;34m()\u001b[0m\n\u001b[1;32m      1\u001b[0m \u001b[0mrxnFamily\u001b[0m \u001b[0;34m=\u001b[0m \u001b[0;34m[\u001b[0m\u001b[0;34m'H_Abstraction'\u001b[0m\u001b[0;34m]\u001b[0m\u001b[0;34m\u001b[0m\u001b[0m\n\u001b[1;32m      2\u001b[0m \u001b[0;32mprint\u001b[0m\u001b[0;34m(\u001b[0m\u001b[0;34m'Loading RMG Database ...'\u001b[0m\u001b[0;34m)\u001b[0m\u001b[0;34m\u001b[0m\u001b[0m\n\u001b[0;32m----> 3\u001b[0;31m \u001b[0mrmgDatabase\u001b[0m \u001b[0;34m=\u001b[0m \u001b[0mRMGDatabase\u001b[0m\u001b[0;34m(\u001b[0m\u001b[0;34m)\u001b[0m\u001b[0;34m\u001b[0m\u001b[0m\n\u001b[0m\u001b[1;32m      4\u001b[0m \u001b[0mdatabasePath\u001b[0m \u001b[0;34m=\u001b[0m \u001b[0mos\u001b[0m\u001b[0;34m.\u001b[0m\u001b[0mpath\u001b[0m\u001b[0;34m.\u001b[0m\u001b[0mabspath\u001b[0m\u001b[0;34m(\u001b[0m\u001b[0mos\u001b[0m\u001b[0;34m.\u001b[0m\u001b[0mpath\u001b[0m\u001b[0;34m.\u001b[0m\u001b[0mjoin\u001b[0m\u001b[0;34m(\u001b[0m\u001b[0mos\u001b[0m\u001b[0;34m.\u001b[0m\u001b[0mgetenv\u001b[0m\u001b[0;34m(\u001b[0m\u001b[0;34m'RMGpy'\u001b[0m\u001b[0;34m,\u001b[0m \u001b[0;34m'..'\u001b[0m\u001b[0;34m)\u001b[0m\u001b[0;34m,\u001b[0m \u001b[0;34m'..'\u001b[0m\u001b[0;34m,\u001b[0m \u001b[0;34m'RMG-database'\u001b[0m\u001b[0;34m,\u001b[0m \u001b[0;34m'input'\u001b[0m\u001b[0;34m)\u001b[0m\u001b[0;34m)\u001b[0m\u001b[0;34m\u001b[0m\u001b[0m\n\u001b[1;32m      5\u001b[0m \u001b[0;32mprint\u001b[0m\u001b[0;34m(\u001b[0m\u001b[0mdatabasePath\u001b[0m\u001b[0;34m)\u001b[0m\u001b[0;34m\u001b[0m\u001b[0m\n",
      "\u001b[0;31mNameError\u001b[0m: name 'RMGDatabase' is not defined"
     ]
    }
   ],
   "source": [
    "rxnFamily = ['H_Abstraction']\n",
    "print('Loading RMG Database ...')\n",
    "rmgDatabase = RMGDatabase()\n",
    "databasePath = os.path.abspath(os.path.join(os.getenv('RMGpy', '..'), '..', 'RMG-database', 'input'))\n",
    "print(databasePath)\n",
    "rmgDatabase.load(databasePath,\n",
    "                 kineticsFamilies=rxnFamily,\n",
    "                 transportLibraries=[],\n",
    "                 reactionLibraries=[],\n",
    "                 seedMechanisms=[],\n",
    "                 thermoLibraries=['primaryThermoLibrary', 'KlippensteinH2O2', 'thermo_DFT_CCSDTF12_BAC', 'CBS_QB3_1dHR' ],\n",
    "                 solvation=False,\n",
    "                 )\n",
    "print('RMG Database Loaded')\n",
    "\n",
    "#rxnFamily = reaction.family\n",
    "\n",
    "tsDatabase = rmgDatabase.kinetics.families[rxnFamily[0]].transitionStates\n",
    "\n",
    "settings = QMSettings(\n",
    "    software='gaussian',\n",
    "    method='m062x',\n",
    "    fileStore=os.path.expandvars('.'),\n",
    "    scratchDirectory=os.path.expandvars('.'),\n",
    "    )"
   ]
  },
  {
   "cell_type": "code",
   "execution_count": 10,
   "metadata": {
    "collapsed": false
   },
   "outputs": [
    {
     "ename": "NameError",
     "evalue": "name 'Species' is not defined",
     "output_type": "error",
     "traceback": [
      "\u001b[0;31m---------------------------------------------------------------------------\u001b[0m",
      "\u001b[0;31mNameError\u001b[0m                                 Traceback (most recent call last)",
      "\u001b[0;32m<ipython-input-10-edc18610e55e>\u001b[0m in \u001b[0;36m<module>\u001b[0;34m()\u001b[0m\n\u001b[0;32m----> 1\u001b[0;31m \u001b[0mrSpecies1\u001b[0m \u001b[0;34m=\u001b[0m \u001b[0mSpecies\u001b[0m\u001b[0;34m(\u001b[0m\u001b[0mlabel\u001b[0m\u001b[0;34m=\u001b[0m\u001b[0;34m\"C2H6\"\u001b[0m\u001b[0;34m,\u001b[0m \u001b[0mmolecule\u001b[0m\u001b[0;34m=\u001b[0m\u001b[0;34m[\u001b[0m\u001b[0mMolecule\u001b[0m\u001b[0;34m(\u001b[0m\u001b[0mSMILES\u001b[0m\u001b[0;34m=\u001b[0m\u001b[0;34m\"CCCCCC\"\u001b[0m\u001b[0;34m)\u001b[0m\u001b[0;34m]\u001b[0m\u001b[0;34m)\u001b[0m\u001b[0;34m\u001b[0m\u001b[0m\n\u001b[0m\u001b[1;32m      2\u001b[0m \u001b[0mrSpecies2\u001b[0m \u001b[0;34m=\u001b[0m \u001b[0mSpecies\u001b[0m\u001b[0;34m(\u001b[0m\u001b[0mlabel\u001b[0m\u001b[0;34m=\u001b[0m\u001b[0;34m\"HO2\"\u001b[0m\u001b[0;34m,\u001b[0m \u001b[0mmolecule\u001b[0m\u001b[0;34m=\u001b[0m\u001b[0;34m[\u001b[0m\u001b[0mMolecule\u001b[0m\u001b[0;34m(\u001b[0m\u001b[0mSMILES\u001b[0m\u001b[0;34m=\u001b[0m\u001b[0;34m\"[O]O\"\u001b[0m\u001b[0;34m)\u001b[0m\u001b[0;34m]\u001b[0m\u001b[0;34m)\u001b[0m\u001b[0;34m\u001b[0m\u001b[0m\n\u001b[1;32m      3\u001b[0m \u001b[0mpSpecies1\u001b[0m \u001b[0;34m=\u001b[0m \u001b[0mSpecies\u001b[0m\u001b[0;34m(\u001b[0m\u001b[0mlabel\u001b[0m\u001b[0;34m=\u001b[0m\u001b[0;34m\"C2H5\"\u001b[0m\u001b[0;34m,\u001b[0m \u001b[0mmolecule\u001b[0m\u001b[0;34m=\u001b[0m\u001b[0;34m[\u001b[0m\u001b[0mMolecule\u001b[0m\u001b[0;34m(\u001b[0m\u001b[0mSMILES\u001b[0m\u001b[0;34m=\u001b[0m\u001b[0;34m\"[CH2]CCCC\"\u001b[0m\u001b[0;34m)\u001b[0m\u001b[0;34m]\u001b[0m\u001b[0;34m)\u001b[0m\u001b[0;34m\u001b[0m\u001b[0m\n\u001b[1;32m      4\u001b[0m \u001b[0mpSpecies2\u001b[0m \u001b[0;34m=\u001b[0m \u001b[0mSpecies\u001b[0m\u001b[0;34m(\u001b[0m\u001b[0mlabel\u001b[0m\u001b[0;34m=\u001b[0m\u001b[0;34m\"H2O2\"\u001b[0m\u001b[0;34m,\u001b[0m \u001b[0mmolecule\u001b[0m\u001b[0;34m=\u001b[0m\u001b[0;34m[\u001b[0m\u001b[0mMolecule\u001b[0m\u001b[0;34m(\u001b[0m\u001b[0mSMILES\u001b[0m\u001b[0;34m=\u001b[0m\u001b[0;34m\"OO\"\u001b[0m\u001b[0;34m)\u001b[0m\u001b[0;34m]\u001b[0m\u001b[0;34m)\u001b[0m\u001b[0;34m\u001b[0m\u001b[0m\n\u001b[1;32m      5\u001b[0m \u001b[0;34m\u001b[0m\u001b[0m\n",
      "\u001b[0;31mNameError\u001b[0m: name 'Species' is not defined"
     ]
    }
   ],
   "source": [
    "rSpecies1 = Species(label=\"C2H6\", molecule=[Molecule(SMILES=\"CCCCCC\")])\n",
    "rSpecies2 = Species(label=\"HO2\", molecule=[Molecule(SMILES=\"[O]O\")])\n",
    "pSpecies1 = Species(label=\"C2H5\", molecule=[Molecule(SMILES=\"[CH2]CCCC\")])\n",
    "pSpecies2 = Species(label=\"H2O2\", molecule=[Molecule(SMILES=\"OO\")])\n",
    "\n",
    "oohReaction = Reaction(reactants=[rSpecies1, rSpecies2], products=[pSpecies1, pSpecies2], reversible=True)"
   ]
  },
  {
   "cell_type": "code",
   "execution_count": 11,
   "metadata": {
    "collapsed": false
   },
   "outputs": [
    {
     "ename": "NameError",
     "evalue": "name 'oohReaction' is not defined",
     "output_type": "error",
     "traceback": [
      "\u001b[0;31m---------------------------------------------------------------------------\u001b[0m",
      "\u001b[0;31mNameError\u001b[0m                                 Traceback (most recent call last)",
      "\u001b[0;32m<ipython-input-11-71b3b0ed68ba>\u001b[0m in \u001b[0;36m<module>\u001b[0;34m()\u001b[0m\n\u001b[1;32m      1\u001b[0m \u001b[0mrxnFamily\u001b[0m \u001b[0;34m=\u001b[0m \u001b[0;34m\"H_Abstraction\"\u001b[0m\u001b[0;34m\u001b[0m\u001b[0m\n\u001b[0;32m----> 2\u001b[0;31m \u001b[0mrSpecies1\u001b[0m\u001b[0;34m,\u001b[0m \u001b[0mrSpecies2\u001b[0m \u001b[0;34m=\u001b[0m \u001b[0moohReaction\u001b[0m\u001b[0;34m.\u001b[0m\u001b[0mreactants\u001b[0m\u001b[0;34m\u001b[0m\u001b[0m\n\u001b[0m\u001b[1;32m      3\u001b[0m \u001b[0mpSpecies1\u001b[0m\u001b[0;34m,\u001b[0m \u001b[0mpSpecies2\u001b[0m \u001b[0;34m=\u001b[0m \u001b[0moohReaction\u001b[0m\u001b[0;34m.\u001b[0m\u001b[0mproducts\u001b[0m\u001b[0;34m\u001b[0m\u001b[0m\n\u001b[1;32m      4\u001b[0m \u001b[0;34m\u001b[0m\u001b[0m\n\u001b[1;32m      5\u001b[0m \u001b[0mrSpecies1\u001b[0m\u001b[0;34m.\u001b[0m\u001b[0mgenerateResonanceIsomers\u001b[0m\u001b[0;34m(\u001b[0m\u001b[0;34m)\u001b[0m\u001b[0;34m\u001b[0m\u001b[0m\n",
      "\u001b[0;31mNameError\u001b[0m: name 'oohReaction' is not defined"
     ]
    }
   ],
   "source": [
    "rxnFamily = \"H_Abstraction\"\n",
    "rSpecies1, rSpecies2 = oohReaction.reactants\n",
    "pSpecies1, pSpecies2 = oohReaction.products\n",
    "\n",
    "rSpecies1.generateResonanceIsomers()\n",
    "rSpecies2.generateResonanceIsomers()\n",
    "pSpecies1.generateResonanceIsomers()\n",
    "pSpecies2.generateResonanceIsomers()\n",
    "\n",
    "testReaction = Reaction(reactants=[rSpecies1, rSpecies2], products=[pSpecies1, pSpecies2], reversible=True)\n",
    "reactionList = []\n",
    "for moleculeA in rSpecies1.molecule:\n",
    "    for moleculeB in rSpecies2.molecule:\n",
    "        tempList = rmgDatabase.kinetics.generateReactionsFromFamilies([moleculeA, moleculeB], [], only_families=[rxnFamily])\n",
    "        for rxn0 in tempList:\n",
    "            reactionList.append(rxn0)\n",
    "logging.info(\"generateReactionsFromFamilies successfuly performed\")\n",
    "gotOne=False\n",
    "for reaction in reactionList:\n",
    "    # Check if any of the RMG proposed reactions matches the reaction in the mechanism\n",
    "    if testReaction.isIsomorphic(reaction):\n",
    "        # Now add the labeled atoms to the Molecule, and check all labels were added\n",
    "        atLblsR = dict([(lbl[0], False) for lbl in reaction.labeledAtoms])\n",
    "        atLblsP = dict([(lbl[0], False) for lbl in reaction.labeledAtoms])\n",
    "\n",
    "        for reactant in reaction.reactants:\n",
    "\n",
    "            reactant.clearLabeledAtoms()\n",
    "            for atom in reactant.atoms:\n",
    "                for atomLabel in reaction.labeledAtoms:\n",
    "                    if atom==atomLabel[1]:\n",
    "                        atom.label = atomLabel[0]\n",
    "                        atLblsR[atomLabel[0]] = True\n",
    "        for product in reaction.products:\n",
    "\n",
    "            product.clearLabeledAtoms()\n",
    "            for atom in product.atoms:\n",
    "                for atomLabel in reaction.labeledAtoms:\n",
    "                    if atom==atomLabel[1]:\n",
    "                        atom.label = atomLabel[0]\n",
    "                        atLblsP[atomLabel[0]] = True\n",
    "        if all( atLblsR.values() ) and all( atLblsP.values() ):\n",
    "            gotOne=True\n",
    "            break\n",
    "        "
   ]
  },
  {
   "cell_type": "code",
   "execution_count": 12,
   "metadata": {
    "collapsed": true
   },
   "outputs": [],
   "source": [
    "\n",
    "def performCalcs(chemkinRxn):\n",
    "    rxnFamily = \"H_Abstraction\"\n",
    "    rxnFamilies = ['H_Abstraction']\n",
    "    logging.info(\"chemkinRxn: {!r}\".format(chemkinRxn))\n",
    "    # Ensure all resonance isomers have been generated\n",
    "    logging.info('Ensuring resonance isomers have been generated')\n",
    "    for species in itertools.chain(chemkinRxn.reactants, chemkinRxn.products):\n",
    "        print(type(species))\n",
    "        species = species.generateResonanceIsomers()\n",
    "\n",
    "    testReaction = Reaction(reactants=chemkinRxn.reactants, products=chemkinRxn.products, reversible=True)\n",
    "\n",
    "    reactants = [species for species in chemkinRxn.reactants]\n",
    "    # reactant_molecules is a list of lists of resonance isomers,\n",
    "    # eg. a bimolecular reaction where the second reactant has 2 isomers is: [[r1],[r2i1,r2i2]]\n",
    "\n",
    "    products = [species for species in chemkinRxn.products]\n",
    "    # products is a list of molecule objects (only one resonance form of each product), eg [p1, p2]\n",
    "    print reactants\n",
    "    #print type(reactant_molecules[0])\n",
    "    print products\n",
    "\n",
    "    checkRxn = rmgDatabase.kinetics.generateReactionsFromFamilies(reactants, products, only_families=rxnFamilies)# reversible=True)\n",
    "    if len(checkRxn) == 1:\n",
    "        logging.info(\"Generated one reaction:\")\n",
    "        logging.info(checkRxn)\n",
    "        reaction = checkRxn[0]\n",
    "    else:  # didn't break from for loop\n",
    "        for reaction in checkRxn:\n",
    "            logging.info(\"Generated these reactions:\")\n",
    "            logging.info(reaction)\n",
    "            reaction = checkRxn[0]\n",
    "        raise Exception(\"Couldn't generate exactly one reaction matching {} in family {}\".format(chemkinRxn, rxnFamilies))\n",
    "\n",
    "    logging.info(\"The reaction of interest is as follows: \")\n",
    "    logging.info(reaction)\n",
    "\n",
    "    logging.info(\"asserting that the testReaction is Isomorphic\")\n",
    "    assert testReaction.isIsomorphic(reaction)\n",
    "    logging.info(\"reaction: {!r}\".format(reaction))\n",
    "\n",
    "    atLblsR = dict([(lbl[0], False) for lbl in reaction.labeledAtoms])\n",
    "    atLblsP = dict([(lbl[0], False) for lbl in reaction.labeledAtoms])\n",
    "\n",
    "    gotOne = False\n",
    "    logging.info(\"Labeling reactant atoms\")\n",
    "    for reactant in reaction.reactants:\n",
    "        reactant = reactant\n",
    "        reactant.clearLabeledAtoms()\n",
    "        for atom in reactant.atoms:\n",
    "            for atomLabel in reaction.labeledAtoms:\n",
    "                if atom == atomLabel[1]:\n",
    "                    atom.label = atomLabel[0]\n",
    "                    atLblsR[atomLabel[0]] = True\n",
    "\n",
    "    logging.info(\"Labeling product atoms\")\n",
    "    for product in reaction.products:\n",
    "        product = product\n",
    "        product.clearLabeledAtoms()\n",
    "        for atom in product.atoms:\n",
    "            for atomLabel in reaction.labeledAtoms:\n",
    "                if atom == atomLabel[1]:\n",
    "                    atom.label = atomLabel[0]\n",
    "                    atLblsP[atomLabel[0]] = True\n",
    "\n",
    "    if all(atLblsR.values()) and all(atLblsP.values()):\n",
    "        gotOne = True\n",
    "\n",
    "    rxnFamily = reaction.family\n",
    "    return reaction"
   ]
  },
  {
   "cell_type": "code",
   "execution_count": 13,
   "metadata": {
    "collapsed": false
   },
   "outputs": [
    {
     "ename": "NameError",
     "evalue": "name 'QMReaction' is not defined",
     "output_type": "error",
     "traceback": [
      "\u001b[0;31m---------------------------------------------------------------------------\u001b[0m",
      "\u001b[0;31mNameError\u001b[0m                                 Traceback (most recent call last)",
      "\u001b[0;32m<ipython-input-13-76017fb8df73>\u001b[0m in \u001b[0;36m<module>\u001b[0;34m()\u001b[0m\n\u001b[1;32m      3\u001b[0m \u001b[0;31m#generateTSGeometryDirectGuess\u001b[0m\u001b[0;34m\u001b[0m\u001b[0;34m\u001b[0m\u001b[0m\n\u001b[1;32m      4\u001b[0m \u001b[0;34m\u001b[0m\u001b[0m\n\u001b[0;32m----> 5\u001b[0;31m \u001b[0mrxn\u001b[0m \u001b[0;34m=\u001b[0m \u001b[0mQMReaction\u001b[0m\u001b[0;34m(\u001b[0m\u001b[0mreaction\u001b[0m\u001b[0;34m=\u001b[0m\u001b[0mrxn\u001b[0m\u001b[0;34m,\u001b[0m \u001b[0msettings\u001b[0m\u001b[0;34m=\u001b[0m\u001b[0msettings\u001b[0m\u001b[0;34m,\u001b[0m \u001b[0mtsDatabase\u001b[0m\u001b[0;34m=\u001b[0m\u001b[0mtsDatabase\u001b[0m\u001b[0;34m)\u001b[0m\u001b[0;34m\u001b[0m\u001b[0m\n\u001b[0m\u001b[1;32m      6\u001b[0m \u001b[0mrxn\u001b[0m\u001b[0;34m.\u001b[0m\u001b[0mgenerateTSGeometryDirectGuess\u001b[0m\u001b[0;34m(\u001b[0m\u001b[0;34m)\u001b[0m\u001b[0;34m\u001b[0m\u001b[0m\n",
      "\u001b[0;31mNameError\u001b[0m: name 'QMReaction' is not defined"
     ]
    }
   ],
   "source": [
    "\n",
    "\n",
    "#generateTSGeometryDirectGuess\n",
    "\n",
    "rxn = QMReaction(reaction=rxn, settings=settings, tsDatabase=tsDatabase)\n",
    "rxn.generateTSGeometryDirectGuess()"
   ]
  },
  {
   "cell_type": "code",
   "execution_count": 14,
   "metadata": {
    "collapsed": false
   },
   "outputs": [
    {
     "ename": "NameError",
     "evalue": "name 'product' is not defined",
     "output_type": "error",
     "traceback": [
      "\u001b[0;31m---------------------------------------------------------------------------\u001b[0m",
      "\u001b[0;31mNameError\u001b[0m                                 Traceback (most recent call last)",
      "\u001b[0;32m<ipython-input-14-c6c74debcf79>\u001b[0m in \u001b[0;36m<module>\u001b[0;34m()\u001b[0m\n\u001b[0;32m----> 1\u001b[0;31m \u001b[0;32mfor\u001b[0m \u001b[0matom\u001b[0m \u001b[0;32min\u001b[0m \u001b[0mproduct\u001b[0m\u001b[0;34m.\u001b[0m\u001b[0matoms\u001b[0m\u001b[0;34m:\u001b[0m\u001b[0;34m\u001b[0m\u001b[0m\n\u001b[0m\u001b[1;32m      2\u001b[0m     \u001b[0;32mfor\u001b[0m \u001b[0matomLabel\u001b[0m \u001b[0;32min\u001b[0m \u001b[0mreaction\u001b[0m\u001b[0;34m.\u001b[0m\u001b[0mlabeledAtoms\u001b[0m\u001b[0;34m:\u001b[0m\u001b[0;34m\u001b[0m\u001b[0m\n\u001b[1;32m      3\u001b[0m         \u001b[0;32mif\u001b[0m \u001b[0matom\u001b[0m \u001b[0;34m==\u001b[0m \u001b[0matomLabel\u001b[0m\u001b[0;34m[\u001b[0m\u001b[0;36m1\u001b[0m\u001b[0;34m]\u001b[0m\u001b[0;34m:\u001b[0m\u001b[0;34m\u001b[0m\u001b[0m\n\u001b[1;32m      4\u001b[0m             \u001b[0;32mprint\u001b[0m \u001b[0matom\u001b[0m\u001b[0;34m,\u001b[0m \u001b[0matomLabel\u001b[0m\u001b[0;34m\u001b[0m\u001b[0m\n",
      "\u001b[0;31mNameError\u001b[0m: name 'product' is not defined"
     ]
    }
   ],
   "source": [
    "for atom in product.atoms:\n",
    "    for atomLabel in reaction.labeledAtoms:\n",
    "        if atom == atomLabel[1]:\n",
    "            print atom, atomLabel"
   ]
  },
  {
   "cell_type": "code",
   "execution_count": 15,
   "metadata": {
    "collapsed": false
   },
   "outputs": [
    {
     "ename": "NameError",
     "evalue": "name 'reactionList' is not defined",
     "output_type": "error",
     "traceback": [
      "\u001b[0;31m---------------------------------------------------------------------------\u001b[0m",
      "\u001b[0;31mNameError\u001b[0m                                 Traceback (most recent call last)",
      "\u001b[0;32m<ipython-input-15-9fbe0aacffcc>\u001b[0m in \u001b[0;36m<module>\u001b[0;34m()\u001b[0m\n\u001b[0;32m----> 1\u001b[0;31m \u001b[0;32mfor\u001b[0m \u001b[0mreaction\u001b[0m \u001b[0;32min\u001b[0m \u001b[0mreactionList\u001b[0m\u001b[0;34m:\u001b[0m\u001b[0;34m\u001b[0m\u001b[0m\n\u001b[0m\u001b[1;32m      2\u001b[0m     \u001b[0;31m# Check if any of the RMG proposed reactions matches the reaction in the mechanism\u001b[0m\u001b[0;34m\u001b[0m\u001b[0;34m\u001b[0m\u001b[0m\n\u001b[1;32m      3\u001b[0m     \u001b[0;32mif\u001b[0m \u001b[0mtestReaction\u001b[0m\u001b[0;34m.\u001b[0m\u001b[0misIsomorphic\u001b[0m\u001b[0;34m(\u001b[0m\u001b[0mreaction\u001b[0m\u001b[0;34m)\u001b[0m\u001b[0;34m:\u001b[0m\u001b[0;34m\u001b[0m\u001b[0m\n\u001b[1;32m      4\u001b[0m         \u001b[0;32mprint\u001b[0m \u001b[0;34m\"Yay\"\u001b[0m\u001b[0;34m\u001b[0m\u001b[0m\n\u001b[1;32m      5\u001b[0m         \u001b[0mrxn\u001b[0m \u001b[0;34m=\u001b[0m \u001b[0mreaction\u001b[0m\u001b[0;34m\u001b[0m\u001b[0m\n",
      "\u001b[0;31mNameError\u001b[0m: name 'reactionList' is not defined"
     ]
    }
   ],
   "source": [
    "for reaction in reactionList:\n",
    "    # Check if any of the RMG proposed reactions matches the reaction in the mechanism\n",
    "    if testReaction.isIsomorphic(reaction):\n",
    "        print \"Yay\"\n",
    "        rxn = reaction\n",
    "testReaction"
   ]
  },
  {
   "cell_type": "code",
   "execution_count": 8,
   "metadata": {
    "collapsed": false
   },
   "outputs": [
    {
     "ename": "NameError",
     "evalue": "name 'view_mol' is not defined",
     "output_type": "error",
     "traceback": [
      "\u001b[0;31m---------------------------------------------------------------------------\u001b[0m",
      "\u001b[0;31mNameError\u001b[0m                                 Traceback (most recent call last)",
      "\u001b[0;32m<ipython-input-8-b648f3d0deed>\u001b[0m in \u001b[0;36m<module>\u001b[0;34m()\u001b[0m\n\u001b[0;32m----> 1\u001b[0;31m \u001b[0mview_mol\u001b[0m\u001b[0;34m(\u001b[0m\u001b[0mtsRDMol\u001b[0m\u001b[0;34m)\u001b[0m\u001b[0;34m\u001b[0m\u001b[0m\n\u001b[0m",
      "\u001b[0;31mNameError\u001b[0m: name 'view_mol' is not defined"
     ]
    }
   ],
   "source": [
    "view_mol(tsRDMol)"
   ]
  },
  {
   "cell_type": "code",
   "execution_count": null,
   "metadata": {
    "collapsed": true
   },
   "outputs": [],
   "source": []
  }
 ],
 "metadata": {
  "kernelspec": {
   "display_name": "Python 2",
   "language": "python",
   "name": "python2"
  },
  "language_info": {
   "codemirror_mode": {
    "name": "ipython",
    "version": 2
   },
   "file_extension": ".py",
   "mimetype": "text/x-python",
   "name": "python",
   "nbconvert_exporter": "python",
   "pygments_lexer": "ipython2",
   "version": "2.7.12"
  }
 },
 "nbformat": 4,
 "nbformat_minor": 2
}
