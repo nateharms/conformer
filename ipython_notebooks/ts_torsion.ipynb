{
 "cells": [
  {
   "cell_type": "markdown",
   "metadata": {},
   "source": [
    "# A notebook to find the lowest energy conformer of a TS\n",
    "\n",
    "This notebook will be similar to the `molecule_torsion` notebook but will require more setup to get the a rough TS geometry.\n",
    "\n",
    "The step we plan to do are as follows:\n",
    "\n",
    "1) Create a reasonable TS geometry using the existing framework provided in AutoTST\n",
    "\n",
    "2) Add pseudo bonds the `reactants` molecule where the `1*`, `2*`, and `3*` atoms are\n",
    "\n",
    "3) Identify all possible torsions\n",
    "\n",
    "4) Run through all the possible conformers and calculate the lowest energy conformer from RDKit\n",
    "\n",
    "For step for, we will do a systematic operation of adding the pseudo bonds to the molecule, setting the torsions, deleting the pseudo bonds, and calculating the energy. This will be done for each conformer and _ideally_ the lowest energy conformer would be further optimized using a quantum package\n",
    "\n",
    "#### NOTE: We may also need to look at the angle created by `1*`, `2*`, and `3*` ~ This will be studied once the torsional part is up and running"
   ]
  },
  {
   "cell_type": "code",
   "execution_count": 1,
   "metadata": {
    "collapsed": false
   },
   "outputs": [
    {
     "name": "stderr",
     "output_type": "stream",
     "text": [
      "/Users/nathan/anaconda/envs/rmg_env/lib/python2.7/site-packages/matplotlib/font_manager.py:273: UserWarning: Matplotlib is building the font cache using fc-list. This may take a moment.\n",
      "  warnings.warn('Matplotlib is building the font cache using fc-list. This may take a moment.')\n"
     ]
    }
   ],
   "source": [
    "import os\n",
    "import sys\n",
    "import cPickle as pkl\n",
    "import logging\n",
    "FORMAT = \"%(filename)s:%(lineno)d %(funcName)s %(levelname)s %(message)s\"\n",
    "logging.basicConfig(format=FORMAT, level=logging.INFO)\n",
    "\n",
    "import re\n",
    "import imp\n",
    "import itertools\n",
    "import random\n",
    "import numpy as np\n",
    "from numpy import array\n",
    "import pandas as pd\n",
    "import matplotlib\n",
    "matplotlib.use('Agg')\n",
    "%matplotlib inline\n",
    "from matplotlib import pyplot as plt\n",
    "import seaborn as sns\n",
    "\n",
    "\n",
    "# do this before we have a chance to import openbabel!\n",
    "import rdkit, rdkit.Chem.rdDistGeom, rdkit.DistanceGeometry\n",
    "\n",
    "from rdkit import Chem\n",
    "from rdkit.Chem import AllChem\n",
    "from rdkit.Chem import Draw\n",
    "from rdkit.Chem.Draw import IPythonConsole\n",
    "from rdkit import rdBase\n",
    "from rdkit.Chem.rdMolTransforms import *\n",
    "\n",
    "import py3Dmol\n",
    "\n",
    "from rmgpy.molecule import Molecule\n",
    "from rmgpy.species import Species\n",
    "from rmgpy.reaction import Reaction\n",
    "from rmgpy.kinetics import PDepArrhenius, PDepKineticsModel\n",
    "\n",
    "from rmgpy.data.rmg import RMGDatabase\n",
    "from rmgpy.data.kinetics import KineticsDepository, KineticsRules\n",
    "from rmgpy.qm.main import QMCalculator, QMSettings\n",
    "from rmgpy.qm.qmdata import QMData\n",
    "from rmgpy.qm.reaction import QMReaction\n",
    "from rmgpy.qm.molecule import QMMolecule\n"
   ]
  },
  {
   "cell_type": "code",
   "execution_count": 2,
   "metadata": {
    "collapsed": false
   },
   "outputs": [
    {
     "name": "stderr",
     "output_type": "stream",
     "text": [
      "thermo.py:760 loadLibraries INFO Loading thermodynamics library from CBS_QB3_1dHR.py in /Users/nathan/Code/RMG-database/input/thermo/libraries...\n",
      "thermo.py:760 loadLibraries INFO Loading thermodynamics library from KlippensteinH2O2.py in /Users/nathan/Code/RMG-database/input/thermo/libraries...\n",
      "thermo.py:760 loadLibraries INFO Loading thermodynamics library from primaryThermoLibrary.py in /Users/nathan/Code/RMG-database/input/thermo/libraries...\n",
      "thermo.py:760 loadLibraries INFO Loading thermodynamics library from thermo_DFT_CCSDTF12_BAC.py in /Users/nathan/Code/RMG-database/input/thermo/libraries...\n",
      "thermo.py:774 loadGroups INFO Loading thermodynamics group database from /Users/nathan/Code/RMG-database/input/thermo/groups...\n"
     ]
    },
    {
     "name": "stdout",
     "output_type": "stream",
     "text": [
      "Loading RMG Database ...\n",
      "/Users/nathan/Code/RMG-database/input\n"
     ]
    },
    {
     "name": "stderr",
     "output_type": "stream",
     "text": [
      "transport.py:294 loadGroups INFO Loading transport group database from /Users/nathan/Code/RMG-database/input/transport/groups...\n",
      "database.py:165 loadFamilies INFO Loading the user-specified kinetics families from /Users/nathan/Code/RMG-database/input/kinetics/families\n",
      "statmech.py:526 loadGroups INFO Loading frequencies group database from /Users/nathan/Code/RMG-database/input/statmech/groups...\n"
     ]
    },
    {
     "name": "stdout",
     "output_type": "stream",
     "text": [
      "RMG Database Loaded\n"
     ]
    }
   ],
   "source": [
    "rxnFamily = ['H_Abstraction']\n",
    "print('Loading RMG Database ...')\n",
    "rmgDatabase = RMGDatabase()\n",
    "databasePath = os.path.abspath(os.path.join(os.getenv('RMGpy', '..'), '..', 'RMG-database', 'input'))\n",
    "print(databasePath)\n",
    "rmgDatabase.load(databasePath,\n",
    "                 kineticsFamilies=rxnFamily,\n",
    "                 transportLibraries=[],\n",
    "                 reactionLibraries=[],\n",
    "                 seedMechanisms=[],\n",
    "                 thermoLibraries=['primaryThermoLibrary', 'KlippensteinH2O2', 'thermo_DFT_CCSDTF12_BAC', 'CBS_QB3_1dHR' ],\n",
    "                 solvation=False,\n",
    "                 )\n",
    "print('RMG Database Loaded')\n",
    "\n",
    "\n",
    "## We are using a ts Pickle from discovery. \n",
    "## I was running into issues performing ts opts locally, so this is a workaround\n",
    "f = open(\"../tsDatabase.pkl\", \"r\")\n",
    "tsDatabase = pkl.load(f)\n",
    "\n",
    "settings = QMSettings(\n",
    "    software='gaussian',\n",
    "    method='m062x',\n",
    "    fileStore=os.path.expandvars('.'),\n",
    "    scratchDirectory=os.path.expandvars('.'),\n",
    "    )"
   ]
  },
  {
   "cell_type": "code",
   "execution_count": 3,
   "metadata": {
    "collapsed": true
   },
   "outputs": [],
   "source": [
    "def view_mol(mol):\n",
    "    \"\"\"\n",
    "    A function designed to visulaize rdkit molecules\n",
    "    \n",
    "    Input: mol (an rdkit molecule object)\n",
    "    \n",
    "    Output: 3D figure of the molecule from py3Dmol\n",
    "    \n",
    "    \"\"\"\n",
    "    mb  = Chem.MolToMolBlock(mol)\n",
    "    p = py3Dmol.view(width=400, height=400)\n",
    "    p.addModel(mb, \"sdf\")\n",
    "    p.setStyle({'stick':{}})\n",
    "    p.setBackgroundColor('0xeeeeee')\n",
    "    p.zoomTo()\n",
    "    return p.show()"
   ]
  },
  {
   "cell_type": "code",
   "execution_count": 4,
   "metadata": {
    "collapsed": true
   },
   "outputs": [],
   "source": [
    "def calc_energy(mol):\n",
    "    \"\"\"\n",
    "    A function designed to calculate the energy of a molecule or TS\n",
    "    \n",
    "    Input: rdkit molecule object\n",
    "    \n",
    "    Output: energy of the geometry calculated using rdkit's forcefield method\n",
    "    \"\"\"\n",
    "    try:\n",
    "        molprop = rdkit.Chem.ChemicalForceFields.MMFFGetMoleculeProperties(mol)\n",
    "    except:\n",
    "    \n",
    "        # Picking an arbitrarly large molecule to create a dummy mol properties forcefield object\n",
    "        test_mol = Chem.AddHs(Chem.MolFromSmiles(\n",
    "            \"COC(=O)Cc1ccccc1CC2CC(O)C(C(=C)CC#CCC=O)C2OO\"\n",
    "        ))\n",
    "        \n",
    "        molprop = rdkit.Chem.ChemicalForceFields.MMFFGetMoleculeProperties(test_mol)\n",
    "    ff = rdkit.Chem.ChemicalForceFields.MMFFGetMoleculeForceField(mol, molprop)\n",
    "    return ff.CalcEnergy()"
   ]
  },
  {
   "cell_type": "markdown",
   "metadata": {},
   "source": [
    "## Creating a reaction to test"
   ]
  },
  {
   "cell_type": "code",
   "execution_count": 5,
   "metadata": {
    "collapsed": false
   },
   "outputs": [
    {
     "data": {
      "image/png": "[encoded data removed]",
      "text/plain": [
       "Reaction(reactants=[Molecule(SMILES=\"CCCCCC\"), Molecule(SMILES=\"[O]O\")], products=[Molecule(SMILES=\"OO\"), Molecule(SMILES=\"[CH2]CCCCC\")])"
      ]
     },
     "execution_count": 5,
     "metadata": {},
     "output_type": "execute_result"
    }
   ],
   "source": [
    "rSpecies1 = Molecule(SMILES=\"CCCCCC\")\n",
    "rSpecies2 = Molecule(SMILES=\"[O]O\")\n",
    "pSpecies2 = Molecule(SMILES=\"[CH2]CCCCC\")\n",
    "pSpecies1 = Molecule(SMILES=\"OO\")\n",
    "\n",
    "\n",
    "oohReaction = Reaction(reactants=[rSpecies1, rSpecies2], products=[pSpecies1, pSpecies2], reversible=True)\n",
    "oohReaction"
   ]
  },
  {
   "cell_type": "code",
   "execution_count": 6,
   "metadata": {
    "collapsed": false
   },
   "outputs": [
    {
     "name": "stderr",
     "output_type": "stream",
     "text": [
      "<ipython-input-6-ade7a37b092a>:17 <module> INFO generateReactionsFromFamilies successfuly performed\n"
     ]
    },
    {
     "name": "stdout",
     "output_type": "stream",
     "text": [
      "[Reaction(reactants=[Molecule(SMILES=\"CCCCCC\"), Molecule(SMILES=\"[O]O\")], products=[Molecule(SMILES=\"OO\"), Molecule(SMILES=\"CC[CH]CCC\")], degeneracy=4, pairs=[[Molecule(SMILES=\"CCCCCC\"), Molecule(SMILES=\"CC[CH]CCC\")], [Molecule(SMILES=\"[O]O\"), Molecule(SMILES=\"OO\")]]), Reaction(reactants=[Molecule(SMILES=\"CCCCCC\"), Molecule(SMILES=\"[O]O\")], products=[Molecule(SMILES=\"OO\"), Molecule(SMILES=\"C[CH]CCCC\")], degeneracy=4, pairs=[[Molecule(SMILES=\"CCCCCC\"), Molecule(SMILES=\"C[CH]CCCC\")], [Molecule(SMILES=\"[O]O\"), Molecule(SMILES=\"OO\")]]), Reaction(reactants=[Molecule(SMILES=\"CCCCCC\"), Molecule(SMILES=\"[O]O\")], products=[Molecule(SMILES=\"OO\"), Molecule(SMILES=\"[CH2]CCCCC\")], degeneracy=6, pairs=[[Molecule(SMILES=\"CCCCCC\"), Molecule(SMILES=\"[CH2]CCCCC\")], [Molecule(SMILES=\"[O]O\"), Molecule(SMILES=\"OO\")]])]\n"
     ]
    }
   ],
   "source": [
    "rxnFamily = \"H_Abstraction\"\n",
    "rSpecies1, rSpecies2 = oohReaction.reactants\n",
    "pSpecies1, pSpecies2 = oohReaction.products\n",
    "\n",
    "rSpecies1.generateResonanceIsomers()\n",
    "rSpecies2.generateResonanceIsomers()\n",
    "pSpecies1.generateResonanceIsomers()\n",
    "pSpecies2.generateResonanceIsomers()\n",
    "\n",
    "testReaction = Reaction(reactants=[rSpecies1, rSpecies2], products=[pSpecies1, pSpecies2], reversible=True)\n",
    "reactionList = []\n",
    "\"\"\"for moleculeA in rSpecies1.molecule:\n",
    "    for moleculeB in rSpecies2.molecule:\"\"\"\n",
    "tempList = rmgDatabase.kinetics.generateReactionsFromFamilies([rSpecies1, rSpecies2], [], only_families=[rxnFamily])\n",
    "for rxn0 in tempList:\n",
    "    reactionList.append(rxn0)\n",
    "logging.info(\"generateReactionsFromFamilies successfuly performed\")\n",
    "print reactionList\n"
   ]
  },
  {
   "cell_type": "markdown",
   "metadata": {},
   "source": [
    "## Labeling the atoms in the reaction"
   ]
  },
  {
   "cell_type": "code",
   "execution_count": 7,
   "metadata": {
    "collapsed": false
   },
   "outputs": [
    {
     "name": "stdout",
     "output_type": "stream",
     "text": [
      "Found matching reaction\n"
     ]
    },
    {
     "data": {
      "image/png": "[encoded data removed]",
      "text/plain": [
       "Reaction(reactants=[Molecule(SMILES=\"CCCCCC\"), Molecule(SMILES=\"[O]O\")], products=[Molecule(SMILES=\"OO\"), Molecule(SMILES=\"[CH2]CCCCC\")])"
      ]
     },
     "execution_count": 7,
     "metadata": {},
     "output_type": "execute_result"
    }
   ],
   "source": [
    "\n",
    "gotOne=False\n",
    "for reaction in reactionList:\n",
    "    # Check if any of the RMG proposed reactions matches the reaction in the mechanism\n",
    "    if testReaction.isIsomorphic(reaction):\n",
    "        print \"Found matching reaction\"\n",
    "        # Now add the labeled atoms to the Molecule, and check all labels were added\n",
    "        atLblsR = dict([(lbl[0], False) for lbl in reaction.labeledAtoms])\n",
    "        atLblsP = dict([(lbl[0], False) for lbl in reaction.labeledAtoms])\n",
    "\n",
    "        for reactant in reaction.reactants:\n",
    "\n",
    "            reactant.clearLabeledAtoms()\n",
    "            for atom in reactant.atoms:\n",
    "                for atomLabel in reaction.labeledAtoms:\n",
    "                    if atom==atomLabel[1]:\n",
    "                        atom.label = atomLabel[0]\n",
    "                        atLblsR[atomLabel[0]] = True\n",
    "        for product in reaction.products:\n",
    "\n",
    "            product.clearLabeledAtoms()\n",
    "            for atom in product.atoms:\n",
    "                for atomLabel in reaction.labeledAtoms:\n",
    "                    if atom==atomLabel[1]:\n",
    "                        atom.label = atomLabel[0]\n",
    "                        atLblsP[atomLabel[0]] = True\n",
    "        if all( atLblsR.values() ) and all( atLblsP.values() ):\n",
    "            gotOne=True\n",
    "            break\n",
    "rxn = testReaction\n",
    "rxn"
   ]
  },
  {
   "cell_type": "markdown",
   "metadata": {},
   "source": [
    "## Ripping this from the AutoTST submit scripts... There is def some redundance from above, but I'm not sure what exactly"
   ]
  },
  {
   "cell_type": "code",
   "execution_count": 8,
   "metadata": {
    "collapsed": false
   },
   "outputs": [
    {
     "name": "stderr",
     "output_type": "stream",
     "text": [
      "<ipython-input-8-2740c8bb36db>:5 performCalcs INFO chemkinRxn: Reaction(reactants=[Molecule(SMILES=\"CCCCCC\"), Molecule(SMILES=\"[O]O\")], products=[Molecule(SMILES=\"OO\"), Molecule(SMILES=\"[CH2]CCCCC\")])\n",
      "<ipython-input-8-2740c8bb36db>:7 performCalcs INFO Ensuring resonance isomers have been generated\n",
      "<ipython-input-8-2740c8bb36db>:26 performCalcs INFO Generated one reaction:\n",
      "<ipython-input-8-2740c8bb36db>:27 performCalcs INFO [Reaction(reactants=[Molecule(SMILES=\"CCCCCC\"), Molecule(SMILES=\"[O]O\")], products=[Molecule(SMILES=\"OO\"), Molecule(SMILES=\"[CH2]CCCCC\")], degeneracy=6, pairs=[[Molecule(SMILES=\"CCCCCC\"), Molecule(SMILES=\"[CH2]CCCCC\")], [Molecule(SMILES=\"[O]O\"), Molecule(SMILES=\"OO\")]])]\n"
     ]
    },
    {
     "name": "stdout",
     "output_type": "stream",
     "text": [
      "<type 'rmgpy.molecule.molecule.Molecule'>\n",
      "<type 'rmgpy.molecule.molecule.Molecule'>\n",
      "<type 'rmgpy.molecule.molecule.Molecule'>\n",
      "<type 'rmgpy.molecule.molecule.Molecule'>\n",
      "[Molecule(SMILES=\"CCCCCC\"), Molecule(SMILES=\"[O]O\")]\n",
      "[Molecule(SMILES=\"OO\"), Molecule(SMILES=\"[CH2]CCCCC\")]\n"
     ]
    },
    {
     "name": "stderr",
     "output_type": "stream",
     "text": [
      "<ipython-input-8-2740c8bb36db>:36 performCalcs INFO The reaction of interest is as follows: \n",
      "<ipython-input-8-2740c8bb36db>:37 performCalcs INFO <Molecule \"CCCCCC\"> + <Molecule \"[O]O\"> <=> <Molecule \"OO\"> + <Molecule \"[CH2]CCCCC\">\n",
      "<ipython-input-8-2740c8bb36db>:39 performCalcs INFO asserting that the testReaction is Isomorphic\n",
      "<ipython-input-8-2740c8bb36db>:41 performCalcs INFO reaction: Reaction(reactants=[Molecule(SMILES=\"CCCCCC\"), Molecule(SMILES=\"[O]O\")], products=[Molecule(SMILES=\"OO\"), Molecule(SMILES=\"[CH2]CCCCC\")], degeneracy=6, pairs=[[Molecule(SMILES=\"CCCCCC\"), Molecule(SMILES=\"[CH2]CCCCC\")], [Molecule(SMILES=\"[O]O\"), Molecule(SMILES=\"OO\")]])\n",
      "<ipython-input-8-2740c8bb36db>:47 performCalcs INFO Labeling reactant atoms\n",
      "<ipython-input-8-2740c8bb36db>:57 performCalcs INFO Labeling product atoms\n"
     ]
    },
    {
     "data": {
      "text/plain": [
       "<rmgpy.qm.reaction.QMReaction instance at 0x114cdfea8>"
      ]
     },
     "execution_count": 8,
     "metadata": {},
     "output_type": "execute_result"
    }
   ],
   "source": [
    "\n",
    "def performCalcs(chemkinRxn):\n",
    "    rxnFamily = \"H_Abstraction\"\n",
    "    rxnFamilies = ['H_Abstraction']\n",
    "    logging.info(\"chemkinRxn: {!r}\".format(chemkinRxn))\n",
    "    # Ensure all resonance isomers have been generated\n",
    "    logging.info('Ensuring resonance isomers have been generated')\n",
    "    for species in itertools.chain(chemkinRxn.reactants, chemkinRxn.products):\n",
    "        print(type(species))\n",
    "        species = species.generateResonanceIsomers()\n",
    "\n",
    "    testReaction = Reaction(reactants=chemkinRxn.reactants, products=chemkinRxn.products, reversible=True)\n",
    "\n",
    "    reactants = [species for species in chemkinRxn.reactants]\n",
    "    # reactant_molecules is a list of lists of resonance isomers,\n",
    "    # eg. a bimolecular reaction where the second reactant has 2 isomers is: [[r1],[r2i1,r2i2]]\n",
    "\n",
    "    products = [species for species in chemkinRxn.products]\n",
    "    # products is a list of molecule objects (only one resonance form of each product), eg [p1, p2]\n",
    "    print reactants\n",
    "    #print type(reactant_molecules[0])\n",
    "    print products\n",
    "\n",
    "    checkRxn = rmgDatabase.kinetics.generateReactionsFromFamilies(reactants, products, only_families=rxnFamilies)# reversible=True)\n",
    "    if len(checkRxn) == 1:\n",
    "        logging.info(\"Generated one reaction:\")\n",
    "        logging.info(checkRxn)\n",
    "        reaction = checkRxn[0]\n",
    "    else:  # didn't break from for loop\n",
    "        for reaction in checkRxn:\n",
    "            logging.info(\"Generated these reactions:\")\n",
    "            logging.info(reaction)\n",
    "            reaction = checkRxn[0]\n",
    "        raise Exception(\"Couldn't generate exactly one reaction matching {} in family {}\".format(chemkinRxn, rxnFamilies))\n",
    "\n",
    "    logging.info(\"The reaction of interest is as follows: \")\n",
    "    logging.info(reaction)\n",
    "\n",
    "    logging.info(\"asserting that the testReaction is Isomorphic\")\n",
    "    assert testReaction.isIsomorphic(reaction)\n",
    "    logging.info(\"reaction: {!r}\".format(reaction))\n",
    "\n",
    "    atLblsR = dict([(lbl[0], False) for lbl in reaction.labeledAtoms])\n",
    "    atLblsP = dict([(lbl[0], False) for lbl in reaction.labeledAtoms])\n",
    "\n",
    "    gotOne = False\n",
    "    logging.info(\"Labeling reactant atoms\")\n",
    "    for reactant in reaction.reactants:\n",
    "        reactant = reactant\n",
    "        reactant.clearLabeledAtoms()\n",
    "        for atom in reactant.atoms:\n",
    "            for atomLabel in reaction.labeledAtoms:\n",
    "                if atom == atomLabel[1]:\n",
    "                    atom.label = atomLabel[0]\n",
    "                    atLblsR[atomLabel[0]] = True\n",
    "\n",
    "    logging.info(\"Labeling product atoms\")\n",
    "    for product in reaction.products:\n",
    "        product = product\n",
    "        product.clearLabeledAtoms()\n",
    "        for atom in product.atoms:\n",
    "            for atomLabel in reaction.labeledAtoms:\n",
    "                if atom == atomLabel[1]:\n",
    "                    atom.label = atomLabel[0]\n",
    "                    atLblsP[atomLabel[0]] = True\n",
    "\n",
    "    if all(atLblsR.values()) and all(atLblsP.values()):\n",
    "        gotOne = True\n",
    "\n",
    "    rxnFamily = reaction.family\n",
    "    return reaction\n",
    "\n",
    "rxn = performCalcs(rxn)\n",
    "rxn = QMReaction(reaction=rxn, settings=settings, tsDatabase=tsDatabase)\n",
    "rxn"
   ]
  },
  {
   "cell_type": "markdown",
   "metadata": {},
   "source": [
    "## Making a single RDKit molecule from the RMG QM reaction"
   ]
  },
  {
   "cell_type": "code",
   "execution_count": 9,
   "metadata": {
    "collapsed": false
   },
   "outputs": [
    {
     "data": {
      "text/html": [
       "<div id=\"3dmolviewer_151060943485\"  style=\"position: relative; width: 400px; height: 400px\">\n",
       "<script>\n",
       "if(typeof $3Dmolpromise === 'undefined') $3Dmolpromise = $.when($.getScript('https://3dmol.csb.pitt.edu/build/3Dmol.js'))\n",
       "var viewer_151060943485 = null;\n",
       "$3Dmolpromise.done(function() {\n",
       "viewer_151060943485 = $3Dmol.createViewer($(\"#3dmolviewer_151060943485\"),{backgroundColor:\"white\"});\n",
       "\tviewer_151060943485.addModel(\"\\n     RDKit          3D\\n\\n 23 21  0  0  0  0  0  0  0  0999 V2000\\n    0.7484   -0.4608    0.7823 C   0  0  0  0  0  0  0  0  0  0  0  0\\n   -0.4702    0.2347    0.2456 C   0  0  0  0  0  0  0  0  0  0  0  0\\n    1.8360   -0.5315   -0.2823 C   0  0  0  0  0  0  0  0  0  0  0  0\\n   -1.6572   -0.6769    0.0836 C   0  0  0  0  0  0  0  0  0  0  0  0\\n    2.4296    0.8442   -0.5453 C   0  0  0  0  0  0  0  0  0  0  0  0\\n   -2.8447    0.2047   -0.2702 C   0  0  0  0  0  0  0  0  0  0  0  0\\n    1.4438   -0.9930   -1.1991 H   0  0  0  0  0  0  0  0  0  0  0  0\\n    2.6777   -1.1471    0.1212 H   0  0  0  0  0  0  0  0  0  0  0  0\\n    1.1813    0.1541    1.6117 H   0  0  0  0  0  0  0  0  0  0  0  0\\n    0.5531   -1.4646    1.1860 H   0  0  0  0  0  0  0  0  0  0  0  0\\n   -0.7325    1.0946    0.8866 H   0  0  0  0  0  0  0  0  0  0  0  0\\n   -0.2504    0.6450   -0.7727 H   0  0  0  0  0  0  0  0  0  0  0  0\\n   -1.9278   -1.2249    0.9971 H   0  0  0  0  0  0  0  0  0  0  0  0\\n   -1.4584   -1.4088   -0.7264 H   0  0  0  0  0  0  0  0  0  0  0  0\\n    2.8307    1.2275    0.4201 H   0  0  0  0  0  0  0  0  0  0  0  0\\n    1.6996    1.5341   -1.0117 H   0  0  0  0  0  0  0  0  0  0  0  0\\n    3.3108    0.6644   -1.2122 H   0  0  0  0  0  0  0  0  0  0  0  0\\n   -2.5619    0.8388   -1.1296 H   0  0  0  0  0  0  0  0  0  0  0  0\\n   -3.0403    0.8585    0.6156 H   0  0  0  0  0  0  0  0  0  0  0  0\\n   -3.7676   -0.3933   -0.4514 H   0  0  0  0  0  0  0  0  0  0  0  0\\n   -0.1622    0.4439   -0.0000 O   0  0  0  0  0  0  0  0  0  0  0  0\\n    1.0134   -0.1641    0.0000 O   0  0  0  0  0  1  0  0  0  0  0  0\\n   -0.8512   -0.2798   -0.0000 H   0  0  0  0  0  0  0  0  0  0  0  0\\n  1  3  1  0\\n  1  2  1  0\\n  1 10  1  0\\n  1  9  1  0\\n  2 12  1  0\\n  2  4  1  0\\n  2 11  1  0\\n  3  5  1  0\\n  3  7  1  0\\n  3  8  1  0\\n  4 13  1  0\\n  4 14  1  0\\n  4  6  1  0\\n  5 15  1  0\\n  5 16  1  0\\n  5 17  1  0\\n  6 19  1  0\\n  6 20  1  0\\n  6 18  1  0\\n 21 22  1  0\\n 21 23  1  0\\nM  RAD  1  22   2\\nM  END\\n\",\"sdf\");\n",
       "\tviewer_151060943485.setStyle({\"stick\": {}});\n",
       "\tviewer_151060943485.setBackgroundColor(\"0xeeeeee\");\n",
       "\tviewer_151060943485.zoomTo();\n",
       "viewer_151060943485.render();\n",
       "});\n",
       "</script>"
      ],
      "text/plain": [
       "<IPython.core.display.HTML object>"
      ]
     },
     "execution_count": 9,
     "metadata": {},
     "output_type": "execute_result"
    }
   ],
   "source": [
    "\n",
    "reactant, product = rxn.setupMolecules()\n",
    "mol = reactant.toRDKitMol(removeHs=False)\n",
    "AllChem.EmbedMolecule(mol)\n",
    "view_mol(mol)"
   ]
  },
  {
   "cell_type": "markdown",
   "metadata": {},
   "source": [
    "## Creating a reasionable goemetry"
   ]
  },
  {
   "cell_type": "markdown",
   "metadata": {},
   "source": [
    "#### For some reason, the following cell won't successfully complete unless you run it twice... There's a bug here but I'll address it later"
   ]
  },
  {
   "cell_type": "code",
   "execution_count": 10,
   "metadata": {
    "collapsed": false
   },
   "outputs": [
    {
     "name": "stderr",
     "output_type": "stream",
     "text": [
      "reaction.py:300 generateBoundsMatrix INFO Generating bounds matrix for CCCCCC.[O]O\n",
      "reaction.py:338 bmPreEdit INFO Changing lower limit 2.9 to 2.393074\n",
      "reaction.py:338 bmPreEdit INFO Changing lower limit 3.65 to 3.26214059416\n",
      "reaction.py:338 bmPreEdit INFO Changing lower limit 2.520343 to 2.457475\n"
     ]
    },
    {
     "data": {
      "text/html": [
       "<div id=\"3dmolviewer_151060944182\"  style=\"position: relative; width: 400px; height: 400px\">\n",
       "<script>\n",
       "if(typeof $3Dmolpromise === 'undefined') $3Dmolpromise = $.when($.getScript('https://3dmol.csb.pitt.edu/build/3Dmol.js'))\n",
       "var viewer_151060944182 = null;\n",
       "$3Dmolpromise.done(function() {\n",
       "viewer_151060944182 = $3Dmol.createViewer($(\"#3dmolviewer_151060944182\"),{backgroundColor:\"white\"});\n",
       "\tviewer_151060944182.addModel(\"\\n     RDKit          3D\\n\\n 23 21  0  0  0  0  0  0  0  0999 V2000\\n   -0.6901    0.5233    0.5965 C   0  0  0  0  0  0  0  0  0  0  0  0\\n   -1.4411   -0.7576    0.1953 C   0  0  0  0  0  0  0  0  0  0  0  0\\n    0.2835    1.0073   -0.4852 C   0  0  0  0  0  0  0  0  0  0  0  0\\n   -0.5314   -1.9989    0.0845 C   0  0  0  0  0  0  0  0  0  0  0  0\\n    0.8681    2.3682   -0.1239 C   0  0  0  0  0  0  0  0  0  0  0  0\\n   -0.2047   -2.3537   -1.3661 C   0  0  0  0  0  0  0  0  0  0  0  0\\n    1.1220    0.2865   -0.5853 H   0  0  0  0  0  0  0  0  0  0  0  0\\n   -0.2420    1.0880   -1.4616 H   0  0  0  0  0  0  0  0  0  0  0  0\\n   -1.4466    1.3170    0.7835 H   0  0  0  0  0  0  0  0  0  0  0  0\\n   -0.1410    0.3526    1.5486 H   0  0  0  0  0  0  0  0  0  0  0  0\\n   -2.0073   -0.5853   -0.7468 H   0  0  0  0  0  0  0  0  0  0  0  0\\n   -2.1996   -0.9552    0.9843 H   0  0  0  0  0  0  0  0  0  0  0  0\\n    0.4127   -1.8563    0.6538 H   0  0  0  0  0  0  0  0  0  0  0  0\\n   -1.0546   -2.8700    0.5361 H   0  0  0  0  0  0  0  0  0  0  0  0\\n    1.5236    2.2919    1.0752 H   0  0  0  0  0  0  0  0  0  0  0  0\\n    0.0624    3.1300   -0.0553 H   0  0  0  0  0  0  0  0  0  0  0  0\\n    1.5899    2.6837   -0.9065 H   0  0  0  0  0  0  0  0  0  0  0  0\\n   -1.1364   -2.5960   -1.9204 H   0  0  0  0  0  0  0  0  0  0  0  0\\n    0.3111   -1.5151   -1.8758 H   0  0  0  0  0  0  0  0  0  0  0  0\\n    0.4599   -3.2428   -1.3895 H   0  0  0  0  0  0  0  0  0  0  0  0\\n    1.4510    1.1130    1.0231 O   0  0  0  0  0  0  0  0  0  0  0  0\\n    2.2721    1.7802    1.8058 O   0  0  0  0  0  1  0  0  0  0  0  0\\n    0.7384    0.7891    1.6296 H   0  0  0  0  0  0  0  0  0  0  0  0\\n  1  3  1  0\\n  1  2  1  0\\n  1 10  1  0\\n  1  9  1  0\\n  2 12  1  0\\n  2  4  1  0\\n  2 11  1  0\\n  3  5  1  0\\n  3  7  1  0\\n  3  8  1  0\\n  4 13  1  0\\n  4 14  1  0\\n  4  6  1  0\\n  5 15  1  0\\n  5 16  1  0\\n  5 17  1  0\\n  6 19  1  0\\n  6 20  1  0\\n  6 18  1  0\\n 21 22  1  0\\n 21 23  1  0\\nM  RAD  1  22   2\\nM  END\\n\",\"sdf\");\n",
       "\tviewer_151060944182.setStyle({\"stick\": {}});\n",
       "\tviewer_151060944182.setBackgroundColor(\"0xeeeeee\");\n",
       "\tviewer_151060944182.zoomTo();\n",
       "viewer_151060944182.render();\n",
       "});\n",
       "</script>"
      ],
      "text/plain": [
       "<IPython.core.display.HTML object>"
      ]
     },
     "execution_count": 10,
     "metadata": {},
     "output_type": "execute_result"
    }
   ],
   "source": [
    "\n",
    "\n",
    "labels, atomMatch = rxn.getLabels(reactant)\n",
    "\n",
    "tsRDMol, bm, rxn.reactantGeom = rxn.generateBoundsMatrix(reactant)\n",
    "\n",
    "bm = rxn.editMatrix(reactant, bm, labels)\n",
    "\n",
    "tsRDMol = rxn.reactantGeom.rd_embed(tsRDMol, 15, bm=bm, match=atomMatch)[0]\n",
    "\n",
    "tsRDMol = rdkit.Chem.rdchem.RWMol(tsRDMol)\n",
    "\n",
    "view_mol(tsRDMol)"
   ]
  },
  {
   "cell_type": "markdown",
   "metadata": {},
   "source": [
    "## Checking that the atoming labeling matches what was given from AutoTST"
   ]
  },
  {
   "cell_type": "code",
   "execution_count": 11,
   "metadata": {
    "collapsed": false
   },
   "outputs": [
    {
     "data": {
      "text/html": [
       "<div id=\"3dmolviewer_151060944183\"  style=\"position: relative; width: 400px; height: 400px\">\n",
       "<script>\n",
       "if(typeof $3Dmolpromise === 'undefined') $3Dmolpromise = $.when($.getScript('https://3dmol.csb.pitt.edu/build/3Dmol.js'))\n",
       "var viewer_151060944183 = null;\n",
       "$3Dmolpromise.done(function() {\n",
       "viewer_151060944183 = $3Dmol.createViewer($(\"#3dmolviewer_151060944183\"),{backgroundColor:\"white\"});\n",
       "\tviewer_151060944183.addModel(\"\\n     RDKit          3D\\n\\n 23 21  0  0  0  0  0  0  0  0999 V2000\\n   -0.6901    0.5233    0.5965 C   0  0  0  0  0  0  0  0  0  0  0  0\\n   -1.4411   -0.7576    0.1953 C   0  0  0  0  0  0  0  0  0  0  0  0\\n    0.2835    1.0073   -0.4852 C   0  0  0  0  0  0  0  0  0  0  0  0\\n   -0.5314   -1.9989    0.0845 C   0  0  0  0  0  0  0  0  0  0  0  0\\n    0.8681    2.3682   -0.1239 C   0  0  0  0  0  0  0  0  0  0  0  0\\n   -0.2047   -2.3537   -1.3661 C   0  0  0  0  0  0  0  0  0  0  0  0\\n    1.1220    0.2865   -0.5853 H   0  0  0  0  0  0  0  0  0  0  0  0\\n   -0.2420    1.0880   -1.4616 H   0  0  0  0  0  0  0  0  0  0  0  0\\n   -1.4466    1.3170    0.7835 H   0  0  0  0  0  0  0  0  0  0  0  0\\n   -0.1410    0.3526    1.5486 H   0  0  0  0  0  0  0  0  0  0  0  0\\n   -2.0073   -0.5853   -0.7468 H   0  0  0  0  0  0  0  0  0  0  0  0\\n   -2.1996   -0.9552    0.9843 H   0  0  0  0  0  0  0  0  0  0  0  0\\n    0.4127   -1.8563    0.6538 H   0  0  0  0  0  0  0  0  0  0  0  0\\n   -1.0546   -2.8700    0.5361 H   0  0  0  0  0  0  0  0  0  0  0  0\\n    1.5236    2.2919    1.0752 H   0  0  0  0  0  0  0  0  0  0  0  0\\n    0.0624    3.1300   -0.0553 H   0  0  0  0  0  0  0  0  0  0  0  0\\n    1.5899    2.6837   -0.9065 H   0  0  0  0  0  0  0  0  0  0  0  0\\n   -1.1364   -2.5960   -1.9204 H   0  0  0  0  0  0  0  0  0  0  0  0\\n    0.3111   -1.5151   -1.8758 H   0  0  0  0  0  0  0  0  0  0  0  0\\n    0.4599   -3.2428   -1.3895 H   0  0  0  0  0  0  0  0  0  0  0  0\\n    1.4510    1.1130    1.0231 O   0  0  0  0  0  0  0  0  0  0  0  0\\n    2.2721    1.7802    1.8058 O   0  0  0  0  0  1  0  0  0  0  0  0\\n    0.7384    0.7891    1.6296 H   0  0  0  0  0  0  0  0  0  0  0  0\\n  1  3  1  0\\n  1  2  1  0\\n  1 10  1  0\\n  1  9  1  0\\n  2 12  1  0\\n  2  4  1  0\\n  2 11  1  0\\n  3  5  1  0\\n  3  7  1  0\\n  3  8  1  0\\n  4 13  1  0\\n  4 14  1  0\\n  4  6  1  0\\n  5 15  1  0\\n  5 16  1  0\\n  5 17  1  0\\n  6 19  1  0\\n  6 20  1  0\\n  6 18  1  0\\n 21 22  1  0\\n 21 23  1  0\\nM  RAD  1  22   2\\nM  END\\n\",\"sdf\");\n",
       "\tviewer_151060944183.setStyle({\"stick\": {}});\n",
       "\tviewer_151060944183.setBackgroundColor(\"0xeeeeee\");\n",
       "\tviewer_151060944183.zoomTo();\n",
       "viewer_151060944183.render();\n",
       "});\n",
       "</script>"
      ],
      "text/plain": [
       "<IPython.core.display.HTML object>"
      ]
     },
     "execution_count": 11,
     "metadata": {},
     "output_type": "execute_result"
    }
   ],
   "source": [
    "tsRDMol_copy = tsRDMol.__copy__() # making a copy of the TS so we don't need to kill the kernal over and over again\n",
    "# This is because of the above bug\n",
    "view_mol(tsRDMol_copy)"
   ]
  },
  {
   "cell_type": "markdown",
   "metadata": {},
   "source": [
    "#### Getting the `1*`, `2*`, and `3*` atoms"
   ]
  },
  {
   "cell_type": "code",
   "execution_count": 12,
   "metadata": {
    "collapsed": false,
    "scrolled": true
   },
   "outputs": [
    {
     "name": "stdout",
     "output_type": "stream",
     "text": [
      "0\n",
      "6\n",
      "\n",
      "<type 'str'>\n",
      "\n",
      "1\n",
      "6\n",
      "\n",
      "<type 'str'>\n",
      "\n",
      "2\n",
      "6\n",
      "\n",
      "<type 'str'>\n",
      "\n",
      "3\n",
      "6\n",
      "\n",
      "<type 'str'>\n",
      "\n",
      "4\n",
      "6\n",
      "*1\n",
      "<type 'str'>\n",
      "Yay\n",
      "\n",
      "5\n",
      "6\n",
      "\n",
      "<type 'str'>\n",
      "\n",
      "6\n",
      "1\n",
      "\n",
      "<type 'str'>\n",
      "\n",
      "7\n",
      "1\n",
      "\n",
      "<type 'str'>\n",
      "\n",
      "8\n",
      "1\n",
      "\n",
      "<type 'str'>\n",
      "\n",
      "9\n",
      "1\n",
      "\n",
      "<type 'str'>\n",
      "\n",
      "10\n",
      "1\n",
      "\n",
      "<type 'str'>\n",
      "\n",
      "11\n",
      "1\n",
      "\n",
      "<type 'str'>\n",
      "\n",
      "12\n",
      "1\n",
      "\n",
      "<type 'str'>\n",
      "\n",
      "13\n",
      "1\n",
      "\n",
      "<type 'str'>\n",
      "\n",
      "14\n",
      "1\n",
      "*2\n",
      "<type 'str'>\n",
      "Yay\n",
      "\n",
      "15\n",
      "1\n",
      "\n",
      "<type 'str'>\n",
      "\n",
      "16\n",
      "1\n",
      "\n",
      "<type 'str'>\n",
      "\n",
      "17\n",
      "1\n",
      "\n",
      "<type 'str'>\n",
      "\n",
      "18\n",
      "1\n",
      "\n",
      "<type 'str'>\n",
      "\n",
      "19\n",
      "1\n",
      "\n",
      "<type 'str'>\n",
      "\n",
      "20\n",
      "8\n",
      "\n",
      "<type 'str'>\n",
      "\n",
      "21\n",
      "8\n",
      "*3\n",
      "<type 'str'>\n",
      "Yay\n",
      "\n",
      "22\n",
      "1\n",
      "\n",
      "<type 'str'>\n",
      "\n",
      "6 1 8\n"
     ]
    }
   ],
   "source": [
    "for atom in tsRDMol.GetAtoms():\n",
    "    idx = atom.GetIdx()\n",
    "    print idx\n",
    "    num = atom.GetAtomicNum()\n",
    "    print num\n",
    "    \n",
    "    rmg_atom = reactant.atoms[idx]\n",
    "    print rmg_atom.label\n",
    "    print type(rmg_atom.label)\n",
    "    \n",
    "    if rmg_atom.label:\n",
    "        print \"Yay\"\n",
    "        if rmg_atom.label == \"*1\":\n",
    "            atom1_star = atom\n",
    "        if rmg_atom.label == \"*2\":\n",
    "            atom2_star = atom\n",
    "        if rmg_atom.label == \"*3\":\n",
    "            atom3_star = atom\n",
    "        \n",
    "    print\n",
    "    \n",
    "    \n",
    "print atom1_star.GetAtomicNum(), atom2_star.GetAtomicNum(), atom3_star.GetAtomicNum()\n",
    "\n",
    "    "
   ]
  },
  {
   "cell_type": "markdown",
   "metadata": {},
   "source": [
    "#### Adding the pseduo bond between either `1*` and `2*` or `2*` and `3*` depending on which bond already exists"
   ]
  },
  {
   "cell_type": "code",
   "execution_count": 13,
   "metadata": {
    "collapsed": false,
    "scrolled": true
   },
   "outputs": [
    {
     "name": "stdout",
     "output_type": "stream",
     "text": [
      "Bond already exists betwee 1* and 2*\n",
      "0 2\n",
      "6 1 8\n",
      "\n",
      "0 1\n",
      "6 1 8\n",
      "\n",
      "0 9\n",
      "6 1 8\n",
      "\n",
      "0 8\n",
      "6 1 8\n",
      "\n",
      "1 11\n",
      "6 1 8\n",
      "\n",
      "1 3\n",
      "6 1 8\n",
      "\n",
      "1 10\n",
      "6 1 8\n",
      "\n",
      "2 4\n",
      "6 1 8\n",
      "\n",
      "2 6\n",
      "6 1 8\n",
      "\n",
      "2 7\n",
      "6 1 8\n",
      "\n",
      "3 12\n",
      "6 1 8\n",
      "\n",
      "3 13\n",
      "6 1 8\n",
      "\n",
      "3 5\n",
      "6 1 8\n",
      "\n",
      "4 14\n",
      "6 1 8\n",
      "\n",
      "4 15\n",
      "6 1 8\n",
      "\n",
      "4 16\n",
      "6 1 8\n",
      "\n",
      "5 18\n",
      "6 1 8\n",
      "\n",
      "5 19\n",
      "6 1 8\n",
      "\n",
      "5 17\n",
      "6 1 8\n",
      "\n",
      "20 21\n",
      "6 1 8\n",
      "\n",
      "20 22\n",
      "6 1 8\n",
      "\n",
      "14 21\n",
      "6 1 8\n",
      "\n"
     ]
    },
    {
     "data": {
      "text/html": [
       "<div id=\"3dmolviewer_151060944193\"  style=\"position: relative; width: 400px; height: 400px\">\n",
       "<script>\n",
       "if(typeof $3Dmolpromise === 'undefined') $3Dmolpromise = $.when($.getScript('https://3dmol.csb.pitt.edu/build/3Dmol.js'))\n",
       "var viewer_151060944193 = null;\n",
       "$3Dmolpromise.done(function() {\n",
       "viewer_151060944193 = $3Dmol.createViewer($(\"#3dmolviewer_151060944193\"),{backgroundColor:\"white\"});\n",
       "\tviewer_151060944193.addModel(\"\\n     RDKit          3D\\n\\n 23 22  0  0  0  0  0  0  0  0999 V2000\\n   -0.6901    0.5233    0.5965 C   0  0  0  0  0  0  0  0  0  0  0  0\\n   -1.4411   -0.7576    0.1953 C   0  0  0  0  0  0  0  0  0  0  0  0\\n    0.2835    1.0073   -0.4852 C   0  0  0  0  0  0  0  0  0  0  0  0\\n   -0.5314   -1.9989    0.0845 C   0  0  0  0  0  0  0  0  0  0  0  0\\n    0.8681    2.3682   -0.1239 C   0  0  0  0  0  0  0  0  0  0  0  0\\n   -0.2047   -2.3537   -1.3661 C   0  0  0  0  0  0  0  0  0  0  0  0\\n    1.1220    0.2865   -0.5853 H   0  0  0  0  0  0  0  0  0  0  0  0\\n   -0.2420    1.0880   -1.4616 H   0  0  0  0  0  0  0  0  0  0  0  0\\n   -1.4466    1.3170    0.7835 H   0  0  0  0  0  0  0  0  0  0  0  0\\n   -0.1410    0.3526    1.5486 H   0  0  0  0  0  0  0  0  0  0  0  0\\n   -2.0073   -0.5853   -0.7468 H   0  0  0  0  0  0  0  0  0  0  0  0\\n   -2.1996   -0.9552    0.9843 H   0  0  0  0  0  0  0  0  0  0  0  0\\n    0.4127   -1.8563    0.6538 H   0  0  0  0  0  0  0  0  0  0  0  0\\n   -1.0546   -2.8700    0.5361 H   0  0  0  0  0  0  0  0  0  0  0  0\\n    1.5236    2.2919    1.0752 H   0  0  0  0  0  0  0  0  0  0  0  0\\n    0.0624    3.1300   -0.0553 H   0  0  0  0  0  0  0  0  0  0  0  0\\n    1.5899    2.6837   -0.9065 H   0  0  0  0  0  0  0  0  0  0  0  0\\n   -1.1364   -2.5960   -1.9204 H   0  0  0  0  0  0  0  0  0  0  0  0\\n    0.3111   -1.5151   -1.8758 H   0  0  0  0  0  0  0  0  0  0  0  0\\n    0.4599   -3.2428   -1.3895 H   0  0  0  0  0  0  0  0  0  0  0  0\\n    1.4510    1.1130    1.0231 O   0  0  0  0  0  0  0  0  0  0  0  0\\n    2.2721    1.7802    1.8058 O   0  0  0  0  0  1  0  0  0  0  0  0\\n    0.7384    0.7891    1.6296 H   0  0  0  0  0  0  0  0  0  0  0  0\\n  1  3  1  0\\n  1  2  1  0\\n  1 10  1  0\\n  1  9  1  0\\n  2 12  1  0\\n  2  4  1  0\\n  2 11  1  0\\n  3  5  1  0\\n  3  7  1  0\\n  3  8  1  0\\n  4 13  1  0\\n  4 14  1  0\\n  4  6  1  0\\n  5 15  1  0\\n  5 16  1  0\\n  5 17  1  0\\n  6 19  1  0\\n  6 20  1  0\\n  6 18  1  0\\n 21 22  1  0\\n 21 23  1  0\\n 15 22  1  0\\nM  RAD  1  22   2\\nM  END\\n\",\"sdf\");\n",
       "\tviewer_151060944193.setStyle({\"stick\": {}});\n",
       "\tviewer_151060944193.setBackgroundColor(\"0xeeeeee\");\n",
       "\tviewer_151060944193.zoomTo();\n",
       "viewer_151060944193.render();\n",
       "});\n",
       "</script>"
      ],
      "text/plain": [
       "<IPython.core.display.HTML object>"
      ]
     },
     "execution_count": 13,
     "metadata": {},
     "output_type": "execute_result"
    }
   ],
   "source": [
    "bond_between_23 = False\n",
    "try:\n",
    "    tsRDMol.AddBond(atom1_star.GetIdx(), atom2_star.GetIdx(), order=rdkit.Chem.rdchem.BondType.SINGLE)\n",
    "except RuntimeError:\n",
    "    print \"Bond already exists betwee 1* and 2*\"\n",
    "    bond_between_23 = True\n",
    "    tsRDMol.AddBond(atom2_star.GetIdx(), atom3_star.GetIdx(), order=rdkit.Chem.rdchem.BondType.SINGLE)\n",
    "\n",
    "for bond in tsRDMol.GetBonds():\n",
    "    print bond.GetBeginAtomIdx(), bond.GetEndAtomIdx()\n",
    "    print atom1_star.GetAtomicNum(), atom2_star.GetAtomicNum(), atom3_star.GetAtomicNum()\n",
    "    print\n",
    "    \n",
    "view_mol(tsRDMol)"
   ]
  },
  {
   "cell_type": "markdown",
   "metadata": {},
   "source": [
    "### Getting the list of torsions for the TS"
   ]
  },
  {
   "cell_type": "code",
   "execution_count": 14,
   "metadata": {
    "collapsed": false
   },
   "outputs": [
    {
     "data": {
      "text/plain": [
       "[(1, 0, 2, 4),\n",
       " (2, 0, 1, 3),\n",
       " (0, 1, 3, 5),\n",
       " (0, 2, 4, 14),\n",
       " (2, 4, 14, 21),\n",
       " (4, 14, 21, 20)]"
      ]
     },
     "execution_count": 14,
     "metadata": {},
     "output_type": "execute_result"
    }
   ],
   "source": [
    "torsion_list = []\n",
    "for bond1 in tsRDMol.GetBonds():\n",
    "    atom1 = bond1.GetBeginAtom()\n",
    "    atom2 = bond1.GetEndAtom()\n",
    "    if atom1.IsInRing() or atom2.IsInRing():# atom1.GetAtomicNum() == 1 or atom2.GetAtomicNum() == 1:\n",
    "        # Making sure that the atoms we're looking at are in a ring\n",
    "        continue\n",
    "\n",
    "    bond_list1 = list(atom1.GetBonds())\n",
    "    bond_list2 = list(atom2.GetBonds())\n",
    "\n",
    "    if not len(bond_list1) > 1 and not len(bond_list2) > 1:\n",
    "        # Making sure that there are more than one bond attached to\n",
    "        # the atoms we're looking at\n",
    "        continue\n",
    "\n",
    "\n",
    "    # Getting the 0th and 3rd atom and insuring that atoms \n",
    "    # attached to the 1st and 2nd atom are not terminal hydrogens\n",
    "    # We also make sure that all of the atoms are properly bound together\n",
    "    \n",
    "    # If the above are satisified, we append a tuple of the torsion our torsion_list\n",
    "\n",
    "    for bond0 in bond_list1:\n",
    "        atomX = bond0.GetOtherAtom(atom1)\n",
    "        if atomX.GetAtomicNum() == 1 and len(atomX.GetBonds()) == 1:\n",
    "            # This means that we have a terminal hydrogen, skip this\n",
    "            # NOTE: for H_abstraction TSs, a non teminal H should exist\n",
    "            continue \n",
    "        if atomX.GetIdx() != atom2.GetIdx():\n",
    "            atom0 = atomX\n",
    "\n",
    "    for bond2 in bond_list2:\n",
    "        atomY = bond2.GetOtherAtom(atom2)\n",
    "        if atomY.GetAtomicNum() == 1 and len(atomY.GetBonds()) == 1:\n",
    "            # This means that we have a terminal hydrogen, skip this\n",
    "            continue \n",
    "        if atomY.GetIdx() != atom1.GetIdx():\n",
    "            atom3 = atomY\n",
    "        \n",
    "    # Looking to make sure that all of the atoms are properly bonded to eached\n",
    "    if (\n",
    "        tsRDMol.GetBondBetweenAtoms(atom0.GetIdx(), atom1.GetIdx()) and \n",
    "        tsRDMol.GetBondBetweenAtoms(atom1.GetIdx(), atom2.GetIdx()) and \n",
    "        tsRDMol.GetBondBetweenAtoms(atom2.GetIdx(), atom3.GetIdx())   ) : \n",
    "        \n",
    "        torsion_tup = (atom0.GetIdx(), atom1.GetIdx(), atom2.GetIdx(), atom3.GetIdx())\n",
    "        torsion_list.append(torsion_tup)\n",
    "\n",
    "torsion_angles = np.arange(0, 360+30,30)\n",
    "torsion_combos = list( itertools.combinations_with_replacement( torsion_angles, len(torsion_list)) )\n",
    "torsion_combos = torsion_combos + list(itertools.combinations_with_replacement( torsion_angles[::-1], len(torsion_list)) )\n",
    "\n",
    "torsion_list"
   ]
  },
  {
   "cell_type": "markdown",
   "metadata": {},
   "source": [
    "#### Setting the torsions for a single conformer. \n",
    "\n",
    "From this point, we are working with `tsRDMol_store`. This means that we can edit this copy and re-copy `tsRDMol` rather than have to completely recreate the geometry"
   ]
  },
  {
   "cell_type": "code",
   "execution_count": 15,
   "metadata": {
    "collapsed": false
   },
   "outputs": [
    {
     "name": "stdout",
     "output_type": "stream",
     "text": [
      "((1, 0, 2, 4), 0)\n",
      "((2, 0, 1, 3), 30)\n",
      "((0, 1, 3, 5), 30)\n",
      "((0, 2, 4, 14), 90)\n",
      "((2, 4, 14, 21), 210)\n",
      "((4, 14, 21, 20), 270)\n"
     ]
    },
    {
     "data": {
      "text/html": [
       "<div id=\"3dmolviewer_151060944201\"  style=\"position: relative; width: 400px; height: 400px\">\n",
       "<script>\n",
       "if(typeof $3Dmolpromise === 'undefined') $3Dmolpromise = $.when($.getScript('https://3dmol.csb.pitt.edu/build/3Dmol.js'))\n",
       "var viewer_151060944201 = null;\n",
       "$3Dmolpromise.done(function() {\n",
       "viewer_151060944201 = $3Dmol.createViewer($(\"#3dmolviewer_151060944201\"),{backgroundColor:\"white\"});\n",
       "\tviewer_151060944201.addModel(\"\\n     RDKit          3D\\n\\n 23 22  0  0  0  0  0  0  0  0999 V2000\\n   -0.6901    0.5233    0.5965 C   0  0  0  0  0  0  0  0  0  0  0  0\\n   -1.4411   -0.7576    0.1953 C   0  0  0  0  0  0  0  0  0  0  0  0\\n    0.2835    1.0073   -0.4852 C   0  0  0  0  0  0  0  0  0  0  0  0\\n   -0.6382   -1.6747   -0.7507 C   0  0  0  0  0  0  0  0  0  0  0  0\\n    0.2567    0.0824   -1.6969 C   0  0  0  0  0  0  0  0  0  0  0  0\\n    0.8702   -1.5621   -0.5292 C   0  0  0  0  0  0  0  0  0  0  0  0\\n   -0.0047    2.0254   -0.8212 H   0  0  0  0  0  0  0  0  0  0  0  0\\n    1.3179    1.0402   -0.0791 H   0  0  0  0  0  0  0  0  0  0  0  0\\n   -1.4466    1.3170    0.7835 H   0  0  0  0  0  0  0  0  0  0  0  0\\n   -0.1410    0.3526    1.5486 H   0  0  0  0  0  0  0  0  0  0  0  0\\n   -2.4313   -0.4957   -0.2390 H   0  0  0  0  0  0  0  0  0  0  0  0\\n   -1.6493   -1.3234    1.1298 H   0  0  0  0  0  0  0  0  0  0  0  0\\n   -0.9515   -2.7358   -0.6419 H   0  0  0  0  0  0  0  0  0  0  0  0\\n   -0.8486   -1.3801   -1.8021 H   0  0  0  0  0  0  0  0  0  0  0  0\\n   -0.6865    0.5108   -2.5914 H   0  0  0  0  0  0  0  0  0  0  0  0\\n    0.0228   -0.9578   -1.3850 H   0  0  0  0  0  0  0  0  0  0  0  0\\n    1.2499    0.0896   -2.1936 H   0  0  0  0  0  0  0  0  0  0  0  0\\n    1.2109   -0.5246   -0.7329 H   0  0  0  0  0  0  0  0  0  0  0  0\\n    1.1425   -1.8342    0.5104 H   0  0  0  0  0  0  0  0  0  0  0  0\\n    1.3989   -2.2488   -1.2234 H   0  0  0  0  0  0  0  0  0  0  0  0\\n   -0.2027    0.5628   -3.6688 O   0  0  0  0  0  0  0  0  0  0  0  0\\n   -1.4725    0.3151   -3.4278 O   0  0  0  0  0  1  0  0  0  0  0  0\\n   -0.1893    1.4991   -3.9908 H   0  0  0  0  0  0  0  0  0  0  0  0\\n  1  3  1  0\\n  1  2  1  0\\n  1 10  1  0\\n  1  9  1  0\\n  2 12  1  0\\n  2  4  1  0\\n  2 11  1  0\\n  3  5  1  0\\n  3  7  1  0\\n  3  8  1  0\\n  4 13  1  0\\n  4 14  1  0\\n  4  6  1  0\\n  5 15  1  0\\n  5 16  1  0\\n  5 17  1  0\\n  6 19  1  0\\n  6 20  1  0\\n  6 18  1  0\\n 21 22  1  0\\n 21 23  1  0\\n 15 22  1  0\\nM  RAD  1  22   2\\nM  END\\n\",\"sdf\");\n",
       "\tviewer_151060944201.setStyle({\"stick\": {}});\n",
       "\tviewer_151060944201.setBackgroundColor(\"0xeeeeee\");\n",
       "\tviewer_151060944201.zoomTo();\n",
       "viewer_151060944201.render();\n",
       "});\n",
       "</script>"
      ],
      "text/plain": [
       "<IPython.core.display.HTML object>"
      ]
     },
     "execution_count": 15,
     "metadata": {},
     "output_type": "execute_result"
    }
   ],
   "source": [
    "#df = []\n",
    "\n",
    "# Making a copy of the TS molecule and etting a conformer to edit\n",
    "tsRDMol_store = tsRDMol.__copy__()\n",
    "tup = tsRDMol_store.GetConformers()\n",
    "conformer = tup[0]\n",
    "\n",
    "\n",
    "# Picking a random torsion combo\n",
    "geometry = zip(torsion_list, torsion_combos[2000])\n",
    "\n",
    "for torsion in geometry:\n",
    "    print torsion\n",
    "    i = torsion[0][0]\n",
    "    j = torsion[0][1]\n",
    "    k = torsion[0][2]\n",
    "    l = torsion[0][3]\n",
    "    angle = torsion[1]\n",
    "\n",
    "    SetDihedralDeg(conformer,\n",
    "                   i, \n",
    "                   j, \n",
    "                   k, \n",
    "                   l,\n",
    "                   angle)\n",
    "\n",
    "#df.append( [calc_energy(RDMol), RDMol] + list(combo))\n",
    "\n",
    "\n",
    "view_mol(tsRDMol_store)"
   ]
  },
  {
   "cell_type": "markdown",
   "metadata": {},
   "source": [
    "#### Removing the pseudo bond from the copy molecule"
   ]
  },
  {
   "cell_type": "code",
   "execution_count": 16,
   "metadata": {
    "collapsed": false,
    "scrolled": false
   },
   "outputs": [
    {
     "name": "stdout",
     "output_type": "stream",
     "text": [
      "4865.28900235\n"
     ]
    },
    {
     "data": {
      "text/html": [
       "<div id=\"3dmolviewer_151060944206\"  style=\"position: relative; width: 400px; height: 400px\">\n",
       "<script>\n",
       "if(typeof $3Dmolpromise === 'undefined') $3Dmolpromise = $.when($.getScript('https://3dmol.csb.pitt.edu/build/3Dmol.js'))\n",
       "var viewer_151060944206 = null;\n",
       "$3Dmolpromise.done(function() {\n",
       "viewer_151060944206 = $3Dmol.createViewer($(\"#3dmolviewer_151060944206\"),{backgroundColor:\"white\"});\n",
       "\tviewer_151060944206.addModel(\"\\n     RDKit          3D\\n\\n 23 21  0  0  0  0  0  0  0  0999 V2000\\n   -0.6901    0.5233    0.5965 C   0  0  0  0  0  0  0  0  0  0  0  0\\n   -1.4411   -0.7576    0.1953 C   0  0  0  0  0  0  0  0  0  0  0  0\\n    0.2835    1.0073   -0.4852 C   0  0  0  0  0  0  0  0  0  0  0  0\\n   -0.6382   -1.6747   -0.7507 C   0  0  0  0  0  0  0  0  0  0  0  0\\n    0.2567    0.0824   -1.6969 C   0  0  0  0  0  0  0  0  0  0  0  0\\n    0.8702   -1.5621   -0.5292 C   0  0  0  0  0  0  0  0  0  0  0  0\\n   -0.0047    2.0254   -0.8212 H   0  0  0  0  0  0  0  0  0  0  0  0\\n    1.3179    1.0402   -0.0791 H   0  0  0  0  0  0  0  0  0  0  0  0\\n   -1.4466    1.3170    0.7835 H   0  0  0  0  0  0  0  0  0  0  0  0\\n   -0.1410    0.3526    1.5486 H   0  0  0  0  0  0  0  0  0  0  0  0\\n   -2.4313   -0.4957   -0.2390 H   0  0  0  0  0  0  0  0  0  0  0  0\\n   -1.6493   -1.3234    1.1298 H   0  0  0  0  0  0  0  0  0  0  0  0\\n   -0.9515   -2.7358   -0.6419 H   0  0  0  0  0  0  0  0  0  0  0  0\\n   -0.8486   -1.3801   -1.8021 H   0  0  0  0  0  0  0  0  0  0  0  0\\n   -0.6865    0.5108   -2.5914 H   0  0  0  0  0  0  0  0  0  0  0  0\\n    0.0228   -0.9578   -1.3850 H   0  0  0  0  0  0  0  0  0  0  0  0\\n    1.2499    0.0896   -2.1936 H   0  0  0  0  0  0  0  0  0  0  0  0\\n    1.2109   -0.5246   -0.7329 H   0  0  0  0  0  0  0  0  0  0  0  0\\n    1.1425   -1.8342    0.5104 H   0  0  0  0  0  0  0  0  0  0  0  0\\n    1.3989   -2.2488   -1.2234 H   0  0  0  0  0  0  0  0  0  0  0  0\\n   -0.2027    0.5628   -3.6688 O   0  0  0  0  0  0  0  0  0  0  0  0\\n   -1.4725    0.3151   -3.4278 O   0  0  0  0  0  1  0  0  0  0  0  0\\n   -0.1893    1.4991   -3.9908 H   0  0  0  0  0  0  0  0  0  0  0  0\\n  1  3  1  0\\n  1  2  1  0\\n  1 10  1  0\\n  1  9  1  0\\n  2 12  1  0\\n  2  4  1  0\\n  2 11  1  0\\n  3  5  1  0\\n  3  7  1  0\\n  3  8  1  0\\n  4 13  1  0\\n  4 14  1  0\\n  4  6  1  0\\n  5 15  1  0\\n  5 16  1  0\\n  5 17  1  0\\n  6 19  1  0\\n  6 20  1  0\\n  6 18  1  0\\n 21 22  1  0\\n 21 23  1  0\\nM  RAD  1  22   2\\nM  END\\n\",\"sdf\");\n",
       "\tviewer_151060944206.setStyle({\"stick\": {}});\n",
       "\tviewer_151060944206.setBackgroundColor(\"0xeeeeee\");\n",
       "\tviewer_151060944206.zoomTo();\n",
       "viewer_151060944206.render();\n",
       "});\n",
       "</script>"
      ],
      "text/plain": [
       "<IPython.core.display.HTML object>"
      ]
     },
     "execution_count": 16,
     "metadata": {},
     "output_type": "execute_result"
    }
   ],
   "source": [
    "if bond_between_23 == False:\n",
    "    tsRDMol_store.RemoveBond(atom1_star.GetIdx(), atom2_star.GetIdx())\n",
    "else:\n",
    "    tsRDMol_store.RemoveBond(atom2_star.GetIdx(), atom3_star.GetIdx())\n",
    "\n",
    "print calc_energy(tsRDMol_store)\n",
    "view_mol(tsRDMol_store)"
   ]
  },
  {
   "cell_type": "markdown",
   "metadata": {},
   "source": [
    "Yay!!! We got this working for a single TS! Now let's look at an example with just a single torsion and visualize a plot of the torsion."
   ]
  },
  {
   "cell_type": "markdown",
   "metadata": {},
   "source": [
    "# Performing the above for a single reaction \n",
    "\n",
    "# The reaction of interest is $CH_4 + OH = CH_3 + H_2O$"
   ]
  },
  {
   "cell_type": "markdown",
   "metadata": {},
   "source": [
    "#### The goal of the following function is to try and combine three different parts of the above script. This should create a test reaction, label the atoms, and set the reaction family... I still think parts of this are redundant... but it works... "
   ]
  },
  {
   "cell_type": "code",
   "execution_count": 17,
   "metadata": {
    "collapsed": false
   },
   "outputs": [
    {
     "data": {
      "image/png": "[encoded data removed]",
      "text/plain": [
       "Reaction(reactants=[Molecule(SMILES=\"CCC(C)(C)O\"), Molecule(SMILES=\"[O]O\")], products=[Molecule(SMILES=\"OO\"), Molecule(SMILES=\"[CH2]CC(C)(C)O\")])"
      ]
     },
     "execution_count": 17,
     "metadata": {},
     "output_type": "execute_result"
    }
   ],
   "source": [
    "\n",
    "\n",
    "rSpecies1 = Molecule(SMILES=\"CCC(C)(C)O\")\n",
    "rSpecies2 = Molecule(SMILES=\"[O]O\")\n",
    "pSpecies2 = Molecule(SMILES=\"[CH2]CC(C)(C)O\")\n",
    "pSpecies1 = Molecule(SMILES=\"OO\")\n",
    "\n",
    "\n",
    "single_rotor_rxn = Reaction(reactants=[rSpecies1, rSpecies2], products=[pSpecies1, pSpecies2], reversible=True)\n",
    "single_rotor_rxn"
   ]
  },
  {
   "cell_type": "code",
   "execution_count": 18,
   "metadata": {
    "collapsed": false
   },
   "outputs": [
    {
     "name": "stderr",
     "output_type": "stream",
     "text": [
      "<ipython-input-18-c97164135aa1>:18 all_in_one INFO generateReactionsFromFamilies successfuly performed\n",
      "<ipython-input-18-c97164135aa1>:54 all_in_one INFO chemkinRxn: Reaction(reactants=[Molecule(SMILES=\"CCC(C)(C)O\"), Molecule(SMILES=\"[O]O\")], products=[Molecule(SMILES=\"OO\"), Molecule(SMILES=\"[CH2]CC(C)(C)O\")])\n",
      "<ipython-input-18-c97164135aa1>:56 all_in_one INFO Ensuring resonance isomers have been generated\n",
      "<ipython-input-18-c97164135aa1>:75 all_in_one INFO Generated one reaction:\n",
      "<ipython-input-18-c97164135aa1>:76 all_in_one INFO [Reaction(reactants=[Molecule(SMILES=\"CCC(C)(C)O\"), Molecule(SMILES=\"[O]O\")], products=[Molecule(SMILES=\"OO\"), Molecule(SMILES=\"[CH2]CC(C)(C)O\")], degeneracy=3, pairs=[[Molecule(SMILES=\"CCC(C)(C)O\"), Molecule(SMILES=\"[CH2]CC(C)(C)O\")], [Molecule(SMILES=\"[O]O\"), Molecule(SMILES=\"OO\")]])]\n",
      "<ipython-input-18-c97164135aa1>:85 all_in_one INFO The reaction of interest is as follows: \n",
      "<ipython-input-18-c97164135aa1>:86 all_in_one INFO <Molecule \"CCC(C)(C)O\"> + <Molecule \"[O]O\"> <=> <Molecule \"OO\"> + <Molecule \"[CH2]CC(C)(C)O\">\n",
      "<ipython-input-18-c97164135aa1>:88 all_in_one INFO asserting that the testReaction is Isomorphic\n",
      "<ipython-input-18-c97164135aa1>:90 all_in_one INFO reaction: Reaction(reactants=[Molecule(SMILES=\"CCC(C)(C)O\"), Molecule(SMILES=\"[O]O\")], products=[Molecule(SMILES=\"OO\"), Molecule(SMILES=\"[CH2]CC(C)(C)O\")], degeneracy=3, pairs=[[Molecule(SMILES=\"CCC(C)(C)O\"), Molecule(SMILES=\"[CH2]CC(C)(C)O\")], [Molecule(SMILES=\"[O]O\"), Molecule(SMILES=\"OO\")]])\n",
      "<ipython-input-18-c97164135aa1>:96 all_in_one INFO Labeling reactant atoms\n",
      "<ipython-input-18-c97164135aa1>:106 all_in_one INFO Labeling product atoms\n"
     ]
    },
    {
     "name": "stdout",
     "output_type": "stream",
     "text": [
      "Found matching reaction\n",
      "<type 'rmgpy.molecule.molecule.Molecule'>\n",
      "<type 'rmgpy.molecule.molecule.Molecule'>\n",
      "<type 'rmgpy.molecule.molecule.Molecule'>\n",
      "<type 'rmgpy.molecule.molecule.Molecule'>\n",
      "[Molecule(SMILES=\"CCC(C)(C)O\"), Molecule(SMILES=\"[O]O\")]\n",
      "[Molecule(SMILES=\"OO\"), Molecule(SMILES=\"[CH2]CC(C)(C)O\")]\n"
     ]
    },
    {
     "data": {
      "text/plain": [
       "<rmgpy.qm.reaction.QMReaction instance at 0x11515aa28>"
      ]
     },
     "execution_count": 18,
     "metadata": {},
     "output_type": "execute_result"
    }
   ],
   "source": [
    "\n",
    "\n",
    "def all_in_one(oohReaction):\n",
    "    rxnFamily = \"H_Abstraction\"\n",
    "    rSpecies1, rSpecies2 = oohReaction.reactants\n",
    "    pSpecies1, pSpecies2 = oohReaction.products\n",
    "\n",
    "    rSpecies1.generateResonanceIsomers()\n",
    "    rSpecies2.generateResonanceIsomers()\n",
    "    pSpecies1.generateResonanceIsomers()\n",
    "    pSpecies2.generateResonanceIsomers()\n",
    "\n",
    "    testReaction = Reaction(reactants=[rSpecies1, rSpecies2], products=[pSpecies1, pSpecies2], reversible=True)\n",
    "    reactionList = []\n",
    "    tempList = rmgDatabase.kinetics.generateReactionsFromFamilies([rSpecies1, rSpecies2], [], only_families=[rxnFamily])\n",
    "    for rxn0 in tempList:\n",
    "        reactionList.append(rxn0)\n",
    "    logging.info(\"generateReactionsFromFamilies successfuly performed\")\n",
    "    #print reactionList\n",
    "    \n",
    "    \n",
    "    gotOne=False\n",
    "    for reaction in reactionList:\n",
    "        # Check if any of the RMG proposed reactions matches the reaction in the mechanism\n",
    "        if testReaction.isIsomorphic(reaction):\n",
    "            print \"Found matching reaction\"\n",
    "            # Now add the labeled atoms to the Molecule, and check all labels were added\n",
    "            atLblsR = dict([(lbl[0], False) for lbl in reaction.labeledAtoms])\n",
    "            atLblsP = dict([(lbl[0], False) for lbl in reaction.labeledAtoms])\n",
    "\n",
    "            for reactant in reaction.reactants:\n",
    "\n",
    "                reactant.clearLabeledAtoms()\n",
    "                for atom in reactant.atoms:\n",
    "                    for atomLabel in reaction.labeledAtoms:\n",
    "                        if atom==atomLabel[1]:\n",
    "                            atom.label = atomLabel[0]\n",
    "                            atLblsR[atomLabel[0]] = True\n",
    "            for product in reaction.products:\n",
    "\n",
    "                product.clearLabeledAtoms()\n",
    "                for atom in product.atoms:\n",
    "                    for atomLabel in reaction.labeledAtoms:\n",
    "                        if atom==atomLabel[1]:\n",
    "                            atom.label = atomLabel[0]\n",
    "                            atLblsP[atomLabel[0]] = True\n",
    "            if all( atLblsR.values() ) and all( atLblsP.values() ):\n",
    "                gotOne=True\n",
    "                break\n",
    "    chemkinRxn = testReaction\n",
    "    \n",
    "    rxnFamily = \"H_Abstraction\"\n",
    "    rxnFamilies = ['H_Abstraction']\n",
    "    logging.info(\"chemkinRxn: {!r}\".format(chemkinRxn))\n",
    "    # Ensure all resonance isomers have been generated\n",
    "    logging.info('Ensuring resonance isomers have been generated')\n",
    "    for species in itertools.chain(chemkinRxn.reactants, chemkinRxn.products):\n",
    "        print(type(species))\n",
    "        species = species.generateResonanceIsomers()\n",
    "\n",
    "    testReaction = Reaction(reactants=chemkinRxn.reactants, products=chemkinRxn.products, reversible=True)\n",
    "\n",
    "    reactants = [species for species in chemkinRxn.reactants]\n",
    "    # reactant_molecules is a list of lists of resonance isomers,\n",
    "    # eg. a bimolecular reaction where the second reactant has 2 isomers is: [[r1],[r2i1,r2i2]]\n",
    "\n",
    "    products = [species for species in chemkinRxn.products]\n",
    "    # products is a list of molecule objects (only one resonance form of each product), eg [p1, p2]\n",
    "    print reactants\n",
    "    #print type(reactant_molecules[0])\n",
    "    print products\n",
    "\n",
    "    checkRxn = rmgDatabase.kinetics.generateReactionsFromFamilies(reactants, products, only_families=rxnFamilies)# reversible=True)\n",
    "    if len(checkRxn) == 1:\n",
    "        logging.info(\"Generated one reaction:\")\n",
    "        logging.info(checkRxn)\n",
    "        reaction = checkRxn[0]\n",
    "    else:  # didn't break from for loop\n",
    "        for reaction in checkRxn:\n",
    "            logging.info(\"Generated these reactions:\")\n",
    "            logging.info(reaction)\n",
    "            reaction = checkRxn[0]\n",
    "        raise Exception(\"Couldn't generate exactly one reaction matching {} in family {}\".format(chemkinRxn, rxnFamilies))\n",
    "\n",
    "    logging.info(\"The reaction of interest is as follows: \")\n",
    "    logging.info(reaction)\n",
    "\n",
    "    logging.info(\"asserting that the testReaction is Isomorphic\")\n",
    "    assert testReaction.isIsomorphic(reaction)\n",
    "    logging.info(\"reaction: {!r}\".format(reaction))\n",
    "\n",
    "    atLblsR = dict([(lbl[0], False) for lbl in reaction.labeledAtoms])\n",
    "    atLblsP = dict([(lbl[0], False) for lbl in reaction.labeledAtoms])\n",
    "\n",
    "    gotOne = False\n",
    "    logging.info(\"Labeling reactant atoms\")\n",
    "    for reactant in reaction.reactants:\n",
    "        reactant = reactant\n",
    "        reactant.clearLabeledAtoms()\n",
    "        for atom in reactant.atoms:\n",
    "            for atomLabel in reaction.labeledAtoms:\n",
    "                if atom == atomLabel[1]:\n",
    "                    atom.label = atomLabel[0]\n",
    "                    atLblsR[atomLabel[0]] = True\n",
    "\n",
    "    logging.info(\"Labeling product atoms\")\n",
    "    for product in reaction.products:\n",
    "        product = product\n",
    "        product.clearLabeledAtoms()\n",
    "        for atom in product.atoms:\n",
    "            for atomLabel in reaction.labeledAtoms:\n",
    "                if atom == atomLabel[1]:\n",
    "                    atom.label = atomLabel[0]\n",
    "                    atLblsP[atomLabel[0]] = True\n",
    "\n",
    "    if all(atLblsR.values()) and all(atLblsP.values()):\n",
    "        gotOne = True\n",
    "\n",
    "    rxnFamily = reaction.family\n",
    "    return reaction\n",
    "\n",
    "single_rotor_rxn = all_in_one(single_rotor_rxn)\n",
    "single_rotor_rxn = QMReaction(reaction=single_rotor_rxn, settings=settings, tsDatabase=tsDatabase)\n",
    "single_rotor_rxn"
   ]
  },
  {
   "cell_type": "code",
   "execution_count": 19,
   "metadata": {
    "collapsed": false
   },
   "outputs": [
    {
     "data": {
      "text/html": [
       "<div id=\"3dmolviewer_151060944257\"  style=\"position: relative; width: 400px; height: 400px\">\n",
       "<script>\n",
       "if(typeof $3Dmolpromise === 'undefined') $3Dmolpromise = $.when($.getScript('https://3dmol.csb.pitt.edu/build/3Dmol.js'))\n",
       "var viewer_151060944257 = null;\n",
       "$3Dmolpromise.done(function() {\n",
       "viewer_151060944257 = $3Dmol.createViewer($(\"#3dmolviewer_151060944257\"),{backgroundColor:\"white\"});\n",
       "\tviewer_151060944257.addModel(\"\\n     RDKit          3D\\n\\n 21 19  0  0  0  0  0  0  0  0999 V2000\\n   -0.4631    0.1108    0.3175 C   0  0  0  0  0  0  0  0  0  0  0  0\\n    0.9634    0.1557    0.7173 C   0  0  0  0  0  0  0  0  0  0  0  0\\n   -0.9106   -1.1168   -0.4100 C   0  0  0  0  0  0  0  0  0  0  0  0\\n   -0.8872    1.3040   -0.5313 C   0  0  0  0  0  0  0  0  0  0  0  0\\n    1.9344   -0.5089   -0.1936 C   0  0  0  0  0  0  0  0  0  0  0  0\\n   -1.2184    0.1495    1.5044 O   0  0  0  0  0  0  0  0  0  0  0  0\\n    1.1208   -0.2511    1.7471 H   0  0  0  0  0  0  0  0  0  0  0  0\\n    1.2586    1.2345    0.7912 H   0  0  0  0  0  0  0  0  0  0  0  0\\n    2.8898   -0.6382    0.3769 H   0  0  0  0  0  0  0  0  0  0  0  0\\n    1.6050   -1.5163   -0.5086 H   0  0  0  0  0  0  0  0  0  0  0  0\\n    2.2002    0.1105   -1.0725 H   0  0  0  0  0  0  0  0  0  0  0  0\\n   -1.9057   -0.8648   -0.8600 H   0  0  0  0  0  0  0  0  0  0  0  0\\n   -0.2796   -1.4173   -1.2523 H   0  0  0  0  0  0  0  0  0  0  0  0\\n   -1.1233   -1.9589    0.2953 H   0  0  0  0  0  0  0  0  0  0  0  0\\n   -0.1578    2.1048   -0.3567 H   0  0  0  0  0  0  0  0  0  0  0  0\\n   -1.8760    1.6647   -0.1756 H   0  0  0  0  0  0  0  0  0  0  0  0\\n   -1.0196    1.0261   -1.5907 H   0  0  0  0  0  0  0  0  0  0  0  0\\n   -2.1307    0.4115    1.2020 H   0  0  0  0  0  0  0  0  0  0  0  0\\n   -0.1655    0.4312   -0.0000 O   0  0  0  0  0  0  0  0  0  0  0  0\\n    1.0132   -0.1580    0.0000 O   0  0  0  0  0  1  0  0  0  0  0  0\\n   -0.8477   -0.2732   -0.0000 H   0  0  0  0  0  0  0  0  0  0  0  0\\n  1  2  1  0\\n  1  6  1  0\\n  1  4  1  0\\n  1  3  1  0\\n  2  5  1  0\\n  2  8  1  0\\n  2  7  1  0\\n  3 14  1  0\\n  3 13  1  0\\n  3 12  1  0\\n  4 16  1  0\\n  4 15  1  0\\n  4 17  1  0\\n  5  9  1  0\\n  5 11  1  0\\n  5 10  1  0\\n  6 18  1  0\\n 19 21  1  0\\n 19 20  1  0\\nM  RAD  1  20   2\\nM  END\\n\",\"sdf\");\n",
       "\tviewer_151060944257.setStyle({\"stick\": {}});\n",
       "\tviewer_151060944257.setBackgroundColor(\"0xeeeeee\");\n",
       "\tviewer_151060944257.zoomTo();\n",
       "viewer_151060944257.render();\n",
       "});\n",
       "</script>"
      ],
      "text/plain": [
       "<IPython.core.display.HTML object>"
      ]
     },
     "execution_count": 19,
     "metadata": {},
     "output_type": "execute_result"
    }
   ],
   "source": [
    "\n",
    "reactant, product = single_rotor_rxn.setupMolecules()\n",
    "mol = reactant.toRDKitMol(removeHs=False)\n",
    "AllChem.EmbedMolecule(mol)\n",
    "view_mol(mol)"
   ]
  },
  {
   "cell_type": "markdown",
   "metadata": {},
   "source": [
    "### Currently running into issues with the following chunk of code... Also, the issue that I had above isn't there any more... I'm confused... I look into this after lunch"
   ]
  },
  {
   "cell_type": "code",
   "execution_count": 20,
   "metadata": {
    "collapsed": false
   },
   "outputs": [
    {
     "name": "stderr",
     "output_type": "stream",
     "text": [
      "reaction.py:300 generateBoundsMatrix INFO Generating bounds matrix for CCC(C)(C)O.[O]O\n",
      "reaction.py:338 bmPreEdit INFO Changing lower limit 2.9 to 2.393074\n",
      "reaction.py:338 bmPreEdit INFO Changing lower limit 3.65 to 3.26214059416\n",
      "reaction.py:338 bmPreEdit INFO Changing lower limit 2.520343 to 2.457475\n",
      "molecule.py:140 rd_embed INFO RDKit failed to embed on attempt 1 of 15\n",
      "molecule.py:140 rd_embed INFO RDKit failed to embed on attempt 2 of 15\n",
      "molecule.py:140 rd_embed INFO RDKit failed to embed on attempt 3 of 15\n",
      "molecule.py:140 rd_embed INFO RDKit failed to embed on attempt 4 of 15\n",
      "molecule.py:140 rd_embed INFO RDKit failed to embed on attempt 5 of 15\n",
      "molecule.py:140 rd_embed INFO RDKit failed to embed on attempt 6 of 15\n",
      "molecule.py:140 rd_embed INFO RDKit failed to embed on attempt 7 of 15\n",
      "molecule.py:140 rd_embed INFO RDKit failed to embed on attempt 8 of 15\n",
      "molecule.py:140 rd_embed INFO RDKit failed to embed on attempt 9 of 15\n",
      "molecule.py:140 rd_embed INFO RDKit failed to embed on attempt 10 of 15\n",
      "molecule.py:140 rd_embed INFO RDKit failed to embed on attempt 11 of 15\n",
      "molecule.py:140 rd_embed INFO RDKit failed to embed on attempt 12 of 15\n",
      "molecule.py:140 rd_embed INFO RDKit failed to embed on attempt 13 of 15\n",
      "molecule.py:140 rd_embed INFO RDKit failed to embed on attempt 14 of 15\n",
      "molecule.py:140 rd_embed INFO RDKit failed to embed on attempt 15 of 15\n",
      "molecule.py:145 rd_embed ERROR RDKit failed all attempts to embed\n"
     ]
    },
    {
     "ename": "ArgumentError",
     "evalue": "Python argument types in\n    RWMol.__init__(RWMol, NoneType)\ndid not match C++ signature:\n    __init__(_object*, RDKit::ROMol, bool, int)\n    __init__(_object*, RDKit::ROMol, bool)\n    __init__(_object*, RDKit::ROMol)",
     "output_type": "error",
     "traceback": [
      "\u001b[0;31m---------------------------------------------------------------------------\u001b[0m",
      "\u001b[0;31mArgumentError\u001b[0m                             Traceback (most recent call last)",
      "\u001b[0;32m<ipython-input-20-a8f4832adbfa>\u001b[0m in \u001b[0;36m<module>\u001b[0;34m()\u001b[0m\n\u001b[1;32m      7\u001b[0m \u001b[0mtsRDMol_1\u001b[0m \u001b[0;34m=\u001b[0m \u001b[0msingle_rotor_rxn\u001b[0m\u001b[0;34m.\u001b[0m\u001b[0mreactantGeom\u001b[0m\u001b[0;34m.\u001b[0m\u001b[0mrd_embed\u001b[0m\u001b[0;34m(\u001b[0m\u001b[0mtsRDMol_1\u001b[0m\u001b[0;34m,\u001b[0m \u001b[0;36m15\u001b[0m\u001b[0;34m,\u001b[0m \u001b[0mbm\u001b[0m\u001b[0;34m=\u001b[0m\u001b[0mbm\u001b[0m\u001b[0;34m,\u001b[0m \u001b[0mmatch\u001b[0m\u001b[0;34m=\u001b[0m\u001b[0matomMatch\u001b[0m\u001b[0;34m)\u001b[0m\u001b[0;34m[\u001b[0m\u001b[0;36m0\u001b[0m\u001b[0;34m]\u001b[0m\u001b[0;34m\u001b[0m\u001b[0m\n\u001b[1;32m      8\u001b[0m \u001b[0;34m\u001b[0m\u001b[0m\n\u001b[0;32m----> 9\u001b[0;31m \u001b[0mtsRDMol_1\u001b[0m \u001b[0;34m=\u001b[0m \u001b[0mrdkit\u001b[0m\u001b[0;34m.\u001b[0m\u001b[0mChem\u001b[0m\u001b[0;34m.\u001b[0m\u001b[0mrdchem\u001b[0m\u001b[0;34m.\u001b[0m\u001b[0mRWMol\u001b[0m\u001b[0;34m(\u001b[0m\u001b[0mtsRDMol_1\u001b[0m\u001b[0;34m)\u001b[0m\u001b[0;34m\u001b[0m\u001b[0m\n\u001b[0m\u001b[1;32m     10\u001b[0m \u001b[0;34m\u001b[0m\u001b[0m\n\u001b[1;32m     11\u001b[0m \u001b[0mview_mol\u001b[0m\u001b[0;34m(\u001b[0m\u001b[0mtsRDMol_1\u001b[0m\u001b[0;34m)\u001b[0m\u001b[0;34m\u001b[0m\u001b[0m\n",
      "\u001b[0;31mArgumentError\u001b[0m: Python argument types in\n    RWMol.__init__(RWMol, NoneType)\ndid not match C++ signature:\n    __init__(_object*, RDKit::ROMol, bool, int)\n    __init__(_object*, RDKit::ROMol, bool)\n    __init__(_object*, RDKit::ROMol)"
     ]
    }
   ],
   "source": [
    "labels, atomMatch = single_rotor_rxn.getLabels(reactant)\n",
    "\n",
    "tsRDMol_1, bm, single_rotor_rxn.reactantGeom = single_rotor_rxn.generateBoundsMatrix(reactant)\n",
    "\n",
    "bm = single_rotor_rxn.editMatrix(reactant, bm, labels)\n",
    "\n",
    "tsRDMol_1 = single_rotor_rxn.reactantGeom.rd_embed(tsRDMol_1, 15, bm=bm, match=atomMatch)[0]\n",
    "\n",
    "tsRDMol_1 = rdkit.Chem.rdchem.RWMol(tsRDMol_1)\n",
    "\n",
    "view_mol(tsRDMol_1)\n",
    "\n"
   ]
  },
  {
   "cell_type": "code",
   "execution_count": 21,
   "metadata": {
    "collapsed": true
   },
   "outputs": [],
   "source": [
    "def calc_energy_UFF(mol):\n",
    "    \"\"\"\n",
    "    A function designed to calculate the energy of a molecule or TS\n",
    "    \n",
    "    Input: rdkit molecule object\n",
    "    \n",
    "    Output: energy of the geometry calculated using rdkit's forcefield method\n",
    "    \"\"\"\n",
    "    \"\"\"try:\n",
    "        molprop = rdkit.Chem.ChemicalForceFields.MMFFGetMoleculeProperties(mol)\n",
    "    except:\n",
    "    \n",
    "        # Picking an arbitrarly large molecule to create a dummy mol properties forcefield object\n",
    "        test_mol = Chem.AddHs(Chem.MolFromSmiles(\n",
    "            \"COC(=O)Cc1ccccc1CC2CC(O)C(C(=C)CC#CCC=O)C2OO\"\n",
    "        ))\n",
    "        \n",
    "        molprop = rdkit.Chem.ChemicalForceFields.MMFFGetMoleculeProperties(test_mol)\"\"\"\n",
    "    ff = rdkit.Chem.ChemicalForceFields.UFFGetMoleculeForceField(mol)\n",
    "    return ff.CalcEnergy()"
   ]
  },
  {
   "cell_type": "code",
   "execution_count": 25,
   "metadata": {
    "collapsed": false
   },
   "outputs": [
    {
     "data": {
      "text/plain": [
       "33942.809312846766"
      ]
     },
     "execution_count": 25,
     "metadata": {},
     "output_type": "execute_result"
    }
   ],
   "source": [
    "calc_energy_UFF(tsRDMol_store)"
   ]
  },
  {
   "cell_type": "code",
   "execution_count": 24,
   "metadata": {
    "collapsed": false
   },
   "outputs": [
    {
     "data": {
      "text/html": [
       "<div id=\"3dmolviewer_151060953403\"  style=\"position: relative; width: 400px; height: 400px\">\n",
       "<script>\n",
       "if(typeof $3Dmolpromise === 'undefined') $3Dmolpromise = $.when($.getScript('https://3dmol.csb.pitt.edu/build/3Dmol.js'))\n",
       "var viewer_151060953403 = null;\n",
       "$3Dmolpromise.done(function() {\n",
       "viewer_151060953403 = $3Dmol.createViewer($(\"#3dmolviewer_151060953403\"),{backgroundColor:\"white\"});\n",
       "\tviewer_151060953403.addModel(\"\\n     RDKit          3D\\n\\n 23 21  0  0  0  0  0  0  0  0999 V2000\\n   -0.6901    0.5233    0.5965 C   0  0  0  0  0  0  0  0  0  0  0  0\\n   -1.4411   -0.7576    0.1953 C   0  0  0  0  0  0  0  0  0  0  0  0\\n    0.2835    1.0073   -0.4852 C   0  0  0  0  0  0  0  0  0  0  0  0\\n   -0.6382   -1.6747   -0.7507 C   0  0  0  0  0  0  0  0  0  0  0  0\\n    0.2567    0.0824   -1.6969 C   0  0  0  0  0  0  0  0  0  0  0  0\\n    0.8702   -1.5621   -0.5292 C   0  0  0  0  0  0  0  0  0  0  0  0\\n   -0.0047    2.0254   -0.8212 H   0  0  0  0  0  0  0  0  0  0  0  0\\n    1.3179    1.0402   -0.0791 H   0  0  0  0  0  0  0  0  0  0  0  0\\n   -1.4466    1.3170    0.7835 H   0  0  0  0  0  0  0  0  0  0  0  0\\n   -0.1410    0.3526    1.5486 H   0  0  0  0  0  0  0  0  0  0  0  0\\n   -2.4313   -0.4957   -0.2390 H   0  0  0  0  0  0  0  0  0  0  0  0\\n   -1.6493   -1.3234    1.1298 H   0  0  0  0  0  0  0  0  0  0  0  0\\n   -0.9515   -2.7358   -0.6419 H   0  0  0  0  0  0  0  0  0  0  0  0\\n   -0.8486   -1.3801   -1.8021 H   0  0  0  0  0  0  0  0  0  0  0  0\\n   -0.6865    0.5108   -2.5914 H   0  0  0  0  0  0  0  0  0  0  0  0\\n    0.0228   -0.9578   -1.3850 H   0  0  0  0  0  0  0  0  0  0  0  0\\n    1.2499    0.0896   -2.1936 H   0  0  0  0  0  0  0  0  0  0  0  0\\n    1.2109   -0.5246   -0.7329 H   0  0  0  0  0  0  0  0  0  0  0  0\\n    1.1425   -1.8342    0.5104 H   0  0  0  0  0  0  0  0  0  0  0  0\\n    1.3989   -2.2488   -1.2234 H   0  0  0  0  0  0  0  0  0  0  0  0\\n   -0.2027    0.5628   -3.6688 O   0  0  0  0  0  0  0  0  0  0  0  0\\n   -1.4725    0.3151   -3.4278 O   0  0  0  0  0  1  0  0  0  0  0  0\\n   -0.1893    1.4991   -3.9908 H   0  0  0  0  0  0  0  0  0  0  0  0\\n  1  3  1  0\\n  1  2  1  0\\n  1 10  1  0\\n  1  9  1  0\\n  2 12  1  0\\n  2  4  1  0\\n  2 11  1  0\\n  3  5  1  0\\n  3  7  1  0\\n  3  8  1  0\\n  4 13  1  0\\n  4 14  1  0\\n  4  6  1  0\\n  5 15  1  0\\n  5 16  1  0\\n  5 17  1  0\\n  6 19  1  0\\n  6 20  1  0\\n  6 18  1  0\\n 21 22  1  0\\n 21 23  1  0\\nM  RAD  1  22   2\\nM  END\\n\",\"sdf\");\n",
       "\tviewer_151060953403.setStyle({\"stick\": {}});\n",
       "\tviewer_151060953403.setBackgroundColor(\"0xeeeeee\");\n",
       "\tviewer_151060953403.zoomTo();\n",
       "viewer_151060953403.render();\n",
       "});\n",
       "</script>"
      ],
      "text/plain": [
       "<IPython.core.display.HTML object>"
      ]
     },
     "execution_count": 24,
     "metadata": {},
     "output_type": "execute_result"
    }
   ],
   "source": [
    "view_mol(tsRDMol_store)"
   ]
  },
  {
   "cell_type": "code",
   "execution_count": null,
   "metadata": {
    "collapsed": true
   },
   "outputs": [],
   "source": []
  }
 ],
 "metadata": {
  "kernelspec": {
   "display_name": "Python 2",
   "language": "python",
   "name": "python2"
  },
  "language_info": {
   "codemirror_mode": {
    "name": "ipython",
    "version": 2
   },
   "file_extension": ".py",
   "mimetype": "text/x-python",
   "name": "python",
   "nbconvert_exporter": "python",
   "pygments_lexer": "ipython2",
   "version": "2.7.12"
  }
 },
 "nbformat": 4,
 "nbformat_minor": 2
}
