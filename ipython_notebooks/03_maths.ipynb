{
 "cells": [
  {
   "cell_type": "markdown",
   "metadata": {},
   "source": [
    "# A notebook with helpful math functions. \n",
    "\n",
    "These will be useful for finding local minimum and saddle points for "
   ]
  },
  {
   "cell_type": "code",
   "execution_count": 58,
   "metadata": {
    "collapsed": true
   },
   "outputs": [],
   "source": [
    "import numpy as np\n",
    "from scipy.optimize import approx_fprime\n",
    "import pandas as pd\n",
    "\n",
    "\n",
    "# Look into getting the gradient / hessian from dft outputs (?)\n"
   ]
  },
  {
   "cell_type": "code",
   "execution_count": 2,
   "metadata": {
    "collapsed": false
   },
   "outputs": [],
   "source": [
    "def gradient ( cost_function, x0, epsilon=1.e-5, linear_approx=False, *args ):\n",
    "    \"\"\"\n",
    "    A numerical approximation to the gradient array of cost_function at\n",
    "    location x0 (hopefully, the minimum)\n",
    "    \"\"\"\n",
    "    gradient = approx_fprime( x0, cost_function, epsilon) \n",
    "    \n",
    "    if linear_approx:\n",
    "        gradient = np.matrix(gradient)\n",
    "        return gradient.transpose() * gradient\n",
    "    \n",
    "    return gradient\n",
    "    \n",
    "\n",
    "def hessian ( cost_function, x0, epsilon=1.e-5, linear_approx=False, *args ):\n",
    "    \"\"\"\n",
    "    A numerical approximation to the Hessian matrix of cost_function at\n",
    "    location x0 (hopefully, the minimum)\n",
    "    \n",
    "    Code courtsey of https://gist.github.com/jgomezdans\n",
    "    \"\"\"\n",
    "    # ``calculate_cost_function`` is the cost function implementation\n",
    "    # The next line calculates an approximation to the first\n",
    "    # derivative\n",
    "    f1 = approx_fprime( x0, cost_function, epsilon) \n",
    "\n",
    "    # This is a linear approximation. Obviously much more efficient\n",
    "    # if cost function is linear\n",
    "    if linear_approx:\n",
    "        f1 = np.matrix(f1)\n",
    "        return f1.transpose() * f1    \n",
    "    # Allocate space for the hessian\n",
    "    n = x0.shape[0]\n",
    "    hessian = np.zeros ( ( n, n ) )\n",
    "    # The next loop fill in the matrix\n",
    "    xx = x0\n",
    "    for j in xrange( n ):\n",
    "        xx0 = xx[j] # Store old value\n",
    "        xx[j] = xx0 + epsilon # Perturb with finite difference\n",
    "        # Recalculate the partial derivatives for this new point\n",
    "        f2 = approx_fprime( x0, cost_function, epsilon) \n",
    "        hessian[:, j] = (f2 - f1)/epsilon # scale...\n",
    "        xx[j] = xx0 # Restore initial value of x0        \n",
    "    return hessian\n"
   ]
  },
  {
   "cell_type": "code",
   "execution_count": 16,
   "metadata": {
    "collapsed": false
   },
   "outputs": [],
   "source": [
    "def calculate_cost_function(z):\n",
    "    x= z[0]\n",
    "    y = z[1]\n",
    "    \n",
    "    return x**2 + y**3 + x*y"
   ]
  },
  {
   "cell_type": "code",
   "execution_count": 17,
   "metadata": {
    "collapsed": false
   },
   "outputs": [
    {
     "name": "stdout",
     "output_type": "stream",
     "text": [
      "The Gradient\n",
      "[  1.00000000e-05   1.00000000e-10]\n",
      "The sum of the gradient\n",
      "1.00001e-05\n",
      "\n",
      "The Hessian\n",
      "[[  2.00000000e+00   1.00000000e+00]\n",
      " [  1.00000000e+00   6.00000000e-05]]\n",
      "The determinant of the Hessian\n",
      "-0.99988\n"
     ]
    }
   ],
   "source": [
    "# An input where we know it is a saddle point\n",
    "inp = np.array([float(0), float(0)])\n",
    "\n",
    "grad = gradient(calculate_cost_function , inp)\n",
    "hes = hessian(calculate_cost_function , inp)\n",
    "print \"The Gradient\"\n",
    "print grad\n",
    "print \"The sum of the gradient\"\n",
    "print grad.sum()\n",
    "print \n",
    "print \"The Hessian\"\n",
    "\n",
    "print hes\n",
    "print \"The determinant of the Hessian\"\n",
    "print np.linalg.det(hes)"
   ]
  },
  {
   "cell_type": "markdown",
   "metadata": {},
   "source": [
    "The above shows that we have found a saddle point. The sum of the gradient was close to 0 and the determinant of the Hessian was negative."
   ]
  },
  {
   "cell_type": "markdown",
   "metadata": {},
   "source": [
    "## Now we will add some functionality for CMA-ES... attempting it"
   ]
  },
  {
   "cell_type": "code",
   "execution_count": 29,
   "metadata": {
    "collapsed": false
   },
   "outputs": [],
   "source": [
    "X1 = np.random.rand(4)\n",
    "X2 = np.random.rand(4)\n",
    "X3 = np.random.rand(4)\n",
    "X4 = np.random.rand(4)\n",
    " \n",
    "\n",
    "\n",
    "def get_mean_array(pop_list, number_of_best):\n",
    "    \n",
    "    count = len(X_list)\n",
    "    \n",
    "    \n",
    "    for X in X_list:\n",
    "        \n",
    "    return np.full(len(X), X.mean())\n",
    "\n",
    "def get_covariance_matrix(X):\n",
    "    M = get_mean_array(X)\n",
    "    \n",
    "    (X-M) * (X-M).T\n",
    "    \n",
    "    "
   ]
  },
  {
   "cell_type": "code",
   "execution_count": 175,
   "metadata": {
    "collapsed": false
   },
   "outputs": [
    {
     "name": "stderr",
     "output_type": "stream",
     "text": [
      "/Users/nathan/anaconda/envs/rmg_env/lib/python2.7/site-packages/ipykernel/__main__.py:23: FutureWarning: sort(columns=....) is deprecated, use sort_values(by=.....)\n"
     ]
    },
    {
     "data": {
      "text/html": [
       "<div>\n",
       "<table border=\"1\" class=\"dataframe\">\n",
       "  <thead>\n",
       "    <tr style=\"text-align: right;\">\n",
       "      <th></th>\n",
       "      <th>Score</th>\n",
       "      <th>Array</th>\n",
       "    </tr>\n",
       "  </thead>\n",
       "  <tbody>\n",
       "    <tr>\n",
       "      <th>0</th>\n",
       "      <td>[0.109448133809]</td>\n",
       "      <td>[[0.322032403272], [0.0757843324963]]</td>\n",
       "    </tr>\n",
       "    <tr>\n",
       "      <th>3</th>\n",
       "      <td>[0.126585676162]</td>\n",
       "      <td>[[0.018551456992], [0.355304826319]]</td>\n",
       "    </tr>\n",
       "    <tr>\n",
       "      <th>2</th>\n",
       "      <td>[0.550486163083]</td>\n",
       "      <td>[[0.692514021965], [0.266290241025]]</td>\n",
       "    </tr>\n",
       "    <tr>\n",
       "      <th>1</th>\n",
       "      <td>[0.829409483363]</td>\n",
       "      <td>[[0.894952957184], [0.168726665917]]</td>\n",
       "    </tr>\n",
       "  </tbody>\n",
       "</table>\n",
       "</div>"
      ],
      "text/plain": [
       "              Score                                  Array\n",
       "0  [0.109448133809]  [[0.322032403272], [0.0757843324963]]\n",
       "3  [0.126585676162]   [[0.018551456992], [0.355304826319]]\n",
       "2  [0.550486163083]   [[0.692514021965], [0.266290241025]]\n",
       "1  [0.829409483363]   [[0.894952957184], [0.168726665917]]"
      ]
     },
     "execution_count": 175,
     "metadata": {},
     "output_type": "execute_result"
    }
   ],
   "source": [
    "def best_function(X):\n",
    "    return X[0]**2 + X[1]**2\n",
    "    \n",
    "    \n",
    "\n",
    "X1 = np.random.rand(2,1)\n",
    "X1_score = best_function(X1)\n",
    "X2 = np.random.rand(2,1)\n",
    "X2_score = best_function(X2)\n",
    "X3 = np.random.rand(2,1)\n",
    "X3_score = best_function(X3)\n",
    "X4 = np.random.rand(2,1)\n",
    "X4_score = best_function(X4)\n",
    "\n",
    "scores = [\n",
    "    [X1_score, X1],\n",
    "    [X2_score, X2],\n",
    "    [X3_score, X3],\n",
    "    [X4_score, X4]\n",
    "]\n",
    "df = pd.DataFrame(scores)\n",
    "df.columns = [\"Score\", \"Array\"]\n",
    "df.sort(\"Score\")"
   ]
  },
  {
   "cell_type": "code",
   "execution_count": 176,
   "metadata": {
    "collapsed": false
   },
   "outputs": [
    {
     "name": "stderr",
     "output_type": "stream",
     "text": [
      "/Users/nathan/anaconda/envs/rmg_env/lib/python2.7/site-packages/ipykernel/__main__.py:1: FutureWarning: sort(columns=....) is deprecated, use sort_values(by=.....)\n",
      "  if __name__ == '__main__':\n"
     ]
    }
   ],
   "source": [
    "best1, best2 = df.sort(\"Score\").iloc[:2,1]\n"
   ]
  },
  {
   "cell_type": "code",
   "execution_count": 177,
   "metadata": {
    "collapsed": false
   },
   "outputs": [
    {
     "data": {
      "text/plain": [
       "(array([[ 0.3220324 ],\n",
       "        [ 0.07578433]]), array([[ 0.01855146],\n",
       "        [ 0.35530483]]))"
      ]
     },
     "execution_count": 177,
     "metadata": {},
     "output_type": "execute_result"
    }
   ],
   "source": [
    "best1, best2"
   ]
  },
  {
   "cell_type": "code",
   "execution_count": 178,
   "metadata": {
    "collapsed": false
   },
   "outputs": [
    {
     "data": {
      "text/plain": [
       "array([[ 0.17029193],\n",
       "       [ 0.21554458]])"
      ]
     },
     "execution_count": 178,
     "metadata": {},
     "output_type": "execute_result"
    }
   ],
   "source": [
    "M = (best1 + best2)/2\n",
    "M"
   ]
  },
  {
   "cell_type": "code",
   "execution_count": 179,
   "metadata": {
    "collapsed": false
   },
   "outputs": [
    {
     "data": {
      "text/plain": [
       "array([[ 0.04605034, -0.04241457],\n",
       "       [-0.04241457,  0.03906585]])"
      ]
     },
     "execution_count": 179,
     "metadata": {},
     "output_type": "execute_result"
    }
   ],
   "source": [
    "Sigma = (best1-M).dot( (best1-M).T ) + (best2-M).dot( (best2-M).T )\n",
    "Sigma"
   ]
  },
  {
   "cell_type": "code",
   "execution_count": 180,
   "metadata": {
    "collapsed": false
   },
   "outputs": [
    {
     "data": {
      "text/plain": [
       "0.14575036002555206"
      ]
     },
     "execution_count": 180,
     "metadata": {},
     "output_type": "execute_result"
    }
   ],
   "source": [
    "sigma = (best1.std() + best2.std()) / 2\n",
    "sigma"
   ]
  },
  {
   "cell_type": "code",
   "execution_count": 181,
   "metadata": {
    "collapsed": false
   },
   "outputs": [],
   "source": [
    "X3, X4 = M + sigma * np.random.normal(loc=0, scale=1.0, size = (2,2)) * Sigma"
   ]
  },
  {
   "cell_type": "code",
   "execution_count": 182,
   "metadata": {
    "collapsed": false
   },
   "outputs": [],
   "source": [
    "X3 = X3.reshape(2,1)\n",
    "X4 = X4.reshape(2,1)"
   ]
  },
  {
   "cell_type": "code",
   "execution_count": 183,
   "metadata": {
    "collapsed": false
   },
   "outputs": [],
   "source": [
    "best1_score = best_function(best1)\n",
    "best2_score = best_function(best2)\n",
    "X3_score = best_function(X3)\n",
    "X4_score = best_function(X4)"
   ]
  },
  {
   "cell_type": "code",
   "execution_count": 184,
   "metadata": {
    "collapsed": false
   },
   "outputs": [
    {
     "name": "stderr",
     "output_type": "stream",
     "text": [
      "/Users/nathan/anaconda/envs/rmg_env/lib/python2.7/site-packages/ipykernel/__main__.py:9: FutureWarning: sort(columns=....) is deprecated, use sort_values(by=.....)\n"
     ]
    },
    {
     "data": {
      "text/html": [
       "<div>\n",
       "<table border=\"1\" class=\"dataframe\">\n",
       "  <thead>\n",
       "    <tr style=\"text-align: right;\">\n",
       "      <th></th>\n",
       "      <th>Score</th>\n",
       "      <th>Array</th>\n",
       "    </tr>\n",
       "  </thead>\n",
       "  <tbody>\n",
       "    <tr>\n",
       "      <th>2</th>\n",
       "      <td>[0.0555061139129]</td>\n",
       "      <td>[[0.169166500245], [0.163978075083]]</td>\n",
       "    </tr>\n",
       "    <tr>\n",
       "      <th>3</th>\n",
       "      <td>[0.098280991338]</td>\n",
       "      <td>[[0.227514605141], [0.215680541045]]</td>\n",
       "    </tr>\n",
       "    <tr>\n",
       "      <th>0</th>\n",
       "      <td>[0.109448133809]</td>\n",
       "      <td>[[0.322032403272], [0.0757843324963]]</td>\n",
       "    </tr>\n",
       "    <tr>\n",
       "      <th>1</th>\n",
       "      <td>[0.126585676162]</td>\n",
       "      <td>[[0.018551456992], [0.355304826319]]</td>\n",
       "    </tr>\n",
       "  </tbody>\n",
       "</table>\n",
       "</div>"
      ],
      "text/plain": [
       "               Score                                  Array\n",
       "2  [0.0555061139129]   [[0.169166500245], [0.163978075083]]\n",
       "3   [0.098280991338]   [[0.227514605141], [0.215680541045]]\n",
       "0   [0.109448133809]  [[0.322032403272], [0.0757843324963]]\n",
       "1   [0.126585676162]   [[0.018551456992], [0.355304826319]]"
      ]
     },
     "execution_count": 184,
     "metadata": {},
     "output_type": "execute_result"
    }
   ],
   "source": [
    "scores = [\n",
    "    [best1_score, best1],\n",
    "    [best2_score, best2],\n",
    "    [X3_score, X3],\n",
    "    [X4_score, X4]\n",
    "]\n",
    "df = pd.DataFrame(scores)\n",
    "df.columns = [\"Score\", \"Array\"]\n",
    "df.sort(\"Score\")"
   ]
  },
  {
   "cell_type": "code",
   "execution_count": 185,
   "metadata": {
    "collapsed": false
   },
   "outputs": [
    {
     "name": "stderr",
     "output_type": "stream",
     "text": [
      "/Users/nathan/anaconda/envs/rmg_env/lib/python2.7/site-packages/ipykernel/__main__.py:1: FutureWarning: sort(columns=....) is deprecated, use sort_values(by=.....)\n",
      "  if __name__ == '__main__':\n"
     ]
    },
    {
     "data": {
      "text/plain": [
       "array([ 0.05550611])"
      ]
     },
     "execution_count": 185,
     "metadata": {},
     "output_type": "execute_result"
    }
   ],
   "source": [
    "df.sort(\"Score\").iloc[0,0]"
   ]
  },
  {
   "cell_type": "code",
   "execution_count": 186,
   "metadata": {
    "collapsed": false
   },
   "outputs": [
    {
     "name": "stderr",
     "output_type": "stream",
     "text": [
      "/Users/nathan/anaconda/envs/rmg_env/lib/python2.7/site-packages/ipykernel/__main__.py:18: FutureWarning: sort(columns=....) is deprecated, use sort_values(by=.....)\n",
      "/Users/nathan/anaconda/envs/rmg_env/lib/python2.7/site-packages/ipykernel/__main__.py:20: FutureWarning: sort(columns=....) is deprecated, use sort_values(by=.....)\n",
      "/Users/nathan/anaconda/envs/rmg_env/lib/python2.7/site-packages/ipykernel/__main__.py:23: FutureWarning: sort(columns=....) is deprecated, use sort_values(by=.....)\n",
      "/Users/nathan/anaconda/envs/rmg_env/lib/python2.7/site-packages/ipykernel/__main__.py:42: FutureWarning: sort(columns=....) is deprecated, use sort_values(by=.....)\n",
      "/Users/nathan/anaconda/envs/rmg_env/lib/python2.7/site-packages/ipykernel/__main__.py:43: FutureWarning: sort(columns=....) is deprecated, use sort_values(by=.....)\n"
     ]
    },
    {
     "name": "stdout",
     "output_type": "stream",
     "text": [
      "[ 0.11627209]\n",
      "[ 0.11627209]\n",
      "[ 0.06775332]\n",
      "[ 0.03945148]\n",
      "[ 0.03945148]\n",
      "[ 0.03945148]\n",
      "[ 0.03945148]\n",
      "[ 0.03945148]\n",
      "[ 0.03945148]\n",
      "[ 0.03945148]\n",
      "[ 0.03937656]\n",
      "[ 0.03927941]\n",
      "[ 0.03927941]\n",
      "[ 0.03927941]\n",
      "[ 0.03927941]\n",
      "[ 0.03927941]\n",
      "[ 0.03927941]\n",
      "[ 0.03927941]\n",
      "[ 0.03927941]\n",
      "[ 0.03927941]\n",
      "[ 0.03927941]\n",
      "[ 0.03927941]\n",
      "[ 0.03927941]\n",
      "[ 0.03927941]\n",
      "[ 0.03927941]\n",
      "[ 0.03927941]\n",
      "[ 0.03927941]\n",
      "[ 0.03927941]\n",
      "[ 0.03927941]\n",
      "[ 0.03927941]\n",
      "[ 0.03927941]\n",
      "[ 0.03927941]\n",
      "[ 0.03927941]\n",
      "[ 0.03927941]\n",
      "[ 0.03927941]\n",
      "[ 0.03927941]\n",
      "[ 0.03927941]\n",
      "[ 0.03927941]\n",
      "[ 0.03927941]\n",
      "[ 0.03927941]\n",
      "[ 0.03927941]\n",
      "[ 0.03927941]\n",
      "[ 0.03927941]\n",
      "[ 0.03927941]\n",
      "[ 0.03927941]\n",
      "[ 0.03927941]\n",
      "[ 0.03927941]\n",
      "[ 0.03927941]\n",
      "[ 0.03927941]\n",
      "[ 0.03927941]\n",
      "[ 0.03927941]\n",
      "[ 0.03927941]\n",
      "[ 0.03927941]\n",
      "[ 0.03927941]\n",
      "[ 0.03927941]\n",
      "[ 0.03927941]\n",
      "[ 0.03927941]\n",
      "[ 0.03927941]\n",
      "[ 0.03927941]\n",
      "[ 0.03927941]\n",
      "[ 0.03927941]\n",
      "[ 0.03927941]\n",
      "[ 0.03927941]\n",
      "[ 0.03927941]\n",
      "[ 0.03927941]\n",
      "[ 0.03927941]\n",
      "[ 0.03927941]\n",
      "[ 0.03927941]\n",
      "[ 0.03927941]\n",
      "[ 0.03927941]\n",
      "[ 0.03927941]\n",
      "[ 0.03927941]\n",
      "[ 0.03927941]\n",
      "[ 0.03927941]\n",
      "[ 0.03927941]\n",
      "[ 0.03927941]\n",
      "[ 0.03927941]\n",
      "[ 0.03927941]\n",
      "[ 0.03927941]\n",
      "[ 0.03927941]\n",
      "[ 0.03927941]\n",
      "[ 0.03927941]\n",
      "[ 0.03927941]\n",
      "[ 0.03927941]\n",
      "[ 0.03927941]\n",
      "[ 0.03927941]\n",
      "[ 0.03927941]\n",
      "[ 0.03927941]\n",
      "[ 0.03927941]\n",
      "[ 0.03927941]\n",
      "[ 0.03927941]\n",
      "[ 0.03927941]\n",
      "[ 0.03927941]\n",
      "[ 0.03927941]\n",
      "[ 0.03927941]\n",
      "[ 0.03927941]\n",
      "[ 0.03927941]\n",
      "[ 0.03927941]\n",
      "[ 0.03927941]\n",
      "[ 0.03927941]\n",
      "[ 0.03927941]\n"
     ]
    }
   ],
   "source": [
    "X1 = np.random.rand(2,1)\n",
    "X1_score = best_function(X1)\n",
    "X2 = np.random.rand(2,1)\n",
    "X2_score = best_function(X2)\n",
    "X3 = np.random.rand(2,1)\n",
    "X3_score = best_function(X3)\n",
    "X4 = np.random.rand(2,1)\n",
    "X4_score = best_function(X4)\n",
    "\n",
    "scores = [\n",
    "    [X1_score, X1],\n",
    "    [X2_score, X2],\n",
    "    [X3_score, X3],\n",
    "    [X4_score, X4]\n",
    "]\n",
    "df = pd.DataFrame(scores)\n",
    "df.columns = [\"Score\", \"Array\"]\n",
    "df.sort(\"Score\")\n",
    "\n",
    "print df.sort(\"Score\").iloc[0,0]\n",
    "\n",
    "for i in range(100) :  \n",
    "    best1, best2 = df.sort(\"Score\").iloc[:2,1]\n",
    "    M = (best1 + best2)/2\n",
    "    Sigma = (best1-M).dot( (best1-M).T ) + (best2-M).dot( (best2-M).T )\n",
    "    sigma = (best1.std() + best2.std()) / 2\n",
    "    X3, X4 = M + sigma * np.random.normal(loc=0, scale=1.0, size = (2,2)) * Sigma\n",
    "    X3 = X3.reshape(2,1)\n",
    "    X4 = X4.reshape(2,1)\n",
    "    best1_score = best_function(best1)\n",
    "    best2_score = best_function(best2)\n",
    "    X3_score = best_function(X3)\n",
    "    X4_score = best_function(X4)\n",
    "    scores = [\n",
    "        [best1_score, best1],\n",
    "        [best2_score, best2],\n",
    "        [X3_score, X3],\n",
    "        [X4_score, X4]\n",
    "    ]\n",
    "    df = pd.DataFrame(scores)\n",
    "    df.columns = [\"Score\", \"Array\"]\n",
    "    df.sort(\"Score\")\n",
    "    print df.sort(\"Score\").iloc[0,0]"
   ]
  },
  {
   "cell_type": "code",
   "execution_count": 187,
   "metadata": {
    "collapsed": false
   },
   "outputs": [
    {
     "name": "stderr",
     "output_type": "stream",
     "text": [
      "/Users/nathan/anaconda/envs/rmg_env/lib/python2.7/site-packages/ipykernel/__main__.py:1: FutureWarning: sort(columns=....) is deprecated, use sort_values(by=.....)\n",
      "  if __name__ == '__main__':\n"
     ]
    },
    {
     "data": {
      "text/plain": [
       "array([[ 0.14014173],\n",
       "       [ 0.14014173]])"
      ]
     },
     "execution_count": 187,
     "metadata": {},
     "output_type": "execute_result"
    }
   ],
   "source": [
    "df.sort(\"Score\").iloc[0,1]"
   ]
  },
  {
   "cell_type": "markdown",
   "metadata": {},
   "source": [
    "# Okay, ignoring the CMA-ES stuff for now. We're gonna look at calculating things"
   ]
  },
  {
   "cell_type": "code",
   "execution_count": null,
   "metadata": {
    "collapsed": true
   },
   "outputs": [],
   "source": []
  }
 ],
 "metadata": {
  "kernelspec": {
   "display_name": "Python 2",
   "language": "python",
   "name": "python2"
  },
  "language_info": {
   "codemirror_mode": {
    "name": "ipython",
    "version": 2
   },
   "file_extension": ".py",
   "mimetype": "text/x-python",
   "name": "python",
   "nbconvert_exporter": "python",
   "pygments_lexer": "ipython2",
   "version": "2.7.12"
  }
 },
 "nbformat": 4,
 "nbformat_minor": 2
}
