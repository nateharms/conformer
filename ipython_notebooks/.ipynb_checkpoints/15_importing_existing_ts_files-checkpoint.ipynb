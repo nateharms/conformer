{
 "cells": [
  {
   "cell_type": "code",
   "execution_count": 1,
   "metadata": {
    "collapsed": false
   },
   "outputs": [
    {
     "name": "stderr",
     "output_type": "stream",
     "text": [
      "thermo.py:789 loadLibraries INFO Loading thermodynamics library from primaryThermoLibrary.py in /Users/nathan/Code/RMG-database/input/thermo/libraries...\n",
      "thermo.py:789 loadLibraries INFO Loading thermodynamics library from KlippensteinH2O2.py in /Users/nathan/Code/RMG-database/input/thermo/libraries...\n",
      "thermo.py:789 loadLibraries INFO Loading thermodynamics library from thermo_DFT_CCSDTF12_BAC.py in /Users/nathan/Code/RMG-database/input/thermo/libraries...\n",
      "thermo.py:789 loadLibraries INFO Loading thermodynamics library from CBS_QB3_1dHR.py in /Users/nathan/Code/RMG-database/input/thermo/libraries...\n",
      "thermo.py:806 loadGroups INFO Loading thermodynamics group database from /Users/nathan/Code/RMG-database/input/thermo/groups...\n",
      "transport.py:294 loadGroups INFO Loading transport group database from /Users/nathan/Code/RMG-database/input/transport/groups...\n",
      "database.py:165 loadFamilies INFO Loading the user-specified kinetics families from /Users/nathan/Code/RMG-database/input/kinetics/families\n",
      "statmech.py:526 loadGroups INFO Loading frequencies group database from /Users/nathan/Code/RMG-database/input/statmech/groups...\n"
     ]
    }
   ],
   "source": [
    "from multi_molecule import *\n",
    "from multi_reaction import *\n",
    "import ase\n",
    "from ase import Atom, Atoms\n",
    "from ase.calculators.gaussian import *\n",
    "import numpy as np\n",
    "from numpy import array, dtype\n"
   ]
  },
  {
   "cell_type": "code",
   "execution_count": 2,
   "metadata": {
    "collapsed": false
   },
   "outputs": [
    {
     "data": {
      "text/plain": [
       "['rxnLabel = \"[CH]=C(C)CCC=C(C)C=C+[H][H]_C=CC(C)=CCCC(=C)C+[H]\"\\n',\n",
       " 'method = \"m062x\"\\n',\n",
       " \"qmData = QMData(groundStateDegeneracy=2, numberOfAtoms=27, stericEnergy=None, molecularMass=(137.133,'amu'), energy=(-10641,'eV/molecule'), atomicNumbers=array([1, 1, 6, 6, 6, 6, 6, 6, 6, 6, 6, 6, 1, 1, 1, 1, 1, 1, 1, 1, 1, 1, 1, 1, 1, 1, 1], dtype=int32), rotationalConstants=([0.0861229,0.0186666,0.0177299],'cm^-1'), atomCoords=([[0.036757,0.0994,2.28903],[-0.672491,-0.1839,1.89657],[-1.94741,0.836597,-0.661486],[-0.528553,1.31777,-0.380271],[-3.77379,-0.871983,-0.258424],[2.31384,1.18079,0.79787],[1.73807,0.179518,-0.161023],[-2.47073,-0.27116,0.219776],[0.498832,0.257211,-0.656465],[2.59264,-0.941918,-0.562896],[3.83989,-1.1519,-0.149586],[-1.90379,-0.710139,1.32388],[-2.64592,1.67565,-0.587345],[-2.01239,0.495132,-1.70039],[-0.331843,2.18615,-1.01703],[-0.457259,1.67266,0.648368],[-4.15511,-1.61821,0.434547],[-4.52653,-0.089824,-0.378306],[-3.63494,-1.34007,-1.23508],[1.61265,1.9779,1.02783],[2.59926,0.694192,1.73316],[3.21648,1.63157,0.380446],[0.186864,-0.523771,-1.34622],[2.14287,-1.64754,-1.25451],[4.40322,-2.009,-0.490342],[4.33688,-0.482043,0.539635],[-2.2526,-1.48702,1.99141]],'angstrom'), frequencies=([-1264.68,49.114,65.3039,78.0597,133.651,179.453,212.981,225.142,234.91,247.041,290.946,307.047,333.061,391.063,427.668,436.398,455.468,477.432,535.529,591.037,690.728,716.463,768.798,815.877,870.611,904.356,916.446,952.885,953.523,979.828,994.479,1009.97,1034.68,1043.02,1061.51,1073.37,1092.86,1117.19,1140.49,1204.58,1217.55,1246.88,1276.55,1333.04,1350.16,1391.59,1403.47,1411.92,1429.88,1451.07,1477.38,1479.96,1491.25,1493.32,1494,1499.66,1680.86,1693.9,1739.92,2097.99,3026.29,3035.58,3043.61,3053.2,3059.47,3094.32,3097.19,3111.59,3125.89,3150.21,3152.33,3153.92,3163.16,3190.4,3237.26],'cm^-1'), source=None)\\n\"]"
      ]
     },
     "execution_count": 2,
     "metadata": {},
     "output_type": "execute_result"
    }
   ],
   "source": [
    "f = open(\"../[CH]=C(C)CCC=C(C)C=C+[H][H]_C=CC(C)=CCCC(=C)C+[H].ts\", \"r\")\n",
    "ts_lines = f.readlines()\n",
    "f.close()\n",
    "ts_lines"
   ]
  },
  {
   "cell_type": "code",
   "execution_count": 3,
   "metadata": {
    "collapsed": false
   },
   "outputs": [
    {
     "data": {
      "text/plain": [
       "\"qmData = QMData(groundStateDegeneracy=2, numberOfAtoms=27, stericEnergy=None, molecularMass=(137.133,'amu'), energy=(-10641,'eV/molecule'), atomicNumbers=array([1, 1, 6, 6, 6, 6, 6, 6, 6, 6, 6, 6, 1, 1, 1, 1, 1, 1, 1, 1, 1, 1, 1, 1, 1, 1, 1], dtype=int32), rotationalConstants=([0.0861229,0.0186666,0.0177299],'cm^-1'), atomCoords=([[0.036757,0.0994,2.28903],[-0.672491,-0.1839,1.89657],[-1.94741,0.836597,-0.661486],[-0.528553,1.31777,-0.380271],[-3.77379,-0.871983,-0.258424],[2.31384,1.18079,0.79787],[1.73807,0.179518,-0.161023],[-2.47073,-0.27116,0.219776],[0.498832,0.257211,-0.656465],[2.59264,-0.941918,-0.562896],[3.83989,-1.1519,-0.149586],[-1.90379,-0.710139,1.32388],[-2.64592,1.67565,-0.587345],[-2.01239,0.495132,-1.70039],[-0.331843,2.18615,-1.01703],[-0.457259,1.67266,0.648368],[-4.15511,-1.61821,0.434547],[-4.52653,-0.089824,-0.378306],[-3.63494,-1.34007,-1.23508],[1.61265,1.9779,1.02783],[2.59926,0.694192,1.73316],[3.21648,1.63157,0.380446],[0.186864,-0.523771,-1.34622],[2.14287,-1.64754,-1.25451],[4.40322,-2.009,-0.490342],[4.33688,-0.482043,0.539635],[-2.2526,-1.48702,1.99141]],'angstrom'), frequencies=([-1264.68,49.114,65.3039,78.0597,133.651,179.453,212.981,225.142,234.91,247.041,290.946,307.047,333.061,391.063,427.668,436.398,455.468,477.432,535.529,591.037,690.728,716.463,768.798,815.877,870.611,904.356,916.446,952.885,953.523,979.828,994.479,1009.97,1034.68,1043.02,1061.51,1073.37,1092.86,1117.19,1140.49,1204.58,1217.55,1246.88,1276.55,1333.04,1350.16,1391.59,1403.47,1411.92,1429.88,1451.07,1477.38,1479.96,1491.25,1493.32,1494,1499.66,1680.86,1693.9,1739.92,2097.99,3026.29,3035.58,3043.61,3053.2,3059.47,3094.32,3097.19,3111.59,3125.89,3150.21,3152.33,3153.92,3163.16,3190.4,3237.26],'cm^-1'), source=None)\\n\""
      ]
     },
     "execution_count": 3,
     "metadata": {},
     "output_type": "execute_result"
    }
   ],
   "source": [
    "from rmgpy.qm.qmdata import *\n",
    "ts_lines[-1]"
   ]
  },
  {
   "cell_type": "code",
   "execution_count": 4,
   "metadata": {
    "collapsed": false
   },
   "outputs": [],
   "source": [
    "rxn_label = ts_lines[0].split(\"\\n\")[0].split(\"\"\"\\\"\"\"\")[1]\n",
    "qm_data = ts_lines[-1].split(\" = \")[-1].split(\"\\n\")[0]\n"
   ]
  },
  {
   "cell_type": "code",
   "execution_count": 5,
   "metadata": {
    "collapsed": false
   },
   "outputs": [
    {
     "name": "stdout",
     "output_type": "stream",
     "text": [
      "QMData(groundStateDegeneracy=2, numberOfAtoms=27, stericEnergy=None, molecularMass=(137.133,'amu'), energy=(-10641,'eV/molecule'), atomicNumbers=array([1, 1, 6, 6, 6, 6, 6, 6, 6, 6, 6, 6, 1, 1, 1, 1, 1, 1, 1, 1, 1, 1, 1, 1, 1, 1, 1], dtype= \"int32\" ), rotationalConstants=([0.0861229,0.0186666,0.0177299],'cm^-1'), atomCoords=([[0.036757,0.0994,2.28903],[-0.672491,-0.1839,1.89657],[-1.94741,0.836597,-0.661486],[-0.528553,1.31777,-0.380271],[-3.77379,-0.871983,-0.258424],[2.31384,1.18079,0.79787],[1.73807,0.179518,-0.161023],[-2.47073,-0.27116,0.219776],[0.498832,0.257211,-0.656465],[2.59264,-0.941918,-0.562896],[3.83989,-1.1519,-0.149586],[-1.90379,-0.710139,1.32388],[-2.64592,1.67565,-0.587345],[-2.01239,0.495132,-1.70039],[-0.331843,2.18615,-1.01703],[-0.457259,1.67266,0.648368],[-4.15511,-1.61821,0.434547],[-4.52653,-0.089824,-0.378306],[-3.63494,-1.34007,-1.23508],[1.61265,1.9779,1.02783],[2.59926,0.694192,1.73316],[3.21648,1.63157,0.380446],[0.186864,-0.523771,-1.34622],[2.14287,-1.64754,-1.25451],[4.40322,-2.009,-0.490342],[4.33688,-0.482043,0.539635],[-2.2526,-1.48702,1.99141]],'angstrom'), frequencies=([-1264.68,49.114,65.3039,78.0597,133.651,179.453,212.981,225.142,234.91,247.041,290.946,307.047,333.061,391.063,427.668,436.398,455.468,477.432,535.529,591.037,690.728,716.463,768.798,815.877,870.611,904.356,916.446,952.885,953.523,979.828,994.479,1009.97,1034.68,1043.02,1061.51,1073.37,1092.86,1117.19,1140.49,1204.58,1217.55,1246.88,1276.55,1333.04,1350.16,1391.59,1403.47,1411.92,1429.88,1451.07,1477.38,1479.96,1491.25,1493.32,1494,1499.66,1680.86,1693.9,1739.92,2097.99,3026.29,3035.58,3043.61,3053.2,3059.47,3094.32,3097.19,3111.59,3125.89,3150.21,3152.33,3153.92,3163.16,3190.4,3237.26],'cm^-1'), source=None)\n"
     ]
    },
    {
     "data": {
      "text/plain": [
       "QMData(groundStateDegeneracy=2, numberOfAtoms=27, stericEnergy=None, molecularMass=(137.133,'amu'), energy=(-10641,'eV/molecule'), atomicNumbers=array([1, 1, 6, 6, 6, 6, 6, 6, 6, 6, 6, 6, 1, 1, 1, 1, 1, 1, 1, 1, 1, 1, 1, 1, 1, 1, 1], dtype=int32), rotationalConstants=([0.0861229,0.0186666,0.0177299],'cm^-1'), atomCoords=([[0.036757,0.0994,2.28903],[-0.672491,-0.1839,1.89657],[-1.94741,0.836597,-0.661486],[-0.528553,1.31777,-0.380271],[-3.77379,-0.871983,-0.258424],[2.31384,1.18079,0.79787],[1.73807,0.179518,-0.161023],[-2.47073,-0.27116,0.219776],[0.498832,0.257211,-0.656465],[2.59264,-0.941918,-0.562896],[3.83989,-1.1519,-0.149586],[-1.90379,-0.710139,1.32388],[-2.64592,1.67565,-0.587345],[-2.01239,0.495132,-1.70039],[-0.331843,2.18615,-1.01703],[-0.457259,1.67266,0.648368],[-4.15511,-1.61821,0.434547],[-4.52653,-0.089824,-0.378306],[-3.63494,-1.34007,-1.23508],[1.61265,1.9779,1.02783],[2.59926,0.694192,1.73316],[3.21648,1.63157,0.380446],[0.186864,-0.523771,-1.34622],[2.14287,-1.64754,-1.25451],[4.40322,-2.009,-0.490342],[4.33688,-0.482043,0.539635],[-2.2526,-1.48702,1.99141]],'angstrom'), frequencies=([-1264.68,49.114,65.3039,78.0597,133.651,179.453,212.981,225.142,234.91,247.041,290.946,307.047,333.061,391.063,427.668,436.398,455.468,477.432,535.529,591.037,690.728,716.463,768.798,815.877,870.611,904.356,916.446,952.885,953.523,979.828,994.479,1009.97,1034.68,1043.02,1061.51,1073.37,1092.86,1117.19,1140.49,1204.58,1217.55,1246.88,1276.55,1333.04,1350.16,1391.59,1403.47,1411.92,1429.88,1451.07,1477.38,1479.96,1491.25,1493.32,1494,1499.66,1680.86,1693.9,1739.92,2097.99,3026.29,3035.58,3043.61,3053.2,3059.47,3094.32,3097.19,3111.59,3125.89,3150.21,3152.33,3153.92,3163.16,3190.4,3237.26],'cm^-1'), source=None)"
      ]
     },
     "execution_count": 5,
     "metadata": {},
     "output_type": "execute_result"
    }
   ],
   "source": [
    "try:\n",
    "    qm_data = eval(qm_data)\n",
    "except NameError:\n",
    "    L, R = qm_data.split(\"int32\")\n",
    "    \n",
    "    qm_data = L + \"\"\" \"int32\" \"\"\" + R\n",
    "    print qm_data\n",
    "    qm_data = eval(qm_data)\n",
    "    \n",
    "qm_data"
   ]
  },
  {
   "cell_type": "code",
   "execution_count": 6,
   "metadata": {
    "collapsed": false
   },
   "outputs": [
    {
     "name": "stdout",
     "output_type": "stream",
     "text": [
      "[1 1 6 6 6 6 6 6 6 6 6 6 1 1 1 1 1 1 1 1 1 1 1 1 1 1 1] [[ 0.036757  0.0994    2.28903 ]\n",
      " [-0.672491 -0.1839    1.89657 ]\n",
      " [-1.94741   0.836597 -0.661486]\n",
      " [-0.528553  1.31777  -0.380271]\n",
      " [-3.77379  -0.871983 -0.258424]\n",
      " [ 2.31384   1.18079   0.79787 ]\n",
      " [ 1.73807   0.179518 -0.161023]\n",
      " [-2.47073  -0.27116   0.219776]\n",
      " [ 0.498832  0.257211 -0.656465]\n",
      " [ 2.59264  -0.941918 -0.562896]\n",
      " [ 3.83989  -1.1519   -0.149586]\n",
      " [-1.90379  -0.710139  1.32388 ]\n",
      " [-2.64592   1.67565  -0.587345]\n",
      " [-2.01239   0.495132 -1.70039 ]\n",
      " [-0.331843  2.18615  -1.01703 ]\n",
      " [-0.457259  1.67266   0.648368]\n",
      " [-4.15511  -1.61821   0.434547]\n",
      " [-4.52653  -0.089824 -0.378306]\n",
      " [-3.63494  -1.34007  -1.23508 ]\n",
      " [ 1.61265   1.9779    1.02783 ]\n",
      " [ 2.59926   0.694192  1.73316 ]\n",
      " [ 3.21648   1.63157   0.380446]\n",
      " [ 0.186864 -0.523771 -1.34622 ]\n",
      " [ 2.14287  -1.64754  -1.25451 ]\n",
      " [ 4.40322  -2.009    -0.490342]\n",
      " [ 4.33688  -0.482043  0.539635]\n",
      " [-2.2526   -1.48702   1.99141 ]]\n"
     ]
    }
   ],
   "source": [
    "atoms = qm_data.atomicNumbers\n",
    "positions = qm_data.atomCoords.value\n",
    "print atoms, positions"
   ]
  },
  {
   "cell_type": "code",
   "execution_count": 7,
   "metadata": {
    "collapsed": false
   },
   "outputs": [
    {
     "data": {
      "text/plain": [
       "'[CH]=C(C)CCC=C(C)C=C+[H][H]_C=CC(C)=CCCC(=C)C+[H]'"
      ]
     },
     "execution_count": 7,
     "metadata": {},
     "output_type": "execute_result"
    }
   ],
   "source": [
    "rxn_label"
   ]
  },
  {
   "cell_type": "code",
   "execution_count": 10,
   "metadata": {
    "collapsed": false
   },
   "outputs": [
    {
     "name": "stderr",
     "output_type": "stream",
     "text": [
      "reaction.py:300 generateBoundsMatrix INFO Generating bounds matrix for [CH]=C(C)CCC=C(C)C=C.[H][H]\n"
     ]
    },
    {
     "name": "stdout",
     "output_type": "stream",
     "text": [
      "<rmgpy.data.base.ForbiddenStructures instance at 0x1108c4c20>\n",
      "<rmgpy.data.base.ForbiddenStructures instance at 0x1108c4c20>\n",
      "<rmgpy.data.base.ForbiddenStructures instance at 0x1108c4c20>\n",
      "<rmgpy.data.base.ForbiddenStructures instance at 0x1108c4c20>\n",
      "<rmgpy.data.base.ForbiddenStructures instance at 0x1108c4c20>\n",
      "<rmgpy.data.base.ForbiddenStructures instance at 0x1108c4c20>\n",
      "<rmgpy.data.base.ForbiddenStructures instance at 0x1108c4c20>\n",
      "<rmgpy.data.base.ForbiddenStructures instance at 0x1108c4c20>\n"
     ]
    },
    {
     "name": "stderr",
     "output_type": "stream",
     "text": [
      "reaction.py:338 bmPreEdit INFO Changing lower limit 2.275316 to 2.205539\n",
      "reaction.py:338 bmPreEdit INFO Changing lower limit 3.15 to 2.64649597268\n",
      "molecule.py:167 rd_embed INFO RDKit failed to embed on attempt 1 of 1000\n"
     ]
    }
   ],
   "source": [
    "rxn = Multi_Reaction(label=rxn_label, reaction_family=\"H_Abstraction\")"
   ]
  },
  {
   "cell_type": "code",
   "execution_count": 20,
   "metadata": {
    "collapsed": false
   },
   "outputs": [
    {
     "data": {
      "text/plain": [
       "array([-2.72451288,  2.47709127, -0.95356769])"
      ]
     },
     "execution_count": 20,
     "metadata": {},
     "output_type": "execute_result"
    }
   ],
   "source": [
    "rxn.multi_ts.rmg_ts"
   ]
  },
  {
   "cell_type": "code",
   "execution_count": null,
   "metadata": {
    "collapsed": false
   },
   "outputs": [],
   "source": [
    "if getDB(\"forbidden\") is not None:\n",
    "    print \"w\""
   ]
  },
  {
   "cell_type": "code",
   "execution_count": null,
   "metadata": {
    "collapsed": false
   },
   "outputs": [],
   "source": [
    "type(getDB(\"forbidden\"))"
   ]
  },
  {
   "cell_type": "code",
   "execution_count": null,
   "metadata": {
    "collapsed": false
   },
   "outputs": [],
   "source": [
    "str(type(getDB(\"forbidden\")))"
   ]
  },
  {
   "cell_type": "code",
   "execution_count": null,
   "metadata": {
    "collapsed": false
   },
   "outputs": [],
   "source": [
    "print None"
   ]
  },
  {
   "cell_type": "code",
   "execution_count": 21,
   "metadata": {
    "collapsed": false
   },
   "outputs": [
    {
     "data": {
      "text/plain": [
       "QMData(groundStateDegeneracy=2, numberOfAtoms=27, stericEnergy=None, molecularMass=(137.133,'amu'), energy=(-10641,'eV/molecule'), atomicNumbers=array([1, 1, 6, 6, 6, 6, 6, 6, 6, 6, 6, 6, 1, 1, 1, 1, 1, 1, 1, 1, 1, 1, 1, 1, 1, 1, 1], dtype=int32), rotationalConstants=([0.0861229,0.0186666,0.0177299],'cm^-1'), atomCoords=([[0.036757,0.0994,2.28903],[-0.672491,-0.1839,1.89657],[-1.94741,0.836597,-0.661486],[-0.528553,1.31777,-0.380271],[-3.77379,-0.871983,-0.258424],[2.31384,1.18079,0.79787],[1.73807,0.179518,-0.161023],[-2.47073,-0.27116,0.219776],[0.498832,0.257211,-0.656465],[2.59264,-0.941918,-0.562896],[3.83989,-1.1519,-0.149586],[-1.90379,-0.710139,1.32388],[-2.64592,1.67565,-0.587345],[-2.01239,0.495132,-1.70039],[-0.331843,2.18615,-1.01703],[-0.457259,1.67266,0.648368],[-4.15511,-1.61821,0.434547],[-4.52653,-0.089824,-0.378306],[-3.63494,-1.34007,-1.23508],[1.61265,1.9779,1.02783],[2.59926,0.694192,1.73316],[3.21648,1.63157,0.380446],[0.186864,-0.523771,-1.34622],[2.14287,-1.64754,-1.25451],[4.40322,-2.009,-0.490342],[4.33688,-0.482043,0.539635],[-2.2526,-1.48702,1.99141]],'angstrom'), frequencies=([-1264.68,49.114,65.3039,78.0597,133.651,179.453,212.981,225.142,234.91,247.041,290.946,307.047,333.061,391.063,427.668,436.398,455.468,477.432,535.529,591.037,690.728,716.463,768.798,815.877,870.611,904.356,916.446,952.885,953.523,979.828,994.479,1009.97,1034.68,1043.02,1061.51,1073.37,1092.86,1117.19,1140.49,1204.58,1217.55,1246.88,1276.55,1333.04,1350.16,1391.59,1403.47,1411.92,1429.88,1451.07,1477.38,1479.96,1491.25,1493.32,1494,1499.66,1680.86,1693.9,1739.92,2097.99,3026.29,3035.58,3043.61,3053.2,3059.47,3094.32,3097.19,3111.59,3125.89,3150.21,3152.33,3153.92,3163.16,3190.4,3237.26],'cm^-1'), source=None)"
      ]
     },
     "execution_count": 21,
     "metadata": {},
     "output_type": "execute_result"
    }
   ],
   "source": [
    "qm_data."
   ]
  },
  {
   "cell_type": "code",
   "execution_count": 32,
   "metadata": {
    "collapsed": false
   },
   "outputs": [
    {
     "name": "stderr",
     "output_type": "stream",
     "text": [
      "draw.py:198 draw ERROR Error while drawing molecule : zero-size array to reduction operation maximum which has no identity\n",
      "Traceback (most recent call last):\n",
      "  File \"/Users/nathan/Code/RMG-discovery/rmgpy/molecule/draw.py\", line 191, in draw\n",
      "    self.__generateCoordinates()\n",
      "  File \"/Users/nathan/Code/RMG-discovery/rmgpy/molecule/draw.py\", line 397, in __generateCoordinates\n",
      "    ranges = numpy.ptp(coordinates, axis = 0)\n",
      "  File \"/Users/nathan/anaconda/envs/rmg_env/lib/python2.7/site-packages/numpy/core/fromnumeric.py\", line 2197, in ptp\n",
      "    return ptp(axis, out)\n",
      "ValueError: zero-size array to reduction operation maximum which has no identity\n"
     ]
    },
    {
     "ename": "IOError",
     "evalue": "[Errno 2] No such file or directory: 'temp_molecule.png'",
     "output_type": "error",
     "traceback": [
      "\u001b[0;31m---------------------------------------------------------------------------\u001b[0m",
      "\u001b[0;31mIOError\u001b[0m                                   Traceback (most recent call last)",
      "\u001b[0;32m/Users/nathan/anaconda/envs/rmg_env/lib/python2.7/site-packages/IPython/core/formatters.pyc\u001b[0m in \u001b[0;36m__call__\u001b[0;34m(self, obj)\u001b[0m\n\u001b[1;32m    309\u001b[0m             \u001b[0mmethod\u001b[0m \u001b[0;34m=\u001b[0m \u001b[0mget_real_method\u001b[0m\u001b[0;34m(\u001b[0m\u001b[0mobj\u001b[0m\u001b[0;34m,\u001b[0m \u001b[0mself\u001b[0m\u001b[0;34m.\u001b[0m\u001b[0mprint_method\u001b[0m\u001b[0;34m)\u001b[0m\u001b[0;34m\u001b[0m\u001b[0m\n\u001b[1;32m    310\u001b[0m             \u001b[0;32mif\u001b[0m \u001b[0mmethod\u001b[0m \u001b[0;32mis\u001b[0m \u001b[0;32mnot\u001b[0m \u001b[0mNone\u001b[0m\u001b[0;34m:\u001b[0m\u001b[0;34m\u001b[0m\u001b[0m\n\u001b[0;32m--> 311\u001b[0;31m                 \u001b[0;32mreturn\u001b[0m \u001b[0mmethod\u001b[0m\u001b[0;34m(\u001b[0m\u001b[0;34m)\u001b[0m\u001b[0;34m\u001b[0m\u001b[0m\n\u001b[0m\u001b[1;32m    312\u001b[0m             \u001b[0;32mreturn\u001b[0m \u001b[0mNone\u001b[0m\u001b[0;34m\u001b[0m\u001b[0m\n\u001b[1;32m    313\u001b[0m         \u001b[0;32melse\u001b[0m\u001b[0;34m:\u001b[0m\u001b[0;34m\u001b[0m\u001b[0m\n",
      "\u001b[0;32m/Users/nathan/Code/RMG-discovery/rmgpy/molecule/molecule.so\u001b[0m in \u001b[0;36mrmgpy.molecule.molecule.Molecule._repr_png_ (build/pyrex/rmgpy/molecule/molecule.c:23750)\u001b[0;34m()\u001b[0m\n",
      "\u001b[0;31mIOError\u001b[0m: [Errno 2] No such file or directory: 'temp_molecule.png'"
     ]
    },
    {
     "data": {
      "text/plain": [
       "Molecule(SMILES=\"\", multiplicity=-187)"
      ]
     },
     "execution_count": 32,
     "metadata": {},
     "output_type": "execute_result"
    }
   ],
   "source": [
    "mol = Molecule()\n",
    "mol"
   ]
  },
  {
   "cell_type": "code",
   "execution_count": 34,
   "metadata": {
    "collapsed": false
   },
   "outputs": [
    {
     "ename": "TypeError",
     "evalue": "Cannot convert rmgpy.molecule.molecule.Atom to rmgpy.molecule.molecule.Bond",
     "output_type": "error",
     "traceback": [
      "\u001b[0;31m---------------------------------------------------------------------------\u001b[0m",
      "\u001b[0;31mTypeError\u001b[0m                                 Traceback (most recent call last)",
      "\u001b[0;32m<ipython-input-34-a09fa4ec9ac7>\u001b[0m in \u001b[0;36m<module>\u001b[0;34m()\u001b[0m\n\u001b[0;32m----> 1\u001b[0;31m \u001b[0;32mprint\u001b[0m \u001b[0mmol\u001b[0m\u001b[0;34m.\u001b[0m\u001b[0mfromXYZ\u001b[0m\u001b[0;34m(\u001b[0m\u001b[0matoms\u001b[0m\u001b[0;34m,\u001b[0m \u001b[0mpositions\u001b[0m\u001b[0;34m)\u001b[0m\u001b[0;34m\u001b[0m\u001b[0m\n\u001b[0m",
      "\u001b[0;32m/Users/nathan/Code/RMG-discovery/rmgpy/molecule/molecule.so\u001b[0m in \u001b[0;36mrmgpy.molecule.molecule.Molecule.fromXYZ (build/pyrex/rmgpy/molecule/molecule.c:25524)\u001b[0;34m()\u001b[0m\n",
      "\u001b[0;32m/Users/nathan/Code/RMG-discovery/rmgpy/molecule/molecule.so\u001b[0m in \u001b[0;36mrmgpy.molecule.molecule.Molecule.fromXYZ (build/pyrex/rmgpy/molecule/molecule.c:25410)\u001b[0;34m()\u001b[0m\n",
      "\u001b[0;32m/Users/nathan/Code/RMG-discovery/rmgpy/molecule/molecule.so\u001b[0m in \u001b[0;36mrmgpy.molecule.molecule.Molecule.connectTheDots (build/pyrex/rmgpy/molecule/molecule.c:19189)\u001b[0;34m()\u001b[0m\n",
      "\u001b[0;31mTypeError\u001b[0m: Cannot convert rmgpy.molecule.molecule.Atom to rmgpy.molecule.molecule.Bond"
     ]
    }
   ],
   "source": [
    "print mol.fromXYZ(atoms, positions)"
   ]
  },
  {
   "cell_type": "code",
   "execution_count": 43,
   "metadata": {
    "collapsed": false
   },
   "outputs": [
    {
     "ename": "ImportError",
     "evalue": "No module named element",
     "output_type": "error",
     "traceback": [
      "\u001b[0;31m---------------------------------------------------------------------------\u001b[0m",
      "\u001b[0;31mImportError\u001b[0m                               Traceback (most recent call last)",
      "\u001b[0;32m<ipython-input-43-950b7fbcc516>\u001b[0m in \u001b[0;36m<module>\u001b[0;34m()\u001b[0m\n\u001b[1;32m      1\u001b[0m \u001b[0;32mfrom\u001b[0m \u001b[0mrmgpy\u001b[0m\u001b[0;34m.\u001b[0m\u001b[0mmolecule\u001b[0m\u001b[0;34m.\u001b[0m\u001b[0mmolecule\u001b[0m \u001b[0;32mimport\u001b[0m \u001b[0mAtom\u001b[0m \u001b[0;32mas\u001b[0m  \u001b[0mrmg_atom\u001b[0m\u001b[0;34m\u001b[0m\u001b[0m\n\u001b[1;32m      2\u001b[0m \u001b[0;31m#from rmgpy.molecule.element import Element as Element\u001b[0m\u001b[0;34m\u001b[0m\u001b[0;34m\u001b[0m\u001b[0m\n\u001b[0;32m----> 3\u001b[0;31m \u001b[0;32mimport\u001b[0m \u001b[0melement\u001b[0m \u001b[0;32mas\u001b[0m \u001b[0melements\u001b[0m\u001b[0;34m\u001b[0m\u001b[0m\n\u001b[0m\u001b[1;32m      4\u001b[0m \u001b[0;32mfor\u001b[0m \u001b[0mnumber\u001b[0m\u001b[0;34m,\u001b[0m \u001b[0mposition\u001b[0m \u001b[0;32min\u001b[0m \u001b[0mzip\u001b[0m\u001b[0;34m(\u001b[0m\u001b[0matoms\u001b[0m\u001b[0;34m,\u001b[0m \u001b[0mpositions\u001b[0m\u001b[0;34m)\u001b[0m\u001b[0;34m:\u001b[0m\u001b[0;34m\u001b[0m\u001b[0m\n\u001b[1;32m      5\u001b[0m     \u001b[0m_rdkit_periodic_table\u001b[0m \u001b[0;34m=\u001b[0m \u001b[0melements\u001b[0m\u001b[0;34m.\u001b[0m\u001b[0mGetPeriodicTable\u001b[0m\u001b[0;34m(\u001b[0m\u001b[0;34m)\u001b[0m\u001b[0;34m\u001b[0m\u001b[0m\n",
      "\u001b[0;31mImportError\u001b[0m: No module named element"
     ]
    }
   ],
   "source": [
    "from rmgpy.molecule.molecule import Atom as  rmg_atom\n",
    "#from rmgpy.molecule.element import Element as Element\n",
    "import element as elements\n",
    "for number, position in zip(atoms, positions):\n",
    "    _rdkit_periodic_table = elements.GetPeriodicTable()\n",
    "    atom = Atom(_rdkit_periodic_table.GetElementSymbol(int(number)))\n",
    "    atom.coords = position"
   ]
  },
  {
   "cell_type": "code",
   "execution_count": 37,
   "metadata": {
    "collapsed": true
   },
   "outputs": [],
   "source": [
    "Atom?"
   ]
  },
  {
   "cell_type": "code",
   "execution_count": null,
   "metadata": {
    "collapsed": true
   },
   "outputs": [],
   "source": []
  }
 ],
 "metadata": {
  "kernelspec": {
   "display_name": "Python 2",
   "language": "python",
   "name": "python2"
  },
  "language_info": {
   "codemirror_mode": {
    "name": "ipython",
    "version": 2
   },
   "file_extension": ".py",
   "mimetype": "text/x-python",
   "name": "python",
   "nbconvert_exporter": "python",
   "pygments_lexer": "ipython2",
   "version": "2.7.12"
  }
 },
 "nbformat": 4,
 "nbformat_minor": 2
}
