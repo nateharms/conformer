{
 "cells": [
  {
   "cell_type": "code",
   "execution_count": 1,
   "metadata": {
    "collapsed": false
   },
   "outputs": [],
   "source": [
    "import os\n",
    "import sys\n",
    "import logging\n",
    "FORMAT = \"%(filename)s:%(lineno)d %(funcName)s %(levelname)s %(message)s\"\n",
    "logging.basicConfig(format=FORMAT, level=logging.INFO)\n",
    "\n",
    "import re\n",
    "import imp\n",
    "import itertools\n",
    "import cPickle as pickle\n",
    "\n",
    "# do this before we have a chance to import openbabel!\n",
    "import rdkit, rdkit.Chem, rdkit.Chem.rdDistGeom, rdkit.DistanceGeometry\n",
    "\n",
    "from rmgpy.molecule import Molecule\n",
    "from rmgpy.species import Species\n",
    "from rmgpy.reaction import Reaction\n",
    "from rmgpy.kinetics import PDepArrhenius, PDepKineticsModel\n",
    "\n",
    "from rmgpy.data.rmg import RMGDatabase\n",
    "from rmgpy.data.kinetics import KineticsDepository, KineticsRules\n",
    "from rmgpy.qm.main import QMCalculator, QMSettings\n",
    "from rmgpy.qm.qmdata import QMData\n",
    "from rmgpy.qm.reaction import QMReaction\n",
    "from rmgpy.qm.molecule import QMMolecule\n",
    "from numpy import array\n",
    "import random\n",
    "from numpy import pi\n",
    "from rdkit.Chem.rdMolTransforms import *"
   ]
  },
  {
   "cell_type": "code",
   "execution_count": 2,
   "metadata": {
    "collapsed": false
   },
   "outputs": [
    {
     "name": "stderr",
     "output_type": "stream",
     "text": [
      "thermo.py:760 loadLibraries INFO Loading thermodynamics library from CBS_QB3_1dHR.py in /Users/nathan/Code/RMG-database/input/thermo/libraries...\n",
      "thermo.py:760 loadLibraries INFO Loading thermodynamics library from KlippensteinH2O2.py in /Users/nathan/Code/RMG-database/input/thermo/libraries...\n",
      "thermo.py:760 loadLibraries INFO Loading thermodynamics library from primaryThermoLibrary.py in /Users/nathan/Code/RMG-database/input/thermo/libraries...\n",
      "thermo.py:760 loadLibraries INFO Loading thermodynamics library from thermo_DFT_CCSDTF12_BAC.py in /Users/nathan/Code/RMG-database/input/thermo/libraries...\n",
      "thermo.py:774 loadGroups INFO Loading thermodynamics group database from /Users/nathan/Code/RMG-database/input/thermo/groups...\n"
     ]
    },
    {
     "name": "stdout",
     "output_type": "stream",
     "text": [
      "Loading RMG Database ...\n",
      "/Users/nathan/Code/RMG-database/input\n"
     ]
    },
    {
     "name": "stderr",
     "output_type": "stream",
     "text": [
      "transport.py:294 loadGroups INFO Loading transport group database from /Users/nathan/Code/RMG-database/input/transport/groups...\n",
      "database.py:165 loadFamilies INFO Loading the user-specified kinetics families from /Users/nathan/Code/RMG-database/input/kinetics/families\n",
      "statmech.py:526 loadGroups INFO Loading frequencies group database from /Users/nathan/Code/RMG-database/input/statmech/groups...\n"
     ]
    },
    {
     "name": "stdout",
     "output_type": "stream",
     "text": [
      "RMG Database Loaded\n"
     ]
    }
   ],
   "source": [
    "rxnFamily = ['H_Abstraction']\n",
    "print('Loading RMG Database ...')\n",
    "rmgDatabase = RMGDatabase()\n",
    "databasePath = os.path.abspath(os.path.join(os.getenv('RMGpy', '..'), '..', 'RMG-database', 'input'))\n",
    "print(databasePath)\n",
    "rmgDatabase.load(databasePath,\n",
    "                 kineticsFamilies=rxnFamily,\n",
    "                 transportLibraries=[],\n",
    "                 reactionLibraries=[],\n",
    "                 seedMechanisms=[],\n",
    "                 thermoLibraries=['primaryThermoLibrary', 'KlippensteinH2O2', 'thermo_DFT_CCSDTF12_BAC', 'CBS_QB3_1dHR' ],\n",
    "                 solvation=False,\n",
    "                 )\n",
    "print('RMG Database Loaded')\n",
    "\n",
    "#rxnFamily = reaction.family\n",
    "\n",
    "tsDatabase = rmgDatabase.kinetics.families[rxnFamily[0]].transitionStates\n",
    "\n",
    "settings = QMSettings(\n",
    "    software='gaussian',\n",
    "    method='m062x',\n",
    "    fileStore=os.path.expandvars('.'),\n",
    "    scratchDirectory=os.path.expandvars('.'),\n",
    "    )"
   ]
  },
  {
   "cell_type": "code",
   "execution_count": 3,
   "metadata": {
    "collapsed": false
   },
   "outputs": [
    {
     "data": {
      "image/png": "[encoded data removed]",
      "text/plain": [
       "Reaction(reactants=[Species(label=\"C2H6\", molecule=[Molecule(SMILES=\"CC\")]), Species(label=\"HO2\", molecule=[Molecule(SMILES=\"[O]O\")])], products=[Species(label=\"C2H5\", molecule=[Molecule(SMILES=\"C[CH2]\")]), Species(label=\"H2O2\", molecule=[Molecule(SMILES=\"OO\")])])"
      ]
     },
     "execution_count": 3,
     "metadata": {},
     "output_type": "execute_result"
    }
   ],
   "source": [
    "rxn = Reaction(\n",
    "    reactants=[Species(label=\"C2H6\", molecule=[Molecule(SMILES=\"CC\")]), \n",
    "               Species(label=\"HO2\", molecule=[Molecule(SMILES=\"[O]O\")])], \n",
    "    products=[Species(label=\"C2H5\", molecule=[Molecule(SMILES=\"[CH2]C\")]), \n",
    "              Species(label=\"H2O2\", molecule=[Molecule(SMILES=\"OO\")])])\n",
    "rxn"
   ]
  },
  {
   "cell_type": "code",
   "execution_count": 4,
   "metadata": {
    "collapsed": true
   },
   "outputs": [],
   "source": [
    "rxn1 = QMReaction(\n",
    "    reaction=rxn,\n",
    "    settings=settings,\n",
    "    tsDatabase=rmgDatabase)"
   ]
  },
  {
   "cell_type": "code",
   "execution_count": 21,
   "metadata": {
    "collapsed": false
   },
   "outputs": [
    {
     "name": "stderr",
     "output_type": "stream",
     "text": [
      "reaction.py:300 generateBoundsMatrix INFO Generating bounds matrix for CC.[O]O\n"
     ]
    },
    {
     "name": "stdout",
     "output_type": "stream",
     "text": [
      "\n",
      "     RDKit          3D\n",
      "\n",
      " 11  9  0  0  0  0  0  0  0  0999 V2000\n",
      "    0.7545   -0.0040   -0.0370 C   0  0  0  0  0  0  0  0  0  0  0  0\n",
      "   -0.7538    0.0286   -0.0112 C   0  0  0  0  0  0  0  0  0  0  0  0\n",
      "    1.1335   -0.8931   -0.5558 H   0  0  0  0  0  0  0  0  0  0  0  0\n",
      "    1.0575   -0.1244    1.0319 H   0  0  0  0  0  0  0  0  0  0  0  0\n",
      "    1.1743    0.9475   -0.3811 H   0  0  0  0  0  0  0  0  0  0  0  0\n",
      "   -1.1565   -0.2047   -1.0281 H   0  0  0  0  0  0  0  0  0  0  0  0\n",
      "   -1.0706    1.0372    0.3287 H   0  0  0  0  0  0  0  0  0  0  0  0\n",
      "   -1.1389   -0.7870    0.6526 H   0  0  0  0  0  0  0  0  0  0  0  0\n",
      "    1.0149   -0.1631    0.0000 O   0  0  0  0  0  1  0  0  0  0  0  0\n",
      "   -0.1494    0.4284   -0.0000 O   0  0  0  0  0  0  0  0  0  0  0  0\n",
      "   -0.8655   -0.2653   -0.0000 H   0  0  0  0  0  0  0  0  0  0  0  0\n",
      "  1  2  1  0\n",
      "  1  4  1  0\n",
      "  1  5  1  0\n",
      "  1  3  1  0\n",
      "  2  6  1  0\n",
      "  2  7  1  0\n",
      "  2  8  1  0\n",
      "  9 10  1  0\n",
      " 10 11  1  0\n",
      "M  RAD  1   9   2\n",
      "M  END\n",
      "\n"
     ]
    }
   ],
   "source": [
    "reactant, product = rxn1.setupMolecules()\n",
    "tsRDMol, tsBM, reactantGeom = rxn1.generateBoundsMatrix(reactant)\n",
    "print rdkit.Chem.MolToMolBlock(tsRDMol)\n",
    "tsRDMol = rdkit.Chem.rdchem.RWMol(tsRDMol)"
   ]
  },
  {
   "cell_type": "code",
   "execution_count": 22,
   "metadata": {
    "collapsed": true
   },
   "outputs": [],
   "source": [
    "def calc_energy(mol):\n",
    "    molprop = rdkit.Chem.ChemicalForceFields.MMFFGetMoleculeProperties(mol)\n",
    "    ff = rdkit.Chem.ChemicalForceFields.MMFFGetMoleculeForceField(mol, molprop)\n",
    "    return ff.CalcEnergy()"
   ]
  },
  {
   "cell_type": "code",
   "execution_count": 38,
   "metadata": {
    "collapsed": false
   },
   "outputs": [
    {
     "name": "stdout",
     "output_type": "stream",
     "text": [
      "\n",
      "     RDKit          3D\n",
      "\n",
      "  4  3  0  0  0  0  0  0  0  0999 V2000\n",
      "   -0.6818   -0.5789   -0.3474 C   0  0  0  0  0  0  0  0  0  0  0  0\n",
      "    0.6599   -0.5667    0.3541 C   0  0  0  0  0  0  0  0  0  0  0  0\n",
      "   -1.5176    0.5837    0.1505 C   0  0  0  0  0  0  0  0  0  0  0  0\n",
      "    1.5395    0.5620   -0.1572 C   0  0  0  0  0  0  0  0  0  0  0  0\n",
      "  1  3  1  0\n",
      "  1  2  1  0\n",
      "  2  4  1  0\n",
      "M  END\n",
      "\n"
     ]
    },
    {
     "data": {
      "text/plain": [
       "1.464986919276138"
      ]
     },
     "execution_count": 38,
     "metadata": {},
     "output_type": "execute_result"
    }
   ],
   "source": [
    "tsRDMol = Molecule(SMILES=\"CCCC\").toRDKitMol()\n",
    "\n",
    "rdkit.Chem.AllChem.EmbedMolecule(tsRDMol)\n",
    "rdkit.Chem.AddHs(tsRDMol)\n",
    "print rdkit.Chem.MolToMolBlock(tsRDMol)\n",
    "tsRDMol = rdkit.Chem.rdchem.RWMol(tsRDMol)\n",
    "\n",
    "calc_energy(tsRDMol)\n"
   ]
  },
  {
   "cell_type": "code",
   "execution_count": 8,
   "metadata": {
    "collapsed": true
   },
   "outputs": [],
   "source": [
    "w = rdkit.Chem.SDWriter('tsRDMol.sdf')\n",
    "w.write(tsRDMol)"
   ]
  },
  {
   "cell_type": "markdown",
   "metadata": {},
   "source": [
    "# This portion of the code randomly assigns bond lengths to each of the bonds"
   ]
  },
  {
   "cell_type": "code",
   "execution_count": 25,
   "metadata": {
    "collapsed": true
   },
   "outputs": [],
   "source": [
    "tup = tsRDMol.GetConformers()\n",
    "conformer = tup[0]\n",
    "\n",
    "attribute = {}"
   ]
  },
  {
   "cell_type": "code",
   "execution_count": 10,
   "metadata": {
    "collapsed": false
   },
   "outputs": [
    {
     "name": "stdout",
     "output_type": "stream",
     "text": [
      "1.22209580589\n",
      "1.22209580589\n",
      "\n",
      "1.71073955603\n",
      "1.71073955603\n",
      "\n",
      "1.86100986054\n",
      "1.86100986054\n",
      "\n"
     ]
    },
    {
     "data": {
      "text/plain": [
       "75.3246653301275"
      ]
     },
     "execution_count": 10,
     "metadata": {},
     "output_type": "execute_result"
    }
   ],
   "source": [
    "\n",
    "max_distance = 2.15 #angstroms\n",
    "min_distance = 1.20 #angstroms\n",
    "\"\"\"tup = tsRDMol.GetConformers()\n",
    "conformer = tup[0]\"\"\"\n",
    "\n",
    "for bond in tsRDMol.GetBonds():\n",
    "    distance = random.uniform(min_distance, max_distance)\n",
    "    print distance\n",
    "    SetBondLength(conformer, bond.GetBeginAtomIdx(), bond.GetEndAtomIdx(), distance)\n",
    "    print GetBondLength(conformer, bond.GetBeginAtomIdx(), bond.GetEndAtomIdx())\n",
    "    print\n",
    "    \n",
    "    attribute[(bond.GetBeginAtomIdx(), bond.GetEndAtomIdx())] = distance\n",
    "    \n",
    "\n",
    "calc_energy(tsRDMol)"
   ]
  },
  {
   "cell_type": "code",
   "execution_count": 11,
   "metadata": {
    "collapsed": false
   },
   "outputs": [
    {
     "name": "stdout",
     "output_type": "stream",
     "text": [
      "\n",
      "     RDKit          3D\n",
      "\n",
      "  4  3  0  0  0  0  0  0  0  0999 V2000\n",
      "   -0.5450    0.5272    0.1220 C   0  0  0  0  0  0  0  0  0  0  0  0\n",
      "    0.6878   -0.6589    0.1280 C   0  0  0  0  0  0  0  0  0  0  0  0\n",
      "   -1.6176   -0.0240   -0.0766 C   0  0  0  0  0  0  0  0  0  0  0  0\n",
      "    2.3345    0.1510   -0.1814 C   0  0  0  0  0  0  0  0  0  0  0  0\n",
      "  1  3  1  0\n",
      "  1  2  1  0\n",
      "  2  4  1  0\n",
      "M  END\n",
      "\n"
     ]
    }
   ],
   "source": [
    "print rdkit.Chem.MolToMolBlock(tsRDMol)"
   ]
  },
  {
   "cell_type": "code",
   "execution_count": 12,
   "metadata": {
    "collapsed": true
   },
   "outputs": [],
   "source": [
    "w = rdkit.Chem.SDWriter('tsRDMol0.sdf')\n",
    "w.write(tsRDMol)"
   ]
  },
  {
   "cell_type": "markdown",
   "metadata": {},
   "source": [
    "# This portion of the code is designed to randomly assign angles to each two bonds"
   ]
  },
  {
   "cell_type": "code",
   "execution_count": 13,
   "metadata": {
    "collapsed": true
   },
   "outputs": [],
   "source": [
    "# A function to define what the angle should be. \n",
    "# This could be changed if we move from GA to CMA-ES\n",
    "\n",
    "def set_angle():\n",
    "    max_angle = 180 #degrees\n",
    "    min_angle = 30  #degrees\n",
    "    \n",
    "    return random.uniform(max_angle, min_angle)"
   ]
  },
  {
   "cell_type": "code",
   "execution_count": 14,
   "metadata": {
    "collapsed": false
   },
   "outputs": [
    {
     "name": "stdout",
     "output_type": "stream",
     "text": [
      "72.700484413\n",
      "72.700484413\n",
      "\n",
      "171.899371856\n",
      "171.899371856\n",
      "\n"
     ]
    },
    {
     "data": {
      "text/plain": [
       "167.7177489574484"
      ]
     },
     "execution_count": 14,
     "metadata": {},
     "output_type": "execute_result"
    }
   ],
   "source": [
    "max_angle = 180 #degrees\n",
    "min_angle = 30  #degrees\n",
    "\n",
    "\n",
    "for atom1 in tsRDMol.GetAtoms():\n",
    "    bond_list = atom1.GetBonds()\n",
    "    \n",
    "    if len(bond_list) >1:\n",
    "        neighbor_list = atom1.GetNeighbors()\n",
    "        atom0 = neighbor_list[0]\n",
    "        \n",
    "        for atom2 in neighbor_list[1:]:\n",
    "            angle = random.uniform(max_angle, min_angle)\n",
    "            print angle\n",
    "            \n",
    "            SetAngleDeg(conformer, \n",
    "                        atom0.GetIdx(), \n",
    "                        atom1.GetIdx(), \n",
    "                        atom2.GetIdx(), \n",
    "                        angle)\n",
    "            \n",
    "            attribute[(atom0.GetIdx(), atom1.GetIdx(), atom2.GetIdx())] = angle\n",
    "            \n",
    "            print GetAngleDeg(conformer,\n",
    "                              atom0.GetIdx(), \n",
    "                              atom1.GetIdx(), \n",
    "                              atom2.GetIdx())\n",
    "            print \n",
    "              \n",
    "calc_energy(tsRDMol)"
   ]
  },
  {
   "cell_type": "code",
   "execution_count": 15,
   "metadata": {
    "collapsed": true
   },
   "outputs": [],
   "source": [
    "w = rdkit.Chem.SDWriter('tsRDMol1.sdf')\n",
    "w.write(tsRDMol)"
   ]
  },
  {
   "cell_type": "markdown",
   "metadata": {},
   "source": [
    "# This portion is deisgned to randomly assign torsional angles to each three bonds"
   ]
  },
  {
   "cell_type": "code",
   "execution_count": 16,
   "metadata": {
    "collapsed": true
   },
   "outputs": [],
   "source": [
    "# A function to define what the torsion should be. \n",
    "# This could be changed if we move from GA to CMA-ES\n",
    "\n",
    "def set_torsion():\n",
    "    max_torsion = 180 #rad\n",
    "    min_torsion = 0   #rad\n",
    "    return random.uniform(max_torsion, min_torsion)\n",
    "    "
   ]
  },
  {
   "cell_type": "code",
   "execution_count": 37,
   "metadata": {
    "collapsed": false
   },
   "outputs": [
    {
     "ename": "KeyError",
     "evalue": "'PNG'",
     "output_type": "error",
     "traceback": [
      "\u001b[0;31m---------------------------------------------------------------------------\u001b[0m",
      "\u001b[0;31mKeyError\u001b[0m                                  Traceback (most recent call last)",
      "\u001b[0;32m/Users/nathan/anaconda/envs/rmg_env/lib/python2.7/site-packages/IPython/core/formatters.pyc\u001b[0m in \u001b[0;36m__call__\u001b[0;34m(self, obj)\u001b[0m\n\u001b[1;32m    309\u001b[0m             \u001b[0mmethod\u001b[0m \u001b[0;34m=\u001b[0m \u001b[0mget_real_method\u001b[0m\u001b[0;34m(\u001b[0m\u001b[0mobj\u001b[0m\u001b[0;34m,\u001b[0m \u001b[0mself\u001b[0m\u001b[0;34m.\u001b[0m\u001b[0mprint_method\u001b[0m\u001b[0;34m)\u001b[0m\u001b[0;34m\u001b[0m\u001b[0m\n\u001b[1;32m    310\u001b[0m             \u001b[0;32mif\u001b[0m \u001b[0mmethod\u001b[0m \u001b[0;32mis\u001b[0m \u001b[0;32mnot\u001b[0m \u001b[0mNone\u001b[0m\u001b[0;34m:\u001b[0m\u001b[0;34m\u001b[0m\u001b[0m\n\u001b[0;32m--> 311\u001b[0;31m                 \u001b[0;32mreturn\u001b[0m \u001b[0mmethod\u001b[0m\u001b[0;34m(\u001b[0m\u001b[0;34m)\u001b[0m\u001b[0;34m\u001b[0m\u001b[0m\n\u001b[0m\u001b[1;32m    312\u001b[0m             \u001b[0;32mreturn\u001b[0m \u001b[0mNone\u001b[0m\u001b[0;34m\u001b[0m\u001b[0m\n\u001b[1;32m    313\u001b[0m         \u001b[0;32melse\u001b[0m\u001b[0;34m:\u001b[0m\u001b[0;34m\u001b[0m\u001b[0m\n",
      "\u001b[0;32m/Users/nathan/anaconda/envs/rmg_env/lib/python2.7/site-packages/rdkit/Chem/Draw/IPythonConsole.pyc\u001b[0m in \u001b[0;36m_toPNG\u001b[0;34m(mol)\u001b[0m\n\u001b[1;32m    126\u001b[0m                                 highlightAtoms=highlightAtoms)\n\u001b[1;32m    127\u001b[0m         \u001b[0mbio\u001b[0m \u001b[0;34m=\u001b[0m \u001b[0mBytesIO\u001b[0m\u001b[0;34m(\u001b[0m\u001b[0;34m)\u001b[0m\u001b[0;34m\u001b[0m\u001b[0m\n\u001b[0;32m--> 128\u001b[0;31m         \u001b[0mimg\u001b[0m\u001b[0;34m.\u001b[0m\u001b[0msave\u001b[0m\u001b[0;34m(\u001b[0m\u001b[0mbio\u001b[0m\u001b[0;34m,\u001b[0m\u001b[0mformat\u001b[0m\u001b[0;34m=\u001b[0m\u001b[0;34m'PNG'\u001b[0m\u001b[0;34m)\u001b[0m\u001b[0;34m\u001b[0m\u001b[0m\n\u001b[0m\u001b[1;32m    129\u001b[0m         \u001b[0;32mreturn\u001b[0m \u001b[0mbio\u001b[0m\u001b[0;34m.\u001b[0m\u001b[0mgetvalue\u001b[0m\u001b[0;34m(\u001b[0m\u001b[0;34m)\u001b[0m\u001b[0;34m\u001b[0m\u001b[0m\n\u001b[1;32m    130\u001b[0m     \u001b[0;32melse\u001b[0m\u001b[0;34m:\u001b[0m\u001b[0;34m\u001b[0m\u001b[0m\n",
      "\u001b[0;32m/Users/nathan/anaconda/envs/rmg_env/lib/python2.7/site-packages/PIL/Image.pyc\u001b[0m in \u001b[0;36msave\u001b[0;34m(self, fp, format, **params)\u001b[0m\n\u001b[1;32m   1688\u001b[0m             \u001b[0msave_handler\u001b[0m \u001b[0;34m=\u001b[0m \u001b[0mSAVE_ALL\u001b[0m\u001b[0;34m[\u001b[0m\u001b[0mformat\u001b[0m\u001b[0;34m.\u001b[0m\u001b[0mupper\u001b[0m\u001b[0;34m(\u001b[0m\u001b[0;34m)\u001b[0m\u001b[0;34m]\u001b[0m\u001b[0;34m\u001b[0m\u001b[0m\n\u001b[1;32m   1689\u001b[0m         \u001b[0;32melse\u001b[0m\u001b[0;34m:\u001b[0m\u001b[0;34m\u001b[0m\u001b[0m\n\u001b[0;32m-> 1690\u001b[0;31m             \u001b[0msave_handler\u001b[0m \u001b[0;34m=\u001b[0m \u001b[0mSAVE\u001b[0m\u001b[0;34m[\u001b[0m\u001b[0mformat\u001b[0m\u001b[0;34m.\u001b[0m\u001b[0mupper\u001b[0m\u001b[0;34m(\u001b[0m\u001b[0;34m)\u001b[0m\u001b[0;34m]\u001b[0m\u001b[0;34m\u001b[0m\u001b[0m\n\u001b[0m\u001b[1;32m   1691\u001b[0m \u001b[0;34m\u001b[0m\u001b[0m\n\u001b[1;32m   1692\u001b[0m         \u001b[0;32mif\u001b[0m \u001b[0mopen_fp\u001b[0m\u001b[0;34m:\u001b[0m\u001b[0;34m\u001b[0m\u001b[0m\n",
      "\u001b[0;31mKeyError\u001b[0m: 'PNG'"
     ]
    },
    {
     "data": {
      "text/plain": [
       "<rdkit.Chem.rdchem.RWMol at 0x110d1e940>"
      ]
     },
     "execution_count": 37,
     "metadata": {},
     "output_type": "execute_result"
    }
   ],
   "source": [
    "from rdkit.Chem.Draw import IPythonConsole\n",
    "#Draw.MolToFile(tsRDMol, \"test.pdf\" )\n",
    "tsRDMol"
   ]
  },
  {
   "cell_type": "code",
   "execution_count": 36,
   "metadata": {
    "collapsed": false
   },
   "outputs": [
    {
     "data": {
      "text/plain": [
       "<rdkit.Chem.rdchem.RWMol at 0x110d1e940>"
      ]
     },
     "execution_count": 36,
     "metadata": {},
     "output_type": "execute_result"
    }
   ],
   "source": []
  },
  {
   "cell_type": "code",
   "execution_count": 39,
   "metadata": {
    "collapsed": false
   },
   "outputs": [
    {
     "ename": "KeyError",
     "evalue": "'PNG'",
     "output_type": "error",
     "traceback": [
      "\u001b[0;31m---------------------------------------------------------------------------\u001b[0m",
      "\u001b[0;31mKeyError\u001b[0m                                  Traceback (most recent call last)",
      "\u001b[0;32m/Users/nathan/anaconda/envs/rmg_env/lib/python2.7/site-packages/IPython/core/formatters.pyc\u001b[0m in \u001b[0;36m__call__\u001b[0;34m(self, obj)\u001b[0m\n\u001b[1;32m    309\u001b[0m             \u001b[0mmethod\u001b[0m \u001b[0;34m=\u001b[0m \u001b[0mget_real_method\u001b[0m\u001b[0;34m(\u001b[0m\u001b[0mobj\u001b[0m\u001b[0;34m,\u001b[0m \u001b[0mself\u001b[0m\u001b[0;34m.\u001b[0m\u001b[0mprint_method\u001b[0m\u001b[0;34m)\u001b[0m\u001b[0;34m\u001b[0m\u001b[0m\n\u001b[1;32m    310\u001b[0m             \u001b[0;32mif\u001b[0m \u001b[0mmethod\u001b[0m \u001b[0;32mis\u001b[0m \u001b[0;32mnot\u001b[0m \u001b[0mNone\u001b[0m\u001b[0;34m:\u001b[0m\u001b[0;34m\u001b[0m\u001b[0m\n\u001b[0;32m--> 311\u001b[0;31m                 \u001b[0;32mreturn\u001b[0m \u001b[0mmethod\u001b[0m\u001b[0;34m(\u001b[0m\u001b[0;34m)\u001b[0m\u001b[0;34m\u001b[0m\u001b[0m\n\u001b[0m\u001b[1;32m    312\u001b[0m             \u001b[0;32mreturn\u001b[0m \u001b[0mNone\u001b[0m\u001b[0;34m\u001b[0m\u001b[0m\n\u001b[1;32m    313\u001b[0m         \u001b[0;32melse\u001b[0m\u001b[0;34m:\u001b[0m\u001b[0;34m\u001b[0m\u001b[0m\n",
      "\u001b[0;32m/Users/nathan/anaconda/envs/rmg_env/lib/python2.7/site-packages/rdkit/Chem/Draw/IPythonConsole.pyc\u001b[0m in \u001b[0;36mdisplay_pil_image\u001b[0;34m(img)\u001b[0m\n\u001b[1;32m    187\u001b[0m     \u001b[0;34m\"\"\"displayhook function for PIL Images, rendered as PNG\"\"\"\u001b[0m\u001b[0;34m\u001b[0m\u001b[0m\n\u001b[1;32m    188\u001b[0m     \u001b[0mbio\u001b[0m \u001b[0;34m=\u001b[0m \u001b[0mBytesIO\u001b[0m\u001b[0;34m(\u001b[0m\u001b[0;34m)\u001b[0m\u001b[0;34m\u001b[0m\u001b[0m\n\u001b[0;32m--> 189\u001b[0;31m     \u001b[0mimg\u001b[0m\u001b[0;34m.\u001b[0m\u001b[0msave\u001b[0m\u001b[0;34m(\u001b[0m\u001b[0mbio\u001b[0m\u001b[0;34m,\u001b[0m\u001b[0mformat\u001b[0m\u001b[0;34m=\u001b[0m\u001b[0;34m'PNG'\u001b[0m\u001b[0;34m)\u001b[0m\u001b[0;34m\u001b[0m\u001b[0m\n\u001b[0m\u001b[1;32m    190\u001b[0m     \u001b[0;32mreturn\u001b[0m \u001b[0mbio\u001b[0m\u001b[0;34m.\u001b[0m\u001b[0mgetvalue\u001b[0m\u001b[0;34m(\u001b[0m\u001b[0;34m)\u001b[0m\u001b[0;34m\u001b[0m\u001b[0m\n\u001b[1;32m    191\u001b[0m \u001b[0;34m\u001b[0m\u001b[0m\n",
      "\u001b[0;32m/Users/nathan/anaconda/envs/rmg_env/lib/python2.7/site-packages/PIL/Image.pyc\u001b[0m in \u001b[0;36msave\u001b[0;34m(self, fp, format, **params)\u001b[0m\n\u001b[1;32m   1688\u001b[0m             \u001b[0msave_handler\u001b[0m \u001b[0;34m=\u001b[0m \u001b[0mSAVE_ALL\u001b[0m\u001b[0;34m[\u001b[0m\u001b[0mformat\u001b[0m\u001b[0;34m.\u001b[0m\u001b[0mupper\u001b[0m\u001b[0;34m(\u001b[0m\u001b[0;34m)\u001b[0m\u001b[0;34m]\u001b[0m\u001b[0;34m\u001b[0m\u001b[0m\n\u001b[1;32m   1689\u001b[0m         \u001b[0;32melse\u001b[0m\u001b[0;34m:\u001b[0m\u001b[0;34m\u001b[0m\u001b[0m\n\u001b[0;32m-> 1690\u001b[0;31m             \u001b[0msave_handler\u001b[0m \u001b[0;34m=\u001b[0m \u001b[0mSAVE\u001b[0m\u001b[0;34m[\u001b[0m\u001b[0mformat\u001b[0m\u001b[0;34m.\u001b[0m\u001b[0mupper\u001b[0m\u001b[0;34m(\u001b[0m\u001b[0;34m)\u001b[0m\u001b[0;34m]\u001b[0m\u001b[0;34m\u001b[0m\u001b[0m\n\u001b[0m\u001b[1;32m   1691\u001b[0m \u001b[0;34m\u001b[0m\u001b[0m\n\u001b[1;32m   1692\u001b[0m         \u001b[0;32mif\u001b[0m \u001b[0mopen_fp\u001b[0m\u001b[0;34m:\u001b[0m\u001b[0;34m\u001b[0m\u001b[0m\n",
      "\u001b[0;31mKeyError\u001b[0m: 'PNG'"
     ]
    },
    {
     "data": {
      "text/plain": [
       "<Image.Image image mode=RGBA size=300x300 at 0x116F156D0>"
      ]
     },
     "execution_count": 39,
     "metadata": {},
     "output_type": "execute_result"
    }
   ],
   "source": [
    "%matplotlib inline\n",
    "Draw.MolToImage(tsRDMol)"
   ]
  },
  {
   "cell_type": "code",
   "execution_count": null,
   "metadata": {
    "collapsed": false
   },
   "outputs": [],
   "source": [
    "max_torsion = 180 #rad\n",
    "min_torsion = 0   #rad\n",
    "\n",
    "for bond1 in tsRDMol.GetBonds():\n",
    "    \n",
    "    atom1 = bond1.GetBeginAtom()\n",
    "    atom2 = bond1.GetEndAtom()\n",
    "    \n",
    "    bond_list1 = list(atom1.GetBonds())\n",
    "    bond_list2 = list(atom2.GetBonds())\n",
    "    if len(bond_list1) > 1 and len(bond_list2) > 1:\n",
    "        torsion = 10\n",
    "        print torsion\n",
    "    \n",
    "        for bond0 in bond_list1:\n",
    "            atomX = bond0.GetOtherAtom(atom1)\n",
    "            if atomX != atom2:\n",
    "                atom0 = atomX\n",
    "        for bond2 in bond_list2:\n",
    "            atomY = bond2.GetOtherAtom(atom2)\n",
    "            if atomY != atom1:\n",
    "                atom3 = atomY\n",
    "        print atom0.GetIdx(), atom1.GetIdx(), atom2.GetIdx(), atom3.GetIdx()\n",
    "\n",
    "        SetDihedralDeg(conformer,\n",
    "                       atom0.GetIdx(), \n",
    "                       atom1.GetIdx(), \n",
    "                       atom2.GetIdx(), \n",
    "                       atom3.GetIdx(),\n",
    "                       torsion)\n",
    "        \n",
    "        attribute[(atom0.GetIdx(), atom1.GetIdx(), atom2.GetIdx(), atom3.GetIdx())] = torsion\n",
    "        print GetDihedralDeg(conformer,\n",
    "                             atom0.GetIdx(), \n",
    "                             atom1.GetIdx(), \n",
    "                             atom2.GetIdx(), \n",
    "                             atom3.GetIdx())\n",
    "    \n",
    "                \n",
    "    \n",
    "calc_energy(tsRDMol)"
   ]
  },
  {
   "cell_type": "code",
   "execution_count": 18,
   "metadata": {
    "collapsed": true
   },
   "outputs": [],
   "source": [
    "w = rdkit.Chem.SDWriter('tsRDMol2.sdf')\n",
    "w.write(tsRDMol)"
   ]
  },
  {
   "cell_type": "code",
   "execution_count": 19,
   "metadata": {
    "collapsed": false
   },
   "outputs": [
    {
     "data": {
      "text/plain": [
       "(1, 1, 3, 3)"
      ]
     },
     "execution_count": 19,
     "metadata": {},
     "output_type": "execute_result"
    }
   ],
   "source": [
    "atom0.GetIdx(), atom1.GetIdx(), atom2.GetIdx(), atom3.GetIdx()"
   ]
  },
  {
   "cell_type": "markdown",
   "metadata": {},
   "source": [
    "# The following should be a dictionary of attributes that contain the following info:\n",
    "\n",
    "* A tuple of atom indicies\n",
    "    * If there are 2 indicies: this is a bond length\n",
    "    * iIf there are 3 indicies: this is an angle\n",
    "    * If there are 4 indicies: this is a torsion\n",
    "* The value\n",
    "    * If it is a bond length, this is in angstroms\n",
    "    * If it is a angle or torsion, this is in degrees"
   ]
  },
  {
   "cell_type": "code",
   "execution_count": 20,
   "metadata": {
    "collapsed": false
   },
   "outputs": [
    {
     "data": {
      "text/plain": [
       "{(0, 1): 1.7107395560309737,\n",
       " (0, 1, 3): 171.89937185582005,\n",
       " (0, 2): 1.2220958058875844,\n",
       " (1, 0, 1, 3): 71.0974551787959,\n",
       " (1, 3): 1.8610098605366643,\n",
       " (2, 0, 1): 72.70048441299889}"
      ]
     },
     "execution_count": 20,
     "metadata": {},
     "output_type": "execute_result"
    }
   ],
   "source": [
    "attribute"
   ]
  },
  {
   "cell_type": "code",
   "execution_count": null,
   "metadata": {
    "collapsed": true
   },
   "outputs": [],
   "source": []
  }
 ],
 "metadata": {
  "kernelspec": {
   "display_name": "Python 2",
   "language": "python",
   "name": "python2"
  },
  "language_info": {
   "codemirror_mode": {
    "name": "ipython",
    "version": 2
   },
   "file_extension": ".py",
   "mimetype": "text/x-python",
   "name": "python",
   "nbconvert_exporter": "python",
   "pygments_lexer": "ipython2",
   "version": "2.7.12"
  }
 },
 "nbformat": 4,
 "nbformat_minor": 2
}
