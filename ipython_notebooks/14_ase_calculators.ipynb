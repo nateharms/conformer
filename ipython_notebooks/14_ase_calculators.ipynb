{
 "cells": [
  {
   "cell_type": "code",
   "execution_count": 4,
   "metadata": {
    "collapsed": false
   },
   "outputs": [
    {
     "name": "stderr",
     "output_type": "stream",
     "text": [
      "thermo.py:760 loadLibraries INFO Loading thermodynamics library from CBS_QB3_1dHR.py in /Users/nathan/Code/RMG-database/input/thermo/libraries...\n",
      "thermo.py:760 loadLibraries INFO Loading thermodynamics library from KlippensteinH2O2.py in /Users/nathan/Code/RMG-database/input/thermo/libraries...\n",
      "thermo.py:760 loadLibraries INFO Loading thermodynamics library from primaryThermoLibrary.py in /Users/nathan/Code/RMG-database/input/thermo/libraries...\n",
      "thermo.py:760 loadLibraries INFO Loading thermodynamics library from thermo_DFT_CCSDTF12_BAC.py in /Users/nathan/Code/RMG-database/input/thermo/libraries...\n",
      "thermo.py:774 loadGroups INFO Loading thermodynamics group database from /Users/nathan/Code/RMG-database/input/thermo/groups...\n",
      "transport.py:294 loadGroups INFO Loading transport group database from /Users/nathan/Code/RMG-database/input/transport/groups...\n",
      "database.py:165 loadFamilies INFO Loading the user-specified kinetics families from /Users/nathan/Code/RMG-database/input/kinetics/families\n",
      "statmech.py:526 loadGroups INFO Loading frequencies group database from /Users/nathan/Code/RMG-database/input/statmech/groups...\n"
     ]
    }
   ],
   "source": [
    "from multi_molecule import *\n",
    "from multi_reaction import *\n",
    "import ase\n",
    "from ase import Atom, Atoms\n",
    "from ase.calculators.gaussian import *\n"
   ]
  },
  {
   "cell_type": "code",
   "execution_count": 8,
   "metadata": {
    "collapsed": false
   },
   "outputs": [
    {
     "name": "stderr",
     "output_type": "stream",
     "text": [
      "reaction.py:300 generateBoundsMatrix INFO Generating bounds matrix for CCCCCCCCCCCCC1C=CC=CC=1.[CH3]\n",
      "reaction.py:338 bmPreEdit INFO Changing lower limit 3.9 to 3.47918059416\n",
      "reaction.py:338 bmPreEdit INFO Changing lower limit 2.680297 to 2.606794\n",
      "reaction.py:338 bmPreEdit INFO Changing lower limit 3.15 to 3.13607958085\n",
      "reaction.py:338 bmPreEdit INFO Changing lower limit 3.15 to 3.13607958085\n"
     ]
    },
    {
     "ename": "UnboundLocalError",
     "evalue": "local variable 'other_atom' referenced before assignment",
     "output_type": "error",
     "traceback": [
      "\u001b[0;31m---------------------------------------------------------------------------\u001b[0m",
      "\u001b[0;31mUnboundLocalError\u001b[0m                         Traceback (most recent call last)",
      "\u001b[0;32m<ipython-input-8-e7e3cc9ca470>\u001b[0m in \u001b[0;36m<module>\u001b[0;34m()\u001b[0m\n\u001b[0;32m----> 1\u001b[0;31m \u001b[0mrxn\u001b[0m \u001b[0;34m=\u001b[0m \u001b[0mMulti_Reaction\u001b[0m\u001b[0;34m(\u001b[0m\u001b[0;34m\"c1ccccc1CCCCCCCCCCCC+[CH3]_c1ccccc1CCCCCCCCCCC[CH2]+C\"\u001b[0m\u001b[0;34m,\u001b[0m \u001b[0;34m\"H_Abstraction\"\u001b[0m\u001b[0;34m)\u001b[0m\u001b[0;34m\u001b[0m\u001b[0m\n\u001b[0m",
      "\u001b[0;32m/Users/nathan/Code/ga_conformer/python_code/multi_reaction.pyc\u001b[0m in \u001b[0;36m__init__\u001b[0;34m(self, label, reaction_family, rmg_reaction)\u001b[0m\n\u001b[1;32m     88\u001b[0m \u001b[0;34m\u001b[0m\u001b[0m\n\u001b[1;32m     89\u001b[0m         \u001b[0mself\u001b[0m\u001b[0;34m.\u001b[0m\u001b[0mget_rmg_reactions\u001b[0m\u001b[0;34m(\u001b[0m\u001b[0;34m)\u001b[0m\u001b[0;34m\u001b[0m\u001b[0m\n\u001b[0;32m---> 90\u001b[0;31m         \u001b[0mself\u001b[0m\u001b[0;34m.\u001b[0m\u001b[0mcreate_ts_geometries\u001b[0m\u001b[0;34m(\u001b[0m\u001b[0;34m)\u001b[0m\u001b[0;34m\u001b[0m\u001b[0m\n\u001b[0m\u001b[1;32m     91\u001b[0m \u001b[0;34m\u001b[0m\u001b[0m\n\u001b[1;32m     92\u001b[0m     \u001b[0;32mdef\u001b[0m \u001b[0mget_reactants_and_products\u001b[0m\u001b[0;34m(\u001b[0m\u001b[0mself\u001b[0m\u001b[0;34m)\u001b[0m\u001b[0;34m:\u001b[0m\u001b[0;34m\u001b[0m\u001b[0m\n",
      "\u001b[0;32m/Users/nathan/Code/ga_conformer/python_code/multi_reaction.pyc\u001b[0m in \u001b[0;36mcreate_ts_geometries\u001b[0;34m(self)\u001b[0m\n\u001b[1;32m    178\u001b[0m                         \u001b[0mrdkit\u001b[0m\u001b[0;34m,\u001b[0m \u001b[0mase\u001b[0m\u001b[0;34m,\u001b[0m \u001b[0;32mand\u001b[0m \u001b[0mrmg\u001b[0m \u001b[0mmolecules\u001b[0m\u001b[0;34m\u001b[0m\u001b[0m\n\u001b[1;32m    179\u001b[0m         \"\"\"\n\u001b[0;32m--> 180\u001b[0;31m         \u001b[0mself\u001b[0m\u001b[0;34m.\u001b[0m\u001b[0mmulti_ts\u001b[0m \u001b[0;34m=\u001b[0m \u001b[0mMulti_TS\u001b[0m\u001b[0;34m(\u001b[0m\u001b[0mself\u001b[0m\u001b[0;34m)\u001b[0m\u001b[0;34m\u001b[0m\u001b[0m\n\u001b[0m\u001b[1;32m    181\u001b[0m \u001b[0;34m\u001b[0m\u001b[0m\n\u001b[1;32m    182\u001b[0m \u001b[0;34m\u001b[0m\u001b[0m\n",
      "\u001b[0;32m/Users/nathan/Code/ga_conformer/python_code/multi_reaction.pyc\u001b[0m in \u001b[0;36m__init__\u001b[0;34m(self, Multi_Reaction)\u001b[0m\n\u001b[1;32m    192\u001b[0m         \u001b[0mself\u001b[0m\u001b[0;34m.\u001b[0m\u001b[0mget_ts_torsion_list\u001b[0m\u001b[0;34m(\u001b[0m\u001b[0;34m)\u001b[0m\u001b[0;34m\u001b[0m\u001b[0m\n\u001b[1;32m    193\u001b[0m         \u001b[0mself\u001b[0m\u001b[0;34m.\u001b[0m\u001b[0mget_ts_torsions\u001b[0m\u001b[0;34m(\u001b[0m\u001b[0;34m)\u001b[0m\u001b[0;34m\u001b[0m\u001b[0m\n\u001b[0;32m--> 194\u001b[0;31m         \u001b[0mself\u001b[0m\u001b[0;34m.\u001b[0m\u001b[0mget_ts_angle_indices\u001b[0m\u001b[0;34m(\u001b[0m\u001b[0;34m)\u001b[0m\u001b[0;34m\u001b[0m\u001b[0m\n\u001b[0m\u001b[1;32m    195\u001b[0m         \u001b[0mself\u001b[0m\u001b[0;34m.\u001b[0m\u001b[0mangle_indices\u001b[0m\u001b[0;34m\u001b[0m\u001b[0m\n\u001b[1;32m    196\u001b[0m         \u001b[0mself\u001b[0m\u001b[0;34m.\u001b[0m\u001b[0mget_ts_angle\u001b[0m\u001b[0;34m(\u001b[0m\u001b[0;34m)\u001b[0m\u001b[0;34m\u001b[0m\u001b[0m\n",
      "\u001b[0;32m/Users/nathan/Code/ga_conformer/python_code/multi_reaction.pyc\u001b[0m in \u001b[0;36mget_ts_angle_indices\u001b[0;34m(self)\u001b[0m\n\u001b[1;32m    323\u001b[0m                 \u001b[0;32mif\u001b[0m \u001b[0matomX\u001b[0m\u001b[0;34m.\u001b[0m\u001b[0mGetIdx\u001b[0m\u001b[0;34m(\u001b[0m\u001b[0;34m)\u001b[0m \u001b[0;34m!=\u001b[0m \u001b[0matom2_star\u001b[0m\u001b[0;34m.\u001b[0m\u001b[0mGetIdx\u001b[0m\u001b[0;34m(\u001b[0m\u001b[0;34m)\u001b[0m\u001b[0;34m:\u001b[0m\u001b[0;34m\u001b[0m\u001b[0m\n\u001b[1;32m    324\u001b[0m                     \u001b[0mother_atom\u001b[0m \u001b[0;34m=\u001b[0m \u001b[0matomX\u001b[0m\u001b[0;34m\u001b[0m\u001b[0m\n\u001b[0;32m--> 325\u001b[0;31m             \u001b[0mangle_indices\u001b[0m \u001b[0;34m=\u001b[0m \u001b[0;34m[\u001b[0m\u001b[0matom2_star\u001b[0m\u001b[0;34m.\u001b[0m\u001b[0mGetIdx\u001b[0m\u001b[0;34m(\u001b[0m\u001b[0;34m)\u001b[0m\u001b[0;34m,\u001b[0m \u001b[0matom3_star\u001b[0m\u001b[0;34m.\u001b[0m\u001b[0mGetIdx\u001b[0m\u001b[0;34m(\u001b[0m\u001b[0;34m)\u001b[0m\u001b[0;34m,\u001b[0m \u001b[0mother_atom\u001b[0m\u001b[0;34m.\u001b[0m\u001b[0mGetIdx\u001b[0m\u001b[0;34m(\u001b[0m\u001b[0;34m)\u001b[0m\u001b[0;34m]\u001b[0m\u001b[0;34m\u001b[0m\u001b[0m\n\u001b[0m\u001b[1;32m    326\u001b[0m \u001b[0;34m\u001b[0m\u001b[0m\n\u001b[1;32m    327\u001b[0m         \u001b[0;32melse\u001b[0m\u001b[0;34m:\u001b[0m\u001b[0;34m\u001b[0m\u001b[0m\n",
      "\u001b[0;31mUnboundLocalError\u001b[0m: local variable 'other_atom' referenced before assignment"
     ]
    }
   ],
   "source": [
    "rxn = Multi_Reaction(\"c1ccccc1CCCCCCCCCCCC+[CH3]_c1ccccc1CCCCCCCCCCC[CH2]+C\", \"H_Abstraction\")\n"
   ]
  },
  {
   "cell_type": "code",
   "execution_count": 5,
   "metadata": {
    "collapsed": true
   },
   "outputs": [],
   "source": [
    "mol = Multi_Molecule(\"c1ccccc1CCCCCCCCCCCC\")"
   ]
  },
  {
   "cell_type": "code",
   "execution_count": 6,
   "metadata": {
    "collapsed": false
   },
   "outputs": [
    {
     "data": {
      "text/html": [
       "<div id=\"3dmolviewer_151361279056\"  style=\"position: relative; width: 400px; height: 400px\">\n",
       "<script>\n",
       "if(typeof $3Dmolpromise === 'undefined') $3Dmolpromise = $.when($.getScript('https://3dmol.csb.pitt.edu/build/3Dmol.js'))\n",
       "var viewer_151361279056 = null;\n",
       "$3Dmolpromise.done(function() {\n",
       "viewer_151361279056 = $3Dmol.createViewer($(\"#3dmolviewer_151361279056\"),{backgroundColor:\"white\"});\n",
       "\tviewer_151361279056.addModel(\"\\n     RDKit          3D\\n\\n 48 48  0  0  0  0  0  0  0  0999 V2000\\n    1.3460    0.0170    1.1239 C   0  0  0  0  0  0  0  0  0  0  0  0\\n    0.8793   -0.2914   -0.2668 C   0  0  0  0  0  0  0  0  0  0  0  0\\n   -0.5178    0.3119   -0.3733 C   0  0  0  0  0  0  0  0  0  0  0  0\\n   -0.8719    0.6820   -1.7889 C   0  0  0  0  0  0  0  0  0  0  0  0\\n   -2.0478   -0.1616   -2.2702 C   0  0  0  0  0  0  0  0  0  0  0  0\\n   -3.3670    0.5622   -2.0637 C   0  0  0  0  0  0  0  0  0  0  0  0\\n   -4.2826   -0.1602   -1.1182 C   0  0  0  0  0  0  0  0  0  0  0  0\\n   -4.4041    0.5673    0.2159 C   0  0  0  0  0  0  0  0  0  0  0  0\\n    2.8099   -0.0438    1.3414 C   0  0  0  0  0  0  0  0  0  0  0  0\\n   -5.5301   -0.0563    1.0140 C   0  0  0  0  0  0  0  0  0  0  0  0\\n    3.5434   -1.1262    0.6195 C   0  0  0  0  0  0  0  0  0  0  0  0\\n   -6.8785    0.5082    0.6544 C   0  0  0  0  0  0  0  0  0  0  0  0\\n    4.9465   -0.6304    0.4348 C   0  0  0  0  0  0  0  0  0  0  0  0\\n    5.8595   -0.6542    1.4833 C   0  0  0  0  0  0  0  0  0  0  0  0\\n    5.2209    0.3124   -0.5498 C   0  0  0  0  0  0  0  0  0  0  0  0\\n    6.7386    0.3972    1.7143 C   0  0  0  0  0  0  0  0  0  0  0  0\\n    6.6870    1.5346    0.9182 C   0  0  0  0  0  0  0  0  0  0  0  0\\n    6.1297    1.3432   -0.3413 C   0  0  0  0  0  0  0  0  0  0  0  0\\n    3.2577    0.9531    1.1062 H   0  0  0  0  0  0  0  0  0  0  0  0\\n    2.9858   -0.2068    2.4352 H   0  0  0  0  0  0  0  0  0  0  0  0\\n    0.7811   -0.6205    1.8228 H   0  0  0  0  0  0  0  0  0  0  0  0\\n    1.0172    1.0673    1.3362 H   0  0  0  0  0  0  0  0  0  0  0  0\\n    0.8229   -1.4008   -0.4050 H   0  0  0  0  0  0  0  0  0  0  0  0\\n    1.5227    0.1194   -1.0577 H   0  0  0  0  0  0  0  0  0  0  0  0\\n   -1.2866   -0.3766    0.0135 H   0  0  0  0  0  0  0  0  0  0  0  0\\n   -0.5447    1.2550    0.2313 H   0  0  0  0  0  0  0  0  0  0  0  0\\n    0.0024    0.5225   -2.4611 H   0  0  0  0  0  0  0  0  0  0  0  0\\n   -1.1373    1.7632   -1.8840 H   0  0  0  0  0  0  0  0  0  0  0  0\\n   -1.9247   -0.4091   -3.3359 H   0  0  0  0  0  0  0  0  0  0  0  0\\n   -2.0673   -1.1161   -1.6869 H   0  0  0  0  0  0  0  0  0  0  0  0\\n   -3.2122    1.6007   -1.6994 H   0  0  0  0  0  0  0  0  0  0  0  0\\n   -3.8905    0.6459   -3.0409 H   0  0  0  0  0  0  0  0  0  0  0  0\\n   -3.9365   -1.1848   -0.8614 H   0  0  0  0  0  0  0  0  0  0  0  0\\n   -5.3050   -0.2872   -1.5402 H   0  0  0  0  0  0  0  0  0  0  0  0\\n   -4.6161    1.6303    0.0327 H   0  0  0  0  0  0  0  0  0  0  0  0\\n   -3.4791    0.4058    0.8053 H   0  0  0  0  0  0  0  0  0  0  0  0\\n   -5.5295   -1.1605    0.8490 H   0  0  0  0  0  0  0  0  0  0  0  0\\n   -5.3068    0.1328    2.0948 H   0  0  0  0  0  0  0  0  0  0  0  0\\n    3.1200   -1.4066   -0.3539 H   0  0  0  0  0  0  0  0  0  0  0  0\\n    3.6432   -2.0488    1.2459 H   0  0  0  0  0  0  0  0  0  0  0  0\\n   -7.5099    0.4923    1.5737 H   0  0  0  0  0  0  0  0  0  0  0  0\\n   -7.3930   -0.0695   -0.1395 H   0  0  0  0  0  0  0  0  0  0  0  0\\n   -6.7705    1.5821    0.3628 H   0  0  0  0  0  0  0  0  0  0  0  0\\n    5.7732   -1.4788    2.1819 H   0  0  0  0  0  0  0  0  0  0  0  0\\n    7.2834    0.4634    2.6563 H   0  0  0  0  0  0  0  0  0  0  0  0\\n    6.7799    2.5327    1.3507 H   0  0  0  0  0  0  0  0  0  0  0  0\\n    6.1496    2.2011   -1.0035 H   0  0  0  0  0  0  0  0  0  0  0  0\\n    4.5094    0.3227   -1.3769 H   0  0  0  0  0  0  0  0  0  0  0  0\\n  1 21  1  0\\n  1  9  1  0\\n  1 22  1  0\\n  1  2  1  0\\n  2 24  1  0\\n  2 23  1  0\\n  2  3  1  0\\n  3 26  1  0\\n  3 25  1  0\\n  3  4  1  0\\n  4  5  1  0\\n  4 27  1  0\\n  4 28  1  0\\n  5  6  1  0\\n  5 29  1  0\\n  5 30  1  0\\n  6  7  1  0\\n  6 31  1  0\\n  6 32  1  0\\n  7 34  1  0\\n  7  8  1  0\\n  7 33  1  0\\n  8 35  1  0\\n  8 10  1  0\\n  8 36  1  0\\n  9 19  1  0\\n  9 11  1  0\\n  9 20  1  0\\n 10 38  1  0\\n 10 12  1  0\\n 10 37  1  0\\n 11 40  1  0\\n 11 13  1  0\\n 11 39  1  0\\n 12 41  1  0\\n 12 42  1  0\\n 12 43  1  0\\n 13 15  2  0\\n 13 14  1  0\\n 14 16  2  0\\n 14 44  1  0\\n 15 48  1  0\\n 15 18  1  0\\n 16 17  1  0\\n 16 45  1  0\\n 17 46  1  0\\n 17 18  2  0\\n 18 47  1  0\\nM  END\\n\",\"sdf\");\n",
       "\tviewer_151361279056.setStyle({\"stick\": {}});\n",
       "\tviewer_151361279056.setBackgroundColor(\"0xeeeeee\");\n",
       "\tviewer_151361279056.zoomTo();\n",
       "viewer_151361279056.render();\n",
       "});\n",
       "</script>"
      ],
      "text/plain": [
       "<IPython.core.display.HTML object>"
      ]
     },
     "execution_count": 6,
     "metadata": {},
     "output_type": "execute_result"
    }
   ],
   "source": [
    "mol.view_mol()"
   ]
  },
  {
   "cell_type": "code",
   "execution_count": 7,
   "metadata": {
    "collapsed": false
   },
   "outputs": [
    {
     "data": {
      "text/plain": [
       "<ase.calculators.gaussian.Gaussian instance at 0x34e2488>"
      ]
     },
     "execution_count": 7,
     "metadata": {},
     "output_type": "execute_result"
    }
   ],
   "source": [
    "Gaussian(label=\"CCCC\", scratch=\"/gss_gpfs_scratch/harms.n/\")"
   ]
  },
  {
   "cell_type": "code",
   "execution_count": 8,
   "metadata": {
    "collapsed": true
   },
   "outputs": [],
   "source": [
    "mol.ase_molecule.set_calculator(Gaussian(label=\"CCCC\", scratch=\"/gss_gpfs_scratch/harms.n/\"))"
   ]
  },
  {
   "cell_type": "code",
   "execution_count": 9,
   "metadata": {
    "collapsed": false
   },
   "outputs": [
    {
     "data": {
      "text/plain": [
       "-4279.402685782048"
      ]
     },
     "execution_count": 9,
     "metadata": {},
     "output_type": "execute_result"
    }
   ],
   "source": [
    "mol.ase_molecule.get_potential_energy()"
   ]
  },
  {
   "cell_type": "code",
   "execution_count": 10,
   "metadata": {
    "collapsed": true
   },
   "outputs": [],
   "source": [
    "mol.update_geometry_from_ase_mol()"
   ]
  },
  {
   "cell_type": "code",
   "execution_count": 14,
   "metadata": {
    "collapsed": true
   },
   "outputs": [],
   "source": [
    "from ase import optimize"
   ]
  },
  {
   "cell_type": "code",
   "execution_count": 17,
   "metadata": {
    "collapsed": false
   },
   "outputs": [
    {
     "data": {
      "text/plain": [
       "<ase.optimize.bfgs.BFGS instance at 0x3619098>"
      ]
     },
     "execution_count": 17,
     "metadata": {},
     "output_type": "execute_result"
    }
   ],
   "source": [
    "opt = optimize.BFGS(atoms=mol.ase_molecule)\n",
    "opt"
   ]
  },
  {
   "cell_type": "code",
   "execution_count": 18,
   "metadata": {
    "collapsed": false,
    "scrolled": true
   },
   "outputs": [
    {
     "name": "stdout",
     "output_type": "stream",
     "text": [
      "      Step     Time          Energy         fmax\n",
      "BFGS:    0 11:07:21    -4279.402686        1.7341\n",
      "BFGS:    1 11:07:32    -4279.580602        0.8669\n",
      "BFGS:    2 11:07:43    -4279.653411        0.7223\n",
      "BFGS:    3 11:07:55    -4279.714980        0.5757\n",
      "BFGS:    4 11:08:06    -4279.739952        0.4258\n",
      "BFGS:    5 11:08:17    -4279.770684        0.4351\n",
      "BFGS:    6 11:08:28    -4279.790239        0.3685\n",
      "BFGS:    7 11:08:39    -4279.802867        0.2546\n",
      "BFGS:    8 11:08:50    -4279.809891        0.2172\n",
      "BFGS:    9 11:09:01    -4279.817684        0.2241\n",
      "BFGS:   10 11:09:12    -4279.826359        0.2455\n",
      "BFGS:   11 11:09:22    -4279.834367        0.2376\n",
      "BFGS:   12 11:09:33    -4279.840414        0.2266\n",
      "BFGS:   13 11:09:43    -4279.845565        0.1672\n",
      "BFGS:   14 11:09:54    -4279.850683        0.1675\n",
      "BFGS:   15 11:10:05    -4279.854403        0.1148\n",
      "BFGS:   16 11:10:16    -4279.856515        0.1130\n",
      "BFGS:   17 11:10:26    -4279.858308        0.1173\n",
      "BFGS:   18 11:10:37    -4279.860879        0.1636\n",
      "BFGS:   19 11:10:48    -4279.865053        0.2051\n",
      "BFGS:   20 11:10:58    -4279.871497        0.2349\n",
      "BFGS:   21 11:11:10    -4279.879198        0.3069\n",
      "BFGS:   22 11:11:22    -4279.887625        0.3465\n",
      "BFGS:   23 11:11:33    -4279.896866        0.3667\n",
      "BFGS:   24 11:11:44    -4279.906943        0.3740\n",
      "BFGS:   25 11:11:55    -4279.917838        0.3765\n",
      "BFGS:   26 11:12:06    -4279.929444        0.4076\n",
      "BFGS:   27 11:12:17    -4279.941569        0.4243\n",
      "BFGS:   28 11:12:28    -4279.953994        0.4252\n",
      "BFGS:   29 11:12:38    -4279.966574        0.4098\n",
      "BFGS:   30 11:12:49    -4279.979189        0.3810\n",
      "BFGS:   31 11:13:00    -4279.991894        0.3384\n",
      "BFGS:   32 11:13:10    -4280.003783        0.3103\n",
      "BFGS:   33 11:13:21    -4280.017285        0.3717\n",
      "BFGS:   34 11:13:31    -4280.026978        0.3546\n",
      "BFGS:   35 11:13:43    -4280.038142        0.3575\n",
      "BFGS:   36 11:13:53    -4280.050537        0.3460\n",
      "BFGS:   37 11:14:04    -4280.063444        0.3089\n",
      "BFGS:   38 11:14:15    -4280.075400        0.2445\n",
      "BFGS:   39 11:14:26    -4280.085098        0.1878\n",
      "BFGS:   40 11:14:37    -4280.089996        0.1956\n",
      "BFGS:   41 11:14:48    -4280.095637        0.1782\n",
      "BFGS:   42 11:14:59    -4280.099480        0.1486\n",
      "BFGS:   43 11:15:09    -4280.102231        0.1380\n",
      "BFGS:   44 11:15:15    -4280.104546        0.1029\n",
      "BFGS:   45 11:15:25    -4280.106911        0.1039\n",
      "BFGS:   46 11:15:36    -4280.109251        0.1468\n",
      "BFGS:   47 11:15:47    -4280.111450        0.1298\n",
      "BFGS:   48 11:15:54    -4280.113181        0.1269\n",
      "BFGS:   49 11:16:05    -4280.114318        0.1912\n",
      "BFGS:   50 11:16:16    -4280.115387        0.0977\n",
      "BFGS:   51 11:16:23    -4280.116465        0.0841\n",
      "BFGS:   52 11:16:29    -4280.118149        0.0628\n",
      "BFGS:   53 11:16:40    -4280.118797        0.0752\n",
      "BFGS:   54 11:16:51    -4280.119627        0.0795\n",
      "BFGS:   55 11:17:01    -4280.120177        0.0725\n",
      "BFGS:   56 11:17:13    -4280.120933        0.0623\n",
      "BFGS:   57 11:17:20    -4280.121673        0.0605\n",
      "BFGS:   58 11:17:25    -4280.122264        0.0671\n",
      "BFGS:   59 11:17:37    -4280.122713        0.0821\n",
      "BFGS:   60 11:17:48    -4280.123306        0.0879\n",
      "BFGS:   61 11:17:54    -4280.124307        0.0842\n",
      "BFGS:   62 11:18:01    -4280.125964        0.0916\n",
      "BFGS:   63 11:18:13    -4280.128000        0.1200\n",
      "BFGS:   64 11:18:24    -4280.129888        0.1234\n",
      "BFGS:   65 11:18:29    -4280.131480        0.1088\n",
      "BFGS:   66 11:18:41    -4280.133001        0.0880\n",
      "BFGS:   67 11:18:52    -4280.134560        0.0789\n",
      "BFGS:   68 11:19:02    -4280.135714        0.0651\n",
      "BFGS:   69 11:19:14    -4280.136297        0.0493\n"
     ]
    },
    {
     "data": {
      "text/plain": [
       "True"
      ]
     },
     "execution_count": 18,
     "metadata": {},
     "output_type": "execute_result"
    }
   ],
   "source": [
    "opt.run()"
   ]
  },
  {
   "cell_type": "code",
   "execution_count": 19,
   "metadata": {
    "collapsed": true
   },
   "outputs": [],
   "source": [
    "mol.update_geometry_from_ase_mol()"
   ]
  },
  {
   "cell_type": "code",
   "execution_count": 20,
   "metadata": {
    "collapsed": false
   },
   "outputs": [
    {
     "data": {
      "text/html": [
       "<div id=\"3dmolviewer_15130092201\"  style=\"position: relative; width: 400px; height: 400px\">\n",
       "<script>\n",
       "if(typeof $3Dmolpromise === 'undefined') $3Dmolpromise = $.when($.getScript('https://3dmol.csb.pitt.edu/build/3Dmol.js'))\n",
       "var viewer_15130092201 = null;\n",
       "$3Dmolpromise.done(function() {\n",
       "viewer_15130092201 = $3Dmol.createViewer($(\"#3dmolviewer_15130092201\"),{backgroundColor:\"white\"});\n",
       "\tviewer_15130092201.addModel(\"\\n     RDKit          3D\\n\\n 14 13  0  0  0  0  0  0  0  0999 V2000\\n   -0.5121    0.5996   -0.6236 C   0  0  0  0  0  0  0  0  0  0  0  0\\n    0.7428    0.6384    0.2557 C   0  0  0  0  0  0  0  0  0  0  0  0\\n   -1.6674   -0.2462   -0.0471 C   0  0  0  0  0  0  0  0  0  0  0  0\\n    1.4907   -0.6932    0.3266 C   0  0  0  0  0  0  0  0  0  0  0  0\\n   -0.8580    1.6175   -0.7794 H   0  0  0  0  0  0  0  0  0  0  0  0\\n   -0.2306    0.2256   -1.6040 H   0  0  0  0  0  0  0  0  0  0  0  0\\n    1.4169    1.3980   -0.1309 H   0  0  0  0  0  0  0  0  0  0  0  0\\n    0.4691    0.9548    1.2589 H   0  0  0  0  0  0  0  0  0  0  0  0\\n   -1.3642   -0.7896    0.8413 H   0  0  0  0  0  0  0  0  0  0  0  0\\n   -2.5124    0.3740    0.2329 H   0  0  0  0  0  0  0  0  0  0  0  0\\n   -2.0310   -0.9797   -0.7586 H   0  0  0  0  0  0  0  0  0  0  0  0\\n    0.8640   -1.4850    0.7266 H   0  0  0  0  0  0  0  0  0  0  0  0\\n    2.3686   -0.6133    0.9625 H   0  0  0  0  0  0  0  0  0  0  0  0\\n    1.8238   -1.0009   -0.6613 H   0  0  0  0  0  0  0  0  0  0  0  0\\n  1  5  1  0\\n  1  3  1  0\\n  1  2  1  0\\n  1  6  1  0\\n  2  8  1  0\\n  2  4  1  0\\n  2  7  1  0\\n  3  9  1  0\\n  3 10  1  0\\n  3 11  1  0\\n  4 12  1  0\\n  4 13  1  0\\n  4 14  1  0\\nM  END\\n\",\"sdf\");\n",
       "\tviewer_15130092201.setStyle({\"stick\": {}});\n",
       "\tviewer_15130092201.setBackgroundColor(\"0xeeeeee\");\n",
       "\tviewer_15130092201.zoomTo();\n",
       "viewer_15130092201.render();\n",
       "});\n",
       "</script>"
      ],
      "text/plain": [
       "<IPython.core.display.HTML object>"
      ]
     },
     "execution_count": 20,
     "metadata": {},
     "output_type": "execute_result"
    }
   ],
   "source": [
    "mol.view_mol()"
   ]
  },
  {
   "cell_type": "code",
   "execution_count": 42,
   "metadata": {
    "collapsed": false
   },
   "outputs": [],
   "source": [
    "from multi_reaction import *\n",
    "from geometry import *\n",
    "#from utilities import *\n"
   ]
  },
  {
   "cell_type": "code",
   "execution_count": 33,
   "metadata": {
    "collapsed": false
   },
   "outputs": [
    {
     "data": {
      "text/plain": [
       "'/Code/ga_conformer/python_code/ts_database.pkl'"
      ]
     },
     "execution_count": 33,
     "metadata": {},
     "output_type": "execute_result"
    }
   ],
   "source": [
    "os.path.join(a, \"/Code/ga_conformer/python_code/ts_database.pkl\")"
   ]
  },
  {
   "cell_type": "code",
   "execution_count": 39,
   "metadata": {
    "collapsed": false
   },
   "outputs": [
    {
     "data": {
      "text/plain": [
       "True"
      ]
     },
     "execution_count": 39,
     "metadata": {},
     "output_type": "execute_result"
    }
   ],
   "source": [
    "home = os.path.expandvars(\"$HOME\")\n",
    "os.path.exists(a+\"/Code/ga_conformer/python_code/ts_database.pkl\")"
   ]
  },
  {
   "cell_type": "code",
   "execution_count": 1,
   "metadata": {
    "collapsed": false
   },
   "outputs": [
    {
     "ename": "NameError",
     "evalue": "name 'Multi_Reaction' is not defined",
     "output_type": "error",
     "traceback": [
      "\u001b[0;31m---------------------------------------------------------------------------\u001b[0m",
      "\u001b[0;31mNameError\u001b[0m                                 Traceback (most recent call last)",
      "\u001b[0;32m<ipython-input-1-ec1c1710d4e3>\u001b[0m in \u001b[0;36m<module>\u001b[0;34m()\u001b[0m\n\u001b[0;32m----> 1\u001b[0;31m \u001b[0mrxn\u001b[0m \u001b[0;34m=\u001b[0m \u001b[0mMulti_Reaction\u001b[0m\u001b[0;34m(\u001b[0m\u001b[0;34m\"CCC+[O]O_[CH2]CC+OO\"\u001b[0m\u001b[0;34m,\u001b[0m \u001b[0;34m\"H_Abstraction\"\u001b[0m\u001b[0;34m)\u001b[0m\u001b[0;34m\u001b[0m\u001b[0m\n\u001b[0m\u001b[1;32m      2\u001b[0m \u001b[0mrxn\u001b[0m\u001b[0;34m.\u001b[0m\u001b[0mmulti_ts\u001b[0m\u001b[0;34m.\u001b[0m\u001b[0mview_ts\u001b[0m\u001b[0;34m(\u001b[0m\u001b[0;34m)\u001b[0m\u001b[0;34m\u001b[0m\u001b[0m\n",
      "\u001b[0;31mNameError\u001b[0m: name 'Multi_Reaction' is not defined"
     ]
    }
   ],
   "source": [
    "rxn = Multi_Reaction(\"CCC+[O]O_[CH2]CC+OO\", \"H_Abstraction\")\n",
    "rxn.multi_ts.view_ts()"
   ]
  },
  {
   "cell_type": "code",
   "execution_count": 46,
   "metadata": {
    "collapsed": true
   },
   "outputs": [],
   "source": [
    "rxn.multi_ts.ase_ts.set_calculator(Gaussian(label=\"CCCC\", scratch=\"/gss_gpfs_scratch/harms.n/\"))"
   ]
  },
  {
   "cell_type": "code",
   "execution_count": 67,
   "metadata": {
    "collapsed": false
   },
   "outputs": [],
   "source": [
    "rxn.multi_ts.ase_ts.calc.extra?"
   ]
  },
  {
   "cell_type": "code",
   "execution_count": null,
   "metadata": {
    "collapsed": true
   },
   "outputs": [],
   "source": []
  }
 ],
 "metadata": {
  "kernelspec": {
   "display_name": "Python 2",
   "language": "python",
   "name": "python2"
  },
  "language_info": {
   "codemirror_mode": {
    "name": "ipython",
    "version": 2
   },
   "file_extension": ".py",
   "mimetype": "text/x-python",
   "name": "python",
   "nbconvert_exporter": "python",
   "pygments_lexer": "ipython2",
   "version": "2.7.12"
  }
 },
 "nbformat": 4,
 "nbformat_minor": 0
}
