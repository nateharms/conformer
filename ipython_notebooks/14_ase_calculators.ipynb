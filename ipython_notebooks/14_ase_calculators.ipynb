{
 "cells": [
  {
   "cell_type": "code",
   "execution_count": 2,
   "metadata": {
    "collapsed": false
   },
   "outputs": [],
   "source": [
    "from multi_molecule import *\n",
    "import ase\n",
    "from ase import Atom, Atoms\n",
    "from ase.calculators.gaussian import *\n"
   ]
  },
  {
   "cell_type": "code",
   "execution_count": 3,
   "metadata": {
    "collapsed": true
   },
   "outputs": [],
   "source": [
    "mol = Multi_Molecule(\"CCCC\")"
   ]
  },
  {
   "cell_type": "code",
   "execution_count": 4,
   "metadata": {
    "collapsed": false
   },
   "outputs": [
    {
     "data": {
      "text/html": [
       "<div id=\"3dmolviewer_151300775877\"  style=\"position: relative; width: 400px; height: 400px\">\n",
       "<script>\n",
       "if(typeof $3Dmolpromise === 'undefined') $3Dmolpromise = $.when($.getScript('https://3dmol.csb.pitt.edu/build/3Dmol.js'))\n",
       "var viewer_151300775877 = null;\n",
       "$3Dmolpromise.done(function() {\n",
       "viewer_151300775877 = $3Dmol.createViewer($(\"#3dmolviewer_151300775877\"),{backgroundColor:\"white\"});\n",
       "\tviewer_151300775877.addModel(\"\\n     RDKit          3D\\n\\n 14 13  0  0  0  0  0  0  0  0999 V2000\\n   -0.4262    0.4325   -0.6026 C   0  0  0  0  0  0  0  0  0  0  0  0\\n    0.6171    0.4431    0.4813 C   0  0  0  0  0  0  0  0  0  0  0  0\\n   -1.7695   -0.0473   -0.0681 C   0  0  0  0  0  0  0  0  0  0  0  0\\n    1.6534   -0.6322    0.1812 C   0  0  0  0  0  0  0  0  0  0  0  0\\n   -0.5745    1.4506   -1.0410 H   0  0  0  0  0  0  0  0  0  0  0  0\\n   -0.1061   -0.2467   -1.4172 H   0  0  0  0  0  0  0  0  0  0  0  0\\n    1.0817    1.4524    0.5509 H   0  0  0  0  0  0  0  0  0  0  0  0\\n    0.1920    0.2443    1.4963 H   0  0  0  0  0  0  0  0  0  0  0  0\\n   -1.7125   -0.3234    0.9948 H   0  0  0  0  0  0  0  0  0  0  0  0\\n   -2.5313    0.7573   -0.1640 H   0  0  0  0  0  0  0  0  0  0  0  0\\n   -2.1341   -0.8831   -0.6968 H   0  0  0  0  0  0  0  0  0  0  0  0\\n    1.5692   -1.4898    0.8921 H   0  0  0  0  0  0  0  0  0  0  0  0\\n    2.6437   -0.1513    0.2556 H   0  0  0  0  0  0  0  0  0  0  0  0\\n    1.4973   -1.0065   -0.8627 H   0  0  0  0  0  0  0  0  0  0  0  0\\n  1  5  1  0\\n  1  3  1  0\\n  1  2  1  0\\n  1  6  1  0\\n  2  8  1  0\\n  2  4  1  0\\n  2  7  1  0\\n  3  9  1  0\\n  3 10  1  0\\n  3 11  1  0\\n  4 12  1  0\\n  4 13  1  0\\n  4 14  1  0\\nM  END\\n\",\"sdf\");\n",
       "\tviewer_151300775877.setStyle({\"stick\": {}});\n",
       "\tviewer_151300775877.setBackgroundColor(\"0xeeeeee\");\n",
       "\tviewer_151300775877.zoomTo();\n",
       "viewer_151300775877.render();\n",
       "});\n",
       "</script>"
      ],
      "text/plain": [
       "<IPython.core.display.HTML object>"
      ]
     },
     "execution_count": 4,
     "metadata": {},
     "output_type": "execute_result"
    }
   ],
   "source": [
    "mol.view_mol()"
   ]
  },
  {
   "cell_type": "code",
   "execution_count": 7,
   "metadata": {
    "collapsed": false
   },
   "outputs": [
    {
     "data": {
      "text/plain": [
       "<ase.calculators.gaussian.Gaussian instance at 0x34e2488>"
      ]
     },
     "execution_count": 7,
     "metadata": {},
     "output_type": "execute_result"
    }
   ],
   "source": [
    "Gaussian(label=\"CCCC\", scratch=\"/gss_gpfs_scratch/harms.n/\")"
   ]
  },
  {
   "cell_type": "code",
   "execution_count": 8,
   "metadata": {
    "collapsed": true
   },
   "outputs": [],
   "source": [
    "mol.ase_molecule.set_calculator(Gaussian(label=\"CCCC\", scratch=\"/gss_gpfs_scratch/harms.n/\"))"
   ]
  },
  {
   "cell_type": "code",
   "execution_count": 9,
   "metadata": {
    "collapsed": false
   },
   "outputs": [
    {
     "data": {
      "text/plain": [
       "-4279.402685782048"
      ]
     },
     "execution_count": 9,
     "metadata": {},
     "output_type": "execute_result"
    }
   ],
   "source": [
    "mol.ase_molecule.get_potential_energy()"
   ]
  },
  {
   "cell_type": "code",
   "execution_count": 10,
   "metadata": {
    "collapsed": true
   },
   "outputs": [],
   "source": [
    "mol.update_geometry_from_ase_mol()"
   ]
  },
  {
   "cell_type": "code",
   "execution_count": 14,
   "metadata": {
    "collapsed": true
   },
   "outputs": [],
   "source": [
    "from ase import optimize"
   ]
  },
  {
   "cell_type": "code",
   "execution_count": 17,
   "metadata": {
    "collapsed": false
   },
   "outputs": [
    {
     "data": {
      "text/plain": [
       "<ase.optimize.bfgs.BFGS instance at 0x3619098>"
      ]
     },
     "execution_count": 17,
     "metadata": {},
     "output_type": "execute_result"
    }
   ],
   "source": [
    "opt = optimize.BFGS(atoms=mol.ase_molecule)\n",
    "opt"
   ]
  },
  {
   "cell_type": "code",
   "execution_count": 18,
   "metadata": {
    "collapsed": false,
    "scrolled": true
   },
   "outputs": [
    {
     "name": "stdout",
     "output_type": "stream",
     "text": [
      "      Step     Time          Energy         fmax\n",
      "BFGS:    0 11:07:21    -4279.402686        1.7341\n",
      "BFGS:    1 11:07:32    -4279.580602        0.8669\n",
      "BFGS:    2 11:07:43    -4279.653411        0.7223\n",
      "BFGS:    3 11:07:55    -4279.714980        0.5757\n",
      "BFGS:    4 11:08:06    -4279.739952        0.4258\n",
      "BFGS:    5 11:08:17    -4279.770684        0.4351\n",
      "BFGS:    6 11:08:28    -4279.790239        0.3685\n",
      "BFGS:    7 11:08:39    -4279.802867        0.2546\n",
      "BFGS:    8 11:08:50    -4279.809891        0.2172\n",
      "BFGS:    9 11:09:01    -4279.817684        0.2241\n",
      "BFGS:   10 11:09:12    -4279.826359        0.2455\n",
      "BFGS:   11 11:09:22    -4279.834367        0.2376\n",
      "BFGS:   12 11:09:33    -4279.840414        0.2266\n",
      "BFGS:   13 11:09:43    -4279.845565        0.1672\n",
      "BFGS:   14 11:09:54    -4279.850683        0.1675\n",
      "BFGS:   15 11:10:05    -4279.854403        0.1148\n",
      "BFGS:   16 11:10:16    -4279.856515        0.1130\n",
      "BFGS:   17 11:10:26    -4279.858308        0.1173\n",
      "BFGS:   18 11:10:37    -4279.860879        0.1636\n",
      "BFGS:   19 11:10:48    -4279.865053        0.2051\n",
      "BFGS:   20 11:10:58    -4279.871497        0.2349\n",
      "BFGS:   21 11:11:10    -4279.879198        0.3069\n",
      "BFGS:   22 11:11:22    -4279.887625        0.3465\n",
      "BFGS:   23 11:11:33    -4279.896866        0.3667\n",
      "BFGS:   24 11:11:44    -4279.906943        0.3740\n",
      "BFGS:   25 11:11:55    -4279.917838        0.3765\n",
      "BFGS:   26 11:12:06    -4279.929444        0.4076\n",
      "BFGS:   27 11:12:17    -4279.941569        0.4243\n",
      "BFGS:   28 11:12:28    -4279.953994        0.4252\n",
      "BFGS:   29 11:12:38    -4279.966574        0.4098\n",
      "BFGS:   30 11:12:49    -4279.979189        0.3810\n",
      "BFGS:   31 11:13:00    -4279.991894        0.3384\n",
      "BFGS:   32 11:13:10    -4280.003783        0.3103\n",
      "BFGS:   33 11:13:21    -4280.017285        0.3717\n",
      "BFGS:   34 11:13:31    -4280.026978        0.3546\n",
      "BFGS:   35 11:13:43    -4280.038142        0.3575\n",
      "BFGS:   36 11:13:53    -4280.050537        0.3460\n",
      "BFGS:   37 11:14:04    -4280.063444        0.3089\n",
      "BFGS:   38 11:14:15    -4280.075400        0.2445\n",
      "BFGS:   39 11:14:26    -4280.085098        0.1878\n",
      "BFGS:   40 11:14:37    -4280.089996        0.1956\n",
      "BFGS:   41 11:14:48    -4280.095637        0.1782\n",
      "BFGS:   42 11:14:59    -4280.099480        0.1486\n",
      "BFGS:   43 11:15:09    -4280.102231        0.1380\n",
      "BFGS:   44 11:15:15    -4280.104546        0.1029\n",
      "BFGS:   45 11:15:25    -4280.106911        0.1039\n",
      "BFGS:   46 11:15:36    -4280.109251        0.1468\n",
      "BFGS:   47 11:15:47    -4280.111450        0.1298\n",
      "BFGS:   48 11:15:54    -4280.113181        0.1269\n",
      "BFGS:   49 11:16:05    -4280.114318        0.1912\n",
      "BFGS:   50 11:16:16    -4280.115387        0.0977\n",
      "BFGS:   51 11:16:23    -4280.116465        0.0841\n",
      "BFGS:   52 11:16:29    -4280.118149        0.0628\n",
      "BFGS:   53 11:16:40    -4280.118797        0.0752\n",
      "BFGS:   54 11:16:51    -4280.119627        0.0795\n",
      "BFGS:   55 11:17:01    -4280.120177        0.0725\n",
      "BFGS:   56 11:17:13    -4280.120933        0.0623\n",
      "BFGS:   57 11:17:20    -4280.121673        0.0605\n",
      "BFGS:   58 11:17:25    -4280.122264        0.0671\n",
      "BFGS:   59 11:17:37    -4280.122713        0.0821\n",
      "BFGS:   60 11:17:48    -4280.123306        0.0879\n",
      "BFGS:   61 11:17:54    -4280.124307        0.0842\n",
      "BFGS:   62 11:18:01    -4280.125964        0.0916\n",
      "BFGS:   63 11:18:13    -4280.128000        0.1200\n",
      "BFGS:   64 11:18:24    -4280.129888        0.1234\n",
      "BFGS:   65 11:18:29    -4280.131480        0.1088\n",
      "BFGS:   66 11:18:41    -4280.133001        0.0880\n",
      "BFGS:   67 11:18:52    -4280.134560        0.0789\n",
      "BFGS:   68 11:19:02    -4280.135714        0.0651\n",
      "BFGS:   69 11:19:14    -4280.136297        0.0493\n"
     ]
    },
    {
     "data": {
      "text/plain": [
       "True"
      ]
     },
     "execution_count": 18,
     "metadata": {},
     "output_type": "execute_result"
    }
   ],
   "source": [
    "opt.run()"
   ]
  },
  {
   "cell_type": "code",
   "execution_count": 19,
   "metadata": {
    "collapsed": true
   },
   "outputs": [],
   "source": [
    "mol.update_geometry_from_ase_mol()"
   ]
  },
  {
   "cell_type": "code",
   "execution_count": 20,
   "metadata": {
    "collapsed": false
   },
   "outputs": [
    {
     "data": {
      "text/html": [
       "<div id=\"3dmolviewer_15130092201\"  style=\"position: relative; width: 400px; height: 400px\">\n",
       "<script>\n",
       "if(typeof $3Dmolpromise === 'undefined') $3Dmolpromise = $.when($.getScript('https://3dmol.csb.pitt.edu/build/3Dmol.js'))\n",
       "var viewer_15130092201 = null;\n",
       "$3Dmolpromise.done(function() {\n",
       "viewer_15130092201 = $3Dmol.createViewer($(\"#3dmolviewer_15130092201\"),{backgroundColor:\"white\"});\n",
       "\tviewer_15130092201.addModel(\"\\n     RDKit          3D\\n\\n 14 13  0  0  0  0  0  0  0  0999 V2000\\n   -0.5121    0.5996   -0.6236 C   0  0  0  0  0  0  0  0  0  0  0  0\\n    0.7428    0.6384    0.2557 C   0  0  0  0  0  0  0  0  0  0  0  0\\n   -1.6674   -0.2462   -0.0471 C   0  0  0  0  0  0  0  0  0  0  0  0\\n    1.4907   -0.6932    0.3266 C   0  0  0  0  0  0  0  0  0  0  0  0\\n   -0.8580    1.6175   -0.7794 H   0  0  0  0  0  0  0  0  0  0  0  0\\n   -0.2306    0.2256   -1.6040 H   0  0  0  0  0  0  0  0  0  0  0  0\\n    1.4169    1.3980   -0.1309 H   0  0  0  0  0  0  0  0  0  0  0  0\\n    0.4691    0.9548    1.2589 H   0  0  0  0  0  0  0  0  0  0  0  0\\n   -1.3642   -0.7896    0.8413 H   0  0  0  0  0  0  0  0  0  0  0  0\\n   -2.5124    0.3740    0.2329 H   0  0  0  0  0  0  0  0  0  0  0  0\\n   -2.0310   -0.9797   -0.7586 H   0  0  0  0  0  0  0  0  0  0  0  0\\n    0.8640   -1.4850    0.7266 H   0  0  0  0  0  0  0  0  0  0  0  0\\n    2.3686   -0.6133    0.9625 H   0  0  0  0  0  0  0  0  0  0  0  0\\n    1.8238   -1.0009   -0.6613 H   0  0  0  0  0  0  0  0  0  0  0  0\\n  1  5  1  0\\n  1  3  1  0\\n  1  2  1  0\\n  1  6  1  0\\n  2  8  1  0\\n  2  4  1  0\\n  2  7  1  0\\n  3  9  1  0\\n  3 10  1  0\\n  3 11  1  0\\n  4 12  1  0\\n  4 13  1  0\\n  4 14  1  0\\nM  END\\n\",\"sdf\");\n",
       "\tviewer_15130092201.setStyle({\"stick\": {}});\n",
       "\tviewer_15130092201.setBackgroundColor(\"0xeeeeee\");\n",
       "\tviewer_15130092201.zoomTo();\n",
       "viewer_15130092201.render();\n",
       "});\n",
       "</script>"
      ],
      "text/plain": [
       "<IPython.core.display.HTML object>"
      ]
     },
     "execution_count": 20,
     "metadata": {},
     "output_type": "execute_result"
    }
   ],
   "source": [
    "mol.view_mol()"
   ]
  },
  {
   "cell_type": "code",
   "execution_count": 42,
   "metadata": {
    "collapsed": false
   },
   "outputs": [],
   "source": [
    "from multi_reaction import *\n",
    "from geometry import *\n",
    "#from utilities import *\n"
   ]
  },
  {
   "cell_type": "code",
   "execution_count": 33,
   "metadata": {
    "collapsed": false
   },
   "outputs": [
    {
     "data": {
      "text/plain": [
       "'/Code/ga_conformer/python_code/ts_database.pkl'"
      ]
     },
     "execution_count": 33,
     "metadata": {},
     "output_type": "execute_result"
    }
   ],
   "source": [
    "os.path.join(a, \"/Code/ga_conformer/python_code/ts_database.pkl\")"
   ]
  },
  {
   "cell_type": "code",
   "execution_count": 39,
   "metadata": {
    "collapsed": false
   },
   "outputs": [
    {
     "data": {
      "text/plain": [
       "True"
      ]
     },
     "execution_count": 39,
     "metadata": {},
     "output_type": "execute_result"
    }
   ],
   "source": [
    "home = os.path.expandvars(\"$HOME\")\n",
    "os.path.exists(a+\"/Code/ga_conformer/python_code/ts_database.pkl\")"
   ]
  },
  {
   "cell_type": "code",
   "execution_count": 45,
   "metadata": {
    "collapsed": false
   },
   "outputs": [
    {
     "data": {
      "text/html": [
       "<div id=\"3dmolviewer_151301050632\"  style=\"position: relative; width: 400px; height: 400px\">\n",
       "<script>\n",
       "if(typeof $3Dmolpromise === 'undefined') $3Dmolpromise = $.when($.getScript('https://3dmol.csb.pitt.edu/build/3Dmol.js'))\n",
       "var viewer_151301050632 = null;\n",
       "$3Dmolpromise.done(function() {\n",
       "viewer_151301050632 = $3Dmol.createViewer($(\"#3dmolviewer_151301050632\"),{backgroundColor:\"white\"});\n",
       "\tviewer_151301050632.addModel(\"\\n     RDKit          3D\\n\\n 14 12  0  0  0  0  0  0  0  0999 V2000\\n    0.7608    0.9031   -0.0637 C   0  0  0  0  0  0  0  0  0  0  0  0\\n   -0.2241    0.7139    1.0841 C   0  0  0  0  0  0  0  0  0  0  0  0\\n    1.0511   -0.4206   -0.7631 C   0  0  0  0  0  0  0  0  0  0  0  0\\n    1.7092    1.3273    0.3309 H   0  0  0  0  0  0  0  0  0  0  0  0\\n    0.3322    1.6189   -0.7974 H   0  0  0  0  0  0  0  0  0  0  0  0\\n   -1.4030    0.2049    0.6103 H   0  0  0  0  0  0  0  0  0  0  0  0\\n   -0.4263    1.6933    1.5668 H   0  0  0  0  0  0  0  0  0  0  0  0\\n    0.1966    0.0218    1.8444 H   0  0  0  0  0  0  0  0  0  0  0  0\\n    0.1161   -0.8487   -1.1831 H   0  0  0  0  0  0  0  0  0  0  0  0\\n    1.7687   -0.2521   -1.5935 H   0  0  0  0  0  0  0  0  0  0  0  0\\n    1.4982   -1.1446   -0.0489 H   0  0  0  0  0  0  0  0  0  0  0  0\\n   -3.0262   -1.6049    0.1046 O   0  0  0  0  0  0  0  0  0  0  0  0\\n   -2.1659   -0.6457    0.3726 O   0  0  0  0  0  1  0  0  0  0  0  0\\n   -3.8982   -1.2484    0.4097 H   0  0  0  0  0  0  0  0  0  0  0  0\\n  1  4  1  0\\n  1  5  1  0\\n  1  2  1  0\\n  1  3  1  0\\n  2  8  1  0\\n  2  7  1  0\\n  2  6  1  0\\n  3 10  1  0\\n  3 11  1  0\\n  3  9  1  0\\n 12 13  1  0\\n 12 14  1  0\\nM  RAD  1  13   2\\nM  END\\n\",\"sdf\");\n",
       "\tviewer_151301050632.setStyle({\"stick\": {}});\n",
       "\tviewer_151301050632.setBackgroundColor(\"0xeeeeee\");\n",
       "\tviewer_151301050632.zoomTo();\n",
       "viewer_151301050632.render();\n",
       "});\n",
       "</script>"
      ],
      "text/plain": [
       "<IPython.core.display.HTML object>"
      ]
     },
     "execution_count": 45,
     "metadata": {},
     "output_type": "execute_result"
    }
   ],
   "source": [
    "rxn = Multi_Reaction(\"CCC+[O]O_[CH2]CC+OO\", \"H_Abstraction\")\n",
    "rxn.multi_ts.view_ts()"
   ]
  },
  {
   "cell_type": "code",
   "execution_count": 46,
   "metadata": {
    "collapsed": true
   },
   "outputs": [],
   "source": [
    "rxn.multi_ts.ase_ts.set_calculator(Gaussian(label=\"CCCC\", scratch=\"/gss_gpfs_scratch/harms.n/\"))"
   ]
  },
  {
   "cell_type": "code",
   "execution_count": 67,
   "metadata": {
    "collapsed": false
   },
   "outputs": [],
   "source": [
    "rxn.multi_ts.ase_ts.calc.extra?"
   ]
  },
  {
   "cell_type": "code",
   "execution_count": null,
   "metadata": {
    "collapsed": true
   },
   "outputs": [],
   "source": []
  }
 ],
 "metadata": {
  "kernelspec": {
   "display_name": "Python 2",
   "language": "python",
   "name": "python2"
  },
  "language_info": {
   "codemirror_mode": {
    "name": "ipython",
    "version": 2
   },
   "file_extension": ".py",
   "mimetype": "text/x-python",
   "name": "python",
   "nbconvert_exporter": "python",
   "pygments_lexer": "ipython2",
   "version": "2.7.5"
  }
 },
 "nbformat": 4,
 "nbformat_minor": 0
}
