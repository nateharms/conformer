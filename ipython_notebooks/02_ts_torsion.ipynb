{
 "cells": [
  {
   "cell_type": "markdown",
   "metadata": {},
   "source": [
    "# A notebook to find the lowest energy conformer of a TS\n",
    "\n",
    "This notebook will be similar to the `molecule_torsion` notebook but will require more setup to get the a rough TS geometry.\n",
    "\n",
    "The step we plan to do are as follows:\n",
    "\n",
    "1) Create a reasonable TS geometry using the existing framework provided in AutoTST\n",
    "\n",
    "2) Add pseudo bonds the `reactants` molecule where the `1*`, `2*`, and `3*` atoms are\n",
    "\n",
    "3) Identify all possible torsions\n",
    "\n",
    "4) Run through all the possible conformers and calculate the lowest energy conformer from RDKit\n",
    "\n",
    "For step for, we will do a systematic operation of adding the pseudo bonds to the molecule, setting the torsions, deleting the pseudo bonds, and calculating the energy. This will be done for each conformer and _ideally_ the lowest energy conformer would be further optimized using a quantum package\n",
    "\n",
    "#### NOTE: We may also need to look at the angle created by `1*`, `2*`, and `3*` ~ This will be studied once the torsional part is up and running"
   ]
  },
  {
   "cell_type": "code",
   "execution_count": 1,
   "metadata": {
    "collapsed": false
   },
   "outputs": [
    {
     "name": "stderr",
     "output_type": "stream",
     "text": [
      "/Users/nathan/anaconda/envs/rmg_env/lib/python2.7/site-packages/matplotlib/font_manager.py:273: UserWarning: Matplotlib is building the font cache using fc-list. This may take a moment.\n",
      "  warnings.warn('Matplotlib is building the font cache using fc-list. This may take a moment.')\n"
     ]
    }
   ],
   "source": [
    "import os\n",
    "import sys\n",
    "import cPickle as pkl\n",
    "import logging\n",
    "FORMAT = \"%(filename)s:%(lineno)d %(funcName)s %(levelname)s %(message)s\"\n",
    "logging.basicConfig(format=FORMAT, level=logging.INFO)\n",
    "\n",
    "import re\n",
    "import imp\n",
    "import itertools\n",
    "import random\n",
    "import numpy as np\n",
    "from numpy import array\n",
    "import pandas as pd\n",
    "import matplotlib\n",
    "matplotlib.use('Agg')\n",
    "%matplotlib inline\n",
    "from matplotlib import pyplot as plt\n",
    "import seaborn as sns\n",
    "\n",
    "\n",
    "# do this before we have a chance to import openbabel!\n",
    "import rdkit, rdkit.Chem.rdDistGeom, rdkit.DistanceGeometry\n",
    "\n",
    "from rdkit import Chem\n",
    "from rdkit.Chem import AllChem\n",
    "from rdkit.Chem import Draw\n",
    "from rdkit.Chem.Draw import IPythonConsole\n",
    "from rdkit import rdBase\n",
    "from rdkit.Chem.rdMolTransforms import *\n",
    "\n",
    "import py3Dmol\n",
    "\n",
    "from rmgpy.molecule import Molecule\n",
    "from rmgpy.species import Species\n",
    "from rmgpy.reaction import Reaction\n",
    "from rmgpy.kinetics import PDepArrhenius, PDepKineticsModel\n",
    "\n",
    "from rmgpy.data.rmg import RMGDatabase\n",
    "from rmgpy.data.kinetics import KineticsDepository, KineticsRules\n",
    "from rmgpy.qm.main import QMCalculator, QMSettings\n",
    "from rmgpy.qm.qmdata import QMData\n",
    "from rmgpy.qm.reaction import QMReaction\n",
    "from rmgpy.qm.molecule import QMMolecule\n"
   ]
  },
  {
   "cell_type": "code",
   "execution_count": 2,
   "metadata": {
    "collapsed": false
   },
   "outputs": [
    {
     "name": "stderr",
     "output_type": "stream",
     "text": [
      "thermo.py:760 loadLibraries INFO Loading thermodynamics library from CBS_QB3_1dHR.py in /Users/nathan/Code/RMG-database/input/thermo/libraries...\n",
      "thermo.py:760 loadLibraries INFO Loading thermodynamics library from KlippensteinH2O2.py in /Users/nathan/Code/RMG-database/input/thermo/libraries...\n",
      "thermo.py:760 loadLibraries INFO Loading thermodynamics library from primaryThermoLibrary.py in /Users/nathan/Code/RMG-database/input/thermo/libraries...\n",
      "thermo.py:760 loadLibraries INFO Loading thermodynamics library from thermo_DFT_CCSDTF12_BAC.py in /Users/nathan/Code/RMG-database/input/thermo/libraries...\n",
      "thermo.py:774 loadGroups INFO Loading thermodynamics group database from /Users/nathan/Code/RMG-database/input/thermo/groups...\n"
     ]
    },
    {
     "name": "stdout",
     "output_type": "stream",
     "text": [
      "Loading RMG Database ...\n",
      "/Users/nathan/Code/RMG-database/input\n"
     ]
    },
    {
     "name": "stderr",
     "output_type": "stream",
     "text": [
      "transport.py:294 loadGroups INFO Loading transport group database from /Users/nathan/Code/RMG-database/input/transport/groups...\n",
      "database.py:165 loadFamilies INFO Loading the user-specified kinetics families from /Users/nathan/Code/RMG-database/input/kinetics/families\n",
      "statmech.py:526 loadGroups INFO Loading frequencies group database from /Users/nathan/Code/RMG-database/input/statmech/groups...\n"
     ]
    },
    {
     "name": "stdout",
     "output_type": "stream",
     "text": [
      "RMG Database Loaded\n"
     ]
    },
    {
     "ename": "IOError",
     "evalue": "[Errno 2] No such file or directory: '../ts_database.pkl'",
     "output_type": "error",
     "traceback": [
      "\u001b[0;31m---------------------------------------------------------------------------\u001b[0m",
      "\u001b[0;31mIOError\u001b[0m                                   Traceback (most recent call last)",
      "\u001b[0;32m<ipython-input-2-60d7e7add241>\u001b[0m in \u001b[0;36m<module>\u001b[0;34m()\u001b[0m\n\u001b[1;32m     17\u001b[0m \u001b[0;31m## We are using a ts Pickle from discovery.\u001b[0m\u001b[0;34m\u001b[0m\u001b[0;34m\u001b[0m\u001b[0m\n\u001b[1;32m     18\u001b[0m \u001b[0;31m## I was running into issues performing ts opts locally, so this is a workaround\u001b[0m\u001b[0;34m\u001b[0m\u001b[0;34m\u001b[0m\u001b[0m\n\u001b[0;32m---> 19\u001b[0;31m \u001b[0mf\u001b[0m \u001b[0;34m=\u001b[0m \u001b[0mopen\u001b[0m\u001b[0;34m(\u001b[0m\u001b[0;34m\"../ts_database.pkl\"\u001b[0m\u001b[0;34m,\u001b[0m \u001b[0;34m\"r\"\u001b[0m\u001b[0;34m)\u001b[0m\u001b[0;34m\u001b[0m\u001b[0m\n\u001b[0m\u001b[1;32m     20\u001b[0m \u001b[0mtsDatabase\u001b[0m \u001b[0;34m=\u001b[0m \u001b[0mpkl\u001b[0m\u001b[0;34m.\u001b[0m\u001b[0mload\u001b[0m\u001b[0;34m(\u001b[0m\u001b[0mf\u001b[0m\u001b[0;34m)\u001b[0m\u001b[0;34m\u001b[0m\u001b[0m\n\u001b[1;32m     21\u001b[0m \u001b[0;34m\u001b[0m\u001b[0m\n",
      "\u001b[0;31mIOError\u001b[0m: [Errno 2] No such file or directory: '../ts_database.pkl'"
     ]
    }
   ],
   "source": [
    "rxnFamily = ['H_Abstraction']\n",
    "print('Loading RMG Database ...')\n",
    "rmgDatabase = RMGDatabase()\n",
    "databasePath = os.path.abspath(os.path.join(os.getenv('RMGpy', '..'), '..', 'RMG-database', 'input'))\n",
    "print(databasePath)\n",
    "rmgDatabase.load(databasePath,\n",
    "                 kineticsFamilies=rxnFamily,\n",
    "                 transportLibraries=[],\n",
    "                 reactionLibraries=[],\n",
    "                 seedMechanisms=[],\n",
    "                 thermoLibraries=['primaryThermoLibrary', 'KlippensteinH2O2', 'thermo_DFT_CCSDTF12_BAC', 'CBS_QB3_1dHR' ],\n",
    "                 solvation=False,\n",
    "                 )\n",
    "print('RMG Database Loaded')\n",
    "\n",
    "\n",
    "## We are using a ts Pickle from discovery. \n",
    "## I was running into issues performing ts opts locally, so this is a workaround\n",
    "f = open(\"../ts_database.pkl\", \"r\")\n",
    "tsDatabase = pkl.load(f)\n",
    "\n",
    "settings = QMSettings(\n",
    "    software='gaussian',\n",
    "    method='m062x',\n",
    "    fileStore=os.path.expandvars('.'),\n",
    "    scratchDirectory=os.path.expandvars('.'),\n",
    "    )"
   ]
  },
  {
   "cell_type": "code",
   "execution_count": 3,
   "metadata": {
    "collapsed": true
   },
   "outputs": [],
   "source": [
    "def view_mol(mol):\n",
    "    \"\"\"\n",
    "    A function designed to visulaize rdkit molecules\n",
    "    \n",
    "    Input: \n",
    "    * mol (an rdkit molecule object)\n",
    "    \n",
    "    Output: \n",
    "    * 3D figure of the molecule from py3Dmol\n",
    "    \n",
    "    \"\"\"\n",
    "    mb  = Chem.MolToMolBlock(mol)\n",
    "    p = py3Dmol.view(width=400, height=400)\n",
    "    p.addModel(mb, \"sdf\")\n",
    "    p.setStyle({'stick':{}})\n",
    "    p.setBackgroundColor('0xeeeeee')\n",
    "    p.zoomTo()\n",
    "    return p.show()"
   ]
  },
  {
   "cell_type": "code",
   "execution_count": 4,
   "metadata": {
    "collapsed": false
   },
   "outputs": [
    {
     "data": {
      "text/html": [
       "<div id=\"3dmolviewer_151188859145\"  style=\"position: relative; width: 400px; height: 400px\">\n",
       "<script>\n",
       "if(typeof $3Dmolpromise === 'undefined') $3Dmolpromise = $.when($.getScript('https://3dmol.csb.pitt.edu/build/3Dmol.js'))\n",
       "var viewer_151188859145 = null;\n",
       "$3Dmolpromise.done(function() {\n",
       "viewer_151188859145 = $3Dmol.createViewer($(\"#3dmolviewer_151188859145\"),{backgroundColor:\"white\"});\n",
       "\tviewer_151188859145.addModel(\"\\n     RDKit          3D\\n\\n 54 55  0  0  0  0  0  0  0  0999 V2000\\n   -7.2668    2.9992    0.1533 C   0  0  0  0  0  0  0  0  0  0  0  0\\n   -6.0313    2.4949    0.6034 O   0  0  0  0  0  0  0  0  0  0  0  0\\n   -5.2192    1.7099   -0.2210 C   0  0  0  0  0  0  0  0  0  0  0  0\\n   -5.5063    1.6489   -1.4364 O   0  0  0  0  0  0  0  0  0  0  0  0\\n   -3.9464    1.1265    0.2642 C   0  0  0  0  0  0  0  0  0  0  0  0\\n   -3.8735   -0.3458    0.0067 C   0  0  0  0  0  0  0  0  0  0  0  0\\n   -5.0609   -1.0627   -0.0514 C   0  0  0  0  0  0  0  0  0  0  0  0\\n   -4.9216   -2.4429   -0.0912 C   0  0  0  0  0  0  0  0  0  0  0  0\\n   -3.7547   -3.0408   -0.5434 C   0  0  0  0  0  0  0  0  0  0  0  0\\n   -2.6887   -2.2355   -0.8536 C   0  0  0  0  0  0  0  0  0  0  0  0\\n   -2.6723   -0.9625   -0.3269 C   0  0  0  0  0  0  0  0  0  0  0  0\\n   -1.4882   -0.0915   -0.3319 C   0  0  0  0  0  0  0  0  0  0  0  0\\n   -0.1900   -0.7980   -0.5442 C   0  0  0  0  0  0  0  0  0  0  0  0\\n    0.0578   -1.9379    0.3998 C   0  0  0  0  0  0  0  0  0  0  0  0\\n    1.5830   -1.9518    0.4449 C   0  0  0  0  0  0  0  0  0  0  0  0\\n    2.0449   -2.8060    1.4293 O   0  0  0  0  0  0  0  0  0  0  0  0\\n    1.8642   -0.5046    0.7153 C   0  0  0  0  0  0  0  0  0  0  0  0\\n    3.2709   -0.1122    0.5421 C   0  0  0  0  0  0  0  0  0  0  0  0\\n    3.6134    1.0935    1.0152 C   0  0  0  0  0  0  0  0  0  0  0  0\\n    4.3850   -1.0391    0.2362 C   0  0  0  0  0  0  0  0  0  0  0  0\\n    5.5703   -0.2558   -0.1546 C   0  0  0  0  0  0  0  0  0  0  0  0\\n    6.4948    0.5155   -0.3238 C   0  0  0  0  0  0  0  0  0  0  0  0\\n    7.4089    1.6014   -0.6740 C   0  0  0  0  0  0  0  0  0  0  0  0\\n    8.6206    1.0507   -1.3405 C   0  0  0  0  0  0  0  0  0  0  0  0\\n    9.7491    1.2712   -0.9055 O   0  0  0  0  0  0  0  0  0  0  0  0\\n    0.9160    0.2010   -0.2183 C   0  0  0  0  0  0  0  0  0  0  0  0\\n    0.3953    1.2841    0.5088 O   0  0  0  0  0  0  0  0  0  0  0  0\\n    0.5344    2.4214   -0.1119 O   0  0  0  0  0  0  0  0  0  0  0  0\\n   -7.1431    3.9029   -0.4763 H   0  0  0  0  0  0  0  0  0  0  0  0\\n   -7.8048    2.2173   -0.4282 H   0  0  0  0  0  0  0  0  0  0  0  0\\n   -7.9027    3.2627    1.0247 H   0  0  0  0  0  0  0  0  0  0  0  0\\n   -3.8832    1.2525    1.3582 H   0  0  0  0  0  0  0  0  0  0  0  0\\n   -3.1221    1.6623   -0.2679 H   0  0  0  0  0  0  0  0  0  0  0  0\\n   -5.9986   -0.5667   -0.2904 H   0  0  0  0  0  0  0  0  0  0  0  0\\n   -5.8007   -3.0404    0.0701 H   0  0  0  0  0  0  0  0  0  0  0  0\\n   -3.6570   -4.0939   -0.7182 H   0  0  0  0  0  0  0  0  0  0  0  0\\n   -1.9485   -2.4765   -1.6175 H   0  0  0  0  0  0  0  0  0  0  0  0\\n   -1.6043    0.6388   -1.1644 H   0  0  0  0  0  0  0  0  0  0  0  0\\n   -1.5024    0.4977    0.6072 H   0  0  0  0  0  0  0  0  0  0  0  0\\n   -0.1282   -1.1527   -1.5882 H   0  0  0  0  0  0  0  0  0  0  0  0\\n   -0.3011   -1.7002    1.4139 H   0  0  0  0  0  0  0  0  0  0  0  0\\n   -0.2540   -2.9195    0.0203 H   0  0  0  0  0  0  0  0  0  0  0  0\\n    1.9312   -2.2584   -0.5573 H   0  0  0  0  0  0  0  0  0  0  0  0\\n    2.1885   -3.6910    0.9946 H   0  0  0  0  0  0  0  0  0  0  0  0\\n    1.5932   -0.3092    1.7822 H   0  0  0  0  0  0  0  0  0  0  0  0\\n    3.4974    1.9590    0.3817 H   0  0  0  0  0  0  0  0  0  0  0  0\\n    4.0316    1.1053    2.0127 H   0  0  0  0  0  0  0  0  0  0  0  0\\n    4.1652   -1.7433   -0.5780 H   0  0  0  0  0  0  0  0  0  0  0  0\\n    4.6562   -1.5483    1.1801 H   0  0  0  0  0  0  0  0  0  0  0  0\\n    6.9131    2.3278   -1.3630 H   0  0  0  0  0  0  0  0  0  0  0  0\\n    7.6981    2.1996    0.2239 H   0  0  0  0  0  0  0  0  0  0  0  0\\n    8.5662    0.9150   -2.4237 H   0  0  0  0  0  0  0  0  0  0  0  0\\n    1.3975    0.6004   -1.1230 H   0  0  0  0  0  0  0  0  0  0  0  0\\n    0.5241    3.1276    0.5963 H   0  0  0  0  0  0  0  0  0  0  0  0\\n  1  2  1  0\\n  2  3  1  0\\n  3  4  2  0\\n  3  5  1  0\\n  5  6  1  0\\n  6  7  2  0\\n  7  8  1  0\\n  8  9  2  0\\n  9 10  1  0\\n 10 11  2  0\\n 11 12  1  0\\n 12 13  1  0\\n 13 14  1  0\\n 14 15  1  0\\n 15 16  1  0\\n 15 17  1  0\\n 17 18  1  0\\n 18 19  2  3\\n 18 20  1  0\\n 20 21  1  0\\n 21 22  3  0\\n 22 23  1  0\\n 23 24  1  0\\n 24 25  2  0\\n 17 26  1  0\\n 26 27  1  0\\n 27 28  1  0\\n 11  6  1  0\\n 26 13  1  0\\n  1 29  1  0\\n  1 30  1  0\\n  1 31  1  0\\n  5 32  1  0\\n  5 33  1  0\\n  7 34  1  0\\n  8 35  1  0\\n  9 36  1  0\\n 10 37  1  0\\n 12 38  1  0\\n 12 39  1  0\\n 13 40  1  0\\n 14 41  1  0\\n 14 42  1  0\\n 15 43  1  0\\n 16 44  1  0\\n 17 45  1  0\\n 19 46  1  0\\n 19 47  1  0\\n 20 48  1  0\\n 20 49  1  0\\n 23 50  1  0\\n 23 51  1  0\\n 24 52  1  0\\n 26 53  1  0\\n 28 54  1  0\\nM  END\\n\",\"sdf\");\n",
       "\tviewer_151188859145.setStyle({\"stick\": {}});\n",
       "\tviewer_151188859145.setBackgroundColor(\"0xeeeeee\");\n",
       "\tviewer_151188859145.zoomTo();\n",
       "viewer_151188859145.render();\n",
       "});\n",
       "</script>"
      ],
      "text/plain": [
       "<IPython.core.display.HTML object>"
      ]
     },
     "execution_count": 4,
     "metadata": {},
     "output_type": "execute_result"
    }
   ],
   "source": [
    "test_mol = Chem.AddHs(Chem.MolFromSmiles(\n",
    "    \"COC(=O)Cc1ccccc1CC2CC(O)C(C(=C)CC#CCC=O)C2OO\"\n",
    "))\n",
    "\n",
    "AllChem.EmbedMolecule(test_mol)\n",
    "\n",
    "view_mol(test_mol)"
   ]
  },
  {
   "cell_type": "code",
   "execution_count": 5,
   "metadata": {
    "collapsed": true
   },
   "outputs": [],
   "source": [
    "def calc_energy_ts(mol):\n",
    "    \"\"\"\n",
    "    A function designed to calculate the energy of a molecule or TS.\n",
    "    \n",
    "    Input: \n",
    "    * rdkit molecule object\n",
    "    \n",
    "    Output: \n",
    "    * energy of the geometry calculated using rdkit's forcefield method\n",
    "    * the resultant rdkit molecule object\n",
    "    \"\"\"\n",
    "    # Setting the force field parameters\n",
    "    \"\"\"try:\n",
    "        molprop = rdkit.Chem.ChemicalForceFields.MMFFGetMoleculeProperties(mol)\n",
    "    except:\n",
    "        # Picking an arbitrarly large molecule to create a dummy mol properties forcefield object\n",
    "        # This is primarily used for TSs\n",
    "        test_mol = Chem.AddHs(Chem.MolFromSmiles(\n",
    "            \"COC(=O)Cc1ccccc1CC2CC(O)C(C(=C)CC#CCC=O)C2OO\"\n",
    "        ))\n",
    "        molprop = rdkit.Chem.ChemicalForceFields.MMFFGetMoleculeProperties(test_mol)\"\"\"\n",
    "        \n",
    "    ff = rdkit.Chem.ChemicalForceFields.UFFGetMoleculeForceField(mol)#, molprop)\n",
    "    \n",
    "    \n",
    "    \n",
    "    return ff.CalcEnergy(), mol"
   ]
  },
  {
   "cell_type": "code",
   "execution_count": 6,
   "metadata": {
    "collapsed": true
   },
   "outputs": [],
   "source": [
    "def constrained_energy_calc_ts(mol, list_of_torsions, angles):\n",
    "    \"\"\"\n",
    "    A function designed to calculate the energy of a molecule or TS.\n",
    "    For this function, the molecule torsions are fixed, \n",
    "    but the rest of the molecule is allowed to relax to a local minimum\n",
    "    \n",
    "    Input: \n",
    "    * rdkit molecule object\n",
    "    * list of torsions as (i,j,k,l) tuples\n",
    "    * list of angles to set the corresponding torsions to\n",
    "    \n",
    "    Output: \n",
    "    * energy of the geometry calculated using rdkit's forcefield method\n",
    "    * the resultant rdkit molecule object\n",
    "    \"\"\"\n",
    "    \n",
    "    # Setting the force field parameters\n",
    "    \"\"\"try:\n",
    "        molprop = rdkit.Chem.ChemicalForceFields.MMFFGetMoleculeProperties(mol)\n",
    "    except:\n",
    "    \n",
    "        # Picking an arbitrarly large molecule to create a dummy mol properties forcefield object\n",
    "        # This is primarily used for TSs\n",
    "        test_mol = Chem.AddHs(Chem.MolFromSmiles(\n",
    "            \"COC(=O)Cc1ccccc1CC2CC(O)C(C(=C)CC#CCC=O)C2OO\"\n",
    "        ))\n",
    "        molprop = rdkit.Chem.ChemicalForceFields.MMFFGetMoleculeProperties(test_mol)\"\"\"\n",
    "    ff = rdkit.Chem.ChemicalForceFields.UFFGetMoleculeForceField(mol)#, molprop)\n",
    "    \n",
    "    # Zipping the torsion list and the angles together\n",
    "    geometries = zip(list_of_torsions, angles)\n",
    "    \n",
    "    # Generating a conformer to edit\n",
    "    tup = mol.GetConformers()\n",
    "    conformer = tup[0]\n",
    "    \n",
    "    # Setting the corresponding torsion to their proper angles\n",
    "    for geometry in geometries:\n",
    "        \n",
    "        i = geometry[0][0]\n",
    "        j = geometry[0][1]\n",
    "        k = geometry[0][2]\n",
    "        l = geometry[0][3]\n",
    "        angle = geometry[1]\n",
    "        \n",
    "        SetDihedralDeg(conformer,\n",
    "                           i, \n",
    "                           j, \n",
    "                           k, \n",
    "                           l,\n",
    "                           angle)\n",
    "        \n",
    "        # Constraining the torsions of the molecule\n",
    "        ff.UFFAddTorsionConstraint(i,j,k,l, True, angle, angle, 1)\n",
    "     \n",
    "\n",
    "    #e, m = calc_energy(mol)\n",
    "    # Optimizing the molecule\n",
    "    AllChem.UFFOptimizeMolecule(mol)\n",
    "    \n",
    "    \n",
    "    \n",
    "    return ff.CalcEnergy(), mol"
   ]
  },
  {
   "cell_type": "code",
   "execution_count": 7,
   "metadata": {
    "collapsed": true
   },
   "outputs": [],
   "source": [
    "def optimize_and_calc_ts(mol, list_of_torsions, angles):\n",
    "    \"\"\"\n",
    "    A function designed to calculate the energy of a molecule or TS.\n",
    "    For this function, the torsions of the molecule are set to their corresponding angles,\n",
    "    then the molecule is allowed to relax to a local minimum\n",
    "    \n",
    "    Input: \n",
    "    * rdkit molecule object\n",
    "    * list of torsions as (i,j,k,l) tuples\n",
    "    * list of angles to set the corresponding torsions to\n",
    "    \n",
    "    Output: \n",
    "    * energy of the geometry calculated using rdkit's forcefield method\n",
    "    * the resultant rdkit molecule object\n",
    "    \"\"\"\n",
    "    \n",
    "    # Setting the force field parameters\n",
    "    \"\"\"try:\n",
    "        molprop = rdkit.Chem.ChemicalForceFields.MMFFGetMoleculeProperties(mol)\n",
    "    except:\n",
    "        # Picking an arbitrarly large molecule to create a dummy mol properties forcefield object\n",
    "        # This is primarily used for TSs\n",
    "        test_mol = Chem.AddHs(Chem.MolFromSmiles(\n",
    "            \"COC(=O)Cc1ccccc1CC2CC(O)C(C(=C)CC#CCC=O)C2OO\"\n",
    "        ))\n",
    "        \n",
    "        molprop = rdkit.Chem.ChemicalForceFields.MMFFGetMoleculeProperties(test_mol) \"\"\"\n",
    "    ff = rdkit.Chem.ChemicalForceFields.UFFGetMoleculeForceField(mol)# molprop)\n",
    "    \n",
    "    # Zipping the torsions and their corresponding angles together\n",
    "    geometries = zip(list_of_torsions, angles)\n",
    "    \n",
    "    # Generating conformers and selecting one\n",
    "    tup = mol.GetConformers()\n",
    "    conformer = tup[0]\n",
    "    \n",
    "    for geometry in geometries:\n",
    "        # Setting the torsion angles\n",
    "        i = geometry[0][0]\n",
    "        j = geometry[0][1]\n",
    "        k = geometry[0][2]\n",
    "        l = geometry[0][3]\n",
    "        angle = geometry[1]\n",
    "        \n",
    "        SetDihedralDeg(conformer,\n",
    "                           i, \n",
    "                           j, \n",
    "                           k, \n",
    "                           l,\n",
    "                           angle)\n",
    "    \n",
    "    # Allowing the molecule to relax\n",
    "    AllChem.UFFOptimizeMolecule(mol)\n",
    "    \n",
    "    \n",
    "    return ff.CalcEnergy(), mol"
   ]
  },
  {
   "cell_type": "code",
   "execution_count": 8,
   "metadata": {
    "collapsed": false
   },
   "outputs": [],
   "source": [
    "def get_torsion_list(RDMol):\n",
    "    \"\"\"\n",
    "    A function to return a list of the possible torsions in an RDKit molecule\n",
    "    \n",
    "    Input:\n",
    "    * RDKit molecule \n",
    "    \n",
    "    Output:\n",
    "    * list of tuples containing 4 indicies of atoms representing a torsion\n",
    "    \"\"\"\n",
    "    torsion_list = []\n",
    "    for bond1 in RDMol.GetBonds():\n",
    "        atom1 = bond1.GetBeginAtom()\n",
    "        atom2 = bond1.GetEndAtom()\n",
    "        if atom1.IsInRing() or atom2.IsInRing():\n",
    "            # Making sure that bond1 we're looking at are in a ring\n",
    "            continue\n",
    "\n",
    "        bond_list1 = list(atom1.GetBonds())\n",
    "        bond_list2 = list(atom2.GetBonds())\n",
    "\n",
    "        if not len(bond_list1) > 1 and not len(bond_list2) > 1:\n",
    "            # Making sure that there are more than one bond attached to\n",
    "            # the atoms we're looking at\n",
    "            continue\n",
    "            \n",
    "        # Getting the 0th and 3rd atom and insuring that atoms \n",
    "        # attached to the 1st and 2nd atom are not terminal hydrogens\n",
    "        # We also make sure that all of the atoms are properly bound together\n",
    "\n",
    "        # If the above are satisified, we append a tuple of the torsion our torsion_list\n",
    "        got_atom0 = False\n",
    "        got_atom3 = False\n",
    "            \n",
    "        for bond0 in bond_list1:\n",
    "            atomX = bond0.GetOtherAtom(atom1)\n",
    "            if atomX.GetAtomicNum() == 1 and len(atomX.GetBonds()) == 1:\n",
    "                # This means that we have a terminal hydrogen, skip this\n",
    "                # NOTE: for H_abstraction TSs, a non teminal H should exist\n",
    "                continue \n",
    "            if atomX.GetIdx() != atom2.GetIdx():\n",
    "                got_atom0 = True\n",
    "                atom0 = atomX\n",
    "\n",
    "        for bond2 in bond_list2:\n",
    "            atomY = bond2.GetOtherAtom(atom2)\n",
    "            if atomY.GetAtomicNum() == 1 and len(atomY.GetBonds()) == 1:\n",
    "                # This means that we have a terminal hydrogen, skip this\n",
    "                continue \n",
    "            if atomY.GetIdx() != atom1.GetIdx():\n",
    "                got_atom3 = True\n",
    "                atom3 = atomY\n",
    "        \n",
    "        if not (got_atom0 and got_atom3):\n",
    "            # Making sure atom0 and atom3 were not found\n",
    "            continue\n",
    "\n",
    "        # Looking to make sure that all of the atoms are properly bonded to eached\n",
    "        if (\n",
    "            RDMol.GetBondBetweenAtoms(atom0.GetIdx(), atom1.GetIdx()) and \n",
    "            RDMol.GetBondBetweenAtoms(atom1.GetIdx(), atom2.GetIdx()) and \n",
    "            RDMol.GetBondBetweenAtoms(atom2.GetIdx(), atom3.GetIdx())   ) : \n",
    "\n",
    "            torsion_tup = (atom0.GetIdx(), atom1.GetIdx(), atom2.GetIdx(), atom3.GetIdx())\n",
    "            torsion_list.append(torsion_tup)\n",
    "        \n",
    "    return torsion_list"
   ]
  },
  {
   "cell_type": "markdown",
   "metadata": {},
   "source": [
    "# Creating a reaction to test"
   ]
  },
  {
   "cell_type": "markdown",
   "metadata": {},
   "source": [
    "### Making a normal RMG reaction"
   ]
  },
  {
   "cell_type": "code",
   "execution_count": 9,
   "metadata": {
    "collapsed": false
   },
   "outputs": [
    {
     "data": {
      "image/png": "[encoded data removed]",
      "text/plain": [
       "Reaction(reactants=[Molecule(SMILES=\"CCCCCC\"), Molecule(SMILES=\"[O]O\")], products=[Molecule(SMILES=\"OO\"), Molecule(SMILES=\"[CH2]CCCCC\")])"
      ]
     },
     "execution_count": 9,
     "metadata": {},
     "output_type": "execute_result"
    }
   ],
   "source": [
    "rSpecies1 = Molecule(SMILES=\"CCCCCC\")\n",
    "rSpecies2 = Molecule(SMILES=\"[O]O\")\n",
    "pSpecies2 = Molecule(SMILES=\"[CH2]CCCCC\")\n",
    "pSpecies1 = Molecule(SMILES=\"OO\")\n",
    "\n",
    "\n",
    "input_reaction = Reaction(reactants=[rSpecies1, rSpecies2], products=[pSpecies1, pSpecies2], reversible=True)\n",
    "input_reaction"
   ]
  },
  {
   "cell_type": "markdown",
   "metadata": {},
   "source": [
    "### Generating a list of reactions from our imported reaction"
   ]
  },
  {
   "cell_type": "code",
   "execution_count": 10,
   "metadata": {
    "collapsed": false
   },
   "outputs": [
    {
     "name": "stderr",
     "output_type": "stream",
     "text": [
      "<ipython-input-10-fb18db4178c5>:27 <module> INFO generateReactionsFromFamilies successfuly performed\n"
     ]
    },
    {
     "name": "stdout",
     "output_type": "stream",
     "text": [
      "[Reaction(reactants=[Molecule(SMILES=\"CCCCCC\"), Molecule(SMILES=\"[O]O\")], products=[Molecule(SMILES=\"OO\"), Molecule(SMILES=\"[CH2]CCCCC\")], degeneracy=6, pairs=[[Molecule(SMILES=\"CCCCCC\"), Molecule(SMILES=\"[CH2]CCCCC\")], [Molecule(SMILES=\"[O]O\"), Molecule(SMILES=\"OO\")]])]\n"
     ]
    },
    {
     "data": {
      "text/plain": [
       "[Reaction(reactants=[Molecule(SMILES=\"CCCCCC\"), Molecule(SMILES=\"[O]O\")], products=[Molecule(SMILES=\"OO\"), Molecule(SMILES=\"[CH2]CCCCC\")], degeneracy=6, pairs=[[Molecule(SMILES=\"CCCCCC\"), Molecule(SMILES=\"[CH2]CCCCC\")], [Molecule(SMILES=\"[O]O\"), Molecule(SMILES=\"OO\")]])]"
      ]
     },
     "execution_count": 10,
     "metadata": {},
     "output_type": "execute_result"
    }
   ],
   "source": [
    "rxnFamilies = [\"H_Abstraction\"]\n",
    "rSpecies1, rSpecies2 = input_reaction.reactants\n",
    "pSpecies1, pSpecies2 = input_reaction.products\n",
    "\n",
    "for species in itertools.chain(input_reaction.reactants, input_reaction.products):\n",
    "        species = species.generateResonanceIsomers()\n",
    "\n",
    "testReaction = Reaction(\n",
    "    reactants = input_reaction.reactants, \n",
    "    products = input_reaction.products, \n",
    "    reversible = True)\n",
    "\n",
    "reactants = [species for species in input_reaction.reactants]\n",
    "products = [species for species in input_reaction.products]\n",
    "\n",
    "reactionList = []\n",
    "\n",
    "checkRxn = rmgDatabase.kinetics.generateReactionsFromFamilies(\n",
    "    reactants, \n",
    "    products, \n",
    "    only_families=rxnFamilies)\n",
    "\n",
    "print checkRxn\n",
    "\n",
    "for rxn0 in checkRxn:\n",
    "    reactionList.append(rxn0)\n",
    "logging.info(\"generateReactionsFromFamilies successfuly performed\")\n",
    "\n",
    "reactionList\n"
   ]
  },
  {
   "cell_type": "markdown",
   "metadata": {},
   "source": [
    "### Labeling the atoms in the reaction"
   ]
  },
  {
   "cell_type": "code",
   "execution_count": 11,
   "metadata": {
    "collapsed": false
   },
   "outputs": [
    {
     "name": "stdout",
     "output_type": "stream",
     "text": [
      "Found matching reaction\n"
     ]
    },
    {
     "data": {
      "text/plain": [
       "'H_Abstraction'"
      ]
     },
     "execution_count": 11,
     "metadata": {},
     "output_type": "execute_result"
    }
   ],
   "source": [
    "gotOne=False\n",
    "for reaction in reactionList:\n",
    "    # Check if any of the RMG proposed reactions matches the reaction in the mechanism\n",
    "    if testReaction.isIsomorphic(reaction):\n",
    "        print \"Found matching reaction\"\n",
    "        # Now add the labeled atoms to the Molecule, and check all labels were added\n",
    "        atLblsR = dict([(lbl[0], False) for lbl in reaction.labeledAtoms])\n",
    "        atLblsP = dict([(lbl[0], False) for lbl in reaction.labeledAtoms])\n",
    "\n",
    "        for reactant in reaction.reactants:\n",
    "            reactant.clearLabeledAtoms()\n",
    "            for atom in reactant.atoms:\n",
    "                for atomLabel in reaction.labeledAtoms:\n",
    "                    if atom==atomLabel[1]:\n",
    "                        atom.label = atomLabel[0]\n",
    "                        atLblsR[atomLabel[0]] = True\n",
    "                        \n",
    "        for product in reaction.products:\n",
    "            product.clearLabeledAtoms()\n",
    "            for atom in product.atoms:\n",
    "                for atomLabel in reaction.labeledAtoms:\n",
    "                    if atom==atomLabel[1]:\n",
    "                        atom.label = atomLabel[0]\n",
    "                        atLblsP[atomLabel[0]] = True\n",
    "                        \n",
    "        if all( atLblsR.values() ) and all( atLblsP.values() ):\n",
    "            # We successfully labeled all of the atoms\n",
    "            gotOne=True \n",
    "            break\n",
    "            \n",
    "rxn = QMReaction(reaction=reaction, settings=settings, tsDatabase=tsDatabase)\n",
    "rxn.reaction.family"
   ]
  },
  {
   "cell_type": "markdown",
   "metadata": {},
   "source": [
    "## Making a single RDKit molecule from the RMG QM reaction"
   ]
  },
  {
   "cell_type": "code",
   "execution_count": 12,
   "metadata": {
    "collapsed": false
   },
   "outputs": [
    {
     "data": {
      "text/html": [
       "<div id=\"3dmolviewer_151188859325\"  style=\"position: relative; width: 400px; height: 400px\">\n",
       "<script>\n",
       "if(typeof $3Dmolpromise === 'undefined') $3Dmolpromise = $.when($.getScript('https://3dmol.csb.pitt.edu/build/3Dmol.js'))\n",
       "var viewer_151188859325 = null;\n",
       "$3Dmolpromise.done(function() {\n",
       "viewer_151188859325 = $3Dmol.createViewer($(\"#3dmolviewer_151188859325\"),{backgroundColor:\"white\"});\n",
       "\tviewer_151188859325.addModel(\"\\n     RDKit          3D\\n\\n 23 21  0  0  0  0  0  0  0  0999 V2000\\n   -0.5558   -0.2390    0.8017 C   0  0  0  0  0  0  0  0  0  0  0  0\\n    0.4540   -0.9307   -0.0595 C   0  0  0  0  0  0  0  0  0  0  0  0\\n   -1.3533    0.7702    0.0061 C   0  0  0  0  0  0  0  0  0  0  0  0\\n    1.8812   -0.7506    0.4454 C   0  0  0  0  0  0  0  0  0  0  0  0\\n   -2.6831    0.2277   -0.4543 C   0  0  0  0  0  0  0  0  0  0  0  0\\n    2.3837    0.6543    0.2210 C   0  0  0  0  0  0  0  0  0  0  0  0\\n   -0.7957    1.0515   -0.9096 H   0  0  0  0  0  0  0  0  0  0  0  0\\n   -1.5600    1.6719    0.6358 H   0  0  0  0  0  0  0  0  0  0  0  0\\n   -0.1409    0.2244    1.7103 H   0  0  0  0  0  0  0  0  0  0  0  0\\n   -1.2939   -0.9998    1.1613 H   0  0  0  0  0  0  0  0  0  0  0  0\\n    0.2661   -2.0332   -0.0981 H   0  0  0  0  0  0  0  0  0  0  0  0\\n    0.4696   -0.5636   -1.1129 H   0  0  0  0  0  0  0  0  0  0  0  0\\n    2.0150   -1.1142    1.4698 H   0  0  0  0  0  0  0  0  0  0  0  0\\n    2.5004   -1.4036   -0.2218 H   0  0  0  0  0  0  0  0  0  0  0  0\\n   -3.4663    0.3323    0.3379 H   0  0  0  0  0  0  0  0  0  0  0  0\\n   -2.6167   -0.8463   -0.7503 H   0  0  0  0  0  0  0  0  0  0  0  0\\n   -3.0410    0.8593   -1.3062 H   0  0  0  0  0  0  0  0  0  0  0  0\\n    3.3241    0.6874   -0.3746 H   0  0  0  0  0  0  0  0  0  0  0  0\\n    1.6108    1.2732   -0.2556 H   0  0  0  0  0  0  0  0  0  0  0  0\\n    2.6019    1.1286    1.2034 H   0  0  0  0  0  0  0  0  0  0  0  0\\n   -0.1445    0.4098   -0.0000 O   0  0  0  0  0  0  0  0  0  0  0  0\\n    1.0355   -0.1588    0.0000 O   0  0  0  0  0  1  0  0  0  0  0  0\\n   -0.8910   -0.2510   -0.0000 H   0  0  0  0  0  0  0  0  0  0  0  0\\n  1  3  1  0\\n  1  9  1  0\\n  1 10  1  0\\n  1  2  1  0\\n  2  4  1  0\\n  2 12  1  0\\n  2 11  1  0\\n  3  7  1  0\\n  3  5  1  0\\n  3  8  1  0\\n  4 14  1  0\\n  4 13  1  0\\n  4  6  1  0\\n  5 17  1  0\\n  5 15  1  0\\n  5 16  1  0\\n  6 18  1  0\\n  6 19  1  0\\n  6 20  1  0\\n 21 22  1  0\\n 21 23  1  0\\nM  RAD  1  22   2\\nM  END\\n\",\"sdf\");\n",
       "\tviewer_151188859325.setStyle({\"stick\": {}});\n",
       "\tviewer_151188859325.setBackgroundColor(\"0xeeeeee\");\n",
       "\tviewer_151188859325.zoomTo();\n",
       "viewer_151188859325.render();\n",
       "});\n",
       "</script>"
      ],
      "text/plain": [
       "<IPython.core.display.HTML object>"
      ]
     },
     "execution_count": 12,
     "metadata": {},
     "output_type": "execute_result"
    }
   ],
   "source": [
    "reactant, product = rxn.setupMolecules()\n",
    "mol = reactant.toRDKitMol(removeHs=False)\n",
    "AllChem.EmbedMolecule(mol)\n",
    "view_mol(mol)"
   ]
  },
  {
   "cell_type": "markdown",
   "metadata": {},
   "source": [
    "## Creating a reasionable goemetry"
   ]
  },
  {
   "cell_type": "code",
   "execution_count": 13,
   "metadata": {
    "collapsed": false,
    "scrolled": true
   },
   "outputs": [
    {
     "name": "stderr",
     "output_type": "stream",
     "text": [
      "reaction.py:300 generateBoundsMatrix INFO Generating bounds matrix for CCCCCC.[O]O\n",
      "reaction.py:338 bmPreEdit INFO Changing lower limit 2.9 to 2.393074\n",
      "reaction.py:338 bmPreEdit INFO Changing lower limit 3.65 to 3.26214059416\n",
      "reaction.py:338 bmPreEdit INFO Changing lower limit 2.520343 to 2.457475\n",
      "molecule.py:140 rd_embed INFO RDKit failed to embed on attempt 1 of 15\n",
      "molecule.py:140 rd_embed INFO RDKit failed to embed on attempt 2 of 15\n",
      "molecule.py:140 rd_embed INFO RDKit failed to embed on attempt 3 of 15\n"
     ]
    },
    {
     "data": {
      "text/html": [
       "<div id=\"3dmolviewer_151188859969\"  style=\"position: relative; width: 400px; height: 400px\">\n",
       "<script>\n",
       "if(typeof $3Dmolpromise === 'undefined') $3Dmolpromise = $.when($.getScript('https://3dmol.csb.pitt.edu/build/3Dmol.js'))\n",
       "var viewer_151188859969 = null;\n",
       "$3Dmolpromise.done(function() {\n",
       "viewer_151188859969 = $3Dmol.createViewer($(\"#3dmolviewer_151188859969\"),{backgroundColor:\"white\"});\n",
       "\tviewer_151188859969.addModel(\"\\n     RDKit          3D\\n\\n 23 21  0  0  0  0  0  0  0  0999 V2000\\n    0.1788    0.2514    0.8991 C   0  0  0  0  0  0  0  0  0  0  0  0\\n    0.5696    1.0978   -0.3294 C   0  0  0  0  0  0  0  0  0  0  0  0\\n   -0.7034   -0.9704    0.5915 C   0  0  0  0  0  0  0  0  0  0  0  0\\n    1.3167    0.3312   -1.4348 C   0  0  0  0  0  0  0  0  0  0  0  0\\n   -2.0461   -0.5898   -0.0278 C   0  0  0  0  0  0  0  0  0  0  0  0\\n    2.6470   -0.2525   -0.9608 C   0  0  0  0  0  0  0  0  0  0  0  0\\n   -0.9024   -1.5011    1.5474 H   0  0  0  0  0  0  0  0  0  0  0  0\\n   -0.1704   -1.6840   -0.0709 H   0  0  0  0  0  0  0  0  0  0  0  0\\n    1.0986   -0.0929    1.4177 H   0  0  0  0  0  0  0  0  0  0  0  0\\n   -0.3584    0.9073    1.6183 H   0  0  0  0  0  0  0  0  0  0  0  0\\n   -0.3422    1.5576   -0.7661 H   0  0  0  0  0  0  0  0  0  0  0  0\\n    1.2095    1.9390    0.0157 H   0  0  0  0  0  0  0  0  0  0  0  0\\n    0.6789   -0.4758   -1.8520 H   0  0  0  0  0  0  0  0  0  0  0  0\\n    1.5253    1.0400   -2.2653 H   0  0  0  0  0  0  0  0  0  0  0  0\\n   -2.6702    0.3554    0.7405 H   0  0  0  0  0  0  0  0  0  0  0  0\\n   -1.9063   -0.1997   -1.0573 H   0  0  0  0  0  0  0  0  0  0  0  0\\n   -2.6958   -1.4885   -0.0840 H   0  0  0  0  0  0  0  0  0  0  0  0\\n    2.4772   -1.0773   -0.2380 H   0  0  0  0  0  0  0  0  0  0  0  0\\n    3.1999   -0.6652   -1.8309 H   0  0  0  0  0  0  0  0  0  0  0  0\\n    3.2702    0.5352   -0.4865 H   0  0  0  0  0  0  0  0  0  0  0  0\\n   -1.9796    0.0316    1.8710 O   0  0  0  0  0  0  0  0  0  0  0  0\\n   -2.8803    0.9766    1.7052 O   0  0  0  0  0  1  0  0  0  0  0  0\\n   -1.5166   -0.0259    0.9975 H   0  0  0  0  0  0  0  0  0  0  0  0\\n  1  3  1  0\\n  1  9  1  0\\n  1 10  1  0\\n  1  2  1  0\\n  2  4  1  0\\n  2 12  1  0\\n  2 11  1  0\\n  3  7  1  0\\n  3  5  1  0\\n  3  8  1  0\\n  4 14  1  0\\n  4 13  1  0\\n  4  6  1  0\\n  5 17  1  0\\n  5 15  1  0\\n  5 16  1  0\\n  6 18  1  0\\n  6 19  1  0\\n  6 20  1  0\\n 21 22  1  0\\n 21 23  1  0\\nM  RAD  1  22   2\\nM  END\\n\",\"sdf\");\n",
       "\tviewer_151188859969.setStyle({\"stick\": {}});\n",
       "\tviewer_151188859969.setBackgroundColor(\"0xeeeeee\");\n",
       "\tviewer_151188859969.zoomTo();\n",
       "viewer_151188859969.render();\n",
       "});\n",
       "</script>"
      ],
      "text/plain": [
       "<IPython.core.display.HTML object>"
      ]
     },
     "execution_count": 13,
     "metadata": {},
     "output_type": "execute_result"
    }
   ],
   "source": [
    "labels, atomMatch = rxn.getLabels(reactant)\n",
    "\n",
    "tsRDMol, bm, rxn.reactantGeom = rxn.generateBoundsMatrix(reactant)\n",
    "\n",
    "bm = rxn.editMatrix(reactant, bm, labels)\n",
    "\n",
    "tsRDMol = rxn.reactantGeom.rd_embed(tsRDMol, 15, bm=bm, match=atomMatch)[0]\n",
    "\n",
    "tsRDMol = rdkit.Chem.rdchem.RWMol(tsRDMol)\n",
    "\n",
    "view_mol(tsRDMol)"
   ]
  },
  {
   "cell_type": "markdown",
   "metadata": {},
   "source": [
    "## Checking that the atoming labeling matches what was given from AutoTST"
   ]
  },
  {
   "cell_type": "code",
   "execution_count": 14,
   "metadata": {
    "collapsed": false
   },
   "outputs": [
    {
     "data": {
      "text/html": [
       "<div id=\"3dmolviewer_15118885997\"  style=\"position: relative; width: 400px; height: 400px\">\n",
       "<script>\n",
       "if(typeof $3Dmolpromise === 'undefined') $3Dmolpromise = $.when($.getScript('https://3dmol.csb.pitt.edu/build/3Dmol.js'))\n",
       "var viewer_15118885997 = null;\n",
       "$3Dmolpromise.done(function() {\n",
       "viewer_15118885997 = $3Dmol.createViewer($(\"#3dmolviewer_15118885997\"),{backgroundColor:\"white\"});\n",
       "\tviewer_15118885997.addModel(\"\\n     RDKit          3D\\n\\n 23 21  0  0  0  0  0  0  0  0999 V2000\\n    0.1788    0.2514    0.8991 C   0  0  0  0  0  0  0  0  0  0  0  0\\n    0.5696    1.0978   -0.3294 C   0  0  0  0  0  0  0  0  0  0  0  0\\n   -0.7034   -0.9704    0.5915 C   0  0  0  0  0  0  0  0  0  0  0  0\\n    1.3167    0.3312   -1.4348 C   0  0  0  0  0  0  0  0  0  0  0  0\\n   -2.0461   -0.5898   -0.0278 C   0  0  0  0  0  0  0  0  0  0  0  0\\n    2.6470   -0.2525   -0.9608 C   0  0  0  0  0  0  0  0  0  0  0  0\\n   -0.9024   -1.5011    1.5474 H   0  0  0  0  0  0  0  0  0  0  0  0\\n   -0.1704   -1.6840   -0.0709 H   0  0  0  0  0  0  0  0  0  0  0  0\\n    1.0986   -0.0929    1.4177 H   0  0  0  0  0  0  0  0  0  0  0  0\\n   -0.3584    0.9073    1.6183 H   0  0  0  0  0  0  0  0  0  0  0  0\\n   -0.3422    1.5576   -0.7661 H   0  0  0  0  0  0  0  0  0  0  0  0\\n    1.2095    1.9390    0.0157 H   0  0  0  0  0  0  0  0  0  0  0  0\\n    0.6789   -0.4758   -1.8520 H   0  0  0  0  0  0  0  0  0  0  0  0\\n    1.5253    1.0400   -2.2653 H   0  0  0  0  0  0  0  0  0  0  0  0\\n   -2.6702    0.3554    0.7405 H   0  0  0  0  0  0  0  0  0  0  0  0\\n   -1.9063   -0.1997   -1.0573 H   0  0  0  0  0  0  0  0  0  0  0  0\\n   -2.6958   -1.4885   -0.0840 H   0  0  0  0  0  0  0  0  0  0  0  0\\n    2.4772   -1.0773   -0.2380 H   0  0  0  0  0  0  0  0  0  0  0  0\\n    3.1999   -0.6652   -1.8309 H   0  0  0  0  0  0  0  0  0  0  0  0\\n    3.2702    0.5352   -0.4865 H   0  0  0  0  0  0  0  0  0  0  0  0\\n   -1.9796    0.0316    1.8710 O   0  0  0  0  0  0  0  0  0  0  0  0\\n   -2.8803    0.9766    1.7052 O   0  0  0  0  0  1  0  0  0  0  0  0\\n   -1.5166   -0.0259    0.9975 H   0  0  0  0  0  0  0  0  0  0  0  0\\n  1  3  1  0\\n  1  9  1  0\\n  1 10  1  0\\n  1  2  1  0\\n  2  4  1  0\\n  2 12  1  0\\n  2 11  1  0\\n  3  7  1  0\\n  3  5  1  0\\n  3  8  1  0\\n  4 14  1  0\\n  4 13  1  0\\n  4  6  1  0\\n  5 17  1  0\\n  5 15  1  0\\n  5 16  1  0\\n  6 18  1  0\\n  6 19  1  0\\n  6 20  1  0\\n 21 22  1  0\\n 21 23  1  0\\nM  RAD  1  22   2\\nM  END\\n\",\"sdf\");\n",
       "\tviewer_15118885997.setStyle({\"stick\": {}});\n",
       "\tviewer_15118885997.setBackgroundColor(\"0xeeeeee\");\n",
       "\tviewer_15118885997.zoomTo();\n",
       "viewer_15118885997.render();\n",
       "});\n",
       "</script>"
      ],
      "text/plain": [
       "<IPython.core.display.HTML object>"
      ]
     },
     "execution_count": 14,
     "metadata": {},
     "output_type": "execute_result"
    }
   ],
   "source": [
    "tsRDMol_copy = tsRDMol.__copy__() # making a copy of the TS so we don't need to kill the kernal over and over again\n",
    "# This is because of the above bug\n",
    "view_mol(tsRDMol_copy)"
   ]
  },
  {
   "cell_type": "markdown",
   "metadata": {},
   "source": [
    "#### Getting the `1*`, `2*`, and `3*` atoms"
   ]
  },
  {
   "cell_type": "code",
   "execution_count": 15,
   "metadata": {
    "collapsed": false,
    "scrolled": true
   },
   "outputs": [
    {
     "name": "stdout",
     "output_type": "stream",
     "text": [
      "6 1 8\n"
     ]
    }
   ],
   "source": [
    "for atom in tsRDMol_copy.GetAtoms():\n",
    "    idx = atom.GetIdx()\n",
    "    num = atom.GetAtomicNum()\n",
    "    rmg_atom = reactant.atoms[idx]\n",
    "    \n",
    "    if rmg_atom.label:\n",
    "        if rmg_atom.label == \"*1\":\n",
    "            atom1_star = atom\n",
    "        if rmg_atom.label == \"*2\":\n",
    "            atom2_star = atom\n",
    "        if rmg_atom.label == \"*3\":\n",
    "            atom3_star = atom\n",
    "\n",
    "print atom1_star.GetAtomicNum(), atom2_star.GetAtomicNum(), atom3_star.GetAtomicNum()\n",
    "\n",
    "    "
   ]
  },
  {
   "cell_type": "markdown",
   "metadata": {},
   "source": [
    "#### Adding the pseduo bond between either `1*` and `2*` or `2*` and `3*` depending on which bond already exists"
   ]
  },
  {
   "cell_type": "code",
   "execution_count": 16,
   "metadata": {
    "collapsed": false,
    "scrolled": true
   },
   "outputs": [
    {
     "name": "stdout",
     "output_type": "stream",
     "text": [
      "Bond already exists betwee 1* and 2*\n"
     ]
    },
    {
     "data": {
      "text/html": [
       "<div id=\"3dmolviewer_151188859977\"  style=\"position: relative; width: 400px; height: 400px\">\n",
       "<script>\n",
       "if(typeof $3Dmolpromise === 'undefined') $3Dmolpromise = $.when($.getScript('https://3dmol.csb.pitt.edu/build/3Dmol.js'))\n",
       "var viewer_151188859977 = null;\n",
       "$3Dmolpromise.done(function() {\n",
       "viewer_151188859977 = $3Dmol.createViewer($(\"#3dmolviewer_151188859977\"),{backgroundColor:\"white\"});\n",
       "\tviewer_151188859977.addModel(\"\\n     RDKit          3D\\n\\n 23 22  0  0  0  0  0  0  0  0999 V2000\\n    0.1788    0.2514    0.8991 C   0  0  0  0  0  0  0  0  0  0  0  0\\n    0.5696    1.0978   -0.3294 C   0  0  0  0  0  0  0  0  0  0  0  0\\n   -0.7034   -0.9704    0.5915 C   0  0  0  0  0  0  0  0  0  0  0  0\\n    1.3167    0.3312   -1.4348 C   0  0  0  0  0  0  0  0  0  0  0  0\\n   -2.0461   -0.5898   -0.0278 C   0  0  0  0  0  0  0  0  0  0  0  0\\n    2.6470   -0.2525   -0.9608 C   0  0  0  0  0  0  0  0  0  0  0  0\\n   -0.9024   -1.5011    1.5474 H   0  0  0  0  0  0  0  0  0  0  0  0\\n   -0.1704   -1.6840   -0.0709 H   0  0  0  0  0  0  0  0  0  0  0  0\\n    1.0986   -0.0929    1.4177 H   0  0  0  0  0  0  0  0  0  0  0  0\\n   -0.3584    0.9073    1.6183 H   0  0  0  0  0  0  0  0  0  0  0  0\\n   -0.3422    1.5576   -0.7661 H   0  0  0  0  0  0  0  0  0  0  0  0\\n    1.2095    1.9390    0.0157 H   0  0  0  0  0  0  0  0  0  0  0  0\\n    0.6789   -0.4758   -1.8520 H   0  0  0  0  0  0  0  0  0  0  0  0\\n    1.5253    1.0400   -2.2653 H   0  0  0  0  0  0  0  0  0  0  0  0\\n   -2.6702    0.3554    0.7405 H   0  0  0  0  0  0  0  0  0  0  0  0\\n   -1.9063   -0.1997   -1.0573 H   0  0  0  0  0  0  0  0  0  0  0  0\\n   -2.6958   -1.4885   -0.0840 H   0  0  0  0  0  0  0  0  0  0  0  0\\n    2.4772   -1.0773   -0.2380 H   0  0  0  0  0  0  0  0  0  0  0  0\\n    3.1999   -0.6652   -1.8309 H   0  0  0  0  0  0  0  0  0  0  0  0\\n    3.2702    0.5352   -0.4865 H   0  0  0  0  0  0  0  0  0  0  0  0\\n   -1.9796    0.0316    1.8710 O   0  0  0  0  0  0  0  0  0  0  0  0\\n   -2.8803    0.9766    1.7052 O   0  0  0  0  0  1  0  0  0  0  0  0\\n   -1.5166   -0.0259    0.9975 H   0  0  0  0  0  0  0  0  0  0  0  0\\n  1  3  1  0\\n  1  9  1  0\\n  1 10  1  0\\n  1  2  1  0\\n  2  4  1  0\\n  2 12  1  0\\n  2 11  1  0\\n  3  7  1  0\\n  3  5  1  0\\n  3  8  1  0\\n  4 14  1  0\\n  4 13  1  0\\n  4  6  1  0\\n  5 17  1  0\\n  5 15  1  0\\n  5 16  1  0\\n  6 18  1  0\\n  6 19  1  0\\n  6 20  1  0\\n 21 22  1  0\\n 21 23  1  0\\n 15 22  1  0\\nM  RAD  1  22   2\\nM  END\\n\",\"sdf\");\n",
       "\tviewer_151188859977.setStyle({\"stick\": {}});\n",
       "\tviewer_151188859977.setBackgroundColor(\"0xeeeeee\");\n",
       "\tviewer_151188859977.zoomTo();\n",
       "viewer_151188859977.render();\n",
       "});\n",
       "</script>"
      ],
      "text/plain": [
       "<IPython.core.display.HTML object>"
      ]
     },
     "execution_count": 16,
     "metadata": {},
     "output_type": "execute_result"
    }
   ],
   "source": [
    "bond_between_23 = False\n",
    "try:\n",
    "    tsRDMol_copy.AddBond(atom1_star.GetIdx(), atom2_star.GetIdx(), order=rdkit.Chem.rdchem.BondType.SINGLE)\n",
    "except RuntimeError:\n",
    "    print \"Bond already exists betwee 1* and 2*\"\n",
    "    bond_between_23 = True\n",
    "    tsRDMol_copy.AddBond(atom2_star.GetIdx(), atom3_star.GetIdx(), order=rdkit.Chem.rdchem.BondType.SINGLE)\n",
    "\n",
    "    \n",
    "view_mol(tsRDMol_copy)"
   ]
  },
  {
   "cell_type": "markdown",
   "metadata": {},
   "source": [
    "### Getting the list of torsions for the TS"
   ]
  },
  {
   "cell_type": "code",
   "execution_count": 17,
   "metadata": {
    "collapsed": false
   },
   "outputs": [
    {
     "data": {
      "text/plain": [
       "[(1, 0, 2, 4),\n",
       " (2, 0, 1, 3),\n",
       " (0, 1, 3, 5),\n",
       " (0, 2, 4, 14),\n",
       " (2, 4, 14, 21),\n",
       " (4, 14, 21, 20)]"
      ]
     },
     "execution_count": 17,
     "metadata": {},
     "output_type": "execute_result"
    }
   ],
   "source": [
    "torsion_list = []\n",
    "for bond1 in tsRDMol_copy.GetBonds():\n",
    "    atom1 = bond1.GetBeginAtom()\n",
    "    atom2 = bond1.GetEndAtom()\n",
    "    if atom1.IsInRing() or atom2.IsInRing():# atom1.GetAtomicNum() == 1 or atom2.GetAtomicNum() == 1:\n",
    "        # Making sure that the atoms we're looking at are in a ring\n",
    "        continue\n",
    "\n",
    "    bond_list1 = list(atom1.GetBonds())\n",
    "    bond_list2 = list(atom2.GetBonds())\n",
    "\n",
    "    if not len(bond_list1) > 1 and not len(bond_list2) > 1:\n",
    "        # Making sure that there are more than one bond attached to\n",
    "        # the atoms we're looking at\n",
    "        continue\n",
    "\n",
    "\n",
    "    # Getting the 0th and 3rd atom and insuring that atoms \n",
    "    # attached to the 1st and 2nd atom are not terminal hydrogens\n",
    "    # We also make sure that all of the atoms are properly bound together\n",
    "    \n",
    "    # If the above are satisified, we append a tuple of the torsion our torsion_list\n",
    "\n",
    "    for bond0 in bond_list1:\n",
    "        atomX = bond0.GetOtherAtom(atom1)\n",
    "        if atomX.GetAtomicNum() == 1 and len(atomX.GetBonds()) == 1:\n",
    "            # This means that we have a terminal hydrogen, skip this\n",
    "            # NOTE: for H_abstraction TSs, a non teminal H should exist\n",
    "            continue \n",
    "        if atomX.GetIdx() != atom2.GetIdx():\n",
    "            atom0 = atomX\n",
    "\n",
    "    for bond2 in bond_list2:\n",
    "        atomY = bond2.GetOtherAtom(atom2)\n",
    "        if atomY.GetAtomicNum() == 1 and len(atomY.GetBonds()) == 1:\n",
    "            # This means that we have a terminal hydrogen, skip this\n",
    "            continue \n",
    "        if atomY.GetIdx() != atom1.GetIdx():\n",
    "            atom3 = atomY\n",
    "        \n",
    "    # Looking to make sure that all of the atoms are properly bonded to eached\n",
    "    if (\n",
    "        tsRDMol_copy.GetBondBetweenAtoms(atom0.GetIdx(), atom1.GetIdx()) and \n",
    "        tsRDMol_copy.GetBondBetweenAtoms(atom1.GetIdx(), atom2.GetIdx()) and \n",
    "        tsRDMol_copy.GetBondBetweenAtoms(atom2.GetIdx(), atom3.GetIdx())   ) : \n",
    "        \n",
    "        torsion_tup = (atom0.GetIdx(), atom1.GetIdx(), atom2.GetIdx(), atom3.GetIdx())\n",
    "        torsion_list.append(torsion_tup)\n",
    "\n",
    "torsion_angles = np.arange(0, 360+30,30)\n",
    "torsion_combos = list( itertools.combinations_with_replacement( torsion_angles, len(torsion_list)) )\n",
    "torsion_combos = torsion_combos + list(itertools.combinations_with_replacement( torsion_angles[::-1], len(torsion_list)) )\n",
    "\n",
    "torsion_list"
   ]
  },
  {
   "cell_type": "markdown",
   "metadata": {},
   "source": [
    "##### Testing to see if the above script can be performed using `get_torsion_list` that we made from `molecule_torsion`"
   ]
  },
  {
   "cell_type": "code",
   "execution_count": 18,
   "metadata": {
    "collapsed": false
   },
   "outputs": [
    {
     "data": {
      "text/plain": [
       "[(1, 0, 2, 4),\n",
       " (2, 0, 1, 3),\n",
       " (0, 1, 3, 5),\n",
       " (0, 2, 4, 14),\n",
       " (2, 4, 14, 21),\n",
       " (4, 14, 21, 20)]"
      ]
     },
     "execution_count": 18,
     "metadata": {},
     "output_type": "execute_result"
    }
   ],
   "source": [
    "get_torsion_list(tsRDMol_copy)"
   ]
  },
  {
   "cell_type": "markdown",
   "metadata": {},
   "source": [
    "#### Setting the torsions for a single conformer. \n",
    "\n",
    "From this point, we are working with `tsRDMol_store`. This means that we can edit this copy and re-copy `tsRDMol` rather than have to completely recreate the geometry"
   ]
  },
  {
   "cell_type": "code",
   "execution_count": 19,
   "metadata": {
    "collapsed": false
   },
   "outputs": [
    {
     "name": "stdout",
     "output_type": "stream",
     "text": [
      "((1, 0, 2, 4), 0)\n",
      "((2, 0, 1, 3), 30)\n",
      "((0, 1, 3, 5), 30)\n",
      "((0, 2, 4, 14), 90)\n",
      "((2, 4, 14, 21), 210)\n",
      "((4, 14, 21, 20), 270)\n"
     ]
    },
    {
     "data": {
      "text/html": [
       "<div id=\"3dmolviewer_151188859991\"  style=\"position: relative; width: 400px; height: 400px\">\n",
       "<script>\n",
       "if(typeof $3Dmolpromise === 'undefined') $3Dmolpromise = $.when($.getScript('https://3dmol.csb.pitt.edu/build/3Dmol.js'))\n",
       "var viewer_151188859991 = null;\n",
       "$3Dmolpromise.done(function() {\n",
       "viewer_151188859991 = $3Dmol.createViewer($(\"#3dmolviewer_151188859991\"),{backgroundColor:\"white\"});\n",
       "\tviewer_151188859991.addModel(\"\\n     RDKit          3D\\n\\n 23 22  0  0  0  0  0  0  0  0999 V2000\\n    0.1788    0.2514    0.8991 C   0  0  0  0  0  0  0  0  0  0  0  0\\n    0.5696    1.0978   -0.3294 C   0  0  0  0  0  0  0  0  0  0  0  0\\n   -0.7034   -0.9704    0.5915 C   0  0  0  0  0  0  0  0  0  0  0  0\\n   -0.4591    1.0947   -1.4738 C   0  0  0  0  0  0  0  0  0  0  0  0\\n   -1.0252   -1.1088   -0.8946 C   0  0  0  0  0  0  0  0  0  0  0  0\\n   -1.8952    0.9142   -0.9839 C   0  0  0  0  0  0  0  0  0  0  0  0\\n   -1.6612   -0.8511    1.1423 H   0  0  0  0  0  0  0  0  0  0  0  0\\n   -0.2289   -1.9023    0.9638 H   0  0  0  0  0  0  0  0  0  0  0  0\\n    1.0986   -0.0929    1.4177 H   0  0  0  0  0  0  0  0  0  0  0  0\\n   -0.3584    0.9073    1.6183 H   0  0  0  0  0  0  0  0  0  0  0  0\\n    0.7498    2.1470   -0.0127 H   0  0  0  0  0  0  0  0  0  0  0  0\\n    1.5388    0.7184   -0.7206 H   0  0  0  0  0  0  0  0  0  0  0  0\\n   -0.3803    2.0249   -2.0742 H   0  0  0  0  0  0  0  0  0  0  0  0\\n   -0.2158    0.2497   -2.1537 H   0  0  0  0  0  0  0  0  0  0  0  0\\n   -0.0729   -1.8708   -1.5156 H   0  0  0  0  0  0  0  0  0  0  0  0\\n   -2.0238   -1.5714   -1.0379 H   0  0  0  0  0  0  0  0  0  0  0  0\\n   -1.0393   -0.1033   -1.3655 H   0  0  0  0  0  0  0  0  0  0  0  0\\n   -2.2340    1.8113   -0.4253 H   0  0  0  0  0  0  0  0  0  0  0  0\\n   -2.5683    0.7771   -1.8563 H   0  0  0  0  0  0  0  0  0  0  0  0\\n   -1.9739    0.0185   -0.3318 H   0  0  0  0  0  0  0  0  0  0  0  0\\n   -0.5524   -2.8591   -2.3239 O   0  0  0  0  0  0  0  0  0  0  0  0\\n    0.5984   -2.2254   -2.4013 O   0  0  0  0  0  1  0  0  0  0  0  0\\n   -1.1848   -2.1831   -1.9722 H   0  0  0  0  0  0  0  0  0  0  0  0\\n  1  3  1  0\\n  1  9  1  0\\n  1 10  1  0\\n  1  2  1  0\\n  2  4  1  0\\n  2 12  1  0\\n  2 11  1  0\\n  3  7  1  0\\n  3  5  1  0\\n  3  8  1  0\\n  4 14  1  0\\n  4 13  1  0\\n  4  6  1  0\\n  5 17  1  0\\n  5 15  1  0\\n  5 16  1  0\\n  6 18  1  0\\n  6 19  1  0\\n  6 20  1  0\\n 21 22  1  0\\n 21 23  1  0\\n 15 22  1  0\\nM  RAD  1  22   2\\nM  END\\n\",\"sdf\");\n",
       "\tviewer_151188859991.setStyle({\"stick\": {}});\n",
       "\tviewer_151188859991.setBackgroundColor(\"0xeeeeee\");\n",
       "\tviewer_151188859991.zoomTo();\n",
       "viewer_151188859991.render();\n",
       "});\n",
       "</script>"
      ],
      "text/plain": [
       "<IPython.core.display.HTML object>"
      ]
     },
     "execution_count": 19,
     "metadata": {},
     "output_type": "execute_result"
    }
   ],
   "source": [
    "# Making a copy of the TS molecule and etting a conformer to edit\n",
    "tup = tsRDMol_copy.GetConformers()\n",
    "conformer = tup[0]\n",
    "\n",
    "\n",
    "# Picking a random torsion combo\n",
    "geometry = zip(torsion_list, torsion_combos[2000])\n",
    "\n",
    "for torsion in geometry:\n",
    "    print torsion\n",
    "    i = torsion[0][0]\n",
    "    j = torsion[0][1]\n",
    "    k = torsion[0][2]\n",
    "    l = torsion[0][3]\n",
    "    angle = torsion[1]\n",
    "\n",
    "    SetDihedralDeg(conformer,\n",
    "                   i, \n",
    "                   j, \n",
    "                   k, \n",
    "                   l,\n",
    "                   angle)\n",
    "\n",
    "\n",
    "view_mol(tsRDMol_copy)"
   ]
  },
  {
   "cell_type": "markdown",
   "metadata": {},
   "source": [
    "#### Removing the pseudo bond from the copy molecule and calculating energy\n",
    "\n",
    "**TODO:** Possibly use UFF instead of MMFF? Read the papers to know what the differences are"
   ]
  },
  {
   "cell_type": "code",
   "execution_count": 20,
   "metadata": {
    "collapsed": false,
    "scrolled": false
   },
   "outputs": [
    {
     "name": "stdout",
     "output_type": "stream",
     "text": [
      "(9365.103298823129, <rdkit.Chem.rdchem.RWMol object at 0x114768de0>)\n"
     ]
    },
    {
     "data": {
      "text/html": [
       "<div id=\"3dmolviewer_151188859994\"  style=\"position: relative; width: 400px; height: 400px\">\n",
       "<script>\n",
       "if(typeof $3Dmolpromise === 'undefined') $3Dmolpromise = $.when($.getScript('https://3dmol.csb.pitt.edu/build/3Dmol.js'))\n",
       "var viewer_151188859994 = null;\n",
       "$3Dmolpromise.done(function() {\n",
       "viewer_151188859994 = $3Dmol.createViewer($(\"#3dmolviewer_151188859994\"),{backgroundColor:\"white\"});\n",
       "\tviewer_151188859994.addModel(\"\\n     RDKit          3D\\n\\n 23 21  0  0  0  0  0  0  0  0999 V2000\\n    0.1788    0.2514    0.8991 C   0  0  0  0  0  0  0  0  0  0  0  0\\n    0.5696    1.0978   -0.3294 C   0  0  0  0  0  0  0  0  0  0  0  0\\n   -0.7034   -0.9704    0.5915 C   0  0  0  0  0  0  0  0  0  0  0  0\\n   -0.4591    1.0947   -1.4738 C   0  0  0  0  0  0  0  0  0  0  0  0\\n   -1.0252   -1.1088   -0.8946 C   0  0  0  0  0  0  0  0  0  0  0  0\\n   -1.8952    0.9142   -0.9839 C   0  0  0  0  0  0  0  0  0  0  0  0\\n   -1.6612   -0.8511    1.1423 H   0  0  0  0  0  0  0  0  0  0  0  0\\n   -0.2289   -1.9023    0.9638 H   0  0  0  0  0  0  0  0  0  0  0  0\\n    1.0986   -0.0929    1.4177 H   0  0  0  0  0  0  0  0  0  0  0  0\\n   -0.3584    0.9073    1.6183 H   0  0  0  0  0  0  0  0  0  0  0  0\\n    0.7498    2.1470   -0.0127 H   0  0  0  0  0  0  0  0  0  0  0  0\\n    1.5388    0.7184   -0.7206 H   0  0  0  0  0  0  0  0  0  0  0  0\\n   -0.3803    2.0249   -2.0742 H   0  0  0  0  0  0  0  0  0  0  0  0\\n   -0.2158    0.2497   -2.1537 H   0  0  0  0  0  0  0  0  0  0  0  0\\n   -0.0729   -1.8708   -1.5156 H   0  0  0  0  0  0  0  0  0  0  0  0\\n   -2.0238   -1.5714   -1.0379 H   0  0  0  0  0  0  0  0  0  0  0  0\\n   -1.0393   -0.1033   -1.3655 H   0  0  0  0  0  0  0  0  0  0  0  0\\n   -2.2340    1.8113   -0.4253 H   0  0  0  0  0  0  0  0  0  0  0  0\\n   -2.5683    0.7771   -1.8563 H   0  0  0  0  0  0  0  0  0  0  0  0\\n   -1.9739    0.0185   -0.3318 H   0  0  0  0  0  0  0  0  0  0  0  0\\n   -0.5524   -2.8591   -2.3239 O   0  0  0  0  0  0  0  0  0  0  0  0\\n    0.5984   -2.2254   -2.4013 O   0  0  0  0  0  1  0  0  0  0  0  0\\n   -1.1848   -2.1831   -1.9722 H   0  0  0  0  0  0  0  0  0  0  0  0\\n  1  3  1  0\\n  1  9  1  0\\n  1 10  1  0\\n  1  2  1  0\\n  2  4  1  0\\n  2 12  1  0\\n  2 11  1  0\\n  3  7  1  0\\n  3  5  1  0\\n  3  8  1  0\\n  4 14  1  0\\n  4 13  1  0\\n  4  6  1  0\\n  5 17  1  0\\n  5 15  1  0\\n  5 16  1  0\\n  6 18  1  0\\n  6 19  1  0\\n  6 20  1  0\\n 21 22  1  0\\n 21 23  1  0\\nM  RAD  1  22   2\\nM  END\\n\",\"sdf\");\n",
       "\tviewer_151188859994.setStyle({\"stick\": {}});\n",
       "\tviewer_151188859994.setBackgroundColor(\"0xeeeeee\");\n",
       "\tviewer_151188859994.zoomTo();\n",
       "viewer_151188859994.render();\n",
       "});\n",
       "</script>"
      ],
      "text/plain": [
       "<IPython.core.display.HTML object>"
      ]
     },
     "execution_count": 20,
     "metadata": {},
     "output_type": "execute_result"
    }
   ],
   "source": [
    "if bond_between_23 == False:\n",
    "    tsRDMol_copy.RemoveBond(atom1_star.GetIdx(), atom2_star.GetIdx())\n",
    "else:\n",
    "    tsRDMol_copy.RemoveBond(atom2_star.GetIdx(), atom3_star.GetIdx())\n",
    "\n",
    "print calc_energy_ts(tsRDMol_copy)\n",
    "view_mol(tsRDMol_copy)"
   ]
  },
  {
   "cell_type": "markdown",
   "metadata": {},
   "source": [
    "Yay!!! We got this working for a single TS! Now let's look at an example with just a single torsion and visualize a plot of the torsion."
   ]
  },
  {
   "cell_type": "markdown",
   "metadata": {},
   "source": [
    "# Creating functions to do the above automatically\n",
    "\n",
    "We will use the same `input_reaction` for this\n",
    "\n",
    "**Note** We're on to something, but we have some issues with optimization... We need to fix the distances between the `1*`, `2*`, and `3*` atoms"
   ]
  },
  {
   "cell_type": "code",
   "execution_count": 21,
   "metadata": {
    "collapsed": false
   },
   "outputs": [
    {
     "data": {
      "image/png": "[encoded data removed]",
      "text/plain": [
       "Reaction(reactants=[Molecule(SMILES=\"CCCCCC\"), Molecule(SMILES=\"[O]O\")], products=[Molecule(SMILES=\"OO\"), Molecule(SMILES=\"[CH2]CCCCC\")])"
      ]
     },
     "execution_count": 21,
     "metadata": {},
     "output_type": "execute_result"
    }
   ],
   "source": [
    "rSpecies1 = Molecule(SMILES=\"CCCCCC\")\n",
    "rSpecies2 = Molecule(SMILES=\"[O]O\")\n",
    "pSpecies2 = Molecule(SMILES=\"[CH2]CCCCC\")\n",
    "pSpecies1 = Molecule(SMILES=\"OO\")\n",
    "\n",
    "\n",
    "input_reaction = Reaction(reactants=[rSpecies1, rSpecies2], products=[pSpecies1, pSpecies2], reversible=True)\n",
    "input_reaction"
   ]
  },
  {
   "cell_type": "code",
   "execution_count": 22,
   "metadata": {
    "collapsed": false
   },
   "outputs": [
    {
     "name": "stderr",
     "output_type": "stream",
     "text": [
      "<ipython-input-22-2778c08b8a03>:35 get_ts_rdmol INFO generateReactionsFromFamilies successfuly performed\n",
      "reaction.py:300 generateBoundsMatrix INFO Generating bounds matrix for CCCCCC.[O]O\n",
      "reaction.py:338 bmPreEdit INFO Changing lower limit 2.9 to 2.393074\n",
      "reaction.py:338 bmPreEdit INFO Changing lower limit 3.65 to 3.26214059416\n",
      "reaction.py:338 bmPreEdit INFO Changing lower limit 2.520343 to 2.457475\n"
     ]
    },
    {
     "data": {
      "text/html": [
       "<div id=\"3dmolviewer_151188860691\"  style=\"position: relative; width: 400px; height: 400px\">\n",
       "<script>\n",
       "if(typeof $3Dmolpromise === 'undefined') $3Dmolpromise = $.when($.getScript('https://3dmol.csb.pitt.edu/build/3Dmol.js'))\n",
       "var viewer_151188860691 = null;\n",
       "$3Dmolpromise.done(function() {\n",
       "viewer_151188860691 = $3Dmol.createViewer($(\"#3dmolviewer_151188860691\"),{backgroundColor:\"white\"});\n",
       "\tviewer_151188860691.addModel(\"\\n     RDKit          3D\\n\\n 23 21  0  0  0  0  0  0  0  0999 V2000\\n    1.0938    0.1194    0.1839 C   0  0  0  0  0  0  0  0  0  0  0  0\\n   -0.1107   -0.7276   -0.2605 C   0  0  0  0  0  0  0  0  0  0  0  0\\n    0.7865    0.9826    1.4173 C   0  0  0  0  0  0  0  0  0  0  0  0\\n    0.2127   -1.6220   -1.4678 C   0  0  0  0  0  0  0  0  0  0  0  0\\n   -0.1701    2.1348    1.1144 C   0  0  0  0  0  0  0  0  0  0  0  0\\n    1.1003   -2.8122   -1.1035 C   0  0  0  0  0  0  0  0  0  0  0  0\\n    1.7418    1.4130    1.7889 H   0  0  0  0  0  0  0  0  0  0  0  0\\n    0.3623    0.3536    2.2294 H   0  0  0  0  0  0  0  0  0  0  0  0\\n    1.9362   -0.5526    0.4504 H   0  0  0  0  0  0  0  0  0  0  0  0\\n    1.4319    0.7677   -0.6541 H   0  0  0  0  0  0  0  0  0  0  0  0\\n   -0.9381   -0.0511   -0.5604 H   0  0  0  0  0  0  0  0  0  0  0  0\\n   -0.4725   -1.3523    0.5854 H   0  0  0  0  0  0  0  0  0  0  0  0\\n    0.6994   -1.0244   -2.2690 H   0  0  0  0  0  0  0  0  0  0  0  0\\n   -0.7425   -2.0165   -1.8776 H   0  0  0  0  0  0  0  0  0  0  0  0\\n   -1.4376    1.6668    0.8960 H   0  0  0  0  0  0  0  0  0  0  0  0\\n    0.1753    2.7097    0.2290 H   0  0  0  0  0  0  0  0  0  0  0  0\\n   -0.2070    2.8209    1.9867 H   0  0  0  0  0  0  0  0  0  0  0  0\\n    2.1168   -2.4741   -0.8157 H   0  0  0  0  0  0  0  0  0  0  0  0\\n    1.1973   -3.4819   -1.9839 H   0  0  0  0  0  0  0  0  0  0  0  0\\n    0.6517   -3.3912   -0.2685 H   0  0  0  0  0  0  0  0  0  0  0  0\\n   -2.9770    2.5952   -0.0415 O   0  0  0  0  0  0  0  0  0  0  0  0\\n   -2.4913    1.4692    0.4362 O   0  0  0  0  0  1  0  0  0  0  0  0\\n   -3.9593    2.4727   -0.0150 H   0  0  0  0  0  0  0  0  0  0  0  0\\n  1  3  1  0\\n  1  9  1  0\\n  1 10  1  0\\n  1  2  1  0\\n  2 12  1  0\\n  2 11  1  0\\n  2  4  1  0\\n  3  8  1  0\\n  3  7  1  0\\n  3  5  1  0\\n  4 14  1  0\\n  4  6  1  0\\n  4 13  1  0\\n  5 17  1  0\\n  5 16  1  0\\n  5 15  1  0\\n  6 20  1  0\\n  6 19  1  0\\n  6 18  1  0\\n 21 23  1  0\\n 21 22  1  0\\nM  RAD  1  22   2\\nM  END\\n\",\"sdf\");\n",
       "\tviewer_151188860691.setStyle({\"stick\": {}});\n",
       "\tviewer_151188860691.setBackgroundColor(\"0xeeeeee\");\n",
       "\tviewer_151188860691.zoomTo();\n",
       "viewer_151188860691.render();\n",
       "});\n",
       "</script>"
      ],
      "text/plain": [
       "<IPython.core.display.HTML object>"
      ]
     },
     "execution_count": 22,
     "metadata": {},
     "output_type": "execute_result"
    }
   ],
   "source": [
    "def get_ts_rdmol(input_reaction):\n",
    "    \"\"\"\n",
    "    Generates a an rdkit estimation of the TS using AutoTST\n",
    "    \n",
    "    Inputs: \n",
    "    * input_reaction: rmgpy.reaction object, the reaction of interest\n",
    "    \n",
    "    Outputs:\n",
    "    * tsRDMol: rdkit.mol object, the estimated geometry generated from AutoTST\n",
    "    \"\"\"\n",
    "    rxnFamilies = [\"H_Abstraction\"]\n",
    "    rSpecies1, rSpecies2 = input_reaction.reactants\n",
    "    pSpecies1, pSpecies2 = input_reaction.products\n",
    "\n",
    "    for species in itertools.chain(input_reaction.reactants, input_reaction.products):\n",
    "            species = species.generateResonanceIsomers()\n",
    "\n",
    "    testReaction = Reaction(\n",
    "        reactants = input_reaction.reactants,\n",
    "        products = input_reaction.products,\n",
    "        reversible = True)\n",
    "\n",
    "    reactants = [species for species in input_reaction.reactants]\n",
    "    products = [species for species in input_reaction.products]\n",
    "\n",
    "    reactionList = []\n",
    "\n",
    "    checkRxn = rmgDatabase.kinetics.generateReactionsFromFamilies(\n",
    "        reactants,\n",
    "        products,\n",
    "        only_families=rxnFamilies)\n",
    "\n",
    "    for rxn0 in checkRxn:\n",
    "        reactionList.append(rxn0)\n",
    "    logging.info(\"generateReactionsFromFamilies successfuly performed\")\n",
    "\n",
    "    gotOne=False\n",
    "    for reaction in reactionList:\n",
    "        # Check if any of the RMG proposed reactions matches the reaction in the mechanism\n",
    "        if testReaction.isIsomorphic(reaction):\n",
    "            #print \"Found matching reaction\"\n",
    "            # Now add the labeled atoms to the Molecule, and check all labels were added\n",
    "            atLblsR = dict([(lbl[0], False) for lbl in reaction.labeledAtoms])\n",
    "            atLblsP = dict([(lbl[0], False) for lbl in reaction.labeledAtoms])\n",
    "\n",
    "            for reactant in reaction.reactants:\n",
    "                reactant.clearLabeledAtoms()\n",
    "                for atom in reactant.atoms:\n",
    "                    for atomLabel in reaction.labeledAtoms:\n",
    "                        if atom==atomLabel[1]:\n",
    "                            atom.label = atomLabel[0]\n",
    "                            atLblsR[atomLabel[0]] = True\n",
    "\n",
    "            for product in reaction.products:\n",
    "                product.clearLabeledAtoms()\n",
    "                for atom in product.atoms:\n",
    "                    for atomLabel in reaction.labeledAtoms:\n",
    "                        if atom==atomLabel[1]:\n",
    "                            atom.label = atomLabel[0]\n",
    "                            atLblsP[atomLabel[0]] = True\n",
    "\n",
    "            if all( atLblsR.values() ) and all( atLblsP.values() ):\n",
    "                # We successfully labeled all of the atoms\n",
    "                gotOne=True\n",
    "                break\n",
    "\n",
    "    rxn = QMReaction(reaction=reaction, settings=settings, tsDatabase=tsDatabase)\n",
    "\n",
    "\n",
    "    reactant, product = rxn.setupMolecules()\n",
    "    mol = reactant.toRDKitMol(removeHs=False)\n",
    "\n",
    "    AllChem.EmbedMolecule(mol)\n",
    "    labels, atomMatch = rxn.getLabels(reactant)\n",
    "    tsRDMol, bm, rxn.reactantGeom = rxn.generateBoundsMatrix(reactant)\n",
    "    bm = rxn.editMatrix(reactant, bm, labels)\n",
    "    tsRDMol = rxn.reactantGeom.rd_embed(tsRDMol, 15, bm=bm, match=atomMatch)[0]\n",
    "    tsRDMol = rdkit.Chem.rdchem.RWMol(tsRDMol)\n",
    "\n",
    "    return tsRDMol\n",
    "\n",
    "tsRDMol = get_ts_rdmol(input_reaction)\n",
    "view_mol(tsRDMol)"
   ]
  },
  {
   "cell_type": "code",
   "execution_count": 23,
   "metadata": {
    "collapsed": false
   },
   "outputs": [
    {
     "data": {
      "text/html": [
       "<div id=\"3dmolviewer_151188860696\"  style=\"position: relative; width: 400px; height: 400px\">\n",
       "<script>\n",
       "if(typeof $3Dmolpromise === 'undefined') $3Dmolpromise = $.when($.getScript('https://3dmol.csb.pitt.edu/build/3Dmol.js'))\n",
       "var viewer_151188860696 = null;\n",
       "$3Dmolpromise.done(function() {\n",
       "viewer_151188860696 = $3Dmol.createViewer($(\"#3dmolviewer_151188860696\"),{backgroundColor:\"white\"});\n",
       "\tviewer_151188860696.addModel(\"\\n     RDKit          3D\\n\\n 23 21  0  0  0  0  0  0  0  0999 V2000\\n    1.0938    0.1194    0.1839 C   0  0  0  0  0  0  0  0  0  0  0  0\\n   -0.1107   -0.7276   -0.2605 C   0  0  0  0  0  0  0  0  0  0  0  0\\n    0.7865    0.9826    1.4173 C   0  0  0  0  0  0  0  0  0  0  0  0\\n    0.2127   -1.6220   -1.4678 C   0  0  0  0  0  0  0  0  0  0  0  0\\n   -0.1701    2.1348    1.1144 C   0  0  0  0  0  0  0  0  0  0  0  0\\n    1.1003   -2.8122   -1.1035 C   0  0  0  0  0  0  0  0  0  0  0  0\\n    1.7418    1.4130    1.7889 H   0  0  0  0  0  0  0  0  0  0  0  0\\n    0.3623    0.3536    2.2294 H   0  0  0  0  0  0  0  0  0  0  0  0\\n    1.9362   -0.5526    0.4504 H   0  0  0  0  0  0  0  0  0  0  0  0\\n    1.4319    0.7677   -0.6541 H   0  0  0  0  0  0  0  0  0  0  0  0\\n   -0.9381   -0.0511   -0.5604 H   0  0  0  0  0  0  0  0  0  0  0  0\\n   -0.4725   -1.3523    0.5854 H   0  0  0  0  0  0  0  0  0  0  0  0\\n    0.6994   -1.0244   -2.2690 H   0  0  0  0  0  0  0  0  0  0  0  0\\n   -0.7425   -2.0165   -1.8776 H   0  0  0  0  0  0  0  0  0  0  0  0\\n   -1.4376    1.6668    0.8960 H   0  0  0  0  0  0  0  0  0  0  0  0\\n    0.1753    2.7097    0.2290 H   0  0  0  0  0  0  0  0  0  0  0  0\\n   -0.2070    2.8209    1.9867 H   0  0  0  0  0  0  0  0  0  0  0  0\\n    2.1168   -2.4741   -0.8157 H   0  0  0  0  0  0  0  0  0  0  0  0\\n    1.1973   -3.4819   -1.9839 H   0  0  0  0  0  0  0  0  0  0  0  0\\n    0.6517   -3.3912   -0.2685 H   0  0  0  0  0  0  0  0  0  0  0  0\\n   -2.9770    2.5952   -0.0415 O   0  0  0  0  0  0  0  0  0  0  0  0\\n   -2.4913    1.4692    0.4362 O   0  0  0  0  0  1  0  0  0  0  0  0\\n   -3.9593    2.4727   -0.0150 H   0  0  0  0  0  0  0  0  0  0  0  0\\n  1  3  1  0\\n  1  9  1  0\\n  1 10  1  0\\n  1  2  1  0\\n  2 12  1  0\\n  2 11  1  0\\n  2  4  1  0\\n  3  8  1  0\\n  3  7  1  0\\n  3  5  1  0\\n  4 14  1  0\\n  4  6  1  0\\n  4 13  1  0\\n  5 17  1  0\\n  5 16  1  0\\n  5 15  1  0\\n  6 20  1  0\\n  6 19  1  0\\n  6 18  1  0\\n 21 23  1  0\\n 21 22  1  0\\nM  RAD  1  22   2\\nM  END\\n\",\"sdf\");\n",
       "\tviewer_151188860696.setStyle({\"stick\": {}});\n",
       "\tviewer_151188860696.setBackgroundColor(\"0xeeeeee\");\n",
       "\tviewer_151188860696.zoomTo();\n",
       "viewer_151188860696.render();\n",
       "});\n",
       "</script>"
      ],
      "text/plain": [
       "<IPython.core.display.HTML object>"
      ]
     },
     "execution_count": 23,
     "metadata": {},
     "output_type": "execute_result"
    }
   ],
   "source": [
    "def create_pseudo_geometry(tsRDMol):\n",
    "    \"\"\"\n",
    "    Creates a `pseduo` bond between the reaction center molecule.\n",
    "    This allows for different torsions to be applied about the reaction center as well.\n",
    "    \n",
    "    Input:\n",
    "    * tsRDMol: rdkit.mol object, a TS geometry of two seperate molecules\n",
    "    \n",
    "    Output:\n",
    "    * tsRDMol: rdkit.mol object, a TS geometry of a `single` molecule\n",
    "    \"\"\"\n",
    "\n",
    "    for atom in tsRDMol.GetAtoms():\n",
    "        idx = atom.GetIdx()\n",
    "        num = atom.GetAtomicNum()\n",
    "        rmg_atom = reactant.atoms[idx]\n",
    "\n",
    "        if rmg_atom.label:\n",
    "            if rmg_atom.label == \"*1\":\n",
    "                atom1_star = atom\n",
    "            if rmg_atom.label == \"*2\":\n",
    "                atom2_star = atom\n",
    "            if rmg_atom.label == \"*3\":\n",
    "                atom3_star = atom\n",
    "\n",
    "    bond_between_23 = False\n",
    "    try:\n",
    "        tsRDMol.AddBond(atom1_star.GetIdx(), atom2_star.GetIdx(), order=rdkit.Chem.rdchem.BondType.SINGLE)\n",
    "    except RuntimeError:\n",
    "        #print \"Bond already exists betwee 1* and 2*\"\n",
    "        bond_between_23 = True\n",
    "        tsRDMol.AddBond(atom2_star.GetIdx(), atom3_star.GetIdx(), order=rdkit.Chem.rdchem.BondType.SINGLE)\n",
    "\n",
    "    return tsRDMol, bond_between_23\n",
    "\n",
    "#tsRDMol = create_pseudo_geometry(tsRDMol)\n",
    "view_mol(tsRDMol)"
   ]
  },
  {
   "cell_type": "code",
   "execution_count": 24,
   "metadata": {
    "collapsed": false
   },
   "outputs": [
    {
     "data": {
      "text/html": [
       "<div id=\"3dmolviewer_151188860698\"  style=\"position: relative; width: 400px; height: 400px\">\n",
       "<script>\n",
       "if(typeof $3Dmolpromise === 'undefined') $3Dmolpromise = $.when($.getScript('https://3dmol.csb.pitt.edu/build/3Dmol.js'))\n",
       "var viewer_151188860698 = null;\n",
       "$3Dmolpromise.done(function() {\n",
       "viewer_151188860698 = $3Dmol.createViewer($(\"#3dmolviewer_151188860698\"),{backgroundColor:\"white\"});\n",
       "\tviewer_151188860698.addModel(\"\\n     RDKit          3D\\n\\n 23 21  0  0  0  0  0  0  0  0999 V2000\\n    1.0938    0.1194    0.1839 C   0  0  0  0  0  0  0  0  0  0  0  0\\n   -0.1107   -0.7276   -0.2605 C   0  0  0  0  0  0  0  0  0  0  0  0\\n    0.7865    0.9826    1.4173 C   0  0  0  0  0  0  0  0  0  0  0  0\\n    0.2127   -1.6220   -1.4678 C   0  0  0  0  0  0  0  0  0  0  0  0\\n   -0.1701    2.1348    1.1144 C   0  0  0  0  0  0  0  0  0  0  0  0\\n    1.1003   -2.8122   -1.1035 C   0  0  0  0  0  0  0  0  0  0  0  0\\n    1.7418    1.4130    1.7889 H   0  0  0  0  0  0  0  0  0  0  0  0\\n    0.3623    0.3536    2.2294 H   0  0  0  0  0  0  0  0  0  0  0  0\\n    1.9362   -0.5526    0.4504 H   0  0  0  0  0  0  0  0  0  0  0  0\\n    1.4319    0.7677   -0.6541 H   0  0  0  0  0  0  0  0  0  0  0  0\\n   -0.9381   -0.0511   -0.5604 H   0  0  0  0  0  0  0  0  0  0  0  0\\n   -0.4725   -1.3523    0.5854 H   0  0  0  0  0  0  0  0  0  0  0  0\\n    0.6994   -1.0244   -2.2690 H   0  0  0  0  0  0  0  0  0  0  0  0\\n   -0.7425   -2.0165   -1.8776 H   0  0  0  0  0  0  0  0  0  0  0  0\\n   -1.4376    1.6668    0.8960 H   0  0  0  0  0  0  0  0  0  0  0  0\\n    0.1753    2.7097    0.2290 H   0  0  0  0  0  0  0  0  0  0  0  0\\n   -0.2070    2.8209    1.9867 H   0  0  0  0  0  0  0  0  0  0  0  0\\n    2.1168   -2.4741   -0.8157 H   0  0  0  0  0  0  0  0  0  0  0  0\\n    1.1973   -3.4819   -1.9839 H   0  0  0  0  0  0  0  0  0  0  0  0\\n    0.6517   -3.3912   -0.2685 H   0  0  0  0  0  0  0  0  0  0  0  0\\n   -2.9770    2.5952   -0.0415 O   0  0  0  0  0  0  0  0  0  0  0  0\\n   -2.4913    1.4692    0.4362 O   0  0  0  0  0  1  0  0  0  0  0  0\\n   -3.9593    2.4727   -0.0150 H   0  0  0  0  0  0  0  0  0  0  0  0\\n  1  3  1  0\\n  1  9  1  0\\n  1 10  1  0\\n  1  2  1  0\\n  2 12  1  0\\n  2 11  1  0\\n  2  4  1  0\\n  3  8  1  0\\n  3  7  1  0\\n  3  5  1  0\\n  4 14  1  0\\n  4  6  1  0\\n  4 13  1  0\\n  5 17  1  0\\n  5 16  1  0\\n  5 15  1  0\\n  6 20  1  0\\n  6 19  1  0\\n  6 18  1  0\\n 21 23  1  0\\n 21 22  1  0\\nM  RAD  1  22   2\\nM  END\\n\",\"sdf\");\n",
       "\tviewer_151188860698.setStyle({\"stick\": {}});\n",
       "\tviewer_151188860698.setBackgroundColor(\"0xeeeeee\");\n",
       "\tviewer_151188860698.zoomTo();\n",
       "viewer_151188860698.render();\n",
       "});\n",
       "</script>"
      ],
      "text/plain": [
       "<IPython.core.display.HTML object>"
      ]
     },
     "execution_count": 24,
     "metadata": {},
     "output_type": "execute_result"
    }
   ],
   "source": [
    "view_mol(tsRDMol)"
   ]
  },
  {
   "cell_type": "code",
   "execution_count": 28,
   "metadata": {
    "collapsed": false
   },
   "outputs": [
    {
     "name": "stdout",
     "output_type": "stream",
     "text": [
      "((1, 0, 2, 4), 30)\n"
     ]
    },
    {
     "ename": "RuntimeError",
     "evalue": "Pre-condition Violation\n\tRingInfo not initialized\n\tViolation occurred on line 66 in file Code/GraphMol/RingInfo.cpp\n\tFailed Expression: df_init\n\tRDKIT: 2016.03.4\n\tBOOST: 1_56\n",
     "output_type": "error",
     "traceback": [
      "\u001b[0;31m---------------------------------------------------------------------------\u001b[0m",
      "\u001b[0;31mRuntimeError\u001b[0m                              Traceback (most recent call last)",
      "\u001b[0;32m<ipython-input-28-0f44d9dfd913>\u001b[0m in \u001b[0;36m<module>\u001b[0;34m()\u001b[0m\n\u001b[1;32m     66\u001b[0m     \u001b[0;32mreturn\u001b[0m \u001b[0mdf\u001b[0m\u001b[0;34m\u001b[0m\u001b[0m\n\u001b[1;32m     67\u001b[0m \u001b[0;34m\u001b[0m\u001b[0m\n\u001b[0;32m---> 68\u001b[0;31m \u001b[0mdf\u001b[0m \u001b[0;34m=\u001b[0m \u001b[0mget_ts_torsion_energies\u001b[0m\u001b[0;34m(\u001b[0m\u001b[0mtsRDMol\u001b[0m\u001b[0;34m,\u001b[0m \u001b[0;36m60\u001b[0m\u001b[0;34m)\u001b[0m\u001b[0;34m\u001b[0m\u001b[0m\n\u001b[0m",
      "\u001b[0;32m<ipython-input-28-0f44d9dfd913>\u001b[0m in \u001b[0;36mget_ts_torsion_energies\u001b[0;34m(tsRDMol, delta)\u001b[0m\n\u001b[1;32m     40\u001b[0m                            \u001b[0mk\u001b[0m\u001b[0;34m,\u001b[0m\u001b[0;34m\u001b[0m\u001b[0m\n\u001b[1;32m     41\u001b[0m                            \u001b[0ml\u001b[0m\u001b[0;34m,\u001b[0m\u001b[0;34m\u001b[0m\u001b[0m\n\u001b[0;32m---> 42\u001b[0;31m                            angle)\n\u001b[0m\u001b[1;32m     43\u001b[0m \u001b[0;34m\u001b[0m\u001b[0m\n\u001b[1;32m     44\u001b[0m         \u001b[0;32mif\u001b[0m \u001b[0mbond_between_23\u001b[0m \u001b[0;34m==\u001b[0m \u001b[0mFalse\u001b[0m\u001b[0;34m:\u001b[0m\u001b[0;34m\u001b[0m\u001b[0m\n",
      "\u001b[0;31mRuntimeError\u001b[0m: Pre-condition Violation\n\tRingInfo not initialized\n\tViolation occurred on line 66 in file Code/GraphMol/RingInfo.cpp\n\tFailed Expression: df_init\n\tRDKIT: 2016.03.4\n\tBOOST: 1_56\n"
     ]
    }
   ],
   "source": [
    "def get_ts_torsion_energies(tsRDMol, delta):\n",
    "    tsRDMol_copy = tsRDMol.__copy__()\n",
    "    tsRDMol_copy1 = tsRDMol.__copy__()\n",
    "    \n",
    "    tsRDMol_copy, _ = create_pseudo_geometry(tsRDMol_copy)\n",
    "\n",
    "    torsion_list = get_torsion_list(tsRDMol_copy)\n",
    "\n",
    "    torsion_combos = list( itertools.combinations_with_replacement(torsion_angles, len(torsion_list)) )\n",
    "    if len(torsion_list) != 1:\n",
    "        torsion_combos = list(\n",
    "            set(\n",
    "                torsion_combos +\n",
    "                list(itertools.combinations_with_replacement(\n",
    "                    torsion_angles[::-1], len(torsion_list)\n",
    "                ))))\n",
    "    df = []\n",
    "\n",
    "    \"\"\"tup = tsRDMol.GetConformers()\n",
    "    conformer = tup[0]\"\"\"\n",
    "\n",
    "    for combo in torsion_combos:\n",
    "        tsRDMol_copy1, bond_between_23 = create_pseudo_geometry(tsRDMol_copy1)\n",
    "        tup = tsRDMol_copy1.GetConformers()\n",
    "        conformer = tup[0]\n",
    "        \n",
    "        geometry = zip(torsion_list, combo)\n",
    "        \n",
    "        for torsion in geometry:\n",
    "            print torsion\n",
    "            i = torsion[0][0]\n",
    "            j = torsion[0][1]\n",
    "            k = torsion[0][2]\n",
    "            l = torsion[0][3]\n",
    "            angle = torsion[1]\n",
    "\n",
    "            SetDihedralDeg(conformer,\n",
    "                           i,\n",
    "                           j,\n",
    "                           k,\n",
    "                           l,\n",
    "                           angle)\n",
    "\n",
    "        if bond_between_23 == False:\n",
    "            tsRDMol_copy1.RemoveBond(atom1_star.GetIdx(), atom2_star.GetIdx())\n",
    "        else:\n",
    "            tsRDMol_copy1.RemoveBond(atom2_star.GetIdx(), atom3_star.GetIdx())\n",
    "\n",
    "        e0, m0 = calc_energy_ts(tsRDMol_copy1)\n",
    "        e1, m1 = [0,0] #constrained_energy_calc_ts(tsRDMol, torsion_list, combo)\n",
    "        e2, m2 = [0,0] #optimize_and_calc_ts(tsRDMol, torsion_list, combo)\n",
    "            \n",
    "        df.append( [e0, e1, e2,\n",
    "                   m0, m1, m2] \n",
    "                  + list(combo))\n",
    "\n",
    "\n",
    "    df = pd.DataFrame(df)\n",
    "    columns = [\"No Optimization Energy\", \"Partial Optimization Energy\", \"Full Optimization Energy\",\n",
    "              \"No Optimization Mol\", \"Partial Optimization Mol\", \"Full Optimization Mol\"]\n",
    "    for i in range(len(torsion_list)):\n",
    "        columns.append(\"Torsion \" + str(i))\n",
    "\n",
    "    df.columns = columns\n",
    "\n",
    "    return df\n",
    "\n",
    "df = get_ts_torsion_energies(tsRDMol, 60)\n"
   ]
  },
  {
   "cell_type": "code",
   "execution_count": 26,
   "metadata": {
    "collapsed": false
   },
   "outputs": [
    {
     "ename": "NameError",
     "evalue": "name 'df' is not defined",
     "output_type": "error",
     "traceback": [
      "\u001b[0;31m---------------------------------------------------------------------------\u001b[0m",
      "\u001b[0;31mNameError\u001b[0m                                 Traceback (most recent call last)",
      "\u001b[0;32m<ipython-input-26-346e00ad7dae>\u001b[0m in \u001b[0;36m<module>\u001b[0;34m()\u001b[0m\n\u001b[0;32m----> 1\u001b[0;31m \u001b[0mdf\u001b[0m\u001b[0;34m.\u001b[0m\u001b[0msort\u001b[0m\u001b[0;34m(\u001b[0m\u001b[0;34m\"No Optimization Energy\"\u001b[0m\u001b[0;34m)\u001b[0m\u001b[0;34m\u001b[0m\u001b[0m\n\u001b[0m",
      "\u001b[0;31mNameError\u001b[0m: name 'df' is not defined"
     ]
    }
   ],
   "source": [
    "df.sort(\"No Optimization Energy\")"
   ]
  },
  {
   "cell_type": "code",
   "execution_count": 27,
   "metadata": {
    "collapsed": false
   },
   "outputs": [
    {
     "ename": "NameError",
     "evalue": "name 'df' is not defined",
     "output_type": "error",
     "traceback": [
      "\u001b[0;31m---------------------------------------------------------------------------\u001b[0m",
      "\u001b[0;31mNameError\u001b[0m                                 Traceback (most recent call last)",
      "\u001b[0;32m<ipython-input-27-3af7d86a7cb6>\u001b[0m in \u001b[0;36m<module>\u001b[0;34m()\u001b[0m\n\u001b[0;32m----> 1\u001b[0;31m \u001b[0mview_mol\u001b[0m\u001b[0;34m(\u001b[0m\u001b[0mdf\u001b[0m\u001b[0;34m.\u001b[0m\u001b[0msort\u001b[0m\u001b[0;34m(\u001b[0m\u001b[0;34m\"No Optimization Energy\"\u001b[0m\u001b[0;34m)\u001b[0m\u001b[0;34m[\u001b[0m\u001b[0;34m\"No Optimization Mol\"\u001b[0m\u001b[0;34m]\u001b[0m\u001b[0;34m[\u001b[0m\u001b[0;36m800\u001b[0m\u001b[0;34m]\u001b[0m\u001b[0;34m)\u001b[0m\u001b[0;34m\u001b[0m\u001b[0m\n\u001b[0m",
      "\u001b[0;31mNameError\u001b[0m: name 'df' is not defined"
     ]
    }
   ],
   "source": [
    "view_mol(df.sort(\"No Optimization Energy\")[\"No Optimization Mol\"][800])"
   ]
  },
  {
   "cell_type": "code",
   "execution_count": null,
   "metadata": {
    "collapsed": true
   },
   "outputs": [],
   "source": []
  },
  {
   "cell_type": "code",
   "execution_count": null,
   "metadata": {
    "collapsed": false
   },
   "outputs": [],
   "source": [
    "def get_lowest_ts_energy_conformers(tsRDMol, delta):\n",
    "    \"\"\"\n",
    "    A function that can return \n",
    "    \n",
    "    \"\"\"\n",
    "    \n",
    "    conformer_dict = {}\n",
    "    \n",
    "    df = get_ts_torsion_energies(tsRDMol, delta)\n",
    "    \n",
    "    conformer_dict[\"No Optimization\"] = (\n",
    "        df.sort(\"No Optimization Energy\")[\"No Optimization Energy\"].iloc[0],\n",
    "        df.sort(\"No Optimization Energy\")[\"No Optimization Mol\"].iloc[0]\n",
    "    )\n",
    "    \n",
    "    conformer_dict[\"Partial Optimization\"] = (\n",
    "        df.sort(\"Partial Optimization Energy\")[\"Partial Optimization Energy\"].iloc[0],\n",
    "        df.sort(\"Partial Optimization Energy\")[\"Partial Optimization Mol\"].iloc[0]\n",
    "    )\n",
    "    \n",
    "    conformer_dict[\"Full Optimization\"] = (\n",
    "        df.sort(\"Full Optimization Energy\")[\"Full Optimization Energy\"].iloc[0],\n",
    "        df.sort(\"Full Optimization Energy\")[\"Full Optimization Mol\"].iloc[0]\n",
    "    )\n",
    "    \n",
    "    return conformer_dict\n",
    "\n",
    "d = get_lowest_ts_energy_conformers(tsRDMol, 60)\n",
    "d"
   ]
  },
  {
   "cell_type": "code",
   "execution_count": null,
   "metadata": {
    "collapsed": false
   },
   "outputs": [],
   "source": [
    "view_mol(d[\"No Optimization\"][1])"
   ]
  },
  {
   "cell_type": "markdown",
   "metadata": {},
   "source": [
    "# Performing the above for a single reaction \n",
    "\n",
    "# The reaction of interest is $CH_4 + OH = CH_3 + H_2O$"
   ]
  },
  {
   "cell_type": "markdown",
   "metadata": {},
   "source": [
    "#### The goal of the following function is to try and combine three different parts of the above script. This should create a test reaction, label the atoms, and set the reaction family... I still think parts of this are redundant... but it works... "
   ]
  },
  {
   "cell_type": "code",
   "execution_count": null,
   "metadata": {
    "collapsed": false
   },
   "outputs": [],
   "source": [
    "\n",
    "\n",
    "rSpecies1 = Molecule(SMILES=\"CCC(C)(C)O\")\n",
    "rSpecies2 = Molecule(SMILES=\"[O]O\")\n",
    "pSpecies2 = Molecule(SMILES=\"[CH2]CC(C)(C)O\")\n",
    "pSpecies1 = Molecule(SMILES=\"OO\")\n",
    "\n",
    "\n",
    "single_rotor_rxn = Reaction(reactants=[rSpecies1, rSpecies2], products=[pSpecies1, pSpecies2], reversible=True)\n",
    "single_rotor_rxn"
   ]
  },
  {
   "cell_type": "code",
   "execution_count": null,
   "metadata": {
    "collapsed": false
   },
   "outputs": [],
   "source": [
    "\n",
    "reactant, product = single_rotor_rxn.setupMolecules()\n",
    "mol = reactant.toRDKitMol(removeHs=False)\n",
    "AllChem.EmbedMolecule(mol)\n",
    "view_mol(mol)"
   ]
  },
  {
   "cell_type": "markdown",
   "metadata": {},
   "source": [
    "### Currently running into issues with the following chunk of code... Also, the issue that I had above isn't there any more... I'm confused... I look into this after lunch"
   ]
  },
  {
   "cell_type": "code",
   "execution_count": null,
   "metadata": {
    "collapsed": false
   },
   "outputs": [],
   "source": [
    "labels, atomMatch = single_rotor_rxn.getLabels(reactant)\n",
    "\n",
    "tsRDMol_1, bm, single_rotor_rxn.reactantGeom = single_rotor_rxn.generateBoundsMatrix(reactant)\n",
    "\n",
    "bm = single_rotor_rxn.editMatrix(reactant, bm, labels)\n",
    "\n",
    "tsRDMol_1 = single_rotor_rxn.reactantGeom.rd_embed(tsRDMol_1, 15, bm=bm, match=atomMatch)[0]\n",
    "\n",
    "tsRDMol_1 = rdkit.Chem.rdchem.RWMol(tsRDMol_1)\n",
    "\n",
    "view_mol(tsRDMol_1)\n",
    "\n"
   ]
  },
  {
   "cell_type": "code",
   "execution_count": null,
   "metadata": {
    "collapsed": true
   },
   "outputs": [],
   "source": []
  }
 ],
 "metadata": {
  "kernelspec": {
   "display_name": "Python 2",
   "language": "python",
   "name": "python2"
  },
  "language_info": {
   "codemirror_mode": {
    "name": "ipython",
    "version": 2
   },
   "file_extension": ".py",
   "mimetype": "text/x-python",
   "name": "python",
   "nbconvert_exporter": "python",
   "pygments_lexer": "ipython2",
   "version": "2.7.12"
  }
 },
 "nbformat": 4,
 "nbformat_minor": 2
}
