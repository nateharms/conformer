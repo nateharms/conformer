{
 "cells": [
  {
   "cell_type": "code",
   "execution_count": 23,
   "metadata": {},
   "outputs": [],
   "source": [
    "import ase\n",
    "import rmgpy\n",
    "from multi_molecule import Multi_Molecule"
   ]
  },
  {
   "cell_type": "code",
   "execution_count": 24,
   "metadata": {},
   "outputs": [
    {
     "data": {
      "text/html": [
       "<div id=\"3dmolviewer_151846659184\"  style=\"position: relative; width: 400px; height: 400px\">\n",
       "<script>\n",
       "if(typeof $3Dmolpromise === 'undefined') $3Dmolpromise = $.when($.getScript('https://3dmol.csb.pitt.edu/build/3Dmol.js'))\n",
       "var viewer_151846659184 = null;\n",
       "$3Dmolpromise.done(function() {\n",
       "viewer_151846659184 = $3Dmol.createViewer($(\"#3dmolviewer_151846659184\"),{backgroundColor:\"white\"});\n",
       "\tviewer_151846659184.addModel(\"\\n     RDKit          3D\\n\\n 14 13  0  0  0  0  0  0  0  0999 V2000\\n    0.6172   -0.3059    0.6412 C   0  0  0  0  0  0  0  0  0  0  0  0\\n   -0.6374   -0.4273   -0.1732 C   0  0  0  0  0  0  0  0  0  0  0  0\\n    1.7273    0.4287   -0.0770 C   0  0  0  0  0  0  0  0  0  0  0  0\\n   -1.7754    0.1918    0.6308 C   0  0  0  0  0  0  0  0  0  0  0  0\\n    0.4522    0.1760    1.6373 H   0  0  0  0  0  0  0  0  0  0  0  0\\n    0.9997   -1.3312    0.8759 H   0  0  0  0  0  0  0  0  0  0  0  0\\n   -0.5594    0.0069   -1.1835 H   0  0  0  0  0  0  0  0  0  0  0  0\\n   -0.9339   -1.5018   -0.2853 H   0  0  0  0  0  0  0  0  0  0  0  0\\n    2.4473    0.8241    0.6846 H   0  0  0  0  0  0  0  0  0  0  0  0\\n    2.3086   -0.3282   -0.6549 H   0  0  0  0  0  0  0  0  0  0  0  0\\n    1.3680    1.2655   -0.6934 H   0  0  0  0  0  0  0  0  0  0  0  0\\n   -1.6984   -0.1984    1.6642 H   0  0  0  0  0  0  0  0  0  0  0  0\\n   -1.5749    1.2695    0.6647 H   0  0  0  0  0  0  0  0  0  0  0  0\\n   -2.7409   -0.0696    0.1497 H   0  0  0  0  0  0  0  0  0  0  0  0\\n  1  3  1  0\\n  1  2  1  0\\n  1  5  1  0\\n  1  6  1  0\\n  2  7  1  0\\n  2  4  1  0\\n  2  8  1  0\\n  3  9  1  0\\n  3 10  1  0\\n  3 11  1  0\\n  4 14  1  0\\n  4 12  1  0\\n  4 13  1  0\\nM  END\\n\",\"sdf\");\n",
       "\tviewer_151846659184.setStyle({\"stick\": {}});\n",
       "\tviewer_151846659184.setBackgroundColor(\"0xeeeeee\");\n",
       "\tviewer_151846659184.zoomTo();\n",
       "viewer_151846659184.render();\n",
       "});\n",
       "</script>"
      ],
      "text/plain": [
       "<IPython.core.display.HTML object>"
      ]
     },
     "execution_count": 24,
     "metadata": {},
     "output_type": "execute_result"
    }
   ],
   "source": [
    "m = Multi_Molecule(\"CCCC\")\n",
    "m.view_mol()"
   ]
  },
  {
   "cell_type": "code",
   "execution_count": 6,
   "metadata": {
    "collapsed": true
   },
   "outputs": [],
   "source": [
    "from ase.calculators.gaussian import Gaussian"
   ]
  },
  {
   "cell_type": "code",
   "execution_count": 16,
   "metadata": {},
   "outputs": [],
   "source": [
    "g = Gaussian(label=\"extra_test\", scratch=\"/gss_gpfs_scratch/harms.n/\", method=\"m062x\", basis=\"6-311+g(2df,2p)\", extra=\"opt=(ts)\")"
   ]
  },
  {
   "cell_type": "code",
   "execution_count": 17,
   "metadata": {},
   "outputs": [],
   "source": [
    "g.write_input(m.ase_molecule)"
   ]
  },
  {
   "cell_type": "code",
   "execution_count": 22,
   "metadata": {},
   "outputs": [
    {
     "ename": "IOError",
     "evalue": "[Errno 2] No such file or directory: 'extra_test.log'",
     "output_type": "error",
     "traceback": [
      "\u001b[0;31m---------------------------------------------------------------------------\u001b[0m",
      "\u001b[0;31mIOError\u001b[0m                                   Traceback (most recent call last)",
      "\u001b[0;32m<ipython-input-22-0a04f94d1a54>\u001b[0m in \u001b[0;36m<module>\u001b[0;34m()\u001b[0m\n\u001b[0;32m----> 1\u001b[0;31m \u001b[0mg\u001b[0m\u001b[0;34m.\u001b[0m\u001b[0mread_results\u001b[0m\u001b[0;34m(\u001b[0m\u001b[0;34m)\u001b[0m\u001b[0;34m\u001b[0m\u001b[0m\n\u001b[0m",
      "\u001b[0;32m/Users/nathan/Code/ase/ase/calculators/gaussian.pyc\u001b[0m in \u001b[0;36mread_results\u001b[0;34m(self)\u001b[0m\n\u001b[1;32m    279\u001b[0m \u001b[0;34m\u001b[0m\u001b[0m\n\u001b[1;32m    280\u001b[0m         \u001b[0mquantities\u001b[0m \u001b[0;34m=\u001b[0m \u001b[0;34m[\u001b[0m\u001b[0;34m'energy'\u001b[0m\u001b[0;34m,\u001b[0m \u001b[0;34m'forces'\u001b[0m\u001b[0;34m,\u001b[0m \u001b[0;34m'dipole'\u001b[0m\u001b[0;34m]\u001b[0m\u001b[0;34m\u001b[0m\u001b[0m\n\u001b[0;32m--> 281\u001b[0;31m         \u001b[0;32mwith\u001b[0m \u001b[0mopen\u001b[0m\u001b[0;34m(\u001b[0m\u001b[0mfilename\u001b[0m\u001b[0;34m,\u001b[0m \u001b[0;34m'r'\u001b[0m\u001b[0;34m)\u001b[0m \u001b[0;32mas\u001b[0m \u001b[0mfileobj\u001b[0m\u001b[0;34m:\u001b[0m\u001b[0;34m\u001b[0m\u001b[0m\n\u001b[0m\u001b[1;32m    282\u001b[0m             \u001b[0;32mfor\u001b[0m \u001b[0mquant\u001b[0m \u001b[0;32min\u001b[0m \u001b[0mquantities\u001b[0m\u001b[0;34m:\u001b[0m\u001b[0;34m\u001b[0m\u001b[0m\n\u001b[1;32m    283\u001b[0m                 self.results[quant] = read_gaussian_out(fileobj,\n",
      "\u001b[0;31mIOError\u001b[0m: [Errno 2] No such file or directory: 'extra_test.log'"
     ]
    }
   ],
   "source": [
    "g.read_results()"
   ]
  },
  {
   "cell_type": "code",
   "execution_count": 35,
   "metadata": {},
   "outputs": [
    {
     "data": {
      "text/plain": [
       "Atoms(symbols='C6NOH10OH3', pbc=False, calculator=SinglePointCalculator(...))"
      ]
     },
     "execution_count": 35,
     "metadata": {},
     "output_type": "execute_result"
    }
   ],
   "source": [
    "f = open(\"test.xyz\", \"r\")\n",
    "m = ase.io.read(f)\n",
    "m"
   ]
  },
  {
   "cell_type": "code",
   "execution_count": 36,
   "metadata": {},
   "outputs": [
    {
     "data": {
      "text/plain": [
       "[]"
      ]
     },
     "execution_count": 36,
     "metadata": {},
     "output_type": "execute_result"
    }
   ],
   "source": [
    "f.readlines()"
   ]
  },
  {
   "cell_type": "code",
   "execution_count": 37,
   "metadata": {},
   "outputs": [
    {
     "data": {
      "text/plain": [
       "array([[ 0.        ,  1.55110003,  1.5388557 ,  1.53400513,  2.61185028,\n",
       "         2.58066383,  2.48558372,  2.94740061,  1.08572817,  2.12852529,\n",
       "         2.15488569,  2.12646045,  2.16871567,  2.17507824,  2.17501162,\n",
       "         3.52663117,  2.86477122,  2.95611223,  3.56357752,  2.81041542,\n",
       "         3.34976078,  3.83598044],\n",
       "       [ 1.55110003,  0.        ,  2.60042238,  2.50821447,  3.20088671,\n",
       "         1.5232967 ,  1.44507085,  2.37747541,  2.13962572,  1.08653264,\n",
       "         2.86448923,  3.50062454,  2.72544915,  2.77310497,  3.46856712,\n",
       "         4.20165617,  3.5254266 ,  2.98651457,  2.41181997,  2.0245539 ,\n",
       "         2.01916142,  3.19945556],\n",
       "       [ 1.5388557 ,  2.60042238,  0.        ,  2.51266924,  1.53098499,\n",
       "         3.3393196 ,  2.96112934,  3.88278934,  2.14210732,  3.47964645,\n",
       "         1.08595314,  1.08686495,  2.82545007,  3.46392187,  2.69925   ,\n",
       "         2.1572969 ,  2.17966977,  2.19210466,  3.99117564,  2.77382099,\n",
       "         3.93869707,  4.60556395],\n",
       "       [ 1.53400513,  2.50821447,  2.51266924,  0.        ,  3.92693981,\n",
       "         3.85574032,  3.08951467,  4.16082618,  2.13857944,  2.54770877,\n",
       "         2.72797317,  2.65769357,  1.08413678,  1.08594781,  1.08534811,\n",
       "         4.66583979,  4.25034471,  4.35257805,  4.86034547,  3.65823851,\n",
       "         3.88286405,  5.1041638 ],\n",
       "       [ 2.61185028,  3.20088671,  1.53098499,  3.92693981,  0.        ,\n",
       "         3.24511831,  3.57173269,  3.75362945,  2.83147537,  4.2220301 ,\n",
       "         2.15298771,  2.13720287,  4.27710392,  4.75733441,  4.14697386,\n",
       "         1.08536667,  1.08664729,  1.0846036 ,  3.56761834,  3.05701081,\n",
       "         4.40447699,  4.20350406],\n",
       "       [ 2.58066383,  1.5232967 ,  3.3393196 ,  3.85574032,  3.24511831,\n",
       "         0.        ,  2.46576231,  1.32994203,  2.64892283,  2.07278227,\n",
       "         3.81175769,  4.26348367,  4.22281425,  4.02578163,  4.70216821,\n",
       "         4.28918049,  3.26987377,  2.7619416 ,  1.18908572,  2.6413423 ,\n",
       "         2.67940317,  1.86123148],\n",
       "       [ 2.48558372,  1.44507085,  2.96112934,  3.08951467,  3.57173269,\n",
       "         2.46576231,  0.        ,  3.6393037 ,  3.38009484,  2.05100252,\n",
       "         2.67600971,  3.94887314,  2.76750156,  3.54169503,  4.04191617,\n",
       "         4.36495889,  4.23853259,  3.14598579,  2.77953122,  1.00143183,\n",
       "         1.00156989,  4.31936806],\n",
       "       [ 2.94740061,  2.37747541,  3.88278934,  4.16082618,  3.75362945,\n",
       "         1.32994203,  3.6393037 ,  0.        ,  2.49613338,  2.56618721,\n",
       "         4.61004021,  4.58543977,  4.79791135,  4.1238096 ,  4.8742152 ,\n",
       "         4.81469635,  3.38810176,  3.53126214,  2.20570535,  3.89993034,\n",
       "         3.88238156,  0.9525387 ],\n",
       "       [ 1.08572817,  2.13962572,  2.14210732,  2.13857944,  2.83147537,\n",
       "         2.64892283,  3.38009484,  2.49613338,  0.        ,  2.51059797,\n",
       "         3.03629509,  2.44609244,  3.04352699,  2.44396071,  2.52285263,\n",
       "         3.78511092,  2.65512733,  3.28758271,  3.74163076,  3.68347712,\n",
       "         4.13609696,  3.35822158],\n",
       "       [ 2.12852529,  1.08653264,  3.47964645,  2.54770877,  4.2220301 ,\n",
       "         2.07278227,  2.05100252,  2.56618721,  2.51059797,  0.        ,\n",
       "         3.73678773,  4.2353279 ,  2.78896605,  2.37225974,  3.58789591,\n",
       "         5.235283  ,  4.4343931 ,  4.05753432,  3.01485501,  2.89001185,\n",
       "         2.28670007,  3.41348624],\n",
       "       [ 2.15488569,  2.86448923,  1.08595314,  2.72797317,  2.15298771,\n",
       "         3.81175769,  2.67600971,  4.61004021,  3.03629509,  3.73678773,\n",
       "         0.        ,  1.73346859,  2.60392929,  3.75918753,  2.98092318,\n",
       "         2.48925921,  3.06609406,  2.51705048,  4.29719501,  2.38197231,\n",
       "         3.65562851,  5.33383279],\n",
       "       [ 2.12646045,  3.50062454,  1.08686495,  2.65769357,  2.13720287,\n",
       "         4.26348367,  3.94887314,  4.58543977,  2.44609244,  4.2353279 ,\n",
       "         1.73346859,  0.        ,  3.10075104,  3.62368843,  2.38737086,\n",
       "         2.42789263,  2.52297523,  3.06046225,  4.99822253,  3.82382269,\n",
       "         4.93994406,  5.31855558],\n",
       "       [ 2.16871567,  2.72544915,  2.82545007,  1.08413678,  4.27710392,\n",
       "         4.22281425,  2.76750156,  4.79791135,  3.04352699,  2.78896605,\n",
       "         2.60392929,  3.10075104,  0.        ,  1.75787336,  1.75841783,\n",
       "         4.91984526,  4.82414036,  4.56643646,  5.06932112,  3.35910469,\n",
       "         3.51812233,  5.72202051],\n",
       "       [ 2.17507824,  2.77310497,  3.46392187,  1.08594781,  4.75733441,\n",
       "         4.02578163,  3.54169503,  4.1238096 ,  2.44396071,  2.37225974,\n",
       "         3.75918753,  3.62368843,  1.75787336,  0.        ,  1.74913354,\n",
       "         5.59063668,  4.93240474,  5.10692662,  5.11193738,  4.2884698 ,\n",
       "         4.13985142,  5.07159156],\n",
       "       [ 2.17501162,  3.46856712,  2.69925   ,  1.08534811,  4.14697386,\n",
       "         4.70216821,  4.04191617,  4.8742152 ,  2.52285263,  3.58789591,\n",
       "         2.98092318,  2.38737086,  1.75841783,  1.74913354,  0.        ,\n",
       "         4.71977943,  4.40414684,  4.79481333,  5.71505286,  4.47138408,\n",
       "         4.89831667,  5.79628217],\n",
       "       [ 3.52663117,  4.20165617,  2.1572969 ,  4.66583979,  1.08536667,\n",
       "         4.28918049,  4.36495889,  4.81469635,  3.78511092,  5.235283  ,\n",
       "         2.48925921,  2.42789263,  4.91984526,  5.59063668,  4.71977943,\n",
       "         0.        ,  1.75079742,  1.74585295,  4.47862537,  3.71703317,\n",
       "         5.20666217,  5.20394107],\n",
       "       [ 2.86477122,  3.5254266 ,  2.17966977,  4.25034471,  1.08664729,\n",
       "         3.26987377,  4.23853259,  3.38810176,  2.65512733,  4.4343931 ,\n",
       "         3.06609406,  2.52297523,  4.82414036,  4.93240474,  4.40414684,\n",
       "         1.75079742,  0.        ,  1.75356672,  3.69465059,  3.859524  ,\n",
       "         5.01416155,  3.7338066 ],\n",
       "       [ 2.95611223,  2.98651457,  2.19210466,  4.35257805,  1.0846036 ,\n",
       "         2.7619416 ,  3.14598579,  3.53126214,  3.28758271,  4.05753432,\n",
       "         2.51705048,  3.06046225,  4.56643646,  5.10692662,  4.79481333,\n",
       "         1.74585295,  1.75356672,  0.        ,  2.75992926,  2.47160687,\n",
       "         3.81838909,  3.85946039],\n",
       "       [ 3.56357752,  2.41181997,  3.99117564,  4.86034547,  3.56761834,\n",
       "         1.18908572,  2.77953122,  2.20570535,  3.74163076,  3.01485501,\n",
       "         4.29719501,  4.99822253,  5.06932112,  5.11193738,  5.71505286,\n",
       "         4.47862537,  3.69465059,  2.75992926,  0.        ,  2.65671558,\n",
       "         2.74190271,  2.26105478],\n",
       "       [ 2.81041542,  2.0245539 ,  2.77382099,  3.65823851,  3.05701081,\n",
       "         2.6413423 ,  1.00143183,  3.89993034,  3.68347712,  2.89001185,\n",
       "         2.38197231,  3.82382269,  3.35910469,  4.2884698 ,  4.47138408,\n",
       "         3.71703317,  3.859524  ,  2.47160687,  2.65671558,  0.        ,\n",
       "         1.59548558,  4.46251169],\n",
       "       [ 3.34976078,  2.01916142,  3.93869707,  3.88286405,  4.40447699,\n",
       "         2.67940317,  1.00156989,  3.88238156,  4.13609696,  2.28670007,\n",
       "         3.65562851,  4.93994406,  3.51812233,  4.13985142,  4.89831667,\n",
       "         5.20666217,  5.01416155,  3.81838909,  2.74190271,  1.59548558,\n",
       "         0.        ,  4.4474863 ],\n",
       "       [ 3.83598044,  3.19945556,  4.60556395,  5.1041638 ,  4.20350406,\n",
       "         1.86123148,  4.31936806,  0.9525387 ,  3.35822158,  3.41348624,\n",
       "         5.33383279,  5.31855558,  5.72202051,  5.07159156,  5.79628217,\n",
       "         5.20394107,  3.7338066 ,  3.85946039,  2.26105478,  4.46251169,\n",
       "         4.4474863 ,  0.        ]])"
      ]
     },
     "execution_count": 37,
     "metadata": {},
     "output_type": "execute_result"
    }
   ],
   "source": [
    "m.get_all_distances()"
   ]
  },
  {
   "cell_type": "code",
   "execution_count": 173,
   "metadata": {
    "collapsed": true
   },
   "outputs": [],
   "source": [
    "m = Multi_Molecule(\"CCC\")\n",
    "mm = Multi_Molecule(\"CCC\")"
   ]
  },
  {
   "cell_type": "code",
   "execution_count": 174,
   "metadata": {},
   "outputs": [
    {
     "data": {
      "text/plain": [
       "1.7816318841080476"
      ]
     },
     "execution_count": 174,
     "metadata": {},
     "output_type": "execute_result"
    }
   ],
   "source": [
    "import numpy as np\n",
    "#from sklearn.metrics import mean_squared_error\n",
    "\n",
    "np.sqrt((m.ase_molecule.get_all_distances() - mm.ase_molecule.get_all_distances())**2).max()\n"
   ]
  },
  {
   "cell_type": "code",
   "execution_count": 175,
   "metadata": {},
   "outputs": [
    {
     "ename": "RuntimeError",
     "evalue": "Pickling of \"rdkit.Chem.rdchem.Conformer\" instances is not enabled (http://www.boost.org/libs/python/doc/v2/pickle.html)",
     "output_type": "error",
     "traceback": [
      "\u001b[0;31m---------------------------------------------------------------------------\u001b[0m",
      "\u001b[0;31mRuntimeError\u001b[0m                              Traceback (most recent call last)",
      "\u001b[0;32m<ipython-input-175-5de8efd3bcd0>\u001b[0m in \u001b[0;36m<module>\u001b[0;34m()\u001b[0m\n\u001b[1;32m      1\u001b[0m \u001b[0mc1\u001b[0m \u001b[0;34m=\u001b[0m \u001b[0mm\u001b[0m\u001b[0;34m.\u001b[0m\u001b[0mrdkit_molecule\u001b[0m\u001b[0;34m.\u001b[0m\u001b[0mGetConformer\u001b[0m\u001b[0;34m(\u001b[0m\u001b[0;36m0\u001b[0m\u001b[0;34m)\u001b[0m\u001b[0;34m\u001b[0m\u001b[0m\n\u001b[1;32m      2\u001b[0m \u001b[0;32mfrom\u001b[0m \u001b[0mcopy\u001b[0m \u001b[0;32mimport\u001b[0m \u001b[0mdeepcopy\u001b[0m\u001b[0;34m\u001b[0m\u001b[0m\n\u001b[0;32m----> 3\u001b[0;31m \u001b[0mc2\u001b[0m \u001b[0;34m=\u001b[0m \u001b[0mdeepcopy\u001b[0m\u001b[0;34m(\u001b[0m\u001b[0mc1\u001b[0m\u001b[0;34m)\u001b[0m\u001b[0;34m\u001b[0m\u001b[0m\n\u001b[0m\u001b[1;32m      4\u001b[0m \u001b[0mc2\u001b[0m\u001b[0;34m.\u001b[0m\u001b[0mSetId\u001b[0m\u001b[0;34m(\u001b[0m\u001b[0;36m1\u001b[0m\u001b[0;34m)\u001b[0m\u001b[0;34m\u001b[0m\u001b[0m\n\u001b[1;32m      5\u001b[0m \u001b[0mm\u001b[0m\u001b[0;34m.\u001b[0m\u001b[0mrdkit_molecule\u001b[0m\u001b[0;34m.\u001b[0m\u001b[0mAddConformer\u001b[0m\u001b[0;34m(\u001b[0m\u001b[0mc2\u001b[0m\u001b[0;34m)\u001b[0m\u001b[0;34m\u001b[0m\u001b[0m\n",
      "\u001b[0;32m/Users/nathan/anaconda/envs/rmg_env/lib/python2.7/copy.pyc\u001b[0m in \u001b[0;36mdeepcopy\u001b[0;34m(x, memo, _nil)\u001b[0m\n\u001b[1;32m    180\u001b[0m                     \u001b[0mreductor\u001b[0m \u001b[0;34m=\u001b[0m \u001b[0mgetattr\u001b[0m\u001b[0;34m(\u001b[0m\u001b[0mx\u001b[0m\u001b[0;34m,\u001b[0m \u001b[0;34m\"__reduce_ex__\"\u001b[0m\u001b[0;34m,\u001b[0m \u001b[0mNone\u001b[0m\u001b[0;34m)\u001b[0m\u001b[0;34m\u001b[0m\u001b[0m\n\u001b[1;32m    181\u001b[0m                     \u001b[0;32mif\u001b[0m \u001b[0mreductor\u001b[0m\u001b[0;34m:\u001b[0m\u001b[0;34m\u001b[0m\u001b[0m\n\u001b[0;32m--> 182\u001b[0;31m                         \u001b[0mrv\u001b[0m \u001b[0;34m=\u001b[0m \u001b[0mreductor\u001b[0m\u001b[0;34m(\u001b[0m\u001b[0;36m2\u001b[0m\u001b[0;34m)\u001b[0m\u001b[0;34m\u001b[0m\u001b[0m\n\u001b[0m\u001b[1;32m    183\u001b[0m                     \u001b[0;32melse\u001b[0m\u001b[0;34m:\u001b[0m\u001b[0;34m\u001b[0m\u001b[0m\n\u001b[1;32m    184\u001b[0m                         \u001b[0mreductor\u001b[0m \u001b[0;34m=\u001b[0m \u001b[0mgetattr\u001b[0m\u001b[0;34m(\u001b[0m\u001b[0mx\u001b[0m\u001b[0;34m,\u001b[0m \u001b[0;34m\"__reduce__\"\u001b[0m\u001b[0;34m,\u001b[0m \u001b[0mNone\u001b[0m\u001b[0;34m)\u001b[0m\u001b[0;34m\u001b[0m\u001b[0m\n",
      "\u001b[0;31mRuntimeError\u001b[0m: Pickling of \"rdkit.Chem.rdchem.Conformer\" instances is not enabled (http://www.boost.org/libs/python/doc/v2/pickle.html)"
     ]
    }
   ],
   "source": [
    "c1 = m.rdkit_molecule.GetConformer(0)\n",
    "from copy import deepcopy\n",
    "c2 = deepcopy(c1)\n",
    "c2.SetId(1)\n",
    "m.rdkit_molecule.AddConformer(c2)\n",
    "m.rdkit_molecule.GetConformers()"
   ]
  },
  {
   "cell_type": "code",
   "execution_count": 171,
   "metadata": {},
   "outputs": [],
   "source": [
    "from rdkit import Chem\n",
    "from rdkit.Chem import AllChem\n",
    "#AllChem.AlignMolConformers(m.rdkit_molecule)"
   ]
  },
  {
   "cell_type": "code",
   "execution_count": 177,
   "metadata": {},
   "outputs": [
    {
     "data": {
      "text/plain": [
       "0.0"
      ]
     },
     "execution_count": 177,
     "metadata": {},
     "output_type": "execute_result"
    }
   ],
   "source": [
    "AllChem.GetConformerRMS(m.rdkit_molecule, 0, 0, prealigned=True)"
   ]
  },
  {
   "cell_type": "code",
   "execution_count": 122,
   "metadata": {},
   "outputs": [
    {
     "data": {
      "text/plain": [
       "<rdkit.Chem.rdchem.Conformer at 0x111fb9050>"
      ]
     },
     "execution_count": 122,
     "metadata": {},
     "output_type": "execute_result"
    }
   ],
   "source": [
    "m.rdkit_molecule.GetConformers()[1]"
   ]
  },
  {
   "cell_type": "code",
   "execution_count": null,
   "metadata": {},
   "outputs": [],
   "source": []
  },
  {
   "cell_type": "code",
   "execution_count": null,
   "metadata": {
    "collapsed": true
   },
   "outputs": [],
   "source": []
  }
 ],
 "metadata": {
  "kernelspec": {
   "display_name": "Python 2",
   "language": "python",
   "name": "python2"
  },
  "language_info": {
   "codemirror_mode": {
    "name": "ipython",
    "version": 2
   },
   "file_extension": ".py",
   "mimetype": "text/x-python",
   "name": "python",
   "nbconvert_exporter": "python",
   "pygments_lexer": "ipython2",
   "version": "2.7.13"
  }
 },
 "nbformat": 4,
 "nbformat_minor": 2
}
