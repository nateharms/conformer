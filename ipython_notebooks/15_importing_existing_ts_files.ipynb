{
 "cells": [
  {
   "cell_type": "code",
   "execution_count": 6,
   "metadata": {},
   "outputs": [],
   "source": [
    "from multi_molecule import *\n",
    "from multi_reaction import *\n",
    "import ase\n",
    "from ase import Atom, Atoms\n",
    "from ase.calculators.gaussian import *\n",
    "import numpy as np\n",
    "from numpy import array, dtype\n",
    "from rmgpy.qm.qmdata import *\n",
    "import networkx as nx"
   ]
  },
  {
   "cell_type": "code",
   "execution_count": 2,
   "metadata": {},
   "outputs": [],
   "source": [
    "f = open(\"../reference_files/[CH]=C(C)CCC=C(C)C=C+[H][H]_C=CC(C)=CCCC(=C)C+[H].ts\", \"r\")\n",
    "ts_lines = f.readlines()\n",
    "f.close()\n",
    "#ts_lines"
   ]
  },
  {
   "cell_type": "code",
   "execution_count": 3,
   "metadata": {
    "collapsed": true
   },
   "outputs": [],
   "source": [
    "rxn_label = ts_lines[0].split(\"\\n\")[0].split(\"\"\"\\\"\"\"\")[1]\n",
    "qm_data = ts_lines[-1].split(\" = \")[-1].split(\"\\n\")[0]"
   ]
  },
  {
   "cell_type": "code",
   "execution_count": 4,
   "metadata": {},
   "outputs": [
    {
     "data": {
      "text/plain": [
       "QMData(groundStateDegeneracy=2, numberOfAtoms=27, stericEnergy=None, molecularMass=(137.133,'amu'), energy=(-10641,'eV/molecule'), atomicNumbers=array([1, 1, 6, 6, 6, 6, 6, 6, 6, 6, 6, 6, 1, 1, 1, 1, 1, 1, 1, 1, 1, 1, 1, 1, 1, 1, 1], dtype=int32), rotationalConstants=([0.0861229,0.0186666,0.0177299],'cm^-1'), atomCoords=([[0.036757,0.0994,2.28903],[-0.672491,-0.1839,1.89657],[-1.94741,0.836597,-0.661486],[-0.528553,1.31777,-0.380271],[-3.77379,-0.871983,-0.258424],[2.31384,1.18079,0.79787],[1.73807,0.179518,-0.161023],[-2.47073,-0.27116,0.219776],[0.498832,0.257211,-0.656465],[2.59264,-0.941918,-0.562896],[3.83989,-1.1519,-0.149586],[-1.90379,-0.710139,1.32388],[-2.64592,1.67565,-0.587345],[-2.01239,0.495132,-1.70039],[-0.331843,2.18615,-1.01703],[-0.457259,1.67266,0.648368],[-4.15511,-1.61821,0.434547],[-4.52653,-0.089824,-0.378306],[-3.63494,-1.34007,-1.23508],[1.61265,1.9779,1.02783],[2.59926,0.694192,1.73316],[3.21648,1.63157,0.380446],[0.186864,-0.523771,-1.34622],[2.14287,-1.64754,-1.25451],[4.40322,-2.009,-0.490342],[4.33688,-0.482043,0.539635],[-2.2526,-1.48702,1.99141]],'angstrom'), frequencies=([-1264.68,49.114,65.3039,78.0597,133.651,179.453,212.981,225.142,234.91,247.041,290.946,307.047,333.061,391.063,427.668,436.398,455.468,477.432,535.529,591.037,690.728,716.463,768.798,815.877,870.611,904.356,916.446,952.885,953.523,979.828,994.479,1009.97,1034.68,1043.02,1061.51,1073.37,1092.86,1117.19,1140.49,1204.58,1217.55,1246.88,1276.55,1333.04,1350.16,1391.59,1403.47,1411.92,1429.88,1451.07,1477.38,1479.96,1491.25,1493.32,1494,1499.66,1680.86,1693.9,1739.92,2097.99,3026.29,3035.58,3043.61,3053.2,3059.47,3094.32,3097.19,3111.59,3125.89,3150.21,3152.33,3153.92,3163.16,3190.4,3237.26],'cm^-1'), source=None)"
      ]
     },
     "execution_count": 4,
     "metadata": {},
     "output_type": "execute_result"
    }
   ],
   "source": [
    "try:\n",
    "    qm_data = eval(qm_data)\n",
    "except NameError:\n",
    "    L, R = qm_data.split(\"int32\")\n",
    "    \n",
    "    qm_data = L + \"\"\" \"int32\" \"\"\" + R\n",
    "    qm_data = eval(qm_data)\n",
    "    \n",
    "qm_data"
   ]
  },
  {
   "cell_type": "code",
   "execution_count": 5,
   "metadata": {},
   "outputs": [
    {
     "name": "stdout",
     "output_type": "stream",
     "text": [
      "[[ 0.036757  0.0994    2.28903 ]\n",
      " [-0.672491 -0.1839    1.89657 ]\n",
      " [-1.94741   0.836597 -0.661486]\n",
      " [-0.528553  1.31777  -0.380271]\n",
      " [-3.77379  -0.871983 -0.258424]\n",
      " [ 2.31384   1.18079   0.79787 ]\n",
      " [ 1.73807   0.179518 -0.161023]\n",
      " [-2.47073  -0.27116   0.219776]\n",
      " [ 0.498832  0.257211 -0.656465]\n",
      " [ 2.59264  -0.941918 -0.562896]\n",
      " [ 3.83989  -1.1519   -0.149586]\n",
      " [-1.90379  -0.710139  1.32388 ]\n",
      " [-2.64592   1.67565  -0.587345]\n",
      " [-2.01239   0.495132 -1.70039 ]\n",
      " [-0.331843  2.18615  -1.01703 ]\n",
      " [-0.457259  1.67266   0.648368]\n",
      " [-4.15511  -1.61821   0.434547]\n",
      " [-4.52653  -0.089824 -0.378306]\n",
      " [-3.63494  -1.34007  -1.23508 ]\n",
      " [ 1.61265   1.9779    1.02783 ]\n",
      " [ 2.59926   0.694192  1.73316 ]\n",
      " [ 3.21648   1.63157   0.380446]\n",
      " [ 0.186864 -0.523771 -1.34622 ]\n",
      " [ 2.14287  -1.64754  -1.25451 ]\n",
      " [ 4.40322  -2.009    -0.490342]\n",
      " [ 4.33688  -0.482043  0.539635]\n",
      " [-2.2526   -1.48702   1.99141 ]]\n"
     ]
    }
   ],
   "source": [
    "atoms = qm_data.atomicNumbers\n",
    "positions = qm_data.atomCoords.value\n",
    "#print atoms, positions\n",
    "print positions"
   ]
  },
  {
   "cell_type": "code",
   "execution_count": 8,
   "metadata": {},
   "outputs": [],
   "source": [
    "list_of_atoms = []\n",
    "for i, pos in enumerate(positions):\n",
    "    a = atoms[i]\n",
    "    list_of_atoms.append(Atom(symbol=a, position=tuple(pos)))\n",
    "    \n",
    "mol = Atoms(list_of_atoms)"
   ]
  },
  {
   "cell_type": "code",
   "execution_count": 9,
   "metadata": {},
   "outputs": [],
   "source": [
    "distance_matrix  = mol.get_all_distances()"
   ]
  },
  {
   "cell_type": "code",
   "execution_count": 10,
   "metadata": {
    "collapsed": true
   },
   "outputs": [],
   "source": [
    "graph = nx.from_numpy_matrix(distance_matrix,parallel_edges=True)"
   ]
  },
  {
   "cell_type": "code",
   "execution_count": 11,
   "metadata": {
    "collapsed": true
   },
   "outputs": [],
   "source": [
    "nx.write_gexf(graph,'test.gexf')"
   ]
  },
  {
   "cell_type": "code",
   "execution_count": 12,
   "metadata": {},
   "outputs": [
    {
     "name": "stdout",
     "output_type": "stream",
     "text": [
      "<?xml version='1.0' encoding='utf-8'?>\n",
      "<gexf version=\"1.2\" xmlns=\"http://www.gexf.net/1.2draft\" xmlns:xsi=\"http://www.w3.org/2001/XMLSchema-instance\" xsi:schemaLocation=\"http://www.w3.org/2001/XMLSchema-instance\">\n",
      "  <graph defaultedgetype=\"undirected\" mode=\"static\" name=\"\">\n",
      "    <meta>\n",
      "      <creator>NetworkX 2.1</creator>\n",
      "      <lastmodified>25/01/2018</lastmodified>\n",
      "    </meta>\n",
      "    <nodes>\n",
      "      <node id=\"0\" label=\"0\" />\n",
      "      <node id=\"1\" label=\"1\" />\n",
      "      <node id=\"2\" label=\"2\" />\n",
      "      <node id=\"3\" label=\"3\" />\n",
      "      <node id=\"4\" label=\"4\" />\n",
      "      <node id=\"5\" label=\"5\" />\n",
      "      <node id=\"6\" label=\"6\" />\n",
      "      <node id=\"7\" label=\"7\" />\n",
      "      <node id=\"8\" label=\"8\" />\n",
      "      <node id=\"9\" label=\"9\" />\n",
      "      <node id=\"10\" label=\"10\" />\n",
      "      <node id=\"11\" label=\"11\" />\n",
      "      <node id=\"12\" label=\"12\" />\n",
      "      <node id=\"13\" label=\"13\" />\n",
      "      <node id=\"14\" label=\"14\" />\n",
      "      <node id=\"15\" label=\"15\" />\n",
      "      <node id=\"16\" label=\"16\" />\n",
      "      <node id=\"17\" label=\"17\" />\n",
      "      <node id=\"18\" label=\"18\" />\n",
      "      <node id=\"19\" label=\"19\" />\n",
      "      <node id=\"20\" label=\"20\" />\n",
      "      <node id=\"21\" label=\"21\" />\n",
      "      <node id=\"22\" label=\"22\" />\n",
      "      <node id=\"23\" label=\"23\" />\n",
      "      <node id=\"24\" label=\"24\" />\n",
      "      <node id=\"25\" label=\"25\" />\n",
      "      <node id=\"26\" label=\"26\" />\n",
      "    </nodes>\n",
      "    <edges>\n",
      "      <edge id=\"0\" source=\"0\" target=\"1\" weight=\"0.858671338234\" />\n",
      "      <edge id=\"1\" source=\"0\" target=\"2\" weight=\"3.63124259269\" />\n",
      "      <edge id=\"2\" source=\"0\" target=\"3\" weight=\"2.98817146121\" />\n",
      "      <edge id=\"3\" source=\"0\" target=\"4\" weight=\"4.68544290906\" />\n",
      "      <edge id=\"4\" source=\"0\" target=\"5\" weight=\"2.92883414802\" />\n",
      "      <edge id=\"5\" source=\"0\" target=\"6\" weight=\"2.98389753857\" />\n",
      "      <edge id=\"6\" source=\"0\" target=\"7\" weight=\"3.27209686368\" />\n",
      "      <edge id=\"7\" source=\"0\" target=\"8\" weight=\"2.9856922836\" />\n",
      "      <edge id=\"8\" source=\"0\" target=\"9\" weight=\"3.96867269957\" />\n",
      "      <edge id=\"9\" source=\"0\" target=\"10\" weight=\"4.6879014816\" />\n",
      "      <edge id=\"10\" source=\"0\" target=\"11\" weight=\"2.31356663492\" />\n",
      "      <edge id=\"11\" source=\"0\" target=\"12\" weight=\"4.23731673226\" />\n",
      "      <edge id=\"12\" source=\"0\" target=\"13\" weight=\"4.5023415219\" />\n",
      "      <edge id=\"13\" source=\"0\" target=\"14\" weight=\"3.92688480174\" />\n",
      "      <edge id=\"14\" source=\"0\" target=\"15\" weight=\"2.32614931466\" />\n",
      "      <edge id=\"15\" source=\"0\" target=\"16\" weight=\"4.89500155823\" />\n",
      "      <edge id=\"16\" source=\"0\" target=\"17\" weight=\"5.28905240128\" />\n",
      "      <edge id=\"17\" source=\"0\" target=\"18\" weight=\"5.28893032974\" />\n",
      "      <edge id=\"18\" source=\"0\" target=\"19\" weight=\"2.75732233108\" />\n",
      "      <edge id=\"19\" source=\"0\" target=\"20\" weight=\"2.68871541915\" />\n",
      "      <edge id=\"20\" source=\"0\" target=\"21\" weight=\"4.01258970625\" />\n",
      "      <edge id=\"21\" source=\"0\" target=\"22\" weight=\"3.69132994586\" />\n",
      "      <edge id=\"22\" source=\"0\" target=\"23\" weight=\"4.47707349325\" />\n",
      "      <edge id=\"23\" source=\"0\" target=\"24\" weight=\"5.58894072296\" />\n",
      "      <edge id=\"24\" source=\"0\" target=\"25\" weight=\"4.67862337054\" />\n",
      "      <edge id=\"25\" source=\"0\" target=\"26\" weight=\"2.80115361133\" />\n",
      "      <edge id=\"26\" source=\"1\" target=\"2\" weight=\"3.03487777064\" />\n",
      "      <edge id=\"27\" source=\"1\" target=\"3\" weight=\"2.73125170499\" />\n",
      "      <edge id=\"28\" source=\"1\" target=\"4\" weight=\"3.83868634331\" />\n",
      "      <edge id=\"29\" source=\"1\" target=\"5\" weight=\"3.46232484433\" />\n",
      "      <edge id=\"30\" source=\"1\" target=\"6\" weight=\"3.19007302912\" />\n",
      "      <edge id=\"31\" source=\"1\" target=\"7\" weight=\"2.46026745033\" />\n",
      "      <edge id=\"32\" source=\"1\" target=\"8\" weight=\"2.84333680662\" />\n",
      "      <edge id=\"33\" source=\"1\" target=\"9\" weight=\"4.1574805761\" />\n",
      "      <edge id=\"34\" source=\"1\" target=\"10\" weight=\"5.04830275097\" />\n",
      "      <edge id=\"35\" source=\"1\" target=\"11\" weight=\"1.45636484049\" />\n",
      "      <edge id=\"36\" source=\"1\" target=\"12\" weight=\"3.67725195598\" />\n",
      "      <edge id=\"37\" source=\"1\" target=\"13\" weight=\"3.89801680715\" />\n",
      "      <edge id=\"38\" source=\"1\" target=\"14\" weight=\"3.77123892407\" />\n",
      "      <edge id=\"39\" source=\"1\" target=\"15\" weight=\"2.24747593541\" />\n",
      "      <edge id=\"40\" source=\"1\" target=\"16\" weight=\"4.04022171765\" />\n",
      "      <edge id=\"41\" source=\"1\" target=\"17\" weight=\"4.47632971559\" />\n",
      "      <edge id=\"42\" source=\"1\" target=\"18\" weight=\"4.463189988\" />\n",
      "      <edge id=\"43\" source=\"1\" target=\"19\" weight=\"3.26342731151\" />\n",
      "      <edge id=\"44\" source=\"1\" target=\"20\" weight=\"3.39147504702\" />\n",
      "      <edge id=\"45\" source=\"1\" target=\"21\" weight=\"4.5517753397\" />\n",
      "      <edge id=\"46\" source=\"1\" target=\"22\" weight=\"3.37189713615\" />\n",
      "      <edge id=\"47\" source=\"1\" target=\"23\" weight=\"4.4718905148\" />\n",
      "      <edge id=\"48\" source=\"1\" target=\"24\" weight=\"5.89840495908\" />\n",
      "      <edge id=\"49\" source=\"1\" target=\"25\" weight=\"5.19845743065\" />\n",
      "      <edge id=\"50\" source=\"1\" target=\"26\" weight=\"2.05033187847\" />\n",
      "      <edge id=\"51\" source=\"2\" target=\"3\" weight=\"1.52438988405\" />\n",
      "      <edge id=\"52\" source=\"2\" target=\"4\" weight=\"2.53325255287\" />\n",
      "      <edge id=\"53\" source=\"2\" target=\"5\" weight=\"4.51734881523\" />\n",
      "      <edge id=\"54\" source=\"2\" target=\"6\" weight=\"3.77690069462\" />\n",
      "      <edge id=\"55\" source=\"2\" target=\"7\" weight=\"1.50917596923\" />\n",
      "      <edge id=\"56\" source=\"2\" target=\"8\" weight=\"2.51392387912\" />\n",
      "      <edge id=\"57\" source=\"2\" target=\"9\" weight=\"4.87697545573\" />\n",
      "      <edge id=\"58\" source=\"2\" target=\"10\" weight=\"6.1407656867\" />\n",
      "      <edge id=\"59\" source=\"2\" target=\"11\" weight=\"2.51713589463\" />\n",
      "      <edge id=\"60\" source=\"2\" target=\"12\" weight=\"1.09426826911\" />\n",
      "      <edge id=\"61\" source=\"2\" target=\"13\" weight=\"1.09551004917\" />\n",
      "      <edge id=\"62\" source=\"2\" target=\"14\" weight=\"2.13489146498\" />\n",
      "      <edge id=\"63\" source=\"2\" target=\"15\" weight=\"2.15296745077\" />\n",
      "      <edge id=\"64\" source=\"2\" target=\"16\" weight=\"3.47869300662\" />\n",
      "      <edge id=\"65\" source=\"2\" target=\"17\" weight=\"2.75505113492\" />\n",
      "      <edge id=\"66\" source=\"2\" target=\"18\" weight=\"2.81329820791\" />\n",
      "      <edge id=\"67\" source=\"2\" target=\"19\" weight=\"4.10248562329\" />\n",
      "      <edge id=\"68\" source=\"2\" target=\"20\" weight=\"5.1407019694\" />\n",
      "      <edge id=\"69\" source=\"2\" target=\"21\" weight=\"5.32760399199\" />\n",
      "      <edge id=\"70\" source=\"2\" target=\"22\" weight=\"2.62194341153\" />\n",
      "      <edge id=\"71\" source=\"2\" target=\"23\" weight=\"4.82213693063\" />\n",
      "      <edge id=\"72\" source=\"2\" target=\"24\" weight=\"6.96112160158\" />\n",
      "      <edge id=\"73\" source=\"2\" target=\"25\" weight=\"6.53251895599\" />\n",
      "      <edge id=\"74\" source=\"2\" target=\"26\" weight=\"3.53980141895\" />\n",
      "      <edge id=\"75\" source=\"3\" target=\"4\" weight=\"3.91681351083\" />\n",
      "      <edge id=\"76\" source=\"3\" target=\"5\" weight=\"3.07993144449\" />\n",
      "      <edge id=\"77\" source=\"3\" target=\"6\" weight=\"2.54583328699\" />\n",
      "      <edge id=\"78\" source=\"3\" target=\"7\" weight=\"2.58007876749\" />\n",
      "      <edge id=\"79\" source=\"3\" target=\"8\" weight=\"1.50219454677\" />\n",
      "      <edge id=\"80\" source=\"3\" target=\"9\" weight=\"3.85764014538\" />\n",
      "      <edge id=\"81\" source=\"3\" target=\"10\" weight=\"5.02352264077\" />\n",
      "      <edge id=\"82\" source=\"3\" target=\"11\" weight=\"2.9845975188\" />\n",
      "      <edge id=\"83\" source=\"3\" target=\"12\" weight=\"2.15735967065\" />\n",
      "      <edge id=\"84\" source=\"3\" target=\"13\" weight=\"2.14970223421\" />\n",
      "      <edge id=\"85\" source=\"3\" target=\"14\" weight=\"1.09464180104\" />\n",
      "      <edge id=\"86\" source=\"3\" target=\"15\" weight=\"1.09047142964\" />\n",
      "      <edge id=\"87\" source=\"3\" target=\"16\" weight=\"4.73664676831\" />\n",
      "      <edge id=\"88\" source=\"3\" target=\"17\" weight=\"4.23853097459\" />\n",
      "      <edge id=\"89\" source=\"3\" target=\"18\" weight=\"4.17665561016\" />\n",
      "      <edge id=\"90\" source=\"3\" target=\"19\" weight=\"2.64636927323\" />\n",
      "      <edge id=\"91\" source=\"3\" target=\"20\" weight=\"3.82604943471\" />\n",
      "      <edge id=\"92\" source=\"3\" target=\"21\" weight=\"3.83437517272\" />\n",
      "      <edge id=\"93\" source=\"3\" target=\"22\" weight=\"2.19912532821\" />\n",
      "      <edge id=\"94\" source=\"3\" target=\"23\" weight=\"4.08581180063\" />\n",
      "      <edge id=\"95\" source=\"3\" target=\"24\" weight=\"5.94994951083\" />\n",
      "      <edge id=\"96\" source=\"3\" target=\"25\" weight=\"5.26858540419\" />\n",
      "      <edge id=\"97\" source=\"3\" target=\"26\" weight=\"4.057592361\" />\n",
      "      <edge id=\"98\" source=\"4\" target=\"5\" weight=\"6.51067377626\" />\n",
      "      <edge id=\"99\" source=\"4\" target=\"6\" weight=\"5.61210673165\" />\n",
      "      <edge id=\"100\" source=\"4\" target=\"7\" weight=\"1.51249095235\" />\n",
      "      <edge id=\"101\" source=\"4\" target=\"8\" weight=\"4.43720796022\" />\n",
      "      <edge id=\"102\" source=\"4\" target=\"9\" weight=\"6.37409013491\" />\n",
      "      <edge id=\"103\" source=\"4\" target=\"10\" weight=\"7.61960119557\" />\n",
      "      <edge id=\"104\" source=\"4\" target=\"11\" weight=\"2.45494998498\" />\n",
      "      <edge id=\"105\" source=\"4\" target=\"12\" weight=\"2.80547922178\" />\n",
      "      <edge id=\"106\" source=\"4\" target=\"13\" weight=\"2.65533412745\" />\n",
      "      <edge id=\"107\" source=\"4\" target=\"14\" weight=\"4.66633257063\" />\n",
      "      <edge id=\"108\" source=\"4\" target=\"15\" weight=\"4.27748262447\" />\n",
      "      <edge id=\"109\" source=\"4\" target=\"16\" weight=\"1.08741366773\" />\n",
      "      <edge id=\"110\" source=\"4\" target=\"17\" weight=\"1.09213639387\" />\n",
      "      <edge id=\"111\" source=\"4\" target=\"18\" weight=\"1.09189821156\" />\n",
      "      <edge id=\"112\" source=\"4\" target=\"19\" weight=\"6.22816331994\" />\n",
      "      <edge id=\"113\" source=\"4\" target=\"20\" weight=\"6.85821239553\" />\n",
      "      <edge id=\"114\" source=\"4\" target=\"21\" weight=\"7.45250341654\" />\n",
      "      <edge id=\"115\" source=\"4\" target=\"22\" weight=\"4.12205432306\" />\n",
      "      <edge id=\"116\" source=\"4\" target=\"23\" weight=\"6.04983814124\" />\n",
      "      <edge id=\"117\" source=\"4\" target=\"24\" weight=\"8.25893977198\" />\n",
      "      <edge id=\"118\" source=\"4\" target=\"25\" weight=\"8.15916167385\" />\n",
      "      <edge id=\"119\" source=\"4\" target=\"26\" weight=\"2.78460815107\" />\n",
      "      <edge id=\"120\" source=\"5\" target=\"6\" weight=\"1.50117703697\" />\n",
      "      <edge id=\"121\" source=\"5\" target=\"7\" weight=\"5.03333503358\" />\n",
      "      <edge id=\"122\" source=\"5\" target=\"8\" weight=\"2.50246728281\" />\n",
      "      <edge id=\"123\" source=\"5\" target=\"9\" weight=\"2.53678986123\" />\n",
      "      <edge id=\"124\" source=\"5\" target=\"10\" weight=\"2.94413724383\" />\n",
      "      <edge id=\"125\" source=\"5\" target=\"11\" weight=\"4.65195677323\" />\n",
      "      <edge id=\"126\" source=\"5\" target=\"12\" weight=\"5.17328969549\" />\n",
      "      <edge id=\"127\" source=\"5\" target=\"13\" weight=\"5.04258821772\" />\n",
      "      <edge id=\"128\" source=\"5\" target=\"14\" weight=\"3.36217924509\" />\n",
      "      <edge id=\"129\" source=\"5\" target=\"15\" weight=\"2.81838191392\" />\n",
      "      <edge id=\"130\" source=\"5\" target=\"16\" weight=\"7.0578834437\" />\n",
      "      <edge id=\"131\" source=\"5\" target=\"17\" weight=\"7.05609748068\" />\n",
      "      <edge id=\"132\" source=\"5\" target=\"18\" weight=\"6.77315320442\" />\n",
      "      <edge id=\"133\" source=\"5\" target=\"19\" weight=\"1.08624737965\" />\n",
      "      <edge id=\"134\" source=\"5\" target=\"20\" weight=\"1.09224977643\" />\n",
      "      <edge id=\"135\" source=\"5\" target=\"21\" weight=\"1.09188111705\" />\n",
      "      <edge id=\"136\" source=\"5\" target=\"22\" weight=\"3.46794997591\" />\n",
      "      <edge id=\"137\" source=\"5\" target=\"23\" weight=\"3.49870618861\" />\n",
      "      <edge id=\"138\" source=\"5\" target=\"24\" weight=\"4.02489244396\" />\n",
      "      <edge id=\"139\" source=\"5\" target=\"25\" weight=\"2.63142352021\" />\n",
      "      <edge id=\"140\" source=\"5\" target=\"26\" weight=\"5.42163464292\" />\n",
      "      <edge id=\"141\" source=\"6\" target=\"7\" weight=\"4.24995482071\" />\n",
      "      <edge id=\"142\" source=\"6\" target=\"8\" weight=\"1.33686566201\" />\n",
      "      <edge id=\"143\" source=\"6\" target=\"9\" weight=\"1.46608679659\" />\n",
      "      <edge id=\"144\" source=\"6\" target=\"10\" weight=\"2.48806189796\" />\n",
      "      <edge id=\"145\" source=\"6\" target=\"11\" weight=\"4.03231580567\" />\n",
      "      <edge id=\"146\" source=\"6\" target=\"12\" weight=\"4.65183079327\" />\n",
      "      <edge id=\"147\" source=\"6\" target=\"13\" weight=\"4.06635133372\" />\n",
      "      <edge id=\"148\" source=\"6\" target=\"14\" weight=\"3.00730108154\" />\n",
      "      <edge id=\"149\" source=\"6\" target=\"15\" weight=\"2.77561817282\" />\n",
      "      <edge id=\"150\" source=\"6\" target=\"16\" weight=\"6.19000000802\" />\n",
      "      <edge id=\"151\" source=\"6\" target=\"17\" weight=\"6.27415095252\" />\n",
      "      <edge id=\"152\" source=\"6\" target=\"18\" weight=\"5.68612192879\" />\n",
      "      <edge id=\"153\" source=\"6\" target=\"19\" weight=\"2.15946276882\" />\n",
      "      <edge id=\"154\" source=\"6\" target=\"20\" weight=\"2.14347073222\" />\n",
      "      <edge id=\"155\" source=\"6\" target=\"21\" weight=\"2.14180760498\" />\n",
      "      <edge id=\"156\" source=\"6\" target=\"22\" weight=\"2.07498130131\" />\n",
      "      <edge id=\"157\" source=\"6\" target=\"23\" weight=\"2.16742192351\" />\n",
      "      <edge id=\"158\" source=\"6\" target=\"24\" weight=\"3.46425844339\" />\n",
      "      <edge id=\"159\" source=\"6\" target=\"25\" weight=\"2.77171391124\" />\n",
      "      <edge id=\"160\" source=\"6\" target=\"26\" weight=\"4.83071048334\" />\n",
      "      <edge id=\"161\" source=\"7\" target=\"8\" weight=\"3.1409031624\" />\n",
      "      <edge id=\"162\" source=\"7\" target=\"9\" weight=\"5.16722435269\" />\n",
      "      <edge id=\"163\" source=\"7\" target=\"10\" weight=\"6.38248039707\" />\n",
      "      <edge id=\"164\" source=\"7\" target=\"11\" weight=\"1.3164988298\" />\n",
      "      <edge id=\"165\" source=\"7\" target=\"12\" weight=\"2.11475885643\" />\n",
      "      <edge id=\"166\" source=\"7\" target=\"13\" weight=\"2.1176204694\" />\n",
      "      <edge id=\"167\" source=\"7\" target=\"14\" weight=\"3.48466628481\" />\n",
      "      <edge id=\"168\" source=\"7\" target=\"15\" weight=\"2.83128818079\" />\n",
      "      <edge id=\"169\" source=\"7\" target=\"16\" weight=\"2.16744233357\" />\n",
      "      <edge id=\"170\" source=\"7\" target=\"17\" weight=\"2.14869692223\" />\n",
      "      <edge id=\"171\" source=\"7\" target=\"18\" weight=\"2.14815257674\" />\n",
      "      <edge id=\"172\" source=\"7\" target=\"19\" weight=\"4.73130155189\" />\n",
      "      <edge id=\"173\" source=\"7\" target=\"20\" weight=\"5.37838583735\" />\n",
      "      <edge id=\"174\" source=\"7\" target=\"21\" weight=\"5.99921277218\" />\n",
      "      <edge id=\"175\" source=\"7\" target=\"22\" weight=\"3.09498976705\" />\n",
      "      <edge id=\"176\" source=\"7\" target=\"23\" weight=\"5.0352006985\" />\n",
      "      <edge id=\"177\" source=\"7\" target=\"24\" weight=\"7.12569603913\" />\n",
      "      <edge id=\"178\" source=\"7\" target=\"25\" weight=\"6.8183821638\" />\n",
      "      <edge id=\"179\" source=\"7\" target=\"26\" weight=\"2.15976463219\" />\n",
      "      <edge id=\"180\" source=\"8\" target=\"9\" weight=\"2.41468371785\" />\n",
      "      <edge id=\"181\" source=\"8\" target=\"10\" weight=\"3.66130969604\" />\n",
      "      <edge id=\"182\" source=\"8\" target=\"11\" weight=\"3.26038721878\" />\n",
      "      <edge id=\"183\" source=\"8\" target=\"12\" weight=\"3.45053791642\" />\n",
      "      <edge id=\"184\" source=\"8\" target=\"13\" weight=\"2.72994903636\" />\n",
      "      <edge id=\"185\" source=\"8\" target=\"14\" weight=\"2.1309232132\" />\n",
      "      <edge id=\"186\" source=\"8\" target=\"15\" weight=\"2.14946389357\" />\n",
      "      <edge id=\"187\" source=\"8\" target=\"16\" weight=\"5.13485026566\" />\n",
      "      <edge id=\"188\" source=\"8\" target=\"17\" weight=\"5.04500435595\" />\n",
      "      <edge id=\"189\" source=\"8\" target=\"18\" weight=\"4.46924746005\" />\n",
      "      <edge id=\"190\" source=\"8\" target=\"19\" weight=\"2.65296264935\" />\n",
      "      <edge id=\"191\" source=\"8\" target=\"20\" weight=\"3.21139499566\" />\n",
      "      <edge id=\"192\" source=\"8\" target=\"21\" weight=\"3.21708839398\" />\n",
      "      <edge id=\"193\" source=\"8\" target=\"22\" weight=\"1.08766671245\" />\n",
      "      <edge id=\"194\" source=\"8\" target=\"23\" weight=\"2.58623184179\" />\n",
      "      <edge id=\"195\" source=\"8\" target=\"24\" weight=\"4.5174721695\" />\n",
      "      <edge id=\"196\" source=\"8\" target=\"25\" weight=\"4.08751319714\" />\n",
      "      <edge id=\"197\" source=\"8\" target=\"26\" weight=\"4.19809026197\" />\n",
      "      <edge id=\"198\" source=\"9\" target=\"10\" weight=\"1.33062021589\" />\n",
      "      <edge id=\"199\" source=\"9\" target=\"11\" weight=\"4.88175459481\" />\n",
      "      <edge id=\"200\" source=\"9\" target=\"12\" weight=\"5.85617373904\" />\n",
      "      <edge id=\"201\" source=\"9\" target=\"13\" weight=\"4.95634004114\" />\n",
      "      <edge id=\"202\" source=\"9\" target=\"14\" weight=\"4.30623361185\" />\n",
      "      <edge id=\"203\" source=\"9\" target=\"15\" weight=\"4.19583871306\" />\n",
      "      <edge id=\"204\" source=\"9\" target=\"16\" weight=\"6.85451628272\" />\n",
      "      <edge id=\"205\" source=\"9\" target=\"17\" weight=\"7.17235799036\" />\n",
      "      <edge id=\"206\" source=\"9\" target=\"18\" weight=\"6.2763929929\" />\n",
      "      <edge id=\"207\" source=\"9\" target=\"19\" weight=\"3.46642853097\" />\n",
      "      <edge id=\"208\" source=\"9\" target=\"20\" weight=\"2.81935682588\" />\n",
      "      <edge id=\"209\" source=\"9\" target=\"21\" weight=\"2.81103378861\" />\n",
      "      <edge id=\"210\" source=\"9\" target=\"22\" weight=\"2.56441056868\" />\n",
      "      <edge id=\"211\" source=\"9\" target=\"23\" weight=\"1.08559909026\" />\n",
      "      <edge id=\"212\" source=\"9\" target=\"24\" weight=\"2.10288563979\" />\n",
      "      <edge id=\"213\" source=\"9\" target=\"25\" weight=\"2.11410330854\" />\n",
      "      <edge id=\"214\" source=\"9\" target=\"26\" weight=\"5.5043588173\" />\n",
      "      <edge id=\"215\" source=\"10\" target=\"11\" weight=\"5.94610080445\" />\n",
      "      <edge id=\"216\" source=\"10\" target=\"12\" weight=\"7.08889295311\" />\n",
      "      <edge id=\"217\" source=\"10\" target=\"13\" weight=\"6.27430383818\" />\n",
      "      <edge id=\"218\" source=\"10\" target=\"14\" weight=\"5.41279900966\" />\n",
      "      <edge id=\"219\" source=\"10\" target=\"15\" weight=\"5.2038792557\" />\n",
      "      <edge id=\"220\" source=\"10\" target=\"16\" weight=\"8.02986185297\" />\n",
      "      <edge id=\"221\" source=\"10\" target=\"17\" weight=\"8.43666414435\" />\n",
      "      <edge id=\"222\" source=\"10\" target=\"18\" weight=\"7.55557997124\" />\n",
      "      <edge id=\"223\" source=\"10\" target=\"19\" weight=\"4.01777979669\" />\n",
      "      <edge id=\"224\" source=\"10\" target=\"20\" weight=\"2.9140952232\" />\n",
      "      <edge id=\"225\" source=\"10\" target=\"21\" weight=\"2.90125476131\" />\n",
      "      <edge id=\"226\" source=\"10\" target=\"22\" weight=\"3.89500679425\" />\n",
      "      <edge id=\"227\" source=\"10\" target=\"23\" weight=\"2.08480045467\" />\n",
      "      <edge id=\"228\" source=\"10\" target=\"24\" weight=\"1.08077553194\" />\n",
      "      <edge id=\"229\" source=\"10\" target=\"25\" weight=\"1.08200418086\" />\n",
      "      <edge id=\"230\" source=\"10\" target=\"26\" weight=\"6.46642124258\" />\n",
      "      <edge id=\"231\" source=\"11\" target=\"12\" weight=\"3.14571567216\" />\n",
      "      <edge id=\"232\" source=\"11\" target=\"13\" weight=\"3.25740405482\" />\n",
      "      <edge id=\"233\" source=\"11\" target=\"14\" weight=\"4.0421982844\" />\n",
      "      <edge id=\"234\" source=\"11\" target=\"15\" weight=\"2.86818748873\" />\n",
      "      <edge id=\"235\" source=\"11\" target=\"16\" weight=\"2.58533322191\" />\n",
      "      <edge id=\"236\" source=\"11\" target=\"17\" weight=\"3.18763124991\" />\n",
      "      <edge id=\"237\" source=\"11\" target=\"18\" weight=\"3.15308890913\" />\n",
      "      <edge id=\"238\" source=\"11\" target=\"19\" weight=\"4.43605112027\" />\n",
      "      <edge id=\"239\" source=\"11\" target=\"20\" weight=\"4.73467158084\" />\n",
      "      <edge id=\"240\" source=\"11\" target=\"21\" weight=\"5.70883820282\" />\n",
      "      <edge id=\"241\" source=\"11\" target=\"22\" weight=\"3.39632171461\" />\n",
      "      <edge id=\"242\" source=\"11\" target=\"23\" weight=\"4.88899506877\" />\n",
      "      <edge id=\"243\" source=\"11\" target=\"24\" weight=\"6.69005355006\" />\n",
      "      <edge id=\"244\" source=\"11\" target=\"25\" weight=\"6.29388830963\" />\n",
      "      <edge id=\"245\" source=\"11\" target=\"26\" weight=\"1.08203918837\" />\n",
      "      <edge id=\"246\" source=\"12\" target=\"13\" weight=\"1.74179567724\" />\n",
      "      <edge id=\"247\" source=\"12\" target=\"14\" weight=\"2.40835873805\" />\n",
      "      <edge id=\"248\" source=\"12\" target=\"15\" weight=\"2.51341053777\" />\n",
      "      <edge id=\"249\" source=\"12\" target=\"16\" weight=\"3.76449617019\" />\n",
      "      <edge id=\"250\" source=\"12\" target=\"17\" weight=\"2.58791223195\" />\n",
      "      <edge id=\"251\" source=\"12\" target=\"18\" weight=\"3.23918019089\" />\n",
      "      <edge id=\"252\" source=\"12\" target=\"19\" weight=\"4.56459897341\" />\n",
      "      <edge id=\"253\" source=\"12\" target=\"20\" weight=\"5.81892743495\" />\n",
      "      <edge id=\"254\" source=\"12\" target=\"21\" weight=\"5.94191014961\" />\n",
      "      <edge id=\"255\" source=\"12\" target=\"22\" weight=\"3.66578902714\" />\n",
      "      <edge id=\"256\" source=\"12\" target=\"23\" weight=\"5.86695922752\" />\n",
      "      <edge id=\"257\" source=\"12\" target=\"24\" weight=\"7.95464832309\" />\n",
      "      <edge id=\"258\" source=\"12\" target=\"25\" weight=\"7.39494549288\" />\n",
      "      <edge id=\"259\" source=\"12\" target=\"26\" weight=\"4.09965358309\" />\n",
      "      <edge id=\"260\" source=\"13\" target=\"14\" weight=\"2.48007277819\" />\n",
      "      <edge id=\"261\" source=\"13\" target=\"15\" weight=\"3.0531408026\" />\n",
      "      <edge id=\"262\" source=\"13\" target=\"16\" weight=\"3.68990777681\" />\n",
      "      <edge id=\"263\" source=\"13\" target=\"17\" weight=\"2.90016888553\" />\n",
      "      <edge id=\"264\" source=\"13\" target=\"18\" weight=\"2.49342099923\" />\n",
      "      <edge id=\"265\" source=\"13\" target=\"19\" weight=\"4.77312270027\" />\n",
      "      <edge id=\"266\" source=\"13\" target=\"20\" weight=\"5.75293022803\" />\n",
      "      <edge id=\"267\" source=\"13\" target=\"21\" weight=\"5.74129351833\" />\n",
      "      <edge id=\"268\" source=\"13\" target=\"22\" weight=\"2.44955462663\" />\n",
      "      <edge id=\"269\" source=\"13\" target=\"23\" weight=\"4.69638562531\" />\n",
      "      <edge id=\"270\" source=\"13\" target=\"24\" weight=\"6.99249203845\" />\n",
      "      <edge id=\"271\" source=\"13\" target=\"25\" weight=\"6.80336773327\" />\n",
      "      <edge id=\"272\" source=\"13\" target=\"26\" weight=\"4.19714362814\" />\n",
      "      <edge id=\"273\" source=\"14\" target=\"15\" weight=\"1.74726977069\" />\n",
      "      <edge id=\"274\" source=\"14\" target=\"16\" weight=\"5.58548129975\" />\n",
      "      <edge id=\"275\" source=\"14\" target=\"17\" weight=\"4.81491692813\" />\n",
      "      <edge id=\"276\" source=\"14\" target=\"18\" weight=\"4.83655074224\" />\n",
      "      <edge id=\"277\" source=\"14\" target=\"19\" weight=\"2.82946523378\" />\n",
      "      <edge id=\"278\" source=\"14\" target=\"20\" weight=\"4.28728917925\" />\n",
      "      <edge id=\"279\" source=\"14\" target=\"21\" weight=\"3.85371175094\" />\n",
      "      <edge id=\"280\" source=\"14\" target=\"22\" weight=\"2.77868581063\" />\n",
      "      <edge id=\"281\" source=\"14\" target=\"23\" weight=\"4.56922096192\" />\n",
      "      <edge id=\"282\" source=\"14\" target=\"24\" weight=\"6.34803161506\" />\n",
      "      <edge id=\"283\" source=\"14\" target=\"25\" weight=\"5.59816347191\" />\n",
      "      <edge id=\"284\" source=\"14\" target=\"26\" weight=\"5.12173764806\" />\n",
      "      <edge id=\"285\" source=\"15\" target=\"16\" weight=\"4.95476001388\" />\n",
      "      <edge id=\"286\" source=\"15\" target=\"17\" weight=\"4.55185410838\" />\n",
      "      <edge id=\"287\" source=\"15\" target=\"18\" weight=\"4.76671532183\" />\n",
      "      <edge id=\"288\" source=\"15\" target=\"19\" weight=\"2.12642567124\" />\n",
      "      <edge id=\"289\" source=\"15\" target=\"20\" weight=\"3.38769563386\" />\n",
      "      <edge id=\"290\" source=\"15\" target=\"21\" weight=\"3.68372485757\" />\n",
      "      <edge id=\"291\" source=\"15\" target=\"22\" weight=\"3.03604757318\" />\n",
      "      <edge id=\"292\" source=\"15\" target=\"23\" weight=\"4.62659091984\" />\n",
      "      <edge id=\"293\" source=\"15\" target=\"24\" weight=\"6.20286521933\" />\n",
      "      <edge id=\"294\" source=\"15\" target=\"25\" weight=\"5.25721757537\" />\n",
      "      <edge id=\"295\" source=\"15\" target=\"26\" weight=\"3.87435011614\" />\n",
      "      <edge id=\"296\" source=\"16\" target=\"17\" weight=\"1.77049331572\" />\n",
      "      <edge id=\"297\" source=\"16\" target=\"18\" weight=\"1.77076057321\" />\n",
      "      <edge id=\"298\" source=\"16\" target=\"19\" weight=\"6.82283278908\" />\n",
      "      <edge id=\"299\" source=\"16\" target=\"20\" weight=\"7.25638428077\" />\n",
      "      <edge id=\"300\" source=\"16\" target=\"21\" weight=\"8.05632274023\" />\n",
      "      <edge id=\"301\" source=\"16\" target=\"22\" weight=\"4.81888639103\" />\n",
      "      <edge id=\"302\" source=\"16\" target=\"23\" weight=\"6.52060778444\" />\n",
      "      <edge id=\"303\" source=\"16\" target=\"24\" weight=\"8.61702668415\" />\n",
      "      <edge id=\"304\" source=\"16\" target=\"25\" weight=\"8.56830281326\" />\n",
      "      <edge id=\"305\" source=\"16\" target=\"26\" weight=\"2.46182402234\" />\n",
      "      <edge id=\"306\" source=\"17\" target=\"18\" weight=\"1.75843950015\" />\n",
      "      <edge id=\"307\" source=\"17\" target=\"19\" weight=\"6.62889372845\" />\n",
      "      <edge id=\"308\" source=\"17\" target=\"20\" weight=\"7.47327591365\" />\n",
      "      <edge id=\"309\" source=\"17\" target=\"21\" weight=\"7.96825613047\" />\n",
      "      <edge id=\"310\" source=\"17\" target=\"22\" weight=\"4.83127835148\" />\n",
      "      <edge id=\"311\" source=\"17\" target=\"23\" weight=\"6.90471642765\" />\n",
      "      <edge id=\"312\" source=\"17\" target=\"24\" weight=\"9.13434308786\" />\n",
      "      <edge id=\"313\" source=\"17\" target=\"25\" weight=\"8.91944439141\" />\n",
      "      <edge id=\"314\" source=\"17\" target=\"26\" weight=\"3.56909907791\" />\n",
      "      <edge id=\"315\" source=\"18\" target=\"19\" weight=\"6.60809256874\" />\n",
      "      <edge id=\"316\" source=\"18\" target=\"20\" weight=\"7.19818867648\" />\n",
      "      <edge id=\"317\" source=\"18\" target=\"21\" weight=\"7.64084580152\" />\n",
      "      <edge id=\"318\" source=\"18\" target=\"22\" weight=\"3.90958846574\" />\n",
      "      <edge id=\"319\" source=\"18\" target=\"23\" weight=\"5.78601795036\" />\n",
      "      <edge id=\"320\" source=\"18\" target=\"24\" weight=\"8.10025420707\" />\n",
      "      <edge id=\"321\" source=\"18\" target=\"25\" weight=\"8.21192655693\" />\n",
      "      <edge id=\"322\" source=\"18\" target=\"26\" weight=\"3.5132173144\" />\n",
      "      <edge id=\"323\" source=\"19\" target=\"20\" weight=\"1.76601130525\" />\n",
      "      <edge id=\"324\" source=\"19\" target=\"21\" weight=\"1.76389375566\" />\n",
      "      <edge id=\"325\" source=\"19\" target=\"22\" weight=\"3.73193474119\" />\n",
      "      <edge id=\"326\" source=\"19\" target=\"23\" weight=\"4.31671452816\" />\n",
      "      <edge id=\"327\" source=\"19\" target=\"24\" weight=\"5.09779351842\" />\n",
      "      <edge id=\"328\" source=\"19\" target=\"25\" weight=\"3.70284795991\" />\n",
      "      <edge id=\"329\" source=\"19\" target=\"26\" weight=\"5.27961310943\" />\n",
      "      <edge id=\"330\" source=\"20\" target=\"21\" weight=\"1.7576897363\" />\n",
      "      <edge id=\"331\" source=\"20\" target=\"22\" weight=\"4.09703179321\" />\n",
      "      <edge id=\"332\" source=\"20\" target=\"23\" weight=\"3.82337189151\" />\n",
      "      <edge id=\"333\" source=\"20\" target=\"24\" weight=\"3.93769981264\" />\n",
      "      <edge id=\"334\" source=\"20\" target=\"25\" weight=\"2.41399129353\" />\n",
      "      <edge id=\"335\" source=\"20\" target=\"26\" weight=\"5.32587310317\" />\n",
      "      <edge id=\"336\" source=\"21\" target=\"22\" weight=\"4.09944428054\" />\n",
      "      <edge id=\"337\" source=\"21\" target=\"23\" weight=\"3.81815164001\" />\n",
      "      <edge id=\"338\" source=\"21\" target=\"24\" weight=\"3.92687833953\" />\n",
      "      <edge id=\"339\" source=\"21\" target=\"25\" weight=\"2.39749811501\" />\n",
      "      <edge id=\"340\" source=\"21\" target=\"26\" weight=\"6.49858789614\" />\n",
      "      <edge id=\"341\" source=\"22\" target=\"23\" weight=\"2.2577039136\" />\n",
      "      <edge id=\"342\" source=\"22\" target=\"24\" weight=\"4.55149318928\" />\n",
      "      <edge id=\"343\" source=\"22\" target=\"25\" weight=\"4.55859880964\" />\n",
      "      <edge id=\"344\" source=\"22\" target=\"26\" weight=\"4.24483300734\" />\n",
      "      <edge id=\"345\" source=\"23\" target=\"24\" weight=\"2.41325261552\" />\n",
      "      <edge id=\"346\" source=\"23\" target=\"25\" weight=\"3.06447702196\" />\n",
      "      <edge id=\"347\" source=\"23\" target=\"26\" weight=\"5.46643575264\" />\n",
      "      <edge id=\"348\" source=\"24\" target=\"25\" weight=\"1.84305488143\" />\n",
      "      <edge id=\"349\" source=\"24\" target=\"26\" weight=\"7.12260457854\" />\n",
      "      <edge id=\"350\" source=\"25\" target=\"26\" weight=\"6.82194078628\" />\n",
      "    </edges>\n",
      "  </graph>\n",
      "</gexf>\n"
     ]
    }
   ],
   "source": [
    "%%bash\n",
    "cat test.gexf"
   ]
  },
  {
   "cell_type": "raw",
   "metadata": {},
   "source": [
    "from ase import Atoms,Atom\n",
    "\n",
    "se_atoms = []\n",
    "        for i, line in enumerate(mol_list):\n",
    "\n",
    "            if i > 3:\n",
    "\n",
    "                try:\n",
    "                    atom0, atom1, bond, rest = line\n",
    "                    atom0 = int(atom0)\n",
    "                    atom0 = int(atom1)\n",
    "                    bond = float(bond)\n",
    "\n",
    "                except ValueError:\n",
    "                    try:\n",
    "                        x, y, z, symbol = line.split()[0:4]\n",
    "                        x = float(x)\n",
    "                        y = float(y)\n",
    "                        z = float(z)\n",
    "                        #print symbol\n",
    "\n",
    "                        ase_atoms.append(Atom(symbol=symbol, position=(x,y,z)))\n",
    "\n",
    "                    except:\n",
    "                        continue\n",
    "\n",
    "        self.ase_molecule = Atoms(ase_atoms)\n"
   ]
  },
  {
   "cell_type": "code",
   "execution_count": null,
   "metadata": {
    "collapsed": true
   },
   "outputs": [],
   "source": []
  },
  {
   "cell_type": "code",
   "execution_count": 9,
   "metadata": {},
   "outputs": [
    {
     "data": {
      "text/plain": [
       "'[CH]=C(C)CCC=C(C)C=C+[H][H]_C=CC(C)=CCCC(=C)C+[H]'"
      ]
     },
     "execution_count": 9,
     "metadata": {},
     "output_type": "execute_result"
    }
   ],
   "source": [
    "rxn_label"
   ]
  },
  {
   "cell_type": "code",
   "execution_count": 10,
   "metadata": {},
   "outputs": [
    {
     "name": "stderr",
     "output_type": "stream",
     "text": [
      "reaction.py:300 generateBoundsMatrix INFO Generating bounds matrix for [CH]=C(C)CCC=C(C)C=C.[H][H]\n",
      "reaction.py:338 bmPreEdit INFO Changing lower limit 2.275316 to 2.205539\n",
      "reaction.py:338 bmPreEdit INFO Changing lower limit 3.15 to 2.64649597268\n"
     ]
    }
   ],
   "source": [
    "rxn = Multi_Reaction(label=rxn_label, reaction_family=\"H_Abstraction\")"
   ]
  },
  {
   "cell_type": "code",
   "execution_count": 11,
   "metadata": {},
   "outputs": [
    {
     "ename": "OSError",
     "evalue": "cannot load library libcairo.so.2: libXrender.so.1: cannot open shared object file: No such file or directory.  Additionally, ctypes.util.find_library() did not manage to locate a library called 'libcairo.so.2'",
     "output_type": "error",
     "traceback": [
      "\u001b[0;31m---------------------------------------------------------------------------\u001b[0m",
      "\u001b[0;31mOSError\u001b[0m                                   Traceback (most recent call last)",
      "\u001b[0;32m/home/ubuntu/anaconda2/envs/rmg_env/lib/python2.7/site-packages/IPython/core/formatters.pyc\u001b[0m in \u001b[0;36m__call__\u001b[0;34m(self, obj)\u001b[0m\n\u001b[1;32m    336\u001b[0m             \u001b[0mmethod\u001b[0m \u001b[0;34m=\u001b[0m \u001b[0mget_real_method\u001b[0m\u001b[0;34m(\u001b[0m\u001b[0mobj\u001b[0m\u001b[0;34m,\u001b[0m \u001b[0mself\u001b[0m\u001b[0;34m.\u001b[0m\u001b[0mprint_method\u001b[0m\u001b[0;34m)\u001b[0m\u001b[0;34m\u001b[0m\u001b[0m\n\u001b[1;32m    337\u001b[0m             \u001b[0;32mif\u001b[0m \u001b[0mmethod\u001b[0m \u001b[0;32mis\u001b[0m \u001b[0;32mnot\u001b[0m \u001b[0mNone\u001b[0m\u001b[0;34m:\u001b[0m\u001b[0;34m\u001b[0m\u001b[0m\n\u001b[0;32m--> 338\u001b[0;31m                 \u001b[0;32mreturn\u001b[0m \u001b[0mmethod\u001b[0m\u001b[0;34m(\u001b[0m\u001b[0;34m)\u001b[0m\u001b[0;34m\u001b[0m\u001b[0m\n\u001b[0m\u001b[1;32m    339\u001b[0m             \u001b[0;32mreturn\u001b[0m \u001b[0mNone\u001b[0m\u001b[0;34m\u001b[0m\u001b[0m\n\u001b[1;32m    340\u001b[0m         \u001b[0;32melse\u001b[0m\u001b[0;34m:\u001b[0m\u001b[0;34m\u001b[0m\u001b[0m\n",
      "\u001b[0;32m/home/ubuntu/Code/RMG-Py/rmgpy/molecule/molecule.so\u001b[0m in \u001b[0;36mrmgpy.molecule.molecule.Molecule._repr_png_ (build/pyrex/rmgpy/molecule/molecule.c:23729)\u001b[0;34m()\u001b[0m\n",
      "\u001b[0;32m/home/ubuntu/Code/RMG-Py/rmgpy/molecule/draw.py\u001b[0m in \u001b[0;36mdraw\u001b[0;34m(self, molecule, format, target)\u001b[0m\n\u001b[1;32m    145\u001b[0m         \u001b[0;31m# the molecule drawing algorithm\u001b[0m\u001b[0;34m\u001b[0m\u001b[0;34m\u001b[0m\u001b[0m\n\u001b[1;32m    146\u001b[0m         \u001b[0;32mtry\u001b[0m\u001b[0;34m:\u001b[0m\u001b[0;34m\u001b[0m\u001b[0m\n\u001b[0;32m--> 147\u001b[0;31m             \u001b[0;32mimport\u001b[0m \u001b[0mcairocffi\u001b[0m \u001b[0;32mas\u001b[0m \u001b[0mcairo\u001b[0m\u001b[0;34m\u001b[0m\u001b[0m\n\u001b[0m\u001b[1;32m    148\u001b[0m         \u001b[0;32mexcept\u001b[0m \u001b[0mImportError\u001b[0m\u001b[0;34m:\u001b[0m\u001b[0;34m\u001b[0m\u001b[0m\n\u001b[1;32m    149\u001b[0m             \u001b[0;32mtry\u001b[0m\u001b[0;34m:\u001b[0m\u001b[0;34m\u001b[0m\u001b[0m\n",
      "\u001b[0;32m/home/ubuntu/anaconda2/envs/rmg_env/lib/python2.7/site-packages/cairocffi/__init__.py\u001b[0m in \u001b[0;36m<module>\u001b[0;34m()\u001b[0m\n\u001b[1;32m     38\u001b[0m \u001b[0mffi\u001b[0m\u001b[0;34m.\u001b[0m\u001b[0mcdef\u001b[0m\u001b[0;34m(\u001b[0m\u001b[0mconstants\u001b[0m\u001b[0;34m.\u001b[0m\u001b[0m_CAIRO_HEADERS\u001b[0m\u001b[0;34m)\u001b[0m\u001b[0;34m\u001b[0m\u001b[0m\n\u001b[1;32m     39\u001b[0m cairo = dlopen(ffi, 'libcairo.so.2', 'libcairo.2.dylib', 'libcairo-2.dll',\n\u001b[0;32m---> 40\u001b[0;31m                'cairo', 'libcairo-2')\n\u001b[0m\u001b[1;32m     41\u001b[0m \u001b[0;34m\u001b[0m\u001b[0m\n\u001b[1;32m     42\u001b[0m \u001b[0;34m\u001b[0m\u001b[0m\n",
      "\u001b[0;32m/home/ubuntu/anaconda2/envs/rmg_env/lib/python2.7/site-packages/cairocffi/__init__.py\u001b[0m in \u001b[0;36mdlopen\u001b[0;34m(ffi, *names)\u001b[0m\n\u001b[1;32m     32\u001b[0m             \u001b[0;32mpass\u001b[0m\u001b[0;34m\u001b[0m\u001b[0m\n\u001b[1;32m     33\u001b[0m     \u001b[0;31m# Re-raise the exception.\u001b[0m\u001b[0;34m\u001b[0m\u001b[0;34m\u001b[0m\u001b[0m\n\u001b[0;32m---> 34\u001b[0;31m     \u001b[0;32mreturn\u001b[0m \u001b[0mffi\u001b[0m\u001b[0;34m.\u001b[0m\u001b[0mdlopen\u001b[0m\u001b[0;34m(\u001b[0m\u001b[0mnames\u001b[0m\u001b[0;34m[\u001b[0m\u001b[0;36m0\u001b[0m\u001b[0;34m]\u001b[0m\u001b[0;34m)\u001b[0m  \u001b[0;31m# pragma: no cover\u001b[0m\u001b[0;34m\u001b[0m\u001b[0m\n\u001b[0m\u001b[1;32m     35\u001b[0m \u001b[0;34m\u001b[0m\u001b[0m\n\u001b[1;32m     36\u001b[0m \u001b[0;34m\u001b[0m\u001b[0m\n",
      "\u001b[0;32m/home/ubuntu/anaconda2/envs/rmg_env/lib/python2.7/site-packages/cffi/api.pyc\u001b[0m in \u001b[0;36mdlopen\u001b[0;34m(self, name, flags)\u001b[0m\n\u001b[1;32m    138\u001b[0m         \u001b[0;32massert\u001b[0m \u001b[0misinstance\u001b[0m\u001b[0;34m(\u001b[0m\u001b[0mname\u001b[0m\u001b[0;34m,\u001b[0m \u001b[0mbasestring\u001b[0m\u001b[0;34m)\u001b[0m \u001b[0;32mor\u001b[0m \u001b[0mname\u001b[0m \u001b[0;32mis\u001b[0m \u001b[0mNone\u001b[0m\u001b[0;34m\u001b[0m\u001b[0m\n\u001b[1;32m    139\u001b[0m         \u001b[0;32mwith\u001b[0m \u001b[0mself\u001b[0m\u001b[0;34m.\u001b[0m\u001b[0m_lock\u001b[0m\u001b[0;34m:\u001b[0m\u001b[0;34m\u001b[0m\u001b[0m\n\u001b[0;32m--> 140\u001b[0;31m             \u001b[0mlib\u001b[0m\u001b[0;34m,\u001b[0m \u001b[0mfunction_cache\u001b[0m \u001b[0;34m=\u001b[0m \u001b[0m_make_ffi_library\u001b[0m\u001b[0;34m(\u001b[0m\u001b[0mself\u001b[0m\u001b[0;34m,\u001b[0m \u001b[0mname\u001b[0m\u001b[0;34m,\u001b[0m \u001b[0mflags\u001b[0m\u001b[0;34m)\u001b[0m\u001b[0;34m\u001b[0m\u001b[0m\n\u001b[0m\u001b[1;32m    141\u001b[0m             \u001b[0mself\u001b[0m\u001b[0;34m.\u001b[0m\u001b[0m_function_caches\u001b[0m\u001b[0;34m.\u001b[0m\u001b[0mappend\u001b[0m\u001b[0;34m(\u001b[0m\u001b[0mfunction_cache\u001b[0m\u001b[0;34m)\u001b[0m\u001b[0;34m\u001b[0m\u001b[0m\n\u001b[1;32m    142\u001b[0m             \u001b[0mself\u001b[0m\u001b[0;34m.\u001b[0m\u001b[0m_libraries\u001b[0m\u001b[0;34m.\u001b[0m\u001b[0mappend\u001b[0m\u001b[0;34m(\u001b[0m\u001b[0mlib\u001b[0m\u001b[0;34m)\u001b[0m\u001b[0;34m\u001b[0m\u001b[0m\n",
      "\u001b[0;32m/home/ubuntu/anaconda2/envs/rmg_env/lib/python2.7/site-packages/cffi/api.pyc\u001b[0m in \u001b[0;36m_make_ffi_library\u001b[0;34m(ffi, libname, flags)\u001b[0m\n\u001b[1;32m    784\u001b[0m \u001b[0;32mdef\u001b[0m \u001b[0m_make_ffi_library\u001b[0m\u001b[0;34m(\u001b[0m\u001b[0mffi\u001b[0m\u001b[0;34m,\u001b[0m \u001b[0mlibname\u001b[0m\u001b[0;34m,\u001b[0m \u001b[0mflags\u001b[0m\u001b[0;34m)\u001b[0m\u001b[0;34m:\u001b[0m\u001b[0;34m\u001b[0m\u001b[0m\n\u001b[1;32m    785\u001b[0m     \u001b[0mbackend\u001b[0m \u001b[0;34m=\u001b[0m \u001b[0mffi\u001b[0m\u001b[0;34m.\u001b[0m\u001b[0m_backend\u001b[0m\u001b[0;34m\u001b[0m\u001b[0m\n\u001b[0;32m--> 786\u001b[0;31m     \u001b[0mbackendlib\u001b[0m \u001b[0;34m=\u001b[0m \u001b[0m_load_backend_lib\u001b[0m\u001b[0;34m(\u001b[0m\u001b[0mbackend\u001b[0m\u001b[0;34m,\u001b[0m \u001b[0mlibname\u001b[0m\u001b[0;34m,\u001b[0m \u001b[0mflags\u001b[0m\u001b[0;34m)\u001b[0m\u001b[0;34m\u001b[0m\u001b[0m\n\u001b[0m\u001b[1;32m    787\u001b[0m     \u001b[0;31m#\u001b[0m\u001b[0;34m\u001b[0m\u001b[0;34m\u001b[0m\u001b[0m\n\u001b[1;32m    788\u001b[0m     \u001b[0;32mdef\u001b[0m \u001b[0maccessor_function\u001b[0m\u001b[0;34m(\u001b[0m\u001b[0mname\u001b[0m\u001b[0;34m)\u001b[0m\u001b[0;34m:\u001b[0m\u001b[0;34m\u001b[0m\u001b[0m\n",
      "\u001b[0;32m/home/ubuntu/anaconda2/envs/rmg_env/lib/python2.7/site-packages/cffi/api.pyc\u001b[0m in \u001b[0;36m_load_backend_lib\u001b[0;34m(backend, name, flags)\u001b[0m\n\u001b[1;32m    779\u001b[0m         \u001b[0;32mif\u001b[0m \u001b[0mfirst_error\u001b[0m \u001b[0;32mis\u001b[0m \u001b[0;32mnot\u001b[0m \u001b[0mNone\u001b[0m\u001b[0;34m:\u001b[0m\u001b[0;34m\u001b[0m\u001b[0m\n\u001b[1;32m    780\u001b[0m             \u001b[0mmsg\u001b[0m \u001b[0;34m=\u001b[0m \u001b[0;34m\"%s.  Additionally, %s\"\u001b[0m \u001b[0;34m%\u001b[0m \u001b[0;34m(\u001b[0m\u001b[0mfirst_error\u001b[0m\u001b[0;34m,\u001b[0m \u001b[0mmsg\u001b[0m\u001b[0;34m)\u001b[0m\u001b[0;34m\u001b[0m\u001b[0m\n\u001b[0;32m--> 781\u001b[0;31m         \u001b[0;32mraise\u001b[0m \u001b[0mOSError\u001b[0m\u001b[0;34m(\u001b[0m\u001b[0mmsg\u001b[0m\u001b[0;34m)\u001b[0m\u001b[0;34m\u001b[0m\u001b[0m\n\u001b[0m\u001b[1;32m    782\u001b[0m     \u001b[0;32mreturn\u001b[0m \u001b[0mbackend\u001b[0m\u001b[0;34m.\u001b[0m\u001b[0mload_library\u001b[0m\u001b[0;34m(\u001b[0m\u001b[0mpath\u001b[0m\u001b[0;34m,\u001b[0m \u001b[0mflags\u001b[0m\u001b[0;34m)\u001b[0m\u001b[0;34m\u001b[0m\u001b[0m\n\u001b[1;32m    783\u001b[0m \u001b[0;34m\u001b[0m\u001b[0m\n",
      "\u001b[0;31mOSError\u001b[0m: cannot load library libcairo.so.2: libXrender.so.1: cannot open shared object file: No such file or directory.  Additionally, ctypes.util.find_library() did not manage to locate a library called 'libcairo.so.2'"
     ]
    },
    {
     "data": {
      "text/plain": [
       "Molecule(SMILES=\"[CH]=C(C)CCC=C(C)C=C.[H][H]\")"
      ]
     },
     "execution_count": 11,
     "metadata": {},
     "output_type": "execute_result"
    }
   ],
   "source": [
    "rxn.multi_ts.rmg_ts"
   ]
  },
  {
   "cell_type": "code",
   "execution_count": 12,
   "metadata": {},
   "outputs": [
    {
     "ename": "NameError",
     "evalue": "name 'getDB' is not defined",
     "output_type": "error",
     "traceback": [
      "\u001b[0;31m---------------------------------------------------------------------------\u001b[0m",
      "\u001b[0;31mNameError\u001b[0m                                 Traceback (most recent call last)",
      "\u001b[0;32m<ipython-input-12-d5827ad81c1c>\u001b[0m in \u001b[0;36m<module>\u001b[0;34m()\u001b[0m\n\u001b[0;32m----> 1\u001b[0;31m \u001b[0;32mif\u001b[0m \u001b[0mgetDB\u001b[0m\u001b[0;34m(\u001b[0m\u001b[0;34m\"forbidden\"\u001b[0m\u001b[0;34m)\u001b[0m \u001b[0;32mis\u001b[0m \u001b[0;32mnot\u001b[0m \u001b[0mNone\u001b[0m\u001b[0;34m:\u001b[0m\u001b[0;34m\u001b[0m\u001b[0m\n\u001b[0m\u001b[1;32m      2\u001b[0m     \u001b[0;32mprint\u001b[0m \u001b[0;34m\"w\"\u001b[0m\u001b[0;34m\u001b[0m\u001b[0m\n",
      "\u001b[0;31mNameError\u001b[0m: name 'getDB' is not defined"
     ]
    }
   ],
   "source": [
    "if getDB(\"forbidden\") is not None:\n",
    "    print \"w\""
   ]
  },
  {
   "cell_type": "code",
   "execution_count": null,
   "metadata": {
    "collapsed": true
   },
   "outputs": [],
   "source": [
    "type(getDB(\"forbidden\"))"
   ]
  },
  {
   "cell_type": "code",
   "execution_count": null,
   "metadata": {
    "collapsed": true
   },
   "outputs": [],
   "source": [
    "str(type(getDB(\"forbidden\")))"
   ]
  },
  {
   "cell_type": "code",
   "execution_count": null,
   "metadata": {
    "collapsed": true
   },
   "outputs": [],
   "source": [
    "print None"
   ]
  },
  {
   "cell_type": "code",
   "execution_count": null,
   "metadata": {},
   "outputs": [],
   "source": [
    "qm_data."
   ]
  },
  {
   "cell_type": "code",
   "execution_count": null,
   "metadata": {},
   "outputs": [],
   "source": [
    "mol = Molecule()\n",
    "mol"
   ]
  },
  {
   "cell_type": "code",
   "execution_count": null,
   "metadata": {},
   "outputs": [],
   "source": [
    "print mol.fromXYZ(atoms, positions)"
   ]
  },
  {
   "cell_type": "code",
   "execution_count": null,
   "metadata": {},
   "outputs": [],
   "source": [
    "from rmgpy.molecule.molecule import Atom as  rmg_atom\n",
    "#from rmgpy.molecule.element import Element as Element\n",
    "import element as elements\n",
    "for number, position in zip(atoms, positions):\n",
    "    _rdkit_periodic_table = elements.GetPeriodicTable()\n",
    "    atom = Atom(_rdkit_periodic_table.GetElementSymbol(int(number)))\n",
    "    atom.coords = position"
   ]
  },
  {
   "cell_type": "code",
   "execution_count": null,
   "metadata": {
    "collapsed": true
   },
   "outputs": [],
   "source": [
    "Atom?"
   ]
  },
  {
   "cell_type": "code",
   "execution_count": null,
   "metadata": {
    "collapsed": true
   },
   "outputs": [],
   "source": []
  }
 ],
 "metadata": {
  "kernelspec": {
   "display_name": "Python 2",
   "language": "python",
   "name": "python2"
  },
  "language_info": {
   "codemirror_mode": {
    "name": "ipython",
    "version": 2
   },
   "file_extension": ".py",
   "mimetype": "text/x-python",
   "name": "python",
   "nbconvert_exporter": "python",
   "pygments_lexer": "ipython2",
   "version": "2.7.14"
  }
 },
 "nbformat": 4,
 "nbformat_minor": 2
}
