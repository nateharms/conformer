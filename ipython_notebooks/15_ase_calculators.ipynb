{
 "cells": [
  {
   "cell_type": "code",
   "execution_count": 1,
   "metadata": {
    "collapsed": false
   },
   "outputs": [],
   "source": [
    "from multi_molecule import *\n",
    "import ase\n",
    "from ase import Atom, Atoms\n",
    "from ase.calculators.gaussian import *\n",
    "from ase.calculators.calculator import FileIOCalculator, Parameters, ReadError\n"
   ]
  },
  {
   "cell_type": "code",
   "execution_count": 2,
   "metadata": {
    "collapsed": true
   },
   "outputs": [],
   "source": [
    "mol = Multi_Molecule(\"C1=CC=C(C=C1)CC(C(=O)O)N\")"
   ]
  },
  {
   "cell_type": "code",
   "execution_count": 3,
   "metadata": {
    "collapsed": false
   },
   "outputs": [
    {
     "data": {
      "text/html": [
       "<div id=\"3dmolviewer_15169122239\"  style=\"position: relative; width: 400px; height: 400px\">\n",
       "<script>\n",
       "if(typeof $3Dmolpromise === 'undefined') $3Dmolpromise = $.when($.getScript('https://3dmol.csb.pitt.edu/build/3Dmol.js'))\n",
       "var viewer_15169122239 = null;\n",
       "$3Dmolpromise.done(function() {\n",
       "viewer_15169122239 = $3Dmol.createViewer($(\"#3dmolviewer_15169122239\"),{backgroundColor:\"white\"});\n",
       "\tviewer_15169122239.addModel(\"\\n     RDKit          3D\\n\\n 23 23  0  0  0  0  0  0  0  0999 V2000\\n   -1.9422   -0.0776   -0.2813 C   0  0  0  0  0  0  0  0  0  0  0  0\\n   -0.7588    0.7619   -0.5601 C   0  0  0  0  0  0  0  0  0  0  0  0\\n    0.5580    0.1531   -0.5002 C   0  0  0  0  0  0  0  0  0  0  0  0\\n    1.6171    0.8909   -1.0184 C   0  0  0  0  0  0  0  0  0  0  0  0\\n    0.8590   -0.7512    0.5038 C   0  0  0  0  0  0  0  0  0  0  0  0\\n   -2.1027   -0.4801    1.1407 C   0  0  0  0  0  0  0  0  0  0  0  0\\n    3.1591   -0.0383    0.5713 C   0  0  0  0  0  0  0  0  0  0  0  0\\n    2.8867    0.8589   -0.4544 C   0  0  0  0  0  0  0  0  0  0  0  0\\n    2.1432   -0.8453    1.0199 C   0  0  0  0  0  0  0  0  0  0  0  0\\n   -2.1546   -1.1692   -1.1908 N   0  0  0  0  0  0  0  0  0  0  0  0\\n   -2.2914    0.4714    2.1315 O   0  0  0  0  0  0  0  0  0  0  0  0\\n   -2.8226    0.5994   -0.4613 H   0  0  0  0  0  0  0  0  0  0  0  0\\n   -0.8872    1.1625   -1.5998 H   0  0  0  0  0  0  0  0  0  0  0  0\\n   -0.8255    1.6735    0.0869 H   0  0  0  0  0  0  0  0  0  0  0  0\\n   -2.6541   -1.6030    1.3506 O   0  0  0  0  0  0  0  0  0  0  0  0\\n    4.1368   -0.0185    1.0512 H   0  0  0  0  0  0  0  0  0  0  0  0\\n    3.6631    1.5788   -0.7201 H   0  0  0  0  0  0  0  0  0  0  0  0\\n    1.5047    1.5385   -1.8860 H   0  0  0  0  0  0  0  0  0  0  0  0\\n    0.1968   -1.6078    0.5183 H   0  0  0  0  0  0  0  0  0  0  0  0\\n    2.4107   -1.6301    1.7254 H   0  0  0  0  0  0  0  0  0  0  0  0\\n   -2.4971   -0.8882   -2.1250 H   0  0  0  0  0  0  0  0  0  0  0  0\\n   -1.4293   -1.8968   -1.1925 H   0  0  0  0  0  0  0  0  0  0  0  0\\n   -2.7695    1.3171    1.8901 H   0  0  0  0  0  0  0  0  0  0  0  0\\n  1 10  1  0\\n  1  2  1  0\\n  1 12  1  0\\n  1  6  1  0\\n  2  3  1  0\\n  2 13  1  0\\n  2 14  1  0\\n  3  5  2  0\\n  3  4  1  0\\n  4  8  2  0\\n  4 18  1  0\\n  5 19  1  0\\n  5  9  1  0\\n  6 15  2  0\\n  6 11  1  0\\n  7  9  2  0\\n  7 16  1  0\\n  7  8  1  0\\n  8 17  1  0\\n  9 20  1  0\\n 10 21  1  0\\n 10 22  1  0\\n 11 23  1  0\\nM  END\\n\",\"sdf\");\n",
       "\tviewer_15169122239.setStyle({\"stick\": {}});\n",
       "\tviewer_15169122239.setBackgroundColor(\"0xeeeeee\");\n",
       "\tviewer_15169122239.zoomTo();\n",
       "viewer_15169122239.render();\n",
       "});\n",
       "</script>"
      ],
      "text/plain": [
       "<IPython.core.display.HTML object>"
      ]
     },
     "execution_count": 3,
     "metadata": {},
     "output_type": "execute_result"
    }
   ],
   "source": [
    "mol.view_mol()"
   ]
  },
  {
   "cell_type": "code",
   "execution_count": 4,
   "metadata": {
    "collapsed": false
   },
   "outputs": [
    {
     "data": {
      "image/png": "[encoded data removed]",
      "text/plain": [
       "Molecule(SMILES=\"C(Cc1ccccc1)(C(=O)O)N\")"
      ]
     },
     "execution_count": 4,
     "metadata": {},
     "output_type": "execute_result"
    }
   ],
   "source": [
    "mol.rmg_molecule"
   ]
  },
  {
   "cell_type": "code",
   "execution_count": 5,
   "metadata": {
    "collapsed": false
   },
   "outputs": [
    {
     "data": {
      "text/plain": [
       "{'basis': '6-311+g(2df,2p)',\n",
       " 'charge': 0,\n",
       " 'force': 'force',\n",
       " 'mem': '5GB',\n",
       " 'method': 'm062x',\n",
       " 'nprocshared': '20'}"
      ]
     },
     "execution_count": 5,
     "metadata": {},
     "output_type": "execute_result"
    }
   ],
   "source": [
    "calc = Gaussian(mem=\"5GB\", nprocshared=\"20\", label=\"CCCC\", scratch=\"/gss_gpfs_scratch/harms.n/\", method=\"m062x\", basis=\"6-311+g(2df,2p)\")\n",
    "calc.parameters"
   ]
  },
  {
   "cell_type": "code",
   "execution_count": 6,
   "metadata": {
    "collapsed": true
   },
   "outputs": [],
   "source": [
    "mol.ase_molecule.set_calculator(calc)"
   ]
  },
  {
   "cell_type": "code",
   "execution_count": 7,
   "metadata": {
    "collapsed": false
   },
   "outputs": [
    {
     "data": {
      "text/plain": [
       "[<geometry.Torsion instance at 0x342bcb0>,\n",
       " <geometry.Torsion instance at 0x342b950>]"
      ]
     },
     "execution_count": 7,
     "metadata": {},
     "output_type": "execute_result"
    }
   ],
   "source": [
    "mol.torsions"
   ]
  },
  {
   "cell_type": "code",
   "execution_count": 20,
   "metadata": {
    "collapsed": false
   },
   "outputs": [
    {
     "ename": "RuntimeError",
     "evalue": "Gaussian in . returned an error: 1",
     "output_type": "error",
     "traceback": [
      "\u001b[1;31m---------------------------------------------------------------------------\u001b[0m",
      "\u001b[1;31mRuntimeError\u001b[0m                              Traceback (most recent call last)",
      "\u001b[1;32m<ipython-input-20-a200a16f174f>\u001b[0m in \u001b[0;36m<module>\u001b[1;34m()\u001b[0m\n\u001b[1;32m----> 1\u001b[1;33m \u001b[0mmol\u001b[0m\u001b[1;33m.\u001b[0m\u001b[0mase_molecule\u001b[0m\u001b[1;33m.\u001b[0m\u001b[0mget_potential_energy\u001b[0m\u001b[1;33m(\u001b[0m\u001b[1;33m)\u001b[0m\u001b[1;33m\u001b[0m\u001b[0m\n\u001b[0m",
      "\u001b[1;32m/home/harms.n/Code/ase/ase/atoms.pyc\u001b[0m in \u001b[0;36mget_potential_energy\u001b[1;34m(self, force_consistent, apply_constraint)\u001b[0m\n\u001b[0;32m    682\u001b[0m                 self, force_consistent=force_consistent)\n\u001b[0;32m    683\u001b[0m         \u001b[1;32melse\u001b[0m\u001b[1;33m:\u001b[0m\u001b[1;33m\u001b[0m\u001b[0m\n\u001b[1;32m--> 684\u001b[1;33m             \u001b[0menergy\u001b[0m \u001b[1;33m=\u001b[0m \u001b[0mself\u001b[0m\u001b[1;33m.\u001b[0m\u001b[0m_calc\u001b[0m\u001b[1;33m.\u001b[0m\u001b[0mget_potential_energy\u001b[0m\u001b[1;33m(\u001b[0m\u001b[0mself\u001b[0m\u001b[1;33m)\u001b[0m\u001b[1;33m\u001b[0m\u001b[0m\n\u001b[0m\u001b[0;32m    685\u001b[0m         \u001b[1;32mif\u001b[0m \u001b[0mapply_constraint\u001b[0m\u001b[1;33m:\u001b[0m\u001b[1;33m\u001b[0m\u001b[0m\n\u001b[0;32m    686\u001b[0m             \u001b[1;32mfor\u001b[0m \u001b[0mconstraint\u001b[0m \u001b[1;32min\u001b[0m \u001b[0mself\u001b[0m\u001b[1;33m.\u001b[0m\u001b[0mconstraints\u001b[0m\u001b[1;33m:\u001b[0m\u001b[1;33m\u001b[0m\u001b[0m\n",
      "\u001b[1;32m/home/harms.n/Code/ase/ase/calculators/calculator.pyc\u001b[0m in \u001b[0;36mget_potential_energy\u001b[1;34m(self, atoms, force_consistent)\u001b[0m\n\u001b[0;32m    439\u001b[0m \u001b[1;33m\u001b[0m\u001b[0m\n\u001b[0;32m    440\u001b[0m     \u001b[1;32mdef\u001b[0m \u001b[0mget_potential_energy\u001b[0m\u001b[1;33m(\u001b[0m\u001b[0mself\u001b[0m\u001b[1;33m,\u001b[0m \u001b[0matoms\u001b[0m\u001b[1;33m=\u001b[0m\u001b[0mNone\u001b[0m\u001b[1;33m,\u001b[0m \u001b[0mforce_consistent\u001b[0m\u001b[1;33m=\u001b[0m\u001b[0mFalse\u001b[0m\u001b[1;33m)\u001b[0m\u001b[1;33m:\u001b[0m\u001b[1;33m\u001b[0m\u001b[0m\n\u001b[1;32m--> 441\u001b[1;33m         \u001b[0menergy\u001b[0m \u001b[1;33m=\u001b[0m \u001b[0mself\u001b[0m\u001b[1;33m.\u001b[0m\u001b[0mget_property\u001b[0m\u001b[1;33m(\u001b[0m\u001b[1;34m'energy'\u001b[0m\u001b[1;33m,\u001b[0m \u001b[0matoms\u001b[0m\u001b[1;33m)\u001b[0m\u001b[1;33m\u001b[0m\u001b[0m\n\u001b[0m\u001b[0;32m    442\u001b[0m         \u001b[1;32mif\u001b[0m \u001b[0mforce_consistent\u001b[0m\u001b[1;33m:\u001b[0m\u001b[1;33m\u001b[0m\u001b[0m\n\u001b[0;32m    443\u001b[0m             \u001b[1;32mif\u001b[0m \u001b[1;34m'free_energy'\u001b[0m \u001b[1;32mnot\u001b[0m \u001b[1;32min\u001b[0m \u001b[0mself\u001b[0m\u001b[1;33m.\u001b[0m\u001b[0mresults\u001b[0m\u001b[1;33m:\u001b[0m\u001b[1;33m\u001b[0m\u001b[0m\n",
      "\u001b[1;32m/home/harms.n/Code/ase/ase/calculators/calculator.pyc\u001b[0m in \u001b[0;36mget_property\u001b[1;34m(self, name, atoms, allow_calculation)\u001b[0m\n\u001b[0;32m    484\u001b[0m             \u001b[1;32mif\u001b[0m \u001b[1;32mnot\u001b[0m \u001b[0mallow_calculation\u001b[0m\u001b[1;33m:\u001b[0m\u001b[1;33m\u001b[0m\u001b[0m\n\u001b[0;32m    485\u001b[0m                 \u001b[1;32mreturn\u001b[0m \u001b[0mNone\u001b[0m\u001b[1;33m\u001b[0m\u001b[0m\n\u001b[1;32m--> 486\u001b[1;33m             \u001b[0mself\u001b[0m\u001b[1;33m.\u001b[0m\u001b[0mcalculate\u001b[0m\u001b[1;33m(\u001b[0m\u001b[0matoms\u001b[0m\u001b[1;33m,\u001b[0m \u001b[1;33m[\u001b[0m\u001b[0mname\u001b[0m\u001b[1;33m]\u001b[0m\u001b[1;33m,\u001b[0m \u001b[0msystem_changes\u001b[0m\u001b[1;33m)\u001b[0m\u001b[1;33m\u001b[0m\u001b[0m\n\u001b[0m\u001b[0;32m    487\u001b[0m \u001b[1;33m\u001b[0m\u001b[0m\n\u001b[0;32m    488\u001b[0m         \u001b[1;32mif\u001b[0m \u001b[0mname\u001b[0m \u001b[1;33m==\u001b[0m \u001b[1;34m'magmom'\u001b[0m \u001b[1;32mand\u001b[0m \u001b[1;34m'magmom'\u001b[0m \u001b[1;32mnot\u001b[0m \u001b[1;32min\u001b[0m \u001b[0mself\u001b[0m\u001b[1;33m.\u001b[0m\u001b[0mresults\u001b[0m\u001b[1;33m:\u001b[0m\u001b[1;33m\u001b[0m\u001b[0m\n",
      "\u001b[1;32m/home/harms.n/Code/ase/ase/calculators/calculator.pyc\u001b[0m in \u001b[0;36mcalculate\u001b[1;34m(self, atoms, properties, system_changes)\u001b[0m\n\u001b[0;32m    647\u001b[0m         \u001b[1;32mif\u001b[0m \u001b[0merrorcode\u001b[0m\u001b[1;33m:\u001b[0m\u001b[1;33m\u001b[0m\u001b[0m\n\u001b[0;32m    648\u001b[0m             raise RuntimeError('{} in {} returned an error: {}'\n\u001b[1;32m--> 649\u001b[1;33m                                .format(self.name, self.directory, errorcode))\n\u001b[0m\u001b[0;32m    650\u001b[0m         \u001b[0mself\u001b[0m\u001b[1;33m.\u001b[0m\u001b[0mread_results\u001b[0m\u001b[1;33m(\u001b[0m\u001b[1;33m)\u001b[0m\u001b[1;33m\u001b[0m\u001b[0m\n\u001b[0;32m    651\u001b[0m \u001b[1;33m\u001b[0m\u001b[0m\n",
      "\u001b[1;31mRuntimeError\u001b[0m: Gaussian in . returned an error: 1"
     ]
    }
   ],
   "source": [
    "mol.ase_molecule.get_potential_energy()"
   ]
  },
  {
   "cell_type": "code",
   "execution_count": 19,
   "metadata": {
    "collapsed": false
   },
   "outputs": [
    {
     "name": "stderr",
     "output_type": "stream",
     "text": [
      "bash: line 1: g16: command not found\n"
     ]
    }
   ],
   "source": [
    "%%bash \n",
    "g16 CCCC.com"
   ]
  },
  {
   "cell_type": "code",
   "execution_count": null,
   "metadata": {
    "collapsed": false,
    "scrolled": true
   },
   "outputs": [],
   "source": [
    "opt.run()"
   ]
  },
  {
   "cell_type": "code",
   "execution_count": 9,
   "metadata": {
    "collapsed": false
   },
   "outputs": [
    {
     "name": "stdout",
     "output_type": "stream",
     "text": [
      "The history saving thread hit an unexpected error (OperationalError('unable to open database file',)).History will not be written to the database.\n"
     ]
    }
   ],
   "source": [
    "mol.update_geometry_from_ase_mol()"
   ]
  },
  {
   "cell_type": "code",
   "execution_count": 10,
   "metadata": {
    "collapsed": false
   },
   "outputs": [
    {
     "data": {
      "text/html": [
       "<div id=\"3dmolviewer_15169144336\"  style=\"position: relative; width: 400px; height: 400px\">\n",
       "<script>\n",
       "if(typeof $3Dmolpromise === 'undefined') $3Dmolpromise = $.when($.getScript('https://3dmol.csb.pitt.edu/build/3Dmol.js'))\n",
       "var viewer_15169144336 = null;\n",
       "$3Dmolpromise.done(function() {\n",
       "viewer_15169144336 = $3Dmol.createViewer($(\"#3dmolviewer_15169144336\"),{backgroundColor:\"white\"});\n",
       "\tviewer_15169144336.addModel(\"\\n     RDKit          3D\\n\\n 23 23  0  0  0  0  0  0  0  0999 V2000\\n   -1.9422   -0.0776   -0.2813 C   0  0  0  0  0  0  0  0  0  0  0  0\\n   -0.7588    0.7619   -0.5601 C   0  0  0  0  0  0  0  0  0  0  0  0\\n    0.5580    0.1531   -0.5002 C   0  0  0  0  0  0  0  0  0  0  0  0\\n    1.6171    0.8909   -1.0184 C   0  0  0  0  0  0  0  0  0  0  0  0\\n    0.8590   -0.7512    0.5038 C   0  0  0  0  0  0  0  0  0  0  0  0\\n   -2.1027   -0.4801    1.1407 C   0  0  0  0  0  0  0  0  0  0  0  0\\n    3.1591   -0.0383    0.5713 C   0  0  0  0  0  0  0  0  0  0  0  0\\n    2.8867    0.8589   -0.4544 C   0  0  0  0  0  0  0  0  0  0  0  0\\n    2.1432   -0.8453    1.0199 C   0  0  0  0  0  0  0  0  0  0  0  0\\n   -2.1546   -1.1692   -1.1908 N   0  0  0  0  0  0  0  0  0  0  0  0\\n   -2.2914    0.4714    2.1315 O   0  0  0  0  0  0  0  0  0  0  0  0\\n   -2.8226    0.5994   -0.4613 H   0  0  0  0  0  0  0  0  0  0  0  0\\n   -0.8872    1.1625   -1.5998 H   0  0  0  0  0  0  0  0  0  0  0  0\\n   -0.8255    1.6735    0.0869 H   0  0  0  0  0  0  0  0  0  0  0  0\\n   -2.6541   -1.6030    1.3506 O   0  0  0  0  0  0  0  0  0  0  0  0\\n    4.1368   -0.0185    1.0512 H   0  0  0  0  0  0  0  0  0  0  0  0\\n    3.6631    1.5788   -0.7201 H   0  0  0  0  0  0  0  0  0  0  0  0\\n    1.5047    1.5385   -1.8860 H   0  0  0  0  0  0  0  0  0  0  0  0\\n    0.1968   -1.6078    0.5183 H   0  0  0  0  0  0  0  0  0  0  0  0\\n    2.4107   -1.6301    1.7254 H   0  0  0  0  0  0  0  0  0  0  0  0\\n   -2.4971   -0.8882   -2.1250 H   0  0  0  0  0  0  0  0  0  0  0  0\\n   -1.4293   -1.8968   -1.1925 H   0  0  0  0  0  0  0  0  0  0  0  0\\n   -2.7695    1.3171    1.8901 H   0  0  0  0  0  0  0  0  0  0  0  0\\n  1 10  1  0\\n  1  2  1  0\\n  1 12  1  0\\n  1  6  1  0\\n  2  3  1  0\\n  2 13  1  0\\n  2 14  1  0\\n  3  5  2  0\\n  3  4  1  0\\n  4  8  2  0\\n  4 18  1  0\\n  5 19  1  0\\n  5  9  1  0\\n  6 15  2  0\\n  6 11  1  0\\n  7  9  2  0\\n  7 16  1  0\\n  7  8  1  0\\n  8 17  1  0\\n  9 20  1  0\\n 10 21  1  0\\n 10 22  1  0\\n 11 23  1  0\\nM  END\\n\",\"sdf\");\n",
       "\tviewer_15169144336.setStyle({\"stick\": {}});\n",
       "\tviewer_15169144336.setBackgroundColor(\"0xeeeeee\");\n",
       "\tviewer_15169144336.zoomTo();\n",
       "viewer_15169144336.render();\n",
       "});\n",
       "</script>"
      ],
      "text/plain": [
       "<IPython.core.display.HTML object>"
      ]
     },
     "execution_count": 10,
     "metadata": {},
     "output_type": "execute_result"
    }
   ],
   "source": [
    "mol.view_mol()"
   ]
  },
  {
   "cell_type": "code",
   "execution_count": null,
   "metadata": {
    "collapsed": false
   },
   "outputs": [],
   "source": [
    "from multi_reaction import *\n",
    "from geometry import *\n",
    "#from utilities import *\n"
   ]
  },
  {
   "cell_type": "code",
   "execution_count": null,
   "metadata": {
    "collapsed": false
   },
   "outputs": [],
   "source": [
    "os.path.join(a, \"/Code/ga_conformer/python_code/ts_database.pkl\")"
   ]
  },
  {
   "cell_type": "code",
   "execution_count": null,
   "metadata": {
    "collapsed": false
   },
   "outputs": [],
   "source": [
    "home = os.path.expandvars(\"$HOME\")\n",
    "os.path.exists(a+\"/Code/ga_conformer/python_code/ts_database.pkl\")"
   ]
  },
  {
   "cell_type": "code",
   "execution_count": null,
   "metadata": {
    "collapsed": false
   },
   "outputs": [],
   "source": [
    "rxn = Multi_Reaction(\"CCC+[O]O_[CH2]CC+OO\", \"H_Abstraction\")\n",
    "rxn.multi_ts.view_ts()"
   ]
  },
  {
   "cell_type": "code",
   "execution_count": null,
   "metadata": {
    "collapsed": true
   },
   "outputs": [],
   "source": [
    "rxn.multi_ts.ase_ts.set_calculator(Gaussian(label=\"CCCC\", scratch=\"/gss_gpfs_scratch/harms.n/\"))"
   ]
  },
  {
   "cell_type": "code",
   "execution_count": null,
   "metadata": {
    "collapsed": false
   },
   "outputs": [],
   "source": [
    "rxn.multi_ts.ase_ts.calc.extra?"
   ]
  },
  {
   "cell_type": "code",
   "execution_count": null,
   "metadata": {
    "collapsed": true
   },
   "outputs": [],
   "source": []
  }
 ],
 "metadata": {
  "kernelspec": {
   "display_name": "Python 2",
   "language": "python",
   "name": "python2"
  },
  "language_info": {
   "codemirror_mode": {
    "name": "ipython",
    "version": 2
   },
   "file_extension": ".py",
   "mimetype": "text/x-python",
   "name": "python",
   "nbconvert_exporter": "python",
   "pygments_lexer": "ipython2",
   "version": "2.7.5"
  }
 },
 "nbformat": 4,
 "nbformat_minor": 0
}
